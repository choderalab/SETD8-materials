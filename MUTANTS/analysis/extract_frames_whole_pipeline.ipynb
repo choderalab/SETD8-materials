{
 "cells": [
  {
   "cell_type": "code",
   "execution_count": 1,
   "metadata": {},
   "outputs": [],
   "source": [
    "import numpy as np\n",
    "import glob\n",
    "import mdtraj as md"
   ]
  },
  {
   "cell_type": "code",
   "execution_count": 3,
   "metadata": {},
   "outputs": [],
   "source": [
    "# step 1 - given the contact maps, extract the indexes of residues for top5 contacts with biggest positive\n",
    "# changes in contacts, > 0.2"
   ]
  },
  {
   "cell_type": "code",
   "execution_count": 2,
   "metadata": {},
   "outputs": [],
   "source": [
    "contact_maps = np.load('contact_maps_bool.npy')"
   ]
  },
  {
   "cell_type": "code",
   "execution_count": 3,
   "metadata": {},
   "outputs": [],
   "source": [
    "wt_contact_map = np.load('wt_contact_map_bool.npy')"
   ]
  },
  {
   "cell_type": "code",
   "execution_count": 50,
   "metadata": {},
   "outputs": [],
   "source": [
    "contact_maps_dict = dict()\n",
    "\n",
    "for run in range(len(contact_maps)):\n",
    "    \n",
    "    if run == 12:\n",
    "        # the 161 residue case\n",
    "        continue\n",
    "        \n",
    "    contact_map = contact_maps[run] - wt_contact_map\n",
    "    \n",
    "    contact_map_ = np.zeros(contact_map.shape)\n",
    "    \n",
    "    for i, x in enumerate(contact_map):\n",
    "        for j, y in enumerate(x):\n",
    "            if j > i:\n",
    "                break\n",
    "            else:\n",
    "                contact_map_[i,j] = contact_map[i,j]\n",
    "    \n",
    "    contact_maps_dict[run] = contact_map_"
   ]
  },
  {
   "cell_type": "code",
   "execution_count": 51,
   "metadata": {},
   "outputs": [],
   "source": [
    "contact_maps_12 = np.zeros((162,162))\n",
    "\n",
    "for i in range(162):\n",
    "    for j in range(162):\n",
    "        if i == 92 or j == 92:\n",
    "            contact_maps_12[i,j] = np.nan\n",
    "        else:\n",
    "            if i > 92:\n",
    "                x = i - 1\n",
    "            else:\n",
    "                x = i\n",
    "            if j > 92:\n",
    "                y = j - 1\n",
    "            else:\n",
    "                y = j\n",
    "            contact_maps_12[i,j] = contact_maps[12][x,y]\n",
    "            \n",
    "run = 12\n",
    "\n",
    "contact_map = contact_maps_12 - wt_contact_map\n",
    "\n",
    "contact_map_ = np.zeros(contact_map.shape)\n",
    "\n",
    "for i, x in enumerate(contact_map):\n",
    "    for j, y in enumerate(x):\n",
    "        if j > i:\n",
    "            break\n",
    "        else:\n",
    "            contact_map_[i,j] = contact_map[i,j]\n",
    "\n",
    "contact_maps_dict[run] = contact_map"
   ]
  },
  {
   "cell_type": "code",
   "execution_count": 52,
   "metadata": {},
   "outputs": [],
   "source": [
    "extracted_contacts_dict = dict()\n",
    "\n",
    "for run in range(len(contact_maps)):\n",
    "    contact_map = contact_maps_dict[run]\n",
    "    pos_top_5_indexes = []\n",
    "    neg_top_5_indexes = []\n",
    "    pos_top_5_values = []\n",
    "    neg_top_5_values = []\n",
    "    \n",
    "    pos_indexes = np.unravel_index(np.argsort(contact_map.ravel())[-5:], contact_map.shape)\n",
    "    neg_indexes = np.unravel_index(np.argsort(contact_map.ravel())[:5], contact_map.shape)\n",
    "    \n",
    "    for i in range(5):\n",
    "        if contact_map[pos_indexes][i] >= 0.2:\n",
    "            pos_top_5_indexes.append((pos_indexes[0][i], pos_indexes[1][i]))\n",
    "            pos_top_5_values.append(contact_map[pos_indexes][i])\n",
    "            \n",
    "        if contact_map[neg_indexes][i] <= 0.2:\n",
    "            neg_top_5_indexes.append((neg_indexes[0][i], neg_indexes[1][i]))\n",
    "            neg_top_5_values.append(contact_map[neg_indexes][i])\n",
    "            \n",
    "    extracted_contacts_dict[run] = [pos_top_5_indexes, pos_top_5_values, neg_top_5_indexes, neg_top_5_values]       "
   ]
  },
  {
   "cell_type": "code",
   "execution_count": 53,
   "metadata": {},
   "outputs": [
    {
     "data": {
      "text/plain": [
       "{0: [[(145, 83), (160, 108), (95, 56), (104, 80), (98, 37)],\n",
       "  [0.23312908496732029,\n",
       "   0.23435566448801748,\n",
       "   0.25020966952909895,\n",
       "   0.29703097664589828,\n",
       "   0.36950290880588915],\n",
       "  [(7, 4), (160, 153), (105, 101), (160, 157), (156, 152)],\n",
       "  [-0.25185407687467476,\n",
       "   -0.2296068083697958,\n",
       "   -0.21659829472505016,\n",
       "   -0.20951524963537638,\n",
       "   -0.19945860566448781]],\n",
       " 1: [[(96, 79), (103, 24), (104, 54), (94, 71), (105, 80)],\n",
       "  [0.20025871459694961,\n",
       "   0.2012141832247647,\n",
       "   0.20653947483278223,\n",
       "   0.25511873638344235,\n",
       "   0.29112108688773219],\n",
       "  [(16, 12), (120, 12), (15, 12), (119, 12), (159, 145)],\n",
       "  [-0.49208496732026141,\n",
       "   -0.44621296296296292,\n",
       "   -0.38376051952964441,\n",
       "   -0.34703485838779946,\n",
       "   -0.26165650175855892]],\n",
       " 2: [[(105, 80), (98, 37)],\n",
       "  [0.20736291695309167, 0.40159168876231593],\n",
       "  [(158, 80), (159, 145), (156, 83), (158, 79), (159, 153)],\n",
       "  [-0.3086072984749455,\n",
       "   -0.30854920328361346,\n",
       "   -0.29853263336497649,\n",
       "   -0.29266916356600126,\n",
       "   -0.29215572431903547]],\n",
       " 3: [[(96, 79), (94, 55), (93, 55), (126, 55), (127, 55)],\n",
       "  [0.44055827886710225,\n",
       "   0.49921023965141614,\n",
       "   0.61384946406683627,\n",
       "   0.64337313914621697,\n",
       "   0.66058333333333341],\n",
       "  [(93, 56), (101, 55), (93, 54), (95, 55), (104, 55)],\n",
       "  [-0.44003454104698819,\n",
       "   -0.42154451045860725,\n",
       "   -0.36176802477622472,\n",
       "   -0.33181722078555026,\n",
       "   -0.27463246114620982]],\n",
       " 4: [[(104, 96), (98, 37)],\n",
       "  [0.22491266175148628, 0.22585597567366206],\n",
       "  [(159, 145), (159, 108), (158, 143), (42, 27), (159, 153)],\n",
       "  [-0.28296515769956787,\n",
       "   -0.26807384374493776,\n",
       "   -0.25673239125708935,\n",
       "   -0.23291293943343916,\n",
       "   -0.22148830350455584]],\n",
       " 5: [[(140, 35), (158, 35), (132, 47), (17, 14), (158, 107)],\n",
       "  [0.23355664488017439,\n",
       "   0.24357897603485845,\n",
       "   0.24398778737983751,\n",
       "   0.31137908496732025,\n",
       "   0.32356535947712428],\n",
       "  [(158, 79), (159, 145), (156, 81), (158, 81), (156, 152)],\n",
       "  [-0.41607330299955247,\n",
       "   -0.40423003117032374,\n",
       "   -0.30533922005084713,\n",
       "   -0.3053337779741836,\n",
       "   -0.30493790849673191]],\n",
       " 6: [[(79, 75), (78, 74), (80, 76), (81, 78), (80, 77)],\n",
       "  [0.33433901257043597,\n",
       "   0.3400003770739064,\n",
       "   0.34198562929445292,\n",
       "   0.51835411429529077,\n",
       "   0.52003533545985003],\n",
       "  [(79, 71), (158, 80), (96, 79), (20, 1), (16, 1)],\n",
       "  [-0.44487597061616663,\n",
       "   -0.38443036701860228,\n",
       "   -0.35931470308921293,\n",
       "   -0.28779980168705643,\n",
       "   -0.25589022959611202]],\n",
       " 7: [[(158, 68), (16, 13)],\n",
       "  [0.24931154684095869, 0.27949841350681687],\n",
       "  [(49, 45), (158, 80), (50, 19), (17, 12), (156, 81)],\n",
       "  [-0.3499119485149248,\n",
       "   -0.22845751633986927,\n",
       "   -0.20814757711654508,\n",
       "   -0.18629400447047512,\n",
       "   -0.18336945739831137]],\n",
       " 8: [[(52, 25), (116, 54), (141, 51), (114, 51), (135, 51)],\n",
       "  [0.26096178089117295,\n",
       "   0.29313434609607147,\n",
       "   0.34581559771005421,\n",
       "   0.50052620835015516,\n",
       "   0.53857288018156613],\n",
       "  [(106, 52), (50, 45), (159, 108), (159, 145), (160, 153)],\n",
       "  [-0.33423984509403865,\n",
       "   -0.32943610992903971,\n",
       "   -0.31924340131155415,\n",
       "   -0.30146042332718642,\n",
       "   -0.27936715695367381]],\n",
       " 9: [[(17, 14), (6, 3), (98, 37)],\n",
       "  [0.25110947712418308, 0.26403165679182083, 0.27387110052702207],\n",
       "  [(65, 61), (83, 65), (66, 62), (83, 68), (83, 64)],\n",
       "  [-0.53444673857300251,\n",
       "   -0.52793627450980385,\n",
       "   -0.41478246969349736,\n",
       "   -0.39137254901960761,\n",
       "   -0.28504466230936787]],\n",
       " 10: [[(17, 14), (96, 79), (160, 77), (145, 116), (144, 116)],\n",
       "  [0.28628104575163393,\n",
       "   0.287911220043573,\n",
       "   0.29067538126361658,\n",
       "   0.34921676923412648,\n",
       "   0.40750172855267108],\n",
       "  [(159, 145), (159, 108), (80, 54), (158, 79), (81, 54)],\n",
       "  [-0.4231243666823063,\n",
       "   -0.39213828148584612,\n",
       "   -0.31618893689918909,\n",
       "   -0.2858254816487899,\n",
       "   -0.26587421301297376]],\n",
       " 11: [[(78, 71), (94, 71), (96, 76), (81, 78), (79, 76)],\n",
       "  [0.51537636165577316,\n",
       "   0.52966394335511979,\n",
       "   0.6809340958605663,\n",
       "   0.74994934640522848,\n",
       "   0.81164215686274466],\n",
       "  [(78, 74), (158, 79), (79, 71), (158, 81), (156, 81)],\n",
       "  [-0.46423039215686263,\n",
       "   -0.43712722456817987,\n",
       "   -0.43399836601307185,\n",
       "   -0.35597103287614434,\n",
       "   -0.35048627887437656]],\n",
       " 12: [[],\n",
       "  [],\n",
       "  [(93, 81), (81, 93), (94, 80), (80, 94), (80, 95)],\n",
       "  [-0.8611984653071022,\n",
       "   -0.8611984653071022,\n",
       "   -0.57688514263060098,\n",
       "   -0.57688514263060098,\n",
       "   -0.56532026143790848]],\n",
       " 13: [[(119, 8), (94, 71), (10, 7), (11, 7), (17, 14)],\n",
       "  [0.29407339029100782,\n",
       "   0.29427450980392161,\n",
       "   0.31527450980392152,\n",
       "   0.31838834422657941,\n",
       "   0.32738943355119843],\n",
       "  [(148, 144), (152, 147), (98, 37), (104, 98), (159, 145)],\n",
       "  [-0.52103364812814346,\n",
       "   -0.46383680589653742,\n",
       "   -0.4490428428280977,\n",
       "   -0.39699673202614361,\n",
       "   -0.37688253661694682]],\n",
       " 14: [[(53, 23), (116, 54), (93, 55), (126, 55), (127, 55)],\n",
       "  [0.3371172751608526,\n",
       "   0.35061800622679062,\n",
       "   0.51549434424112806,\n",
       "   0.5446095225884825,\n",
       "   0.5616563180827886],\n",
       "  [(101, 24), (101, 53), (102, 24), (101, 22), (93, 56)],\n",
       "  [-0.76863180827886712,\n",
       "   -0.68276762559967397,\n",
       "   -0.56571045969862621,\n",
       "   -0.55980112551420125,\n",
       "   -0.44206340814938472]],\n",
       " 15: [[(116, 54), (140, 35), (106, 102), (105, 100), (105, 101)],\n",
       "  [0.34896495611785805,\n",
       "   0.35513071895424841,\n",
       "   0.37076044951462295,\n",
       "   0.4091149237472767,\n",
       "   0.51947196671285822],\n",
       "  [(101, 24), (101, 53), (101, 22), (102, 24), (52, 24)],\n",
       "  [-0.85791013071895428,\n",
       "   -0.7631189327892165,\n",
       "   -0.6036491647298875,\n",
       "   -0.55757320479666539,\n",
       "   -0.50071185999905432]],\n",
       " 16: [[(100, 29), (45, 23), (25, 22), (26, 23), (99, 55)],\n",
       "  [0.24811437908496722,\n",
       "   0.25960620915032678,\n",
       "   0.2772793653911203,\n",
       "   0.29837254901960786,\n",
       "   0.30029173986418906],\n",
       "  [(101, 22), (119, 16), (53, 19), (103, 24), (126, 19)],\n",
       "  [-0.40558543923969148,\n",
       "   -0.39616067629054952,\n",
       "   -0.37492989404999633,\n",
       "   -0.35704834400835078,\n",
       "   -0.34140044409527881]],\n",
       " 17: [[(105, 80), (145, 109), (6, 3), (158, 107), (145, 106)],\n",
       "  [0.20945442022106553,\n",
       "   0.21853104575163401,\n",
       "   0.23611771343670096,\n",
       "   0.25478540305010899,\n",
       "   0.31284858387799563],\n",
       "  [(159, 145), (144, 114), (144, 116), (144, 115), (156, 83)],\n",
       "  [-0.49315704642086838,\n",
       "   -0.40368513881159951,\n",
       "   -0.37165404486780806,\n",
       "   -0.35645478848189227,\n",
       "   -0.35549886430179567]],\n",
       " 18: [[(143, 79), (81, 78), (80, 77), (123, 120), (125, 120)],\n",
       "  [0.35249202010613195,\n",
       "   0.40252015250544654,\n",
       "   0.45937992514757686,\n",
       "   0.54016717495753619,\n",
       "   0.57023481674250132],\n",
       "  [(123, 86), (79, 71), (120, 12), (118, 85), (158, 80)],\n",
       "  [-0.42289840002036805,\n",
       "   -0.3749842047930283,\n",
       "   -0.37347603485838776,\n",
       "   -0.34591812152425455,\n",
       "   -0.34247712418300652]],\n",
       " 19: [[(11, 8), (103, 24), (98, 37)],\n",
       "  [0.20606228699975609, 0.21382039237509132, 0.23506663429608515],\n",
       "  [(160, 157), (15, 12), (80, 37), (104, 96), (16, 12)],\n",
       "  [-0.2496132888510626,\n",
       "   -0.22719733870175773,\n",
       "   -0.20023901218806958,\n",
       "   -0.19102499536264145,\n",
       "   -0.18533115468409589]],\n",
       " 20: [[(94, 71), (145, 80), (106, 37), (127, 84), (143, 80)],\n",
       "  [0.30254520697167758,\n",
       "   0.30482080610021794,\n",
       "   0.31364760348583887,\n",
       "   0.32523763189193294,\n",
       "   0.34421514161220035],\n",
       "  [(158, 81), (158, 79), (159, 145), (158, 143), (159, 108)],\n",
       "  [-0.38110447514193957,\n",
       "   -0.36841262761828886,\n",
       "   -0.3613596607999533,\n",
       "   -0.34224898250897473,\n",
       "   -0.33585560174728396]],\n",
       " 21: [[(143, 54), (94, 55), (93, 55), (126, 55), (127, 55)],\n",
       "  [0.5041703247242133,\n",
       "   0.73620572873023826,\n",
       "   0.82969117682031357,\n",
       "   0.86541618143435706,\n",
       "   0.92815399977654889],\n",
       "  [(101, 55), (93, 56), (93, 54), (158, 79), (116, 82)],\n",
       "  [-0.70705900685545664,\n",
       "   -0.60559128368706416,\n",
       "   -0.45277222845199705,\n",
       "   -0.4496947487288413,\n",
       "   -0.44709860446516309]],\n",
       " 22: [[(155, 83), (152, 83), (98, 37), (146, 116), (148, 145)],\n",
       "  [0.26572994115101062,\n",
       "   0.29699657381038114,\n",
       "   0.35410802863159713,\n",
       "   0.45844030719317974,\n",
       "   0.48704121884331558],\n",
       "  [(159, 108), (158, 108), (119, 16), (158, 80), (158, 79)],\n",
       "  [-0.38577934902397243,\n",
       "   -0.36594237763738408,\n",
       "   -0.29012581790274994,\n",
       "   -0.2888251633986928,\n",
       "   -0.27140010038517337]],\n",
       " 23: [[(17, 14), (98, 37)],\n",
       "  [0.22686655773420494, 0.2744075929017496],\n",
       "  [(158, 80), (119, 16), (156, 81), (160, 157), (156, 152)],\n",
       "  [-0.22994444444444445,\n",
       "   -0.22217919480906806,\n",
       "   -0.21855545098766632,\n",
       "   -0.19577614288156386,\n",
       "   -0.18129411764705883]],\n",
       " 24: [[(94, 71), (126, 55), (94, 81)],\n",
       "  [0.21591708563767381, 0.22052762772227402, 0.22900377127531035],\n",
       "  [(89, 60), (158, 79), (159, 145), (148, 110), (80, 37)],\n",
       "  [-0.28825937695350751,\n",
       "   -0.23804176844841007,\n",
       "   -0.23774456946427386,\n",
       "   -0.23750193775839484,\n",
       "   -0.23597682013175986]],\n",
       " 25: [[(89, 60), (91, 60), (91, 59), (17, 14), (90, 60)],\n",
       "  [0.290593620085764,\n",
       "   0.31446154629538692,\n",
       "   0.40607036691508314,\n",
       "   0.44855501089324612,\n",
       "   0.47892772904004877],\n",
       "  [(16, 12), (15, 12), (49, 14), (17, 13), (120, 12)],\n",
       "  [-0.67994172113289753,\n",
       "   -0.46063415787387108,\n",
       "   -0.38294867262430854,\n",
       "   -0.37292586591305049,\n",
       "   -0.33617211328976032]],\n",
       " 26: [[(80, 76), (143, 79), (108, 79), (81, 78), (80, 77)],\n",
       "  [0.34638398692810446,\n",
       "   0.44337981967040208,\n",
       "   0.45171321119803881,\n",
       "   0.50679847494553365,\n",
       "   0.51468493604082322],\n",
       "  [(159, 108), (158, 80), (79, 71), (159, 145), (96, 79)],\n",
       "  [-0.44899013333769794,\n",
       "   -0.39977832244008715,\n",
       "   -0.39199673202614371,\n",
       "   -0.3514005104731559,\n",
       "   -0.33262527233115469]]}"
      ]
     },
     "execution_count": 53,
     "metadata": {},
     "output_type": "execute_result"
    }
   ],
   "source": [
    "extracted_contacts_dict"
   ]
  },
  {
   "cell_type": "code",
   "execution_count": 58,
   "metadata": {},
   "outputs": [
    {
     "data": {
      "text/plain": [
       "0.23194897359797195"
      ]
     },
     "execution_count": 58,
     "metadata": {},
     "output_type": "execute_result"
    }
   ],
   "source": [
    "contact_maps_dict[0][105,80]"
   ]
  },
  {
   "cell_type": "code",
   "execution_count": 60,
   "metadata": {},
   "outputs": [],
   "source": [
    "# extract frames on HAL\n",
    "# need dictionary of just RUN: list of indexes for each positive and negative"
   ]
  },
  {
   "cell_type": "code",
   "execution_count": 66,
   "metadata": {},
   "outputs": [],
   "source": [
    "extracted_contacts_dict_pos = dict()\n",
    "extracted_contacts_dict_neg = dict()\n",
    "\n",
    "for run in extracted_contacts_dict:\n",
    "    extracted_contacts_dict_pos[run] = extracted_contacts_dict[run][0]\n",
    "    extracted_contacts_dict_neg[run] = extracted_contacts_dict[run][2]"
   ]
  },
  {
   "cell_type": "code",
   "execution_count": 68,
   "metadata": {},
   "outputs": [
    {
     "data": {
      "text/plain": [
       "{0: [(145, 83), (160, 108), (95, 56), (104, 80), (98, 37)],\n",
       " 1: [(96, 79), (103, 24), (104, 54), (94, 71), (105, 80)],\n",
       " 2: [(105, 80), (98, 37)],\n",
       " 3: [(96, 79), (94, 55), (93, 55), (126, 55), (127, 55)],\n",
       " 4: [(104, 96), (98, 37)],\n",
       " 5: [(140, 35), (158, 35), (132, 47), (17, 14), (158, 107)],\n",
       " 6: [(79, 75), (78, 74), (80, 76), (81, 78), (80, 77)],\n",
       " 7: [(158, 68), (16, 13)],\n",
       " 8: [(52, 25), (116, 54), (141, 51), (114, 51), (135, 51)],\n",
       " 9: [(17, 14), (6, 3), (98, 37)],\n",
       " 10: [(17, 14), (96, 79), (160, 77), (145, 116), (144, 116)],\n",
       " 11: [(78, 71), (94, 71), (96, 76), (81, 78), (79, 76)],\n",
       " 12: [],\n",
       " 13: [(119, 8), (94, 71), (10, 7), (11, 7), (17, 14)],\n",
       " 14: [(53, 23), (116, 54), (93, 55), (126, 55), (127, 55)],\n",
       " 15: [(116, 54), (140, 35), (106, 102), (105, 100), (105, 101)],\n",
       " 16: [(100, 29), (45, 23), (25, 22), (26, 23), (99, 55)],\n",
       " 17: [(105, 80), (145, 109), (6, 3), (158, 107), (145, 106)],\n",
       " 18: [(143, 79), (81, 78), (80, 77), (123, 120), (125, 120)],\n",
       " 19: [(11, 8), (103, 24), (98, 37)],\n",
       " 20: [(94, 71), (145, 80), (106, 37), (127, 84), (143, 80)],\n",
       " 21: [(143, 54), (94, 55), (93, 55), (126, 55), (127, 55)],\n",
       " 22: [(155, 83), (152, 83), (98, 37), (146, 116), (148, 145)],\n",
       " 23: [(17, 14), (98, 37)],\n",
       " 24: [(94, 71), (126, 55), (94, 81)],\n",
       " 25: [(89, 60), (91, 60), (91, 59), (17, 14), (90, 60)],\n",
       " 26: [(80, 76), (143, 79), (108, 79), (81, 78), (80, 77)]}"
      ]
     },
     "execution_count": 68,
     "metadata": {},
     "output_type": "execute_result"
    }
   ],
   "source": [
    "extracted_contacts_dict_pos"
   ]
  },
  {
   "cell_type": "code",
   "execution_count": 69,
   "metadata": {},
   "outputs": [
    {
     "data": {
      "text/plain": [
       "{0: [(7, 4), (160, 153), (105, 101), (160, 157), (156, 152)],\n",
       " 1: [(16, 12), (120, 12), (15, 12), (119, 12), (159, 145)],\n",
       " 2: [(158, 80), (159, 145), (156, 83), (158, 79), (159, 153)],\n",
       " 3: [(93, 56), (101, 55), (93, 54), (95, 55), (104, 55)],\n",
       " 4: [(159, 145), (159, 108), (158, 143), (42, 27), (159, 153)],\n",
       " 5: [(158, 79), (159, 145), (156, 81), (158, 81), (156, 152)],\n",
       " 6: [(79, 71), (158, 80), (96, 79), (20, 1), (16, 1)],\n",
       " 7: [(49, 45), (158, 80), (50, 19), (17, 12), (156, 81)],\n",
       " 8: [(106, 52), (50, 45), (159, 108), (159, 145), (160, 153)],\n",
       " 9: [(65, 61), (83, 65), (66, 62), (83, 68), (83, 64)],\n",
       " 10: [(159, 145), (159, 108), (80, 54), (158, 79), (81, 54)],\n",
       " 11: [(78, 74), (158, 79), (79, 71), (158, 81), (156, 81)],\n",
       " 12: [(93, 81), (81, 93), (94, 80), (80, 94), (80, 95)],\n",
       " 13: [(148, 144), (152, 147), (98, 37), (104, 98), (159, 145)],\n",
       " 14: [(101, 24), (101, 53), (102, 24), (101, 22), (93, 56)],\n",
       " 15: [(101, 24), (101, 53), (101, 22), (102, 24), (52, 24)],\n",
       " 16: [(101, 22), (119, 16), (53, 19), (103, 24), (126, 19)],\n",
       " 17: [(159, 145), (144, 114), (144, 116), (144, 115), (156, 83)],\n",
       " 18: [(123, 86), (79, 71), (120, 12), (118, 85), (158, 80)],\n",
       " 19: [(160, 157), (15, 12), (80, 37), (104, 96), (16, 12)],\n",
       " 20: [(158, 81), (158, 79), (159, 145), (158, 143), (159, 108)],\n",
       " 21: [(101, 55), (93, 56), (93, 54), (158, 79), (116, 82)],\n",
       " 22: [(159, 108), (158, 108), (119, 16), (158, 80), (158, 79)],\n",
       " 23: [(158, 80), (119, 16), (156, 81), (160, 157), (156, 152)],\n",
       " 24: [(89, 60), (158, 79), (159, 145), (148, 110), (80, 37)],\n",
       " 25: [(16, 12), (15, 12), (49, 14), (17, 13), (120, 12)],\n",
       " 26: [(159, 108), (158, 80), (79, 71), (159, 145), (96, 79)]}"
      ]
     },
     "execution_count": 69,
     "metadata": {},
     "output_type": "execute_result"
    }
   ],
   "source": [
    "extracted_contacts_dict_neg"
   ]
  },
  {
   "cell_type": "code",
   "execution_count": 84,
   "metadata": {},
   "outputs": [],
   "source": [
    "# got frame indexes from HAL"
   ]
  },
  {
   "cell_type": "code",
   "execution_count": 132,
   "metadata": {},
   "outputs": [],
   "source": [
    "frame_indexes = np.load('extract_frames_indexes_all_top5_pos.npy')"
   ]
  },
  {
   "cell_type": "code",
   "execution_count": 133,
   "metadata": {},
   "outputs": [
    {
     "data": {
      "text/plain": [
       "(27,)"
      ]
     },
     "execution_count": 133,
     "metadata": {},
     "output_type": "execute_result"
    }
   ],
   "source": [
    "frame_indexes.shape"
   ]
  },
  {
   "cell_type": "code",
   "execution_count": 134,
   "metadata": {},
   "outputs": [],
   "source": [
    "lengths = []\n",
    "\n",
    "for x in frame_indexes:\n",
    "    lengths.append(len(x))"
   ]
  },
  {
   "cell_type": "code",
   "execution_count": 135,
   "metadata": {},
   "outputs": [
    {
     "data": {
      "text/plain": [
       "[505,\n",
       " 1679,\n",
       " 8991,\n",
       " 8335,\n",
       " 12410,\n",
       " 1340,\n",
       " 4839,\n",
       " 4777,\n",
       " 1163,\n",
       " 7244,\n",
       " 2428,\n",
       " 11917,\n",
       " 20670,\n",
       " 4040,\n",
       " 1419,\n",
       " 3885,\n",
       " 545,\n",
       " 0,\n",
       " 3906,\n",
       " 4905,\n",
       " 3153,\n",
       " 13436,\n",
       " 3809,\n",
       " 8871,\n",
       " 2792,\n",
       " 5255,\n",
       " 4467]"
      ]
     },
     "execution_count": 135,
     "metadata": {},
     "output_type": "execute_result"
    }
   ],
   "source": [
    "lengths"
   ]
  },
  {
   "cell_type": "code",
   "execution_count": 131,
   "metadata": {},
   "outputs": [],
   "source": [
    "# DISCARD RUN12 - that had no contacts > 0.2, I thought it wouldn't pick any frames but it actually picks all"
   ]
  },
  {
   "cell_type": "code",
   "execution_count": 136,
   "metadata": {},
   "outputs": [],
   "source": [
    "frame_indexes[12] = []"
   ]
  },
  {
   "cell_type": "code",
   "execution_count": 121,
   "metadata": {},
   "outputs": [],
   "source": [
    "# add + 1500 to the indexes, take every 10th frame"
   ]
  },
  {
   "cell_type": "code",
   "execution_count": 137,
   "metadata": {},
   "outputs": [],
   "source": [
    "frame_indexes_10strided = []\n",
    "\n",
    "for x in frame_indexes:\n",
    "    frame_indexes_ = []\n",
    "    for frame in x:\n",
    "        if len(x) < 7500:\n",
    "            if frame[1]%10 == 0:\n",
    "                frame_indexes_.append((frame[0], int(frame[1])+1500))\n",
    "        else:\n",
    "            if frame[1]%20 == 0:\n",
    "                frame_indexes_.append((frame[0], int(frame[1])+1500))\n",
    "    frame_indexes_10strided.append(frame_indexes_)"
   ]
  },
  {
   "cell_type": "code",
   "execution_count": 138,
   "metadata": {},
   "outputs": [],
   "source": [
    "lengths = []\n",
    "\n",
    "for x in frame_indexes_10strided:\n",
    "    lengths.append(len(x))"
   ]
  },
  {
   "cell_type": "code",
   "execution_count": 139,
   "metadata": {},
   "outputs": [
    {
     "data": {
      "text/plain": [
       "[55,\n",
       " 163,\n",
       " 462,\n",
       " 421,\n",
       " 624,\n",
       " 130,\n",
       " 468,\n",
       " 487,\n",
       " 118,\n",
       " 713,\n",
       " 243,\n",
       " 613,\n",
       " 0,\n",
       " 414,\n",
       " 151,\n",
       " 371,\n",
       " 51,\n",
       " 0,\n",
       " 374,\n",
       " 488,\n",
       " 315,\n",
       " 685,\n",
       " 378,\n",
       " 462,\n",
       " 284,\n",
       " 542,\n",
       " 451]"
      ]
     },
     "execution_count": 139,
     "metadata": {},
     "output_type": "execute_result"
    }
   ],
   "source": [
    "lengths"
   ]
  },
  {
   "cell_type": "code",
   "execution_count": 140,
   "metadata": {},
   "outputs": [],
   "source": [
    "# extract on external hard drive"
   ]
  },
  {
   "cell_type": "code",
   "execution_count": 141,
   "metadata": {},
   "outputs": [],
   "source": [
    "for run in range(len(frame_indexes_10strided)):\n",
    "    if not frame_indexes_10strided[run]:\n",
    "        continue\n",
    "    \n",
    "    started = False\n",
    "    for (clone,frame) in frame_indexes_10strided[run]:\n",
    "        if not started:\n",
    "            traj = md.load('/Volumes/DATA/11713/run%d-clone%d.h5' % (run,clone))[frame]\n",
    "            started = True\n",
    "        else:\n",
    "            traj_ = md.load('/Volumes/DATA/11713/run%d-clone%d.h5' % (run,clone))[frame]\n",
    "            traj = md.join([traj, traj_])\n",
    "            \n",
    "    traj.save('/Volumes/DATA/11713_extracted_frames_pos/run%d.h5' % run)"
   ]
  },
  {
   "cell_type": "code",
   "execution_count": null,
   "metadata": {},
   "outputs": [],
   "source": [
    "for run in [x for x in range(27) if x not in [12,17]]: \n",
    "    traj = md.load('/Volumes/DATA/11713_extracted_frames_pos/run%d.h5' % run)\n",
    "    traj = traj.atom_slice(traj.top.select('not element H'))\n",
    "    traj.save('/Volumes/DATA/11713_extracted_frames_pos/run%d.dcd' % run)"
   ]
  },
  {
   "cell_type": "code",
   "execution_count": 4,
   "metadata": {},
   "outputs": [],
   "source": [
    "# now negative"
   ]
  },
  {
   "cell_type": "code",
   "execution_count": 5,
   "metadata": {},
   "outputs": [],
   "source": [
    "frame_indexes = np.load('extract_frames_indexes_all_top5_neg.npy')"
   ]
  },
  {
   "cell_type": "code",
   "execution_count": 6,
   "metadata": {},
   "outputs": [],
   "source": [
    "lengths = []\n",
    "\n",
    "for x in frame_indexes:\n",
    "    lengths.append(len(x))"
   ]
  },
  {
   "cell_type": "code",
   "execution_count": 7,
   "metadata": {},
   "outputs": [
    {
     "data": {
      "text/plain": [
       "[2374,\n",
       " 7068,\n",
       " 7433,\n",
       " 7521,\n",
       " 1528,\n",
       " 8672,\n",
       " 14317,\n",
       " 7613,\n",
       " 5086,\n",
       " 3483,\n",
       " 7641,\n",
       " 14935,\n",
       " 6318,\n",
       " 8235,\n",
       " 10338,\n",
       " 12049,\n",
       " 9160,\n",
       " 7902,\n",
       " 9600,\n",
       " 1880,\n",
       " 9402,\n",
       " 9306,\n",
       " 6850,\n",
       " 1288,\n",
       " 7146,\n",
       " 11759,\n",
       " 12815]"
      ]
     },
     "execution_count": 7,
     "metadata": {},
     "output_type": "execute_result"
    }
   ],
   "source": [
    "lengths"
   ]
  },
  {
   "cell_type": "code",
   "execution_count": 8,
   "metadata": {},
   "outputs": [],
   "source": [
    "frame_indexes_10strided = []\n",
    "\n",
    "for x in frame_indexes:\n",
    "    frame_indexes_ = []\n",
    "    for frame in x:\n",
    "        if len(x) < 7500:\n",
    "            if frame[1]%10 == 0:\n",
    "                frame_indexes_.append((frame[0], int(frame[1])+1500))\n",
    "        else:\n",
    "            if frame[1]%20 == 0:\n",
    "                frame_indexes_.append((frame[0], int(frame[1])+1500))\n",
    "    frame_indexes_10strided.append(frame_indexes_)"
   ]
  },
  {
   "cell_type": "code",
   "execution_count": 9,
   "metadata": {},
   "outputs": [],
   "source": [
    "lengths = []\n",
    "\n",
    "for x in frame_indexes_10strided:\n",
    "    lengths.append(len(x))"
   ]
  },
  {
   "cell_type": "code",
   "execution_count": 10,
   "metadata": {
    "scrolled": false
   },
   "outputs": [
    {
     "data": {
      "text/plain": [
       "[228,\n",
       " 688,\n",
       " 738,\n",
       " 395,\n",
       " 166,\n",
       " 442,\n",
       " 728,\n",
       " 391,\n",
       " 492,\n",
       " 345,\n",
       " 377,\n",
       " 754,\n",
       " 621,\n",
       " 409,\n",
       " 534,\n",
       " 598,\n",
       " 470,\n",
       " 391,\n",
       " 469,\n",
       " 185,\n",
       " 488,\n",
       " 466,\n",
       " 685,\n",
       " 125,\n",
       " 702,\n",
       " 579,\n",
       " 640]"
      ]
     },
     "execution_count": 10,
     "metadata": {},
     "output_type": "execute_result"
    }
   ],
   "source": [
    "lengths"
   ]
  },
  {
   "cell_type": "code",
   "execution_count": 11,
   "metadata": {},
   "outputs": [],
   "source": [
    "for run in range(len(frame_indexes_10strided)):\n",
    "    if not frame_indexes_10strided[run]:\n",
    "        continue\n",
    "\n",
    "    started = False\n",
    "    for (clone,frame) in frame_indexes_10strided[run]:\n",
    "        if not started:\n",
    "            traj = md.load('/Volumes/DATA/11713/run%d-clone%d.h5' % (run,clone))[frame]\n",
    "            started = True\n",
    "        else:\n",
    "            traj_ = md.load('/Volumes/DATA/11713/run%d-clone%d.h5' % (run,clone))[frame]\n",
    "            traj = md.join([traj, traj_])\n",
    "\n",
    "    traj.save('/Volumes/DATA/11713_extracted_frames_neg/run%d.h5' % run)"
   ]
  },
  {
   "cell_type": "code",
   "execution_count": 13,
   "metadata": {},
   "outputs": [],
   "source": [
    "for run in range(27):\n",
    "    traj = md.load('/Volumes/DATA/11713_extracted_frames_neg/run%d.h5' % run)\n",
    "    traj = traj.atom_slice(traj.top.select('not element H'))\n",
    "    traj.save('/Volumes/DATA/11713_extracted_frames_neg/run%d.dcd' % run)"
   ]
  },
  {
   "cell_type": "code",
   "execution_count": 1,
   "metadata": {},
   "outputs": [],
   "source": [
    "# Shi came back with \"new conformations\" - let's save those as trajectories to then take to HAL for RMSD calculation"
   ]
  },
  {
   "cell_type": "code",
   "execution_count": 5,
   "metadata": {},
   "outputs": [],
   "source": [
    "pos_new_conf_dict = {\n",
    "4: [[51,60], [104,126], [544,558], [560,585]], \n",
    "5: [[1,8]], \n",
    "6: [[195,201]], \n",
    "8: [[113,118]], \n",
    "9: [[100,132], [195,233], [248,278], [467,509], [606,648]], \n",
    "11: [[35,51], [70,92], [261,272]], \n",
    "13: [[234,328]], \n",
    "15: [[124,140], [144,156], [158,166]], \n",
    "19: [[274,309]], \n",
    "21: [[274,292], [402,423], [662,667]], \n",
    "23: [[290,305]]}"
   ]
  },
  {
   "cell_type": "code",
   "execution_count": 6,
   "metadata": {},
   "outputs": [],
   "source": [
    "neg_new_conf_dict = {\n",
    "5: [[1,9]], \n",
    "6: [[496,521]],\n",
    "9: [[97,143], [161,170], [269,318]],\n",
    "11: [[17,42], [70,94]],\n",
    "12: [[397,447], [550,571], [572,610]],\n",
    "17: [[344,355]], \n",
    "21: [[308,329]],\n",
    "22: [[56,106]],\n",
    "23: [[20,29]]}"
   ]
  },
  {
   "cell_type": "code",
   "execution_count": 18,
   "metadata": {},
   "outputs": [],
   "source": [
    "pos_new_conf_trajs = []\n",
    "\n",
    "for run in pos_new_conf_dict:\n",
    "    traj = md.load('/Volumes/DATA/11713_extracted_frames_pos/run%d.h5' % run)\n",
    "    limits = pos_new_conf_dict[run]\n",
    "    pos_new_conf_trajs.append([])\n",
    "    for i, limit in enumerate(limits):\n",
    "        traj_ = traj[(limit[0]-1):limit[1]]\n",
    "        traj_ = traj_.atom_slice(traj_.top.select('name CA'))\n",
    "        traj_.save('/Volumes/DATA/11713_extracted_frames_pos_newconf/run%d_%d.h5' % (run,i))   "
   ]
  },
  {
   "cell_type": "code",
   "execution_count": 20,
   "metadata": {},
   "outputs": [],
   "source": [
    "neg_new_conf_trajs = []\n",
    "\n",
    "for run in neg_new_conf_dict:\n",
    "    traj = md.load('/Volumes/DATA/11713_extracted_frames_neg/run%d.h5' % run)\n",
    "    limits = neg_new_conf_dict[run]\n",
    "    neg_new_conf_trajs.append([])\n",
    "    for i, limit in enumerate(limits):\n",
    "        traj_ = traj[(limit[0]-1):limit[1]]\n",
    "        traj_ = traj_.atom_slice(traj_.top.select('name CA'))\n",
    "        traj_.save('/Volumes/DATA/11713_extracted_frames_neg_newconf/run%d_%d.h5' % (run,i))  "
   ]
  },
  {
   "cell_type": "code",
   "execution_count": null,
   "metadata": {},
   "outputs": [],
   "source": [
    "# take to HAL for RMSD"
   ]
  },
  {
   "cell_type": "code",
   "execution_count": 7,
   "metadata": {},
   "outputs": [],
   "source": [
    "# came back with the closest frames, calc and save 2 things now: a) in the runs that are both in new conf pos and neg - \n",
    "# do any frames overlap - just check with any rmsds are 0; b) rmsd of the new confs to closest wt frames"
   ]
  },
  {
   "cell_type": "code",
   "execution_count": 5,
   "metadata": {},
   "outputs": [],
   "source": [
    "import glob\n",
    "import mdtraj as md\n",
    "import numpy as np"
   ]
  },
  {
   "cell_type": "code",
   "execution_count": 13,
   "metadata": {},
   "outputs": [],
   "source": [
    "overlapping_runs = [5,6,9,11,21,23]"
   ]
  },
  {
   "cell_type": "code",
   "execution_count": 72,
   "metadata": {},
   "outputs": [],
   "source": [
    "overlapping_runs_trajs_pos = []\n",
    "overlapping_runs_trajs_neg = []\n",
    "\n",
    "for run in overlapping_runs:\n",
    "    started = False\n",
    "    for traj in glob.glob('11713_extracted_frames_pos_newconf/run%d_*.h5' % run):\n",
    "        if started:\n",
    "            traj_ = md.join([traj_, md.load(traj)])\n",
    "        else:\n",
    "            traj_ = md.load(traj)\n",
    "            started = True\n",
    "    overlapping_runs_trajs_pos.append(traj_)\n",
    "    \n",
    "    started = False\n",
    "    for traj in glob.glob('11713_extracted_frames_neg_newconf/run%d_*.h5' % run):\n",
    "        if started:\n",
    "            traj_ = md.join([traj_, md.load(traj)])\n",
    "        else:\n",
    "            traj_ = md.load(traj)\n",
    "            started = True\n",
    "    overlapping_runs_trajs_neg.append(traj_)"
   ]
  },
  {
   "cell_type": "code",
   "execution_count": 73,
   "metadata": {},
   "outputs": [
    {
     "data": {
      "text/plain": [
       "[<mdtraj.Trajectory with 9 frames, 162 atoms, 162 residues, and unitcells at 0x121295828>,\n",
       " <mdtraj.Trajectory with 26 frames, 162 atoms, 162 residues, and unitcells at 0x1210827b8>,\n",
       " <mdtraj.Trajectory with 107 frames, 162 atoms, 162 residues, and unitcells at 0x120cb0f60>,\n",
       " <mdtraj.Trajectory with 51 frames, 162 atoms, 162 residues, and unitcells at 0x120cc40b8>,\n",
       " <mdtraj.Trajectory with 22 frames, 162 atoms, 162 residues, and unitcells at 0x120c91c50>,\n",
       " <mdtraj.Trajectory with 10 frames, 162 atoms, 162 residues, and unitcells at 0x120a2eb00>]"
      ]
     },
     "execution_count": 73,
     "metadata": {},
     "output_type": "execute_result"
    }
   ],
   "source": [
    "overlapping_runs_trajs_neg"
   ]
  },
  {
   "cell_type": "code",
   "execution_count": 74,
   "metadata": {},
   "outputs": [],
   "source": [
    "rmsds_pos_to_neg = []\n",
    "\n",
    "for i in range(len(overlapping_runs_trajs_pos)):\n",
    "    pos_traj = overlapping_runs_trajs_pos[i]\n",
    "    neg_traj = overlapping_runs_trajs_neg[i]\n",
    "    \n",
    "    rmsds = []\n",
    "    for frame in range(len(neg_traj)):\n",
    "        rmsd = md.rmsd(pos_traj, neg_traj, frame=frame)\n",
    "        rmsds.append(rmsd)\n",
    "        \n",
    "    rmsds_pos_to_neg.append(rmsds) "
   ]
  },
  {
   "cell_type": "code",
   "execution_count": 40,
   "metadata": {},
   "outputs": [
    {
     "data": {
      "text/plain": [
       "array([], shape=(0, 1), dtype=int64)"
      ]
     },
     "execution_count": 40,
     "metadata": {},
     "output_type": "execute_result"
    }
   ],
   "source": [
    "np.argwhere(rmsds_pos_to_neg[0][0] == 0)"
   ]
  },
  {
   "cell_type": "code",
   "execution_count": 75,
   "metadata": {
    "scrolled": true
   },
   "outputs": [],
   "source": [
    "same_frames = []\n",
    "\n",
    "for run in rmsds_pos_to_neg:\n",
    "    same_frames.append([])\n",
    "    for frame in run:\n",
    "        same_frames[-1].append(np.argwhere(frame == 0))"
   ]
  },
  {
   "cell_type": "code",
   "execution_count": 76,
   "metadata": {},
   "outputs": [
    {
     "data": {
      "text/plain": [
       "[[array([], shape=(0, 1), dtype=int64),\n",
       "  array([], shape=(0, 1), dtype=int64),\n",
       "  array([], shape=(0, 1), dtype=int64),\n",
       "  array([], shape=(0, 1), dtype=int64),\n",
       "  array([], shape=(0, 1), dtype=int64),\n",
       "  array([], shape=(0, 1), dtype=int64),\n",
       "  array([[4]]),\n",
       "  array([[5]]),\n",
       "  array([[6]])],\n",
       " [array([], shape=(0, 1), dtype=int64),\n",
       "  array([], shape=(0, 1), dtype=int64),\n",
       "  array([], shape=(0, 1), dtype=int64),\n",
       "  array([], shape=(0, 1), dtype=int64),\n",
       "  array([], shape=(0, 1), dtype=int64),\n",
       "  array([], shape=(0, 1), dtype=int64),\n",
       "  array([], shape=(0, 1), dtype=int64),\n",
       "  array([], shape=(0, 1), dtype=int64),\n",
       "  array([], shape=(0, 1), dtype=int64),\n",
       "  array([], shape=(0, 1), dtype=int64),\n",
       "  array([], shape=(0, 1), dtype=int64),\n",
       "  array([], shape=(0, 1), dtype=int64),\n",
       "  array([], shape=(0, 1), dtype=int64),\n",
       "  array([], shape=(0, 1), dtype=int64),\n",
       "  array([], shape=(0, 1), dtype=int64),\n",
       "  array([], shape=(0, 1), dtype=int64),\n",
       "  array([], shape=(0, 1), dtype=int64),\n",
       "  array([], shape=(0, 1), dtype=int64),\n",
       "  array([], shape=(0, 1), dtype=int64),\n",
       "  array([], shape=(0, 1), dtype=int64),\n",
       "  array([], shape=(0, 1), dtype=int64),\n",
       "  array([], shape=(0, 1), dtype=int64),\n",
       "  array([], shape=(0, 1), dtype=int64),\n",
       "  array([], shape=(0, 1), dtype=int64),\n",
       "  array([], shape=(0, 1), dtype=int64),\n",
       "  array([], shape=(0, 1), dtype=int64)],\n",
       " [array([], shape=(0, 1), dtype=int64),\n",
       "  array([], shape=(0, 1), dtype=int64),\n",
       "  array([], shape=(0, 1), dtype=int64),\n",
       "  array([], shape=(0, 1), dtype=int64),\n",
       "  array([], shape=(0, 1), dtype=int64),\n",
       "  array([], shape=(0, 1), dtype=int64),\n",
       "  array([], shape=(0, 1), dtype=int64),\n",
       "  array([], shape=(0, 1), dtype=int64),\n",
       "  array([], shape=(0, 1), dtype=int64),\n",
       "  array([], shape=(0, 1), dtype=int64),\n",
       "  array([], shape=(0, 1), dtype=int64),\n",
       "  array([], shape=(0, 1), dtype=int64),\n",
       "  array([], shape=(0, 1), dtype=int64),\n",
       "  array([], shape=(0, 1), dtype=int64),\n",
       "  array([], shape=(0, 1), dtype=int64),\n",
       "  array([], shape=(0, 1), dtype=int64),\n",
       "  array([], shape=(0, 1), dtype=int64),\n",
       "  array([], shape=(0, 1), dtype=int64),\n",
       "  array([], shape=(0, 1), dtype=int64),\n",
       "  array([], shape=(0, 1), dtype=int64),\n",
       "  array([], shape=(0, 1), dtype=int64),\n",
       "  array([], shape=(0, 1), dtype=int64),\n",
       "  array([], shape=(0, 1), dtype=int64),\n",
       "  array([], shape=(0, 1), dtype=int64),\n",
       "  array([], shape=(0, 1), dtype=int64),\n",
       "  array([], shape=(0, 1), dtype=int64),\n",
       "  array([], shape=(0, 1), dtype=int64),\n",
       "  array([], shape=(0, 1), dtype=int64),\n",
       "  array([], shape=(0, 1), dtype=int64),\n",
       "  array([], shape=(0, 1), dtype=int64),\n",
       "  array([], shape=(0, 1), dtype=int64),\n",
       "  array([], shape=(0, 1), dtype=int64),\n",
       "  array([], shape=(0, 1), dtype=int64),\n",
       "  array([], shape=(0, 1), dtype=int64),\n",
       "  array([], shape=(0, 1), dtype=int64),\n",
       "  array([], shape=(0, 1), dtype=int64),\n",
       "  array([], shape=(0, 1), dtype=int64),\n",
       "  array([], shape=(0, 1), dtype=int64),\n",
       "  array([], shape=(0, 1), dtype=int64),\n",
       "  array([], shape=(0, 1), dtype=int64),\n",
       "  array([], shape=(0, 1), dtype=int64),\n",
       "  array([], shape=(0, 1), dtype=int64),\n",
       "  array([], shape=(0, 1), dtype=int64),\n",
       "  array([], shape=(0, 1), dtype=int64),\n",
       "  array([], shape=(0, 1), dtype=int64),\n",
       "  array([], shape=(0, 1), dtype=int64),\n",
       "  array([], shape=(0, 1), dtype=int64),\n",
       "  array([[88]]),\n",
       "  array([], shape=(0, 1), dtype=int64),\n",
       "  array([], shape=(0, 1), dtype=int64),\n",
       "  array([], shape=(0, 1), dtype=int64),\n",
       "  array([[101]]),\n",
       "  array([], shape=(0, 1), dtype=int64),\n",
       "  array([], shape=(0, 1), dtype=int64),\n",
       "  array([], shape=(0, 1), dtype=int64),\n",
       "  array([], shape=(0, 1), dtype=int64),\n",
       "  array([], shape=(0, 1), dtype=int64),\n",
       "  array([], shape=(0, 1), dtype=int64),\n",
       "  array([[146]]),\n",
       "  array([[147]]),\n",
       "  array([], shape=(0, 1), dtype=int64),\n",
       "  array([[148]]),\n",
       "  array([[149]]),\n",
       "  array([[150]]),\n",
       "  array([], shape=(0, 1), dtype=int64),\n",
       "  array([], shape=(0, 1), dtype=int64),\n",
       "  array([], shape=(0, 1), dtype=int64),\n",
       "  array([], shape=(0, 1), dtype=int64),\n",
       "  array([[151]]),\n",
       "  array([[152]]),\n",
       "  array([], shape=(0, 1), dtype=int64),\n",
       "  array([[153]]),\n",
       "  array([], shape=(0, 1), dtype=int64),\n",
       "  array([[155]]),\n",
       "  array([], shape=(0, 1), dtype=int64),\n",
       "  array([], shape=(0, 1), dtype=int64),\n",
       "  array([[158]]),\n",
       "  array([[159]]),\n",
       "  array([[160]]),\n",
       "  array([], shape=(0, 1), dtype=int64),\n",
       "  array([[162]]),\n",
       "  array([], shape=(0, 1), dtype=int64),\n",
       "  array([[164]]),\n",
       "  array([[165]]),\n",
       "  array([[166]]),\n",
       "  array([], shape=(0, 1), dtype=int64),\n",
       "  array([[168]]),\n",
       "  array([[169]]),\n",
       "  array([], shape=(0, 1), dtype=int64),\n",
       "  array([], shape=(0, 1), dtype=int64),\n",
       "  array([[172]]),\n",
       "  array([], shape=(0, 1), dtype=int64),\n",
       "  array([[174]]),\n",
       "  array([[175]]),\n",
       "  array([[176]]),\n",
       "  array([[177]]),\n",
       "  array([[178]]),\n",
       "  array([[179]]),\n",
       "  array([[180]]),\n",
       "  array([[181]]),\n",
       "  array([], shape=(0, 1), dtype=int64),\n",
       "  array([[183]]),\n",
       "  array([[184]]),\n",
       "  array([[185]]),\n",
       "  array([], shape=(0, 1), dtype=int64),\n",
       "  array([[187]]),\n",
       "  array([[188]])],\n",
       " [array([], shape=(0, 1), dtype=int64),\n",
       "  array([[0]]),\n",
       "  array([], shape=(0, 1), dtype=int64),\n",
       "  array([[1]]),\n",
       "  array([[2]]),\n",
       "  array([[3]]),\n",
       "  array([], shape=(0, 1), dtype=int64),\n",
       "  array([[4]]),\n",
       "  array([[5]]),\n",
       "  array([], shape=(0, 1), dtype=int64),\n",
       "  array([[6]]),\n",
       "  array([[7]]),\n",
       "  array([], shape=(0, 1), dtype=int64),\n",
       "  array([], shape=(0, 1), dtype=int64),\n",
       "  array([], shape=(0, 1), dtype=int64),\n",
       "  array([], shape=(0, 1), dtype=int64),\n",
       "  array([], shape=(0, 1), dtype=int64),\n",
       "  array([[8]]),\n",
       "  array([[9]]),\n",
       "  array([], shape=(0, 1), dtype=int64),\n",
       "  array([[11]]),\n",
       "  array([[12]]),\n",
       "  array([[13]]),\n",
       "  array([[14]]),\n",
       "  array([[15]]),\n",
       "  array([[16]]),\n",
       "  array([], shape=(0, 1), dtype=int64),\n",
       "  array([[18]]),\n",
       "  array([], shape=(0, 1), dtype=int64),\n",
       "  array([[20]]),\n",
       "  array([[21]]),\n",
       "  array([[22]]),\n",
       "  array([[23]]),\n",
       "  array([], shape=(0, 1), dtype=int64),\n",
       "  array([], shape=(0, 1), dtype=int64),\n",
       "  array([], shape=(0, 1), dtype=int64),\n",
       "  array([], shape=(0, 1), dtype=int64),\n",
       "  array([[28]]),\n",
       "  array([[29]]),\n",
       "  array([[30]]),\n",
       "  array([[31]]),\n",
       "  array([[32]]),\n",
       "  array([], shape=(0, 1), dtype=int64),\n",
       "  array([], shape=(0, 1), dtype=int64),\n",
       "  array([], shape=(0, 1), dtype=int64),\n",
       "  array([[34]]),\n",
       "  array([], shape=(0, 1), dtype=int64),\n",
       "  array([[36]]),\n",
       "  array([[37]]),\n",
       "  array([[38]]),\n",
       "  array([[39]])],\n",
       " [array([[19]]),\n",
       "  array([[21]]),\n",
       "  array([[22]]),\n",
       "  array([[24]]),\n",
       "  array([], shape=(0, 1), dtype=int64),\n",
       "  array([[25]]),\n",
       "  array([[27]]),\n",
       "  array([[28]]),\n",
       "  array([[29]]),\n",
       "  array([[30]]),\n",
       "  array([[31]]),\n",
       "  array([], shape=(0, 1), dtype=int64),\n",
       "  array([[32]]),\n",
       "  array([], shape=(0, 1), dtype=int64),\n",
       "  array([], shape=(0, 1), dtype=int64),\n",
       "  array([[34]]),\n",
       "  array([[35]]),\n",
       "  array([[36]]),\n",
       "  array([[37]]),\n",
       "  array([], shape=(0, 1), dtype=int64),\n",
       "  array([], shape=(0, 1), dtype=int64),\n",
       "  array([], shape=(0, 1), dtype=int64)],\n",
       " [array([], shape=(0, 1), dtype=int64),\n",
       "  array([], shape=(0, 1), dtype=int64),\n",
       "  array([], shape=(0, 1), dtype=int64),\n",
       "  array([], shape=(0, 1), dtype=int64),\n",
       "  array([], shape=(0, 1), dtype=int64),\n",
       "  array([[12]]),\n",
       "  array([], shape=(0, 1), dtype=int64),\n",
       "  array([[14]]),\n",
       "  array([], shape=(0, 1), dtype=int64),\n",
       "  array([[15]])]]"
      ]
     },
     "execution_count": 76,
     "metadata": {},
     "output_type": "execute_result"
    }
   ],
   "source": [
    "same_frames"
   ]
  },
  {
   "cell_type": "code",
   "execution_count": 77,
   "metadata": {},
   "outputs": [],
   "source": [
    "same_frames_list = []\n",
    "\n",
    "for x in same_frames:\n",
    "    same_frames_list.append([])\n",
    "    for y in x:\n",
    "        if y:\n",
    "            same_frames_list[-1].append(y[0,0])\n",
    "        else:\n",
    "            same_frames_list[-1].append([])"
   ]
  },
  {
   "cell_type": "code",
   "execution_count": 78,
   "metadata": {},
   "outputs": [
    {
     "data": {
      "text/plain": [
       "[[[], [], [], [], [], [], 4, 5, 6],\n",
       " [[],\n",
       "  [],\n",
       "  [],\n",
       "  [],\n",
       "  [],\n",
       "  [],\n",
       "  [],\n",
       "  [],\n",
       "  [],\n",
       "  [],\n",
       "  [],\n",
       "  [],\n",
       "  [],\n",
       "  [],\n",
       "  [],\n",
       "  [],\n",
       "  [],\n",
       "  [],\n",
       "  [],\n",
       "  [],\n",
       "  [],\n",
       "  [],\n",
       "  [],\n",
       "  [],\n",
       "  [],\n",
       "  []],\n",
       " [[],\n",
       "  [],\n",
       "  [],\n",
       "  [],\n",
       "  [],\n",
       "  [],\n",
       "  [],\n",
       "  [],\n",
       "  [],\n",
       "  [],\n",
       "  [],\n",
       "  [],\n",
       "  [],\n",
       "  [],\n",
       "  [],\n",
       "  [],\n",
       "  [],\n",
       "  [],\n",
       "  [],\n",
       "  [],\n",
       "  [],\n",
       "  [],\n",
       "  [],\n",
       "  [],\n",
       "  [],\n",
       "  [],\n",
       "  [],\n",
       "  [],\n",
       "  [],\n",
       "  [],\n",
       "  [],\n",
       "  [],\n",
       "  [],\n",
       "  [],\n",
       "  [],\n",
       "  [],\n",
       "  [],\n",
       "  [],\n",
       "  [],\n",
       "  [],\n",
       "  [],\n",
       "  [],\n",
       "  [],\n",
       "  [],\n",
       "  [],\n",
       "  [],\n",
       "  [],\n",
       "  88,\n",
       "  [],\n",
       "  [],\n",
       "  [],\n",
       "  101,\n",
       "  [],\n",
       "  [],\n",
       "  [],\n",
       "  [],\n",
       "  [],\n",
       "  [],\n",
       "  146,\n",
       "  147,\n",
       "  [],\n",
       "  148,\n",
       "  149,\n",
       "  150,\n",
       "  [],\n",
       "  [],\n",
       "  [],\n",
       "  [],\n",
       "  151,\n",
       "  152,\n",
       "  [],\n",
       "  153,\n",
       "  [],\n",
       "  155,\n",
       "  [],\n",
       "  [],\n",
       "  158,\n",
       "  159,\n",
       "  160,\n",
       "  [],\n",
       "  162,\n",
       "  [],\n",
       "  164,\n",
       "  165,\n",
       "  166,\n",
       "  [],\n",
       "  168,\n",
       "  169,\n",
       "  [],\n",
       "  [],\n",
       "  172,\n",
       "  [],\n",
       "  174,\n",
       "  175,\n",
       "  176,\n",
       "  177,\n",
       "  178,\n",
       "  179,\n",
       "  180,\n",
       "  181,\n",
       "  [],\n",
       "  183,\n",
       "  184,\n",
       "  185,\n",
       "  [],\n",
       "  187,\n",
       "  188],\n",
       " [[],\n",
       "  [],\n",
       "  [],\n",
       "  1,\n",
       "  2,\n",
       "  3,\n",
       "  [],\n",
       "  4,\n",
       "  5,\n",
       "  [],\n",
       "  6,\n",
       "  7,\n",
       "  [],\n",
       "  [],\n",
       "  [],\n",
       "  [],\n",
       "  [],\n",
       "  8,\n",
       "  9,\n",
       "  [],\n",
       "  11,\n",
       "  12,\n",
       "  13,\n",
       "  14,\n",
       "  15,\n",
       "  16,\n",
       "  [],\n",
       "  18,\n",
       "  [],\n",
       "  20,\n",
       "  21,\n",
       "  22,\n",
       "  23,\n",
       "  [],\n",
       "  [],\n",
       "  [],\n",
       "  [],\n",
       "  28,\n",
       "  29,\n",
       "  30,\n",
       "  31,\n",
       "  32,\n",
       "  [],\n",
       "  [],\n",
       "  [],\n",
       "  34,\n",
       "  [],\n",
       "  36,\n",
       "  37,\n",
       "  38,\n",
       "  39],\n",
       " [19,\n",
       "  21,\n",
       "  22,\n",
       "  24,\n",
       "  [],\n",
       "  25,\n",
       "  27,\n",
       "  28,\n",
       "  29,\n",
       "  30,\n",
       "  31,\n",
       "  [],\n",
       "  32,\n",
       "  [],\n",
       "  [],\n",
       "  34,\n",
       "  35,\n",
       "  36,\n",
       "  37,\n",
       "  [],\n",
       "  [],\n",
       "  []],\n",
       " [[], [], [], [], [], 12, [], 14, [], 15]]"
      ]
     },
     "execution_count": 78,
     "metadata": {},
     "output_type": "execute_result"
    }
   ],
   "source": [
    "same_frames_list"
   ]
  },
  {
   "cell_type": "code",
   "execution_count": 79,
   "metadata": {},
   "outputs": [],
   "source": [
    "f = open('11713_extracted_frames_pos_newconf/same_pos_neg_frames.txt', 'w')\n",
    "\n",
    "f.write(str(same_frames_list))\n",
    "\n",
    "f.close()"
   ]
  },
  {
   "cell_type": "code",
   "execution_count": 46,
   "metadata": {},
   "outputs": [],
   "source": [
    "# now RMSD of the new conformations to closest WT in RMSD"
   ]
  },
  {
   "cell_type": "code",
   "execution_count": 48,
   "metadata": {},
   "outputs": [],
   "source": [
    "for traj in glob.glob('11713_extracted_frames_pos_newconf/*.h5'):\n",
    "    traj_mut = md.load(traj)\n",
    "    traj_wt = md.load('11713_extracted_frames_pos_newconf_rmsds/%s' % traj.split('/')[-1])\n",
    "    traj_wt = traj_wt.atom_slice(traj_wt.top.select('name CA'))\n",
    "    rmsds_to_wt = []\n",
    "    for frame in range(len(traj_mut)):\n",
    "        rmsd = md.rmsd(traj_mut[frame], traj_wt[frame])\n",
    "        rmsds_to_wt.append(rmsd)\n",
    "    np.savetxt('11713_extracted_frames_pos_newconf_rmsds/%s.csv' % traj.split('/')[-1][:-3], rmsds_to_wt, delimiter=\",\")    "
   ]
  },
  {
   "cell_type": "code",
   "execution_count": 50,
   "metadata": {},
   "outputs": [],
   "source": [
    "for traj in glob.glob('11713_extracted_frames_neg_newconf/*.h5'):\n",
    "    traj_mut = md.load(traj)\n",
    "    traj_wt = md.load('11713_extracted_frames_neg_newconf_rmsds/%s' % traj.split('/')[-1])\n",
    "    if 'run12' in traj:\n",
    "        traj_wt = traj_wt.atom_slice(traj_wt.top.select('name CA and not (resid 92)'))\n",
    "    else:    \n",
    "        traj_wt = traj_wt.atom_slice(traj_wt.top.select('name CA'))\n",
    "    rmsds_to_wt = []\n",
    "    for frame in range(len(traj_mut)):\n",
    "        rmsd = md.rmsd(traj_mut[frame], traj_wt[frame])\n",
    "        rmsds_to_wt.append(rmsd)\n",
    "    np.savetxt('11713_extracted_frames_neg_newconf_rmsds/%s.csv' % traj.split('/')[-1][:-3], rmsds_to_wt, delimiter=\",\")    "
   ]
  },
  {
   "cell_type": "code",
   "execution_count": 81,
   "metadata": {},
   "outputs": [],
   "source": [
    "# now we have a final list of frames per mutant that don't overlap between positive and negative changes, and we have\n",
    "# a threshold of 3A to look for similar frames in those mutant datasets - let's see how many frames that picks up"
   ]
  },
  {
   "cell_type": "code",
   "execution_count": 3,
   "metadata": {},
   "outputs": [],
   "source": [
    "pos_new_conf_dict = {\n",
    "4: [[51,60], [560,585]], \n",
    "5: [[1,8]],  \n",
    "8: [[113,118]], \n",
    "9: [[195,233], [248,278], [467,509], [606,648]],  \n",
    "21: [[274,292], [402,423]],\n",
    "}\n",
    "\n",
    "neg_new_conf_dict = {\n",
    "5: [[1,6]], \n",
    "6: [[496,521]],\n",
    "9: [[162,164], [269,269], [272,272], [276,279], [282,282], [284,284], [286,287], [291,291], [293,293], [297,297], [300,300], [301,301], [303,303], [312,312], [316,316]],\n",
    "12: [[397,447], [550,571], [572,610]],\n",
    "17: [[344,355]], \n",
    "21: [[312,312], [319,319], [321,322], [327,329]],\n",
    "23: [[20,29]]}\n",
    "\n",
    "pos_new_conf_trajs = []\n",
    "\n",
    "for run in np.sort([run for run in pos_new_conf_dict]):\n",
    "    traj = md.load('/Volumes/DATA/11713_extracted_frames_pos/run%d.h5' % run)\n",
    "    limits = pos_new_conf_dict[run]\n",
    "    for i, limit in enumerate(limits):\n",
    "        traj_ = traj[(limit[0]-1):limit[1]]\n",
    "        traj_ = traj_.atom_slice(traj_.top.select('name CA'))\n",
    "        if i == 0:\n",
    "            traj_combined = traj_\n",
    "        else:\n",
    "            traj_combined = md.join([traj_combined, traj_])\n",
    "    pos_new_conf_trajs.append(traj_combined)        \n",
    "        \n",
    "neg_new_conf_trajs = []\n",
    "\n",
    "for run in np.sort([run for run in neg_new_conf_dict]):\n",
    "    traj = md.load('/Volumes/DATA/11713_extracted_frames_neg/run%d.h5' % run)\n",
    "    limits = neg_new_conf_dict[run]\n",
    "    for i, limit in enumerate(limits):\n",
    "        traj_ = traj[(limit[0]-1):limit[1]]\n",
    "        traj_ = traj_.atom_slice(traj_.top.select('name CA'))\n",
    "        if i == 0:\n",
    "            traj_combined = traj_\n",
    "        else:\n",
    "            traj_combined = md.join([traj_combined, traj_])\n",
    "    neg_new_conf_trajs.append(traj_combined)           "
   ]
  },
  {
   "cell_type": "code",
   "execution_count": 4,
   "metadata": {},
   "outputs": [
    {
     "data": {
      "text/plain": [
       "[<mdtraj.Trajectory with 36 frames, 162 atoms, 162 residues, and unitcells at 0x120f8de10>,\n",
       " <mdtraj.Trajectory with 8 frames, 162 atoms, 162 residues, and unitcells at 0x120fdf5c0>,\n",
       " <mdtraj.Trajectory with 6 frames, 162 atoms, 162 residues, and unitcells at 0x1236c1278>,\n",
       " <mdtraj.Trajectory with 156 frames, 162 atoms, 162 residues, and unitcells at 0x123cd0358>,\n",
       " <mdtraj.Trajectory with 41 frames, 162 atoms, 162 residues, and unitcells at 0x122ab25c0>]"
      ]
     },
     "execution_count": 4,
     "metadata": {},
     "output_type": "execute_result"
    }
   ],
   "source": [
    "pos_new_conf_trajs"
   ]
  },
  {
   "cell_type": "code",
   "execution_count": 5,
   "metadata": {},
   "outputs": [
    {
     "data": {
      "text/plain": [
       "[<mdtraj.Trajectory with 6 frames, 162 atoms, 162 residues, and unitcells at 0x123664eb8>,\n",
       " <mdtraj.Trajectory with 26 frames, 162 atoms, 162 residues, and unitcells at 0x123cdfac8>,\n",
       " <mdtraj.Trajectory with 21 frames, 162 atoms, 162 residues, and unitcells at 0x11e196b70>,\n",
       " <mdtraj.Trajectory with 112 frames, 161 atoms, 161 residues, and unitcells at 0x126a6a2e8>,\n",
       " <mdtraj.Trajectory with 12 frames, 162 atoms, 162 residues, and unitcells at 0x120ffd240>,\n",
       " <mdtraj.Trajectory with 7 frames, 162 atoms, 162 residues, and unitcells at 0x120f3dcf8>,\n",
       " <mdtraj.Trajectory with 10 frames, 162 atoms, 162 residues, and unitcells at 0x120f650b8>]"
      ]
     },
     "execution_count": 5,
     "metadata": {},
     "output_type": "execute_result"
    }
   ],
   "source": [
    "neg_new_conf_trajs"
   ]
  },
  {
   "cell_type": "code",
   "execution_count": 6,
   "metadata": {},
   "outputs": [],
   "source": [
    "# save these as pdb, h5 and dcd - but will all atoms (no H)"
   ]
  },
  {
   "cell_type": "code",
   "execution_count": 2,
   "metadata": {},
   "outputs": [],
   "source": [
    "pos_new_conf_dict = {\n",
    "4: [[51,60], [560,585]], \n",
    "5: [[1,8]],  \n",
    "8: [[113,118]], \n",
    "9: [[195,233], [248,278], [467,509], [606,648]],  \n",
    "21: [[274,292], [402,423]],\n",
    "}\n",
    "\n",
    "neg_new_conf_dict = {\n",
    "5: [[1,6]], \n",
    "6: [[496,521]],\n",
    "9: [[162,164], [269,269], [272,272], [276,279], [282,282], [284,284], [286,287], [291,291], [293,293], [297,297], [300,300], [301,301], [303,303], [312,312], [316,316]],\n",
    "12: [[397,447], [550,571], [572,610]],\n",
    "17: [[344,355]], \n",
    "21: [[312,312], [319,319], [321,322], [327,329]],\n",
    "23: [[20,29]]}\n",
    "\n",
    "pos_new_conf_trajs = []\n",
    "\n",
    "for run in np.sort([run for run in pos_new_conf_dict]):\n",
    "    traj = md.load('/Volumes/DATA/11713_extracted_frames_pos/run%d.h5' % run)\n",
    "    limits = pos_new_conf_dict[run]\n",
    "    for i, limit in enumerate(limits):\n",
    "        traj_ = traj[(limit[0]-1):limit[1]]\n",
    "        #traj_ = traj_.atom_slice(traj_.top.select('name CA'))\n",
    "        if i == 0:\n",
    "            traj_combined = traj_\n",
    "        else:\n",
    "            traj_combined = md.join([traj_combined, traj_])\n",
    "    pos_new_conf_trajs.append(traj_combined)        \n",
    "        \n",
    "neg_new_conf_trajs = []\n",
    "\n",
    "for run in np.sort([run for run in neg_new_conf_dict]):\n",
    "    traj = md.load('/Volumes/DATA/11713_extracted_frames_neg/run%d.h5' % run)\n",
    "    limits = neg_new_conf_dict[run]\n",
    "    for i, limit in enumerate(limits):\n",
    "        traj_ = traj[(limit[0]-1):limit[1]]\n",
    "        #traj_ = traj_.atom_slice(traj_.top.select('name CA'))\n",
    "        if i == 0:\n",
    "            traj_combined = traj_\n",
    "        else:\n",
    "            traj_combined = md.join([traj_combined, traj_])\n",
    "    neg_new_conf_trajs.append(traj_combined)           "
   ]
  },
  {
   "cell_type": "code",
   "execution_count": 4,
   "metadata": {},
   "outputs": [],
   "source": [
    "pos_runs = [4,5,8,9,21]\n",
    "neg_runs = [5,6,9,12,17,21,23]\n",
    "\n",
    "for i, traj in enumerate(pos_new_conf_trajs):\n",
    "    traj.save('/Volumes/DATA/11713_FINAL_newconf/run%d-pos.h5' % pos_runs[i])\n",
    "    traj.save('/Volumes/DATA/11713_FINAL_newconf/run%d-pos.pdb' % pos_runs[i])\n",
    "    traj = traj.atom_slice(traj.top.select('not element H'))\n",
    "    traj.save('/Volumes/DATA/11713_FINAL_newconf/run%d-pos.dcd' % pos_runs[i])\n",
    "    \n",
    "for i, traj in enumerate(neg_new_conf_trajs):\n",
    "    traj.save('/Volumes/DATA/11713_FINAL_newconf/run%d-neg.h5' % neg_runs[i])\n",
    "    traj.save('/Volumes/DATA/11713_FINAL_newconf/run%d-neg.pdb' % neg_runs[i])\n",
    "    traj = traj.atom_slice(traj.top.select('not element H'))\n",
    "    traj.save('/Volumes/DATA/11713_FINAL_newconf/run%d-neg.dcd' % neg_runs[i])"
   ]
  },
  {
   "cell_type": "code",
   "execution_count": 99,
   "metadata": {},
   "outputs": [],
   "source": [
    "# now calculate rmsds (CA) to all frames in the appropriate mutant data"
   ]
  },
  {
   "cell_type": "code",
   "execution_count": 6,
   "metadata": {},
   "outputs": [],
   "source": [
    "pos_new_conf_dict = {\n",
    "4: [[51,60], [560,585]], \n",
    "5: [[1,8]],  \n",
    "8: [[113,118]], \n",
    "9: [[195,233], [248,278], [467,509], [606,648]],  \n",
    "21: [[274,292], [402,423]],\n",
    "}\n",
    "\n",
    "neg_new_conf_dict = {\n",
    "5: [[1,6]], \n",
    "6: [[496,521]],\n",
    "9: [[162,164], [269,269], [272,272], [276,279], [282,282], [284,284], [286,287], [291,291], [293,293], [297,297], [300,300], [301,301], [303,303], [312,312], [316,316]],\n",
    "12: [[397,447], [550,571], [572,610]],\n",
    "17: [[344,355]], \n",
    "21: [[312,312], [319,319], [321,322], [327,329]],\n",
    "23: [[20,29]]}\n",
    "\n",
    "pos_new_conf_trajs = []\n",
    "pos_new_conf_rmsds = []\n",
    "\n",
    "for run in np.sort([run for run in pos_new_conf_dict]):\n",
    "    traj = md.load('/Volumes/DATA/11713_extracted_frames_pos/run%d.h5' % run)\n",
    "    limits = pos_new_conf_dict[run]\n",
    "    for i, limit in enumerate(limits):\n",
    "        traj_ = traj[(limit[0]-1):limit[1]]\n",
    "        traj_ = traj_.atom_slice(traj_.top.select('name CA'))\n",
    "        if i == 0:\n",
    "            traj_combined = traj_\n",
    "        else:\n",
    "            traj_combined = md.join([traj_combined, traj_])\n",
    "    pos_new_conf_trajs.append(traj_combined)\n",
    "    \n",
    "    all_mut_traj = md.load('/Volumes/DATA/11713/run%d-clone0.h5' % run)\n",
    "    all_mut_traj = all_mut_traj.atom_slice(traj.top.select('name CA'))\n",
    "    for clone in np.arange(1,40):\n",
    "        traj = md.load('/Volumes/DATA/11713/run%d-clone%d.h5' % (run, clone))\n",
    "        traj = traj.atom_slice(traj.top.select('name CA'))\n",
    "        all_mut_traj = md.join([all_mut_traj, traj])\n",
    "    \n",
    "    rmsds = []\n",
    "    for frame in traj_combined:\n",
    "        rmsd = md.rmsd(all_mut_traj, frame)\n",
    "        rmsds.append(rmsd)\n",
    "    pos_new_conf_rmsds.append(rmsds)    \n",
    "\n",
    "neg_new_conf_trajs = []\n",
    "neg_new_conf_rmsds = []\n",
    "\n",
    "for run in np.sort([run for run in neg_new_conf_dict]):\n",
    "    traj = md.load('/Volumes/DATA/11713_extracted_frames_neg/run%d.h5' % run)\n",
    "    limits = neg_new_conf_dict[run]\n",
    "    for i, limit in enumerate(limits):\n",
    "        traj_ = traj[(limit[0]-1):limit[1]]\n",
    "        traj_ = traj_.atom_slice(traj_.top.select('name CA'))\n",
    "        if i == 0:\n",
    "            traj_combined = traj_\n",
    "        else:\n",
    "            traj_combined = md.join([traj_combined, traj_])\n",
    "    neg_new_conf_trajs.append(traj_combined)           \n",
    "    \n",
    "    all_mut_traj = md.load('/Volumes/DATA/11713/run%d-clone0.h5' % run)\n",
    "    all_mut_traj = all_mut_traj.atom_slice(traj.top.select('name CA'))\n",
    "    for clone in np.arange(1,40):\n",
    "        traj = md.load('/Volumes/DATA/11713/run%d-clone%d.h5' % (run, clone))\n",
    "        traj = traj.atom_slice(traj.top.select('name CA'))\n",
    "        all_mut_traj = md.join([all_mut_traj, traj])\n",
    "    \n",
    "    rmsds = []\n",
    "    for frame in traj_combined:\n",
    "        rmsd = md.rmsd(all_mut_traj, frame)\n",
    "        rmsds.append(rmsd)\n",
    "    neg_new_conf_rmsds.append(rmsds)    "
   ]
  },
  {
   "cell_type": "code",
   "execution_count": 109,
   "metadata": {},
   "outputs": [],
   "source": [
    "# for each frame let's get the list of indexes that are below a threshold RMSD - first get lenghts of combined mutant\n",
    "# trajectories so I can calculate percentages later"
   ]
  },
  {
   "cell_type": "code",
   "execution_count": 7,
   "metadata": {},
   "outputs": [],
   "source": [
    "pos_mut_traj_lengths = []\n",
    "neg_mut_traj_lengths = []\n",
    "\n",
    "for run in np.sort([run for run in pos_new_conf_dict]):\n",
    "    length = 0\n",
    "    for clone in np.arange(0,40):\n",
    "        traj = md.open('/Volumes/DATA/11713/run%d-clone%d.h5' % (run, clone))\n",
    "        length += len(traj)\n",
    "        \n",
    "    pos_mut_traj_lengths.append(length)\n",
    "    \n",
    "for run in np.sort([run for run in neg_new_conf_dict]):\n",
    "    length = 0\n",
    "    for clone in np.arange(0,40):\n",
    "        traj = md.open('/Volumes/DATA/11713/run%d-clone%d.h5' % (run, clone))\n",
    "        length += len(traj)\n",
    "        \n",
    "    neg_mut_traj_lengths.append(length)    "
   ]
  },
  {
   "cell_type": "code",
   "execution_count": 142,
   "metadata": {},
   "outputs": [],
   "source": [
    "threshold = 0.3\n",
    "\n",
    "pos_new_conf_rmsds_under_threshold = []\n",
    "pos_new_conf_rmsds_under_threshold_numbers = []\n",
    "\n",
    "for i,run in enumerate(pos_new_conf_rmsds):\n",
    "    pos_new_conf_rmsds_under_threshold.append([])\n",
    "    for frame in run:\n",
    "        pos_new_conf_rmsds_under_threshold[-1].append(np.concatenate(np.argwhere(frame < threshold)))\n",
    "    \n",
    "    unique_length = len(set(np.concatenate(pos_new_conf_rmsds_under_threshold[-1])))\n",
    "    pos_new_conf_rmsds_under_threshold_numbers.append(100*unique_length/pos_mut_traj_lengths[i])\n",
    "        \n",
    "neg_new_conf_rmsds_under_threshold = []\n",
    "neg_new_conf_rmsds_under_threshold_numbers = []\n",
    "\n",
    "for i,run in enumerate(neg_new_conf_rmsds):\n",
    "    neg_new_conf_rmsds_under_threshold.append([])\n",
    "    for frame in run:\n",
    "        neg_new_conf_rmsds_under_threshold[-1].append(np.concatenate(np.argwhere(frame < threshold)))\n",
    "        \n",
    "    unique_length = len(set(np.concatenate(neg_new_conf_rmsds_under_threshold[-1])))\n",
    "    neg_new_conf_rmsds_under_threshold_numbers.append(100*unique_length/neg_mut_traj_lengths[i])    "
   ]
  },
  {
   "cell_type": "code",
   "execution_count": 143,
   "metadata": {},
   "outputs": [
    {
     "data": {
      "text/plain": [
       "[2.7491921451652996,\n",
       " 0.7081625046589638,\n",
       " 0.857213745192904,\n",
       " 6.889964024314601,\n",
       " 2.7044970562445196]"
      ]
     },
     "execution_count": 143,
     "metadata": {},
     "output_type": "execute_result"
    }
   ],
   "source": [
    "pos_new_conf_rmsds_under_threshold_numbers"
   ]
  },
  {
   "cell_type": "code",
   "execution_count": 144,
   "metadata": {},
   "outputs": [
    {
     "data": {
      "text/plain": [
       "[1.8287986085227979,\n",
       " 1.9339091250469396,\n",
       " 1.8248356283339535,\n",
       " 4.789884715507624,\n",
       " 0.8342644320297952,\n",
       " 1.3290742828510584,\n",
       " 0.43435095557210224]"
      ]
     },
     "execution_count": 144,
     "metadata": {},
     "output_type": "execute_result"
    }
   ],
   "source": [
    "neg_new_conf_rmsds_under_threshold_numbers"
   ]
  },
  {
   "cell_type": "code",
   "execution_count": 145,
   "metadata": {},
   "outputs": [],
   "source": [
    "# now do multiple thresholds and see how the numbers change"
   ]
  },
  {
   "cell_type": "code",
   "execution_count": 151,
   "metadata": {},
   "outputs": [],
   "source": [
    "def get_number_unique_frames(threshold):\n",
    "    pos_new_conf_rmsds_under_threshold = []\n",
    "    pos_new_conf_rmsds_under_threshold_numbers = []\n",
    "\n",
    "    for i,run in enumerate(pos_new_conf_rmsds):\n",
    "        pos_new_conf_rmsds_under_threshold.append([])\n",
    "        for frame in run:\n",
    "            if np.argwhere(frame < threshold).any():\n",
    "                pos_new_conf_rmsds_under_threshold[-1].append(np.concatenate(np.argwhere(frame < threshold)))\n",
    "            else:\n",
    "                pos_new_conf_rmsds_under_threshold[-1].append([])\n",
    "    \n",
    "        unique_length = len(set(np.concatenate(pos_new_conf_rmsds_under_threshold[-1])))\n",
    "        pos_new_conf_rmsds_under_threshold_numbers.append(100*unique_length/pos_mut_traj_lengths[i])\n",
    "        \n",
    "    neg_new_conf_rmsds_under_threshold = []\n",
    "    neg_new_conf_rmsds_under_threshold_numbers = []\n",
    "\n",
    "    for i,run in enumerate(neg_new_conf_rmsds):\n",
    "        neg_new_conf_rmsds_under_threshold.append([])\n",
    "        for frame in run:\n",
    "            if np.argwhere(frame < threshold).any():\n",
    "                neg_new_conf_rmsds_under_threshold[-1].append(np.concatenate(np.argwhere(frame < threshold)))\n",
    "            else:\n",
    "                neg_new_conf_rmsds_under_threshold[-1].append([])\n",
    "        \n",
    "        unique_length = len(set(np.concatenate(neg_new_conf_rmsds_under_threshold[-1])))\n",
    "        neg_new_conf_rmsds_under_threshold_numbers.append(100*unique_length/neg_mut_traj_lengths[i])\n",
    "        \n",
    "    return (pos_new_conf_rmsds_under_threshold_numbers, neg_new_conf_rmsds_under_threshold_numbers)    "
   ]
  },
  {
   "cell_type": "code",
   "execution_count": 152,
   "metadata": {},
   "outputs": [],
   "source": [
    "thresholds = np.arange(0,1,0.05)\n",
    "\n",
    "results_pos = []\n",
    "results_neg = []\n",
    "\n",
    "for threshold in thresholds:\n",
    "    results = get_number_unique_frames(threshold)\n",
    "    results_pos.append(results[0])\n",
    "    results_neg.append(results[1])"
   ]
  },
  {
   "cell_type": "code",
   "execution_count": 2,
   "metadata": {},
   "outputs": [],
   "source": [
    "import matplotlib\n",
    "%matplotlib inline\n",
    "import matplotlib.pyplot as plt\n",
    "import seaborn as sns\n",
    "sns.set_style('ticks')"
   ]
  },
  {
   "cell_type": "code",
   "execution_count": 3,
   "metadata": {},
   "outputs": [],
   "source": [
    "pos_new_conf_dict = {\n",
    "4: [[51,60], [560,585]], \n",
    "5: [[1,8]],  \n",
    "8: [[113,118]], \n",
    "9: [[195,233], [248,278], [467,509], [606,648]],  \n",
    "21: [[274,292], [402,423]],\n",
    "}\n",
    "\n",
    "neg_new_conf_dict = {\n",
    "5: [[1,6]], \n",
    "6: [[496,521]],\n",
    "9: [[162,164], [269,269], [272,272], [276,279], [282,282], [284,284], [286,287], [291,291], [293,293], [297,297], [300,300], [301,301], [303,303], [312,312], [316,316]],\n",
    "12: [[397,447], [550,571], [572,610]],\n",
    "17: [[344,355]], \n",
    "21: [[312,312], [319,319], [321,322], [327,329]],\n",
    "23: [[20,29]]}"
   ]
  },
  {
   "cell_type": "code",
   "execution_count": 179,
   "metadata": {},
   "outputs": [
    {
     "data": {
      "image/png": "[encoded data removed]",
      "text/plain": [
       "<matplotlib.figure.Figure at 0x105869f28>"
      ]
     },
     "metadata": {},
     "output_type": "display_data"
    }
   ],
   "source": [
    "plt.figure(dpi=300)\n",
    "plt.plot([x[0] for x in results_pos], label='RUN4')\n",
    "plt.plot([x[1] for x in results_pos], label='RUN5')\n",
    "plt.plot([x[2] for x in results_pos], label='RUN8')\n",
    "plt.plot([x[3] for x in results_pos], label='RUN9')\n",
    "plt.plot([x[4] for x in results_pos], label='RUN21')\n",
    "plt.xticks(np.arange(0, len(np.arange(0,1,0.05)), 2), np.arange(0,1.1,0.1))\n",
    "plt.xlabel('CA RMSD cutoff (nm)')\n",
    "plt.ylabel('% frames')\n",
    "plt.legend()\n",
    "plt.show()"
   ]
  },
  {
   "cell_type": "code",
   "execution_count": 180,
   "metadata": {},
   "outputs": [
    {
     "data": {
      "image/png": "[encoded data removed]",
      "text/plain": [
       "<matplotlib.figure.Figure at 0x1210bcdd8>"
      ]
     },
     "metadata": {},
     "output_type": "display_data"
    }
   ],
   "source": [
    "plt.figure(dpi=300)\n",
    "plt.plot([x[0] for x in results_neg], label='RUN5')\n",
    "plt.plot([x[1] for x in results_neg], label='RUN6')\n",
    "plt.plot([x[2] for x in results_neg], label='RUN9')\n",
    "plt.plot([x[3] for x in results_neg], label='RUN12')\n",
    "plt.plot([x[4] for x in results_neg], label='RUN17')\n",
    "plt.plot([x[5] for x in results_neg], label='RUN21')\n",
    "plt.plot([x[6] for x in results_neg], label='RUN23')\n",
    "plt.xticks(np.arange(0, len(np.arange(0,1,0.05)), 2), np.arange(0,1.1,0.1))\n",
    "plt.xlabel('CA RMSD cutoff (nm)')\n",
    "plt.ylabel('% frames')\n",
    "plt.legend()\n",
    "plt.show()"
   ]
  },
  {
   "cell_type": "code",
   "execution_count": 181,
   "metadata": {},
   "outputs": [],
   "source": [
    "# at 0.3, 0.35, 0.4 extract the frames "
   ]
  },
  {
   "cell_type": "code",
   "execution_count": 8,
   "metadata": {},
   "outputs": [],
   "source": [
    "threshold = 0.3\n",
    "\n",
    "pos_new_conf_rmsds_under_threshold = []\n",
    "pos_new_conf_rmsds_under_threshold_numbers = []\n",
    "\n",
    "for i,run in enumerate(pos_new_conf_rmsds):\n",
    "    pos_new_conf_rmsds_under_threshold.append([])\n",
    "    for frame in run:\n",
    "        pos_new_conf_rmsds_under_threshold[-1].append(np.concatenate(np.argwhere(frame < threshold)))\n",
    "    \n",
    "    unique_length = len(set(np.concatenate(pos_new_conf_rmsds_under_threshold[-1])))\n",
    "    pos_new_conf_rmsds_under_threshold_numbers.append(100*unique_length/pos_mut_traj_lengths[i])\n",
    "        \n",
    "neg_new_conf_rmsds_under_threshold = []\n",
    "neg_new_conf_rmsds_under_threshold_numbers = []\n",
    "\n",
    "for i,run in enumerate(neg_new_conf_rmsds):\n",
    "    neg_new_conf_rmsds_under_threshold.append([])\n",
    "    for frame in run:\n",
    "        neg_new_conf_rmsds_under_threshold[-1].append(np.concatenate(np.argwhere(frame < threshold)))\n",
    "        \n",
    "    unique_length = len(set(np.concatenate(neg_new_conf_rmsds_under_threshold[-1])))\n",
    "    neg_new_conf_rmsds_under_threshold_numbers.append(100*unique_length/neg_mut_traj_lengths[i])    "
   ]
  },
  {
   "cell_type": "code",
   "execution_count": 6,
   "metadata": {},
   "outputs": [
    {
     "data": {
      "text/plain": [
       "[2.7491921451652996,\n",
       " 0.7081625046589638,\n",
       " 0.857213745192904,\n",
       " 6.889964024314601,\n",
       " 2.7044970562445196]"
      ]
     },
     "execution_count": 6,
     "metadata": {},
     "output_type": "execute_result"
    }
   ],
   "source": [
    "pos_new_conf_rmsds_under_threshold_numbers"
   ]
  },
  {
   "cell_type": "code",
   "execution_count": 7,
   "metadata": {},
   "outputs": [
    {
     "data": {
      "text/plain": [
       "[1.8287986085227979,\n",
       " 1.9339091250469396,\n",
       " 1.8248356283339535,\n",
       " 4.789884715507624,\n",
       " 0.8342644320297952,\n",
       " 1.3290742828510584,\n",
       " 0.43435095557210224]"
      ]
     },
     "execution_count": 7,
     "metadata": {},
     "output_type": "execute_result"
    }
   ],
   "source": [
    "neg_new_conf_rmsds_under_threshold_numbers"
   ]
  },
  {
   "cell_type": "code",
   "execution_count": 17,
   "metadata": {},
   "outputs": [],
   "source": [
    "# reorganize frame indexes into groups of new conformation sets\n",
    "\n",
    "pos_new_conf_indexes_3 = []\n",
    "neg_new_conf_indexes_3 = []\n",
    "\n",
    "# positive\n",
    "# run 4\n",
    "indexes = pos_new_conf_rmsds_under_threshold[0]\n",
    "run = [set(np.concatenate(indexes[0:10])), set(np.concatenate(indexes[10:36]))]\n",
    "pos_new_conf_indexes_3.append(run)\n",
    "\n",
    "# run 5\n",
    "indexes = pos_new_conf_rmsds_under_threshold[1]\n",
    "run = [set(np.concatenate(indexes))]\n",
    "pos_new_conf_indexes_3.append(run)\n",
    "\n",
    "# run 8\n",
    "indexes = pos_new_conf_rmsds_under_threshold[2]\n",
    "run = [set(np.concatenate(indexes))]\n",
    "pos_new_conf_indexes_3.append(run)\n",
    "\n",
    "# run 9\n",
    "indexes = pos_new_conf_rmsds_under_threshold[3]\n",
    "run = [set(np.concatenate(indexes[0:39])), set(np.concatenate(indexes[39:70])), set(np.concatenate(indexes[70:113])), set(np.concatenate(indexes[113:156]))]\n",
    "pos_new_conf_indexes_3.append(run)\n",
    "\n",
    "# run 21\n",
    "indexes = pos_new_conf_rmsds_under_threshold[4]\n",
    "run = [set(np.concatenate(indexes[0:19])), set(np.concatenate(indexes[19:41]))]\n",
    "pos_new_conf_indexes_3.append(run)\n",
    "\n",
    "# negative\n",
    "# run 5\n",
    "indexes = neg_new_conf_rmsds_under_threshold[0]\n",
    "run = [set(np.concatenate(indexes))]\n",
    "neg_new_conf_indexes_3.append(run)\n",
    "\n",
    "# run 6\n",
    "indexes = neg_new_conf_rmsds_under_threshold[1]\n",
    "run = [set(np.concatenate(indexes))]\n",
    "neg_new_conf_indexes_3.append(run)\n",
    "\n",
    "# run 9\n",
    "indexes = neg_new_conf_rmsds_under_threshold[2]\n",
    "run = [set(np.concatenate(indexes[0:3])), set(np.concatenate(indexes[3:])),]\n",
    "neg_new_conf_indexes_3.append(run)\n",
    "\n",
    "# run 12\n",
    "indexes = neg_new_conf_rmsds_under_threshold[3]\n",
    "run = [set(np.concatenate(indexes[0:51])), set(np.concatenate(indexes[51:73])), set(np.concatenate(indexes[73:112]))]\n",
    "neg_new_conf_indexes_3.append(run)\n",
    "\n",
    "# run 17\n",
    "indexes = neg_new_conf_rmsds_under_threshold[4]\n",
    "run = [set(np.concatenate(indexes))]\n",
    "neg_new_conf_indexes_3.append(run)\n",
    "\n",
    "# run 21\n",
    "indexes = neg_new_conf_rmsds_under_threshold[5]\n",
    "run = [set(np.concatenate(indexes[0:1])), set(np.concatenate(indexes[1:2])), set(np.concatenate(indexes[2:4])), set(np.concatenate(indexes[4:7]))]\n",
    "neg_new_conf_indexes_3.append(run)\n",
    "\n",
    "# run 23\n",
    "indexes = neg_new_conf_rmsds_under_threshold[6]\n",
    "run = [set(np.concatenate(indexes))]\n",
    "neg_new_conf_indexes_3.append(run)"
   ]
  },
  {
   "cell_type": "code",
   "execution_count": 225,
   "metadata": {},
   "outputs": [],
   "source": [
    "pos_new_conf_indexes_3_lens = []\n",
    "neg_new_conf_indexes_3_lens = []\n",
    "\n",
    "for x in pos_new_conf_indexes_3:\n",
    "    for y in x:\n",
    "        pos_new_conf_indexes_3_lens.append(len(y))\n",
    "    \n",
    "for x in neg_new_conf_indexes_3:\n",
    "    for y in x:\n",
    "        neg_new_conf_indexes_3_lens.append(len(y))    "
   ]
  },
  {
   "cell_type": "code",
   "execution_count": 226,
   "metadata": {},
   "outputs": [
    {
     "data": {
      "text/plain": [
       "[1633, 579, 570, 691, 1244, 1624, 1471, 1215, 1095, 1064]"
      ]
     },
     "execution_count": 226,
     "metadata": {},
     "output_type": "execute_result"
    }
   ],
   "source": [
    "pos_new_conf_indexes_3_lens"
   ]
  },
  {
   "cell_type": "code",
   "execution_count": 227,
   "metadata": {},
   "outputs": [
    {
     "data": {
      "text/plain": [
       "[1472, 1545, 266, 1205, 887, 1776, 1201, 672, 530, 718, 925, 1048, 350]"
      ]
     },
     "execution_count": 227,
     "metadata": {},
     "output_type": "execute_result"
    }
   ],
   "source": [
    "neg_new_conf_indexes_3_lens"
   ]
  },
  {
   "cell_type": "code",
   "execution_count": 228,
   "metadata": {},
   "outputs": [],
   "source": [
    "# now extract and save every 10th as pdb's"
   ]
  },
  {
   "cell_type": "code",
   "execution_count": 237,
   "metadata": {},
   "outputs": [],
   "source": [
    "pos_runs = [4,5,8,9,21]\n",
    "\n",
    "for i, run_ in enumerate(pos_new_conf_indexes_3):\n",
    "    run = pos_runs[i]\n",
    "    \n",
    "    all_mut_traj = md.load('/Volumes/DATA/11713/run%d-clone0.h5' % run)\n",
    "    for clone in np.arange(1,40):\n",
    "        traj = md.load('/Volumes/DATA/11713/run%d-clone%d.h5' % (run, clone))\n",
    "        all_mut_traj = md.join([all_mut_traj, traj])\n",
    "    \n",
    "    for j, group in enumerate(run_):\n",
    "        group = list(group)[::10]\n",
    "        traj = all_mut_traj[group]\n",
    "        traj.save('/Volumes/DATA/11713_pos_newconf_frames_within_3A/run%d-%d.pdb' % (run, j))"
   ]
  },
  {
   "cell_type": "code",
   "execution_count": 9,
   "metadata": {},
   "outputs": [],
   "source": [
    "neg_runs = [5,6,9,12,17,21,23]\n",
    "\n",
    "for i, run_ in enumerate(neg_new_conf_indexes_3):\n",
    "    run = neg_runs[i]\n",
    "    \n",
    "    all_mut_traj = md.load('/Volumes/DATA/11713/run%d-clone0.h5' % run)\n",
    "    for clone in np.arange(1,40):\n",
    "        traj = md.load('/Volumes/DATA/11713/run%d-clone%d.h5' % (run, clone))\n",
    "        all_mut_traj = md.join([all_mut_traj, traj])\n",
    "    \n",
    "    for j, group in enumerate(run_):\n",
    "        group = list(group)[::10]\n",
    "        traj = all_mut_traj[group]\n",
    "        traj.save('/Volumes/DATA/11713_neg_newconf_frames_within_3A/run%d-%d.pdb' % (run, j))"
   ]
  },
  {
   "cell_type": "code",
   "execution_count": null,
   "metadata": {},
   "outputs": [],
   "source": [
    "# AFTER SHI MANUAL CHECK - we go with the 3A threshold, all frames except some for RUN5 negative are new\n",
    "# now get all the indexes together for pos and neg, set them (remove duplicates) and hence quantify population"
   ]
  },
  {
   "cell_type": "code",
   "execution_count": 104,
   "metadata": {},
   "outputs": [],
   "source": [
    "# repeat stuff from above"
   ]
  },
  {
   "cell_type": "code",
   "execution_count": null,
   "metadata": {},
   "outputs": [],
   "source": [
    "pos_new_conf_dict = {\n",
    "4: [[51,60], [560,585]], \n",
    "5: [[1,8]],  \n",
    "8: [[113,118]], \n",
    "9: [[195,233], [248,278], [467,509], [606,648]],  \n",
    "21: [[274,292], [402,423]],\n",
    "}\n",
    "\n",
    "neg_new_conf_dict = {\n",
    "5: [[1,6]], \n",
    "6: [[496,521]],\n",
    "9: [[162,164], [269,269], [272,272], [276,279], [282,282], [284,284], [286,287], [291,291], [293,293], [297,297], [300,300], [301,301], [303,303], [312,312], [316,316]],\n",
    "12: [[397,447], [550,571], [572,610]],\n",
    "17: [[344,355]], \n",
    "21: [[312,312], [319,319], [321,322], [327,329]],\n",
    "23: [[20,29]]}\n",
    "\n",
    "pos_new_conf_trajs = []\n",
    "pos_new_conf_rmsds = []\n",
    "\n",
    "for run in np.sort([run for run in pos_new_conf_dict]):\n",
    "    traj = md.load('/Volumes/DATA/11713_extracted_frames_pos/run%d.h5' % run)\n",
    "    limits = pos_new_conf_dict[run]\n",
    "    for i, limit in enumerate(limits):\n",
    "        traj_ = traj[(limit[0]-1):limit[1]]\n",
    "        traj_ = traj_.atom_slice(traj_.top.select('name CA'))\n",
    "        if i == 0:\n",
    "            traj_combined = traj_\n",
    "        else:\n",
    "            traj_combined = md.join([traj_combined, traj_])\n",
    "    pos_new_conf_trajs.append(traj_combined)\n",
    "    \n",
    "    all_mut_traj = md.load('/Volumes/DATA/11713/run%d-clone0.h5' % run)\n",
    "    all_mut_traj = all_mut_traj.atom_slice(traj.top.select('name CA'))\n",
    "    for clone in np.arange(1,40):\n",
    "        traj = md.load('/Volumes/DATA/11713/run%d-clone%d.h5' % (run, clone))\n",
    "        traj = traj.atom_slice(traj.top.select('name CA'))\n",
    "        all_mut_traj = md.join([all_mut_traj, traj])\n",
    "    \n",
    "    rmsds = []\n",
    "    for frame in traj_combined:\n",
    "        rmsd = md.rmsd(all_mut_traj, frame)\n",
    "        rmsds.append(rmsd)\n",
    "    pos_new_conf_rmsds.append(rmsds)    \n",
    "\n",
    "neg_new_conf_trajs = []\n",
    "neg_new_conf_rmsds = []\n",
    "\n",
    "for run in np.sort([run for run in neg_new_conf_dict]):\n",
    "    traj = md.load('/Volumes/DATA/11713_extracted_frames_neg/run%d.h5' % run)\n",
    "    limits = neg_new_conf_dict[run]\n",
    "    for i, limit in enumerate(limits):\n",
    "        traj_ = traj[(limit[0]-1):limit[1]]\n",
    "        traj_ = traj_.atom_slice(traj_.top.select('name CA'))\n",
    "        if i == 0:\n",
    "            traj_combined = traj_\n",
    "        else:\n",
    "            traj_combined = md.join([traj_combined, traj_])\n",
    "    neg_new_conf_trajs.append(traj_combined)           \n",
    "    \n",
    "    all_mut_traj = md.load('/Volumes/DATA/11713/run%d-clone0.h5' % run)\n",
    "    all_mut_traj = all_mut_traj.atom_slice(traj.top.select('name CA'))\n",
    "    for clone in np.arange(1,40):\n",
    "        traj = md.load('/Volumes/DATA/11713/run%d-clone%d.h5' % (run, clone))\n",
    "        traj = traj.atom_slice(traj.top.select('name CA'))\n",
    "        all_mut_traj = md.join([all_mut_traj, traj])\n",
    "    \n",
    "    rmsds = []\n",
    "    for frame in traj_combined:\n",
    "        rmsd = md.rmsd(all_mut_traj, frame)\n",
    "        rmsds.append(rmsd)\n",
    "    neg_new_conf_rmsds.append(rmsds)    "
   ]
  },
  {
   "cell_type": "code",
   "execution_count": null,
   "metadata": {},
   "outputs": [],
   "source": [
    "pos_mut_traj_lengths = []\n",
    "neg_mut_traj_lengths = []\n",
    "\n",
    "for run in np.sort([run for run in pos_new_conf_dict]):\n",
    "    length = 0\n",
    "    for clone in np.arange(0,40):\n",
    "        traj = md.open('/Volumes/DATA/11713/run%d-clone%d.h5' % (run, clone))\n",
    "        length += len(traj)\n",
    "        \n",
    "    pos_mut_traj_lengths.append(length)\n",
    "    \n",
    "for run in np.sort([run for run in neg_new_conf_dict]):\n",
    "    length = 0\n",
    "    for clone in np.arange(0,40):\n",
    "        traj = md.open('/Volumes/DATA/11713/run%d-clone%d.h5' % (run, clone))\n",
    "        length += len(traj)\n",
    "        \n",
    "    neg_mut_traj_lengths.append(length)    "
   ]
  },
  {
   "cell_type": "code",
   "execution_count": null,
   "metadata": {},
   "outputs": [],
   "source": [
    "threshold = 0.3\n",
    "\n",
    "pos_new_conf_rmsds_under_threshold = []\n",
    "pos_new_conf_rmsds_under_threshold_numbers = []\n",
    "\n",
    "for i,run in enumerate(pos_new_conf_rmsds):\n",
    "    pos_new_conf_rmsds_under_threshold.append([])\n",
    "    for frame in run:\n",
    "        pos_new_conf_rmsds_under_threshold[-1].append(np.concatenate(np.argwhere(frame < threshold)))\n",
    "    \n",
    "    unique_length = len(set(np.concatenate(pos_new_conf_rmsds_under_threshold[-1])))\n",
    "    pos_new_conf_rmsds_under_threshold_numbers.append(100*unique_length/pos_mut_traj_lengths[i])\n",
    "        \n",
    "neg_new_conf_rmsds_under_threshold = []\n",
    "neg_new_conf_rmsds_under_threshold_numbers = []\n",
    "\n",
    "for i,run in enumerate(neg_new_conf_rmsds):\n",
    "    neg_new_conf_rmsds_under_threshold.append([])\n",
    "    for frame in run:\n",
    "        neg_new_conf_rmsds_under_threshold[-1].append(np.concatenate(np.argwhere(frame < threshold)))\n",
    "        \n",
    "    unique_length = len(set(np.concatenate(neg_new_conf_rmsds_under_threshold[-1])))\n",
    "    neg_new_conf_rmsds_under_threshold_numbers.append(100*unique_length/neg_mut_traj_lengths[i])    "
   ]
  },
  {
   "cell_type": "code",
   "execution_count": 18,
   "metadata": {},
   "outputs": [],
   "source": [
    "# first make lists of indexes of 10-strided trajs - i.e. those that Shi checked"
   ]
  },
  {
   "cell_type": "code",
   "execution_count": 27,
   "metadata": {},
   "outputs": [],
   "source": [
    "pos_runs = [4,5,8,9,21]\n",
    "pos_new_conf_indexes_3_10strided = []\n",
    "\n",
    "for i, run_ in enumerate(pos_new_conf_indexes_3):\n",
    "    pos_new_conf_indexes_3_10strided.append([])\n",
    "    for j, group in enumerate(run_):\n",
    "        group = list(group)[::10]\n",
    "        pos_new_conf_indexes_3_10strided[-1].append(group)"
   ]
  },
  {
   "cell_type": "code",
   "execution_count": 28,
   "metadata": {},
   "outputs": [],
   "source": [
    "neg_runs = [5,6,9,12,17,21,23]\n",
    "neg_new_conf_indexes_3_10strided = []\n",
    "\n",
    "for i, run_ in enumerate(neg_new_conf_indexes_3):\n",
    "    neg_new_conf_indexes_3_10strided.append([])\n",
    "    for j, group in enumerate(run_):\n",
    "        group = list(group)[::10]\n",
    "        neg_new_conf_indexes_3_10strided[-1].append(group)"
   ]
  },
  {
   "cell_type": "code",
   "execution_count": 35,
   "metadata": {},
   "outputs": [
    {
     "data": {
      "text/plain": [
       "148"
      ]
     },
     "execution_count": 35,
     "metadata": {},
     "output_type": "execute_result"
    }
   ],
   "source": [
    "len(neg_new_conf_indexes_3_10strided[0][0])"
   ]
  },
  {
   "cell_type": "code",
   "execution_count": null,
   "metadata": {},
   "outputs": [],
   "source": [
    "#actual new conformations for RUN5 negative - of the frames above: 25, 28, 29, 31, 32, 34-67, 69-104, 123 - \n",
    "# these are 1-indexed\n",
    "# 0-indexed, with right ranges:\n",
    "24\n",
    "27\n",
    "28\n",
    "30\n",
    "31\n",
    "33-67\n",
    "68-104\n",
    "122"
   ]
  },
  {
   "cell_type": "code",
   "execution_count": 39,
   "metadata": {},
   "outputs": [],
   "source": [
    "new_confs = []\n",
    "\n",
    "new_confs.append(neg_new_conf_indexes_3_10strided[0][0][24])\n",
    "new_confs.append(neg_new_conf_indexes_3_10strided[0][0][27])\n",
    "new_confs.append(neg_new_conf_indexes_3_10strided[0][0][28])\n",
    "new_confs.append(neg_new_conf_indexes_3_10strided[0][0][30])\n",
    "new_confs.append(neg_new_conf_indexes_3_10strided[0][0][31])\n",
    "\n",
    "for x in neg_new_conf_indexes_3_10strided[0][0][33:67]:\n",
    "    new_confs.append(x)\n",
    "    \n",
    "for x in neg_new_conf_indexes_3_10strided[0][0][68:104]:\n",
    "    new_confs.append(x)\n",
    "    \n",
    "new_confs.append(neg_new_conf_indexes_3_10strided[0][0][122])    "
   ]
  },
  {
   "cell_type": "code",
   "execution_count": 41,
   "metadata": {},
   "outputs": [
    {
     "data": {
      "text/plain": [
       "76"
      ]
     },
     "execution_count": 41,
     "metadata": {},
     "output_type": "execute_result"
    }
   ],
   "source": [
    "len(new_confs)"
   ]
  },
  {
   "cell_type": "code",
   "execution_count": 42,
   "metadata": {},
   "outputs": [],
   "source": [
    "neg_new_conf_indexes_3_10strided[0][0] = new_confs"
   ]
  },
  {
   "cell_type": "code",
   "execution_count": 76,
   "metadata": {},
   "outputs": [],
   "source": [
    "new_conf_lens = dict()\n",
    "\n",
    "pos_runs = [4,5,8,9,21]\n",
    "neg_runs = [5,6,9,12,17,21,23]\n",
    "all_runs = [4,5,6,8,9,12,17,21,23]\n",
    "\n",
    "for run in all_runs:\n",
    "    indexes = []\n",
    "    if run in pos_runs:\n",
    "        indexes.append(pos_new_conf_indexes_3_10strided[np.argwhere(np.array(pos_runs) == run)[0,0]])\n",
    "    if run in neg_runs:\n",
    "        indexes.append(neg_new_conf_indexes_3_10strided[np.argwhere(np.array(neg_runs) == run)[0,0]])\n",
    "\n",
    "    new_conf_lens[run] = len(set(np.concatenate(np.concatenate(np.array(indexes)))))"
   ]
  },
  {
   "cell_type": "code",
   "execution_count": 77,
   "metadata": {},
   "outputs": [
    {
     "data": {
      "text/plain": [
       "{4: 222, 5: 133, 6: 155, 8: 70, 9: 607, 12: 388, 17: 68, 21: 394, 23: 35}"
      ]
     },
     "execution_count": 77,
     "metadata": {},
     "output_type": "execute_result"
    }
   ],
   "source": [
    "new_conf_lens"
   ]
  },
  {
   "cell_type": "code",
   "execution_count": 86,
   "metadata": {},
   "outputs": [],
   "source": [
    "# ok now calculate populations"
   ]
  },
  {
   "cell_type": "code",
   "execution_count": 87,
   "metadata": {},
   "outputs": [
    {
     "data": {
      "text/plain": [
       "[80460, 80490, 80610, 80610, 79830]"
      ]
     },
     "execution_count": 87,
     "metadata": {},
     "output_type": "execute_result"
    }
   ],
   "source": [
    "pos_mut_traj_lengths"
   ]
  },
  {
   "cell_type": "code",
   "execution_count": 88,
   "metadata": {},
   "outputs": [
    {
     "data": {
      "text/plain": [
       "[80490, 79890, 80610, 80670, 80550, 79830, 80580]"
      ]
     },
     "execution_count": 88,
     "metadata": {},
     "output_type": "execute_result"
    }
   ],
   "source": [
    "neg_mut_traj_lengths"
   ]
  },
  {
   "cell_type": "code",
   "execution_count": 89,
   "metadata": {},
   "outputs": [],
   "source": [
    "all_mut_traj_lengths = [pos_mut_traj_lengths[0], neg_mut_traj_lengths[0], neg_mut_traj_lengths[1], pos_mut_traj_lengths[2], neg_mut_traj_lengths[2], neg_mut_traj_lengths[3], neg_mut_traj_lengths[4], neg_mut_traj_lengths[5], neg_mut_traj_lengths[6]] "
   ]
  },
  {
   "cell_type": "code",
   "execution_count": 90,
   "metadata": {},
   "outputs": [
    {
     "data": {
      "text/plain": [
       "[80460, 80490, 79890, 80610, 80610, 80670, 80550, 79830, 80580]"
      ]
     },
     "execution_count": 90,
     "metadata": {},
     "output_type": "execute_result"
    }
   ],
   "source": [
    "all_mut_traj_lengths"
   ]
  },
  {
   "cell_type": "code",
   "execution_count": 101,
   "metadata": {},
   "outputs": [],
   "source": [
    "new_conf_lens_percentage = dict()\n",
    "all_runs = [4,5,6,8,9,12,17,21,23]\n",
    "\n",
    "for i,run in enumerate(all_runs):\n",
    "    # * 10 because the chosen frames were 10-strided, * 100 for %\n",
    "    new_conf_lens_percentage[run] = (new_conf_lens[run]/all_mut_traj_lengths[i]) * 1000"
   ]
  },
  {
   "cell_type": "code",
   "execution_count": 102,
   "metadata": {},
   "outputs": [
    {
     "data": {
      "text/plain": [
       "{4: 2.759134973900075,\n",
       " 5: 1.6523791775375822,\n",
       " 6: 1.9401677306296157,\n",
       " 8: 0.8683786130753008,\n",
       " 9: 7.53008311623868,\n",
       " 12: 4.809718606669145,\n",
       " 17: 0.8441961514587213,\n",
       " 21: 4.935487911812602,\n",
       " 23: 0.43435095557210224}"
      ]
     },
     "execution_count": 102,
     "metadata": {},
     "output_type": "execute_result"
    }
   ],
   "source": [
    "new_conf_lens_percentage"
   ]
  },
  {
   "cell_type": "code",
   "execution_count": 103,
   "metadata": {},
   "outputs": [],
   "source": [
    "# great - now I want to see what these populations are if we only consider the frames after 750 ns"
   ]
  },
  {
   "cell_type": "code",
   "execution_count": 105,
   "metadata": {},
   "outputs": [],
   "source": [
    "# we need a list of all mutant trajectory frame indexes that are after 750 ns, and combined lengths\n",
    "# of such trajectories"
   ]
  },
  {
   "cell_type": "code",
   "execution_count": 106,
   "metadata": {},
   "outputs": [],
   "source": [
    "# lengths"
   ]
  },
  {
   "cell_type": "code",
   "execution_count": 121,
   "metadata": {},
   "outputs": [],
   "source": [
    "pos_mut_traj_lengths = []\n",
    "neg_mut_traj_lengths = []\n",
    "\n",
    "for run in np.sort([run for run in pos_new_conf_dict]):\n",
    "    length = 0\n",
    "    for clone in np.arange(0,40):\n",
    "        traj = md.open('/Volumes/DATA/11713/run%d-clone%d.h5' % (run, clone))\n",
    "        if len(traj) > 1500:\n",
    "            length += len(traj) - 1500\n",
    "        \n",
    "    pos_mut_traj_lengths.append(length)\n",
    "    \n",
    "for run in np.sort([run for run in neg_new_conf_dict]):\n",
    "    length = 0\n",
    "    for clone in np.arange(0,40):\n",
    "        traj = md.open('/Volumes/DATA/11713/run%d-clone%d.h5' % (run, clone))\n",
    "        if len(traj) > 1500:\n",
    "            length += len(traj) - 1500\n",
    "        \n",
    "    neg_mut_traj_lengths.append(length)    "
   ]
  },
  {
   "cell_type": "code",
   "execution_count": 122,
   "metadata": {},
   "outputs": [
    {
     "data": {
      "text/plain": [
       "[20460, 20490, 20610, 20610, 20100]"
      ]
     },
     "execution_count": 122,
     "metadata": {},
     "output_type": "execute_result"
    }
   ],
   "source": [
    "pos_mut_traj_lengths"
   ]
  },
  {
   "cell_type": "code",
   "execution_count": 123,
   "metadata": {},
   "outputs": [
    {
     "data": {
      "text/plain": [
       "[20490, 20010, 20610, 20670, 20550, 20100, 20580]"
      ]
     },
     "execution_count": 123,
     "metadata": {},
     "output_type": "execute_result"
    }
   ],
   "source": [
    "neg_mut_traj_lengths"
   ]
  },
  {
   "cell_type": "code",
   "execution_count": 124,
   "metadata": {},
   "outputs": [],
   "source": [
    "all_mut_traj_lengths = [pos_mut_traj_lengths[0], neg_mut_traj_lengths[0], neg_mut_traj_lengths[1], pos_mut_traj_lengths[2], neg_mut_traj_lengths[2], neg_mut_traj_lengths[3], neg_mut_traj_lengths[4], neg_mut_traj_lengths[5], neg_mut_traj_lengths[6]] "
   ]
  },
  {
   "cell_type": "code",
   "execution_count": 153,
   "metadata": {},
   "outputs": [
    {
     "data": {
      "text/plain": [
       "[20460, 20490, 20010, 20610, 20610, 20670, 20550, 20100, 20580]"
      ]
     },
     "execution_count": 153,
     "metadata": {},
     "output_type": "execute_result"
    }
   ],
   "source": [
    "all_mut_traj_lengths"
   ]
  },
  {
   "cell_type": "code",
   "execution_count": null,
   "metadata": {},
   "outputs": [],
   "source": [
    "# indexes"
   ]
  },
  {
   "cell_type": "code",
   "execution_count": 126,
   "metadata": {},
   "outputs": [],
   "source": [
    "pos_mut_traj_lens = []\n",
    "neg_mut_traj_lens = []\n",
    "\n",
    "for run in np.sort([run for run in pos_new_conf_dict]):\n",
    "    lens = []\n",
    "    for clone in np.arange(0,40):\n",
    "        traj = md.open('/Volumes/DATA/11713/run%d-clone%d.h5' % (run, clone))\n",
    "        lens.append(len(traj))\n",
    "        \n",
    "    pos_mut_traj_lens.append(lens)\n",
    "    \n",
    "for run in np.sort([run for run in neg_new_conf_dict]):\n",
    "    lens = []\n",
    "    for clone in np.arange(0,40):\n",
    "        traj = md.open('/Volumes/DATA/11713/run%d-clone%d.h5' % (run, clone))\n",
    "        lens.append(len(traj))\n",
    "        \n",
    "    neg_mut_traj_lens.append(lens)    "
   ]
  },
  {
   "cell_type": "code",
   "execution_count": 142,
   "metadata": {},
   "outputs": [],
   "source": [
    "pos_mut_traj_indexes = []\n",
    "\n",
    "for run in pos_mut_traj_lens:\n",
    "    cumulative_index = 0\n",
    "    pos_mut_traj_indexes.append([])\n",
    "    for traj_len in run:\n",
    "        for i in range(traj_len):\n",
    "            if i >= 1500: \n",
    "                pos_mut_traj_indexes[-1].append(cumulative_index)\n",
    "            cumulative_index += 1    \n",
    "            \n",
    "neg_mut_traj_indexes = []\n",
    "\n",
    "for run in neg_mut_traj_lens:\n",
    "    cumulative_index = 0\n",
    "    neg_mut_traj_indexes.append([])\n",
    "    for traj_len in run:\n",
    "        for i in range(traj_len):\n",
    "            if i >= 1500: \n",
    "                neg_mut_traj_indexes[-1].append(cumulative_index)\n",
    "            cumulative_index += 1  "
   ]
  },
  {
   "cell_type": "code",
   "execution_count": 148,
   "metadata": {},
   "outputs": [],
   "source": [
    "all_mut_traj_indexes = [pos_mut_traj_indexes[0], neg_mut_traj_indexes[0], neg_mut_traj_indexes[1], pos_mut_traj_indexes[2], neg_mut_traj_indexes[2], neg_mut_traj_indexes[3], neg_mut_traj_indexes[4], neg_mut_traj_indexes[5], neg_mut_traj_indexes[6]] "
   ]
  },
  {
   "cell_type": "code",
   "execution_count": 151,
   "metadata": {},
   "outputs": [],
   "source": [
    "new_conf_lens = dict()\n",
    "\n",
    "pos_runs = [4,5,8,9,21]\n",
    "neg_runs = [5,6,9,12,17,21,23]\n",
    "all_runs = [4,5,6,8,9,12,17,21,23]\n",
    "\n",
    "for i, run in enumerate(all_runs):\n",
    "    indexes = []\n",
    "    if run in pos_runs:\n",
    "        indexes.append(pos_new_conf_indexes_3_10strided[np.argwhere(np.array(pos_runs) == run)[0,0]])\n",
    "    if run in neg_runs:\n",
    "        indexes.append(neg_new_conf_indexes_3_10strided[np.argwhere(np.array(neg_runs) == run)[0,0]])\n",
    "        \n",
    "    new_conf_set = set(np.concatenate(np.concatenate(np.array(indexes))))\n",
    "    \n",
    "    new_conf_set_after750ns = []\n",
    "    \n",
    "    for frame in new_conf_set:\n",
    "        if frame in all_mut_traj_indexes[i]:\n",
    "            new_conf_set_after750ns.append(frame)\n",
    "            \n",
    "    new_conf_lens[run] = len(new_conf_set_after750ns)        "
   ]
  },
  {
   "cell_type": "code",
   "execution_count": 152,
   "metadata": {},
   "outputs": [
    {
     "data": {
      "text/plain": [
       "{4: 118, 5: 76, 6: 51, 8: 51, 9: 227, 12: 157, 17: 51, 21: 165, 23: 34}"
      ]
     },
     "execution_count": 152,
     "metadata": {},
     "output_type": "execute_result"
    }
   ],
   "source": [
    "new_conf_lens"
   ]
  },
  {
   "cell_type": "code",
   "execution_count": 1,
   "metadata": {},
   "outputs": [
    {
     "ename": "NameError",
     "evalue": "name 'new_conf_lens' is not defined",
     "output_type": "error",
     "traceback": [
      "\u001b[0;31m---------------------------------------------------------------------------\u001b[0m",
      "\u001b[0;31mNameError\u001b[0m                                 Traceback (most recent call last)",
      "\u001b[0;32m<ipython-input-1-e75811f87d1e>\u001b[0m in \u001b[0;36m<module>\u001b[0;34m()\u001b[0m\n\u001b[1;32m      4\u001b[0m \u001b[0;32mfor\u001b[0m \u001b[0mi\u001b[0m\u001b[0;34m,\u001b[0m\u001b[0mrun\u001b[0m \u001b[0;32min\u001b[0m \u001b[0menumerate\u001b[0m\u001b[0;34m(\u001b[0m\u001b[0mall_runs\u001b[0m\u001b[0;34m)\u001b[0m\u001b[0;34m:\u001b[0m\u001b[0;34m\u001b[0m\u001b[0m\n\u001b[1;32m      5\u001b[0m     \u001b[0;31m# * 10 because the chosen frames were 10-strided, * 100 for %\u001b[0m\u001b[0;34m\u001b[0m\u001b[0;34m\u001b[0m\u001b[0m\n\u001b[0;32m----> 6\u001b[0;31m     \u001b[0mnew_conf_lens_percentage\u001b[0m\u001b[0;34m[\u001b[0m\u001b[0mrun\u001b[0m\u001b[0;34m]\u001b[0m \u001b[0;34m=\u001b[0m \u001b[0;34m(\u001b[0m\u001b[0mnew_conf_lens\u001b[0m\u001b[0;34m[\u001b[0m\u001b[0mrun\u001b[0m\u001b[0;34m]\u001b[0m\u001b[0;34m/\u001b[0m\u001b[0mall_mut_traj_lengths\u001b[0m\u001b[0;34m[\u001b[0m\u001b[0mi\u001b[0m\u001b[0;34m]\u001b[0m\u001b[0;34m)\u001b[0m \u001b[0;34m*\u001b[0m \u001b[0;36m1000\u001b[0m\u001b[0;34m\u001b[0m\u001b[0m\n\u001b[0m",
      "\u001b[0;31mNameError\u001b[0m: name 'new_conf_lens' is not defined"
     ]
    }
   ],
   "source": [
    "new_conf_lens_percentage = dict()\n",
    "all_runs = [4,5,6,8,9,12,17,21,23]\n",
    "\n",
    "for i,run in enumerate(all_runs):\n",
    "    # * 10 because the chosen frames were 10-strided, * 100 for %\n",
    "    new_conf_lens_percentage[run] = (new_conf_lens[run]/all_mut_traj_lengths[i]) * 1000"
   ]
  },
  {
   "cell_type": "code",
   "execution_count": 155,
   "metadata": {},
   "outputs": [
    {
     "data": {
      "text/plain": [
       "{4: 5.767350928641251,\n",
       " 5: 3.709126403123475,\n",
       " 6: 2.548725637181409,\n",
       " 8: 2.4745269286754006,\n",
       " 9: 11.01407083939835,\n",
       " 12: 7.595549104983068,\n",
       " 17: 2.4817518248175183,\n",
       " 21: 8.208955223880597,\n",
       " 23: 1.6520894071914478}"
      ]
     },
     "execution_count": 155,
     "metadata": {},
     "output_type": "execute_result"
    }
   ],
   "source": [
    "new_conf_lens_percentage"
   ]
  },
  {
   "cell_type": "code",
   "execution_count": 239,
   "metadata": {},
   "outputs": [],
   "source": [
    "# now threshold 3.5A"
   ]
  },
  {
   "cell_type": "code",
   "execution_count": 10,
   "metadata": {},
   "outputs": [],
   "source": [
    "threshold = 0.35\n",
    "\n",
    "pos_new_conf_rmsds_under_threshold = []\n",
    "pos_new_conf_rmsds_under_threshold_numbers = []\n",
    "\n",
    "for i,run in enumerate(pos_new_conf_rmsds):\n",
    "    pos_new_conf_rmsds_under_threshold.append([])\n",
    "    for frame in run:\n",
    "        pos_new_conf_rmsds_under_threshold[-1].append(np.concatenate(np.argwhere(frame < threshold)))\n",
    "    \n",
    "    unique_length = len(set(np.concatenate(pos_new_conf_rmsds_under_threshold[-1])))\n",
    "    pos_new_conf_rmsds_under_threshold_numbers.append(100*unique_length/pos_mut_traj_lengths[i])\n",
    "        \n",
    "neg_new_conf_rmsds_under_threshold = []\n",
    "neg_new_conf_rmsds_under_threshold_numbers = []\n",
    "\n",
    "for i,run in enumerate(neg_new_conf_rmsds):\n",
    "    neg_new_conf_rmsds_under_threshold.append([])\n",
    "    for frame in run:\n",
    "        neg_new_conf_rmsds_under_threshold[-1].append(np.concatenate(np.argwhere(frame < threshold)))\n",
    "        \n",
    "    unique_length = len(set(np.concatenate(neg_new_conf_rmsds_under_threshold[-1])))\n",
    "    neg_new_conf_rmsds_under_threshold_numbers.append(100*unique_length/neg_mut_traj_lengths[i])    "
   ]
  },
  {
   "cell_type": "code",
   "execution_count": 11,
   "metadata": {},
   "outputs": [
    {
     "data": {
      "text/plain": [
       "[11.751180710912255,\n",
       " 2.452478568766306,\n",
       " 1.3248976553777447,\n",
       " 7.611958814042922,\n",
       " 3.878241262683202]"
      ]
     },
     "execution_count": 11,
     "metadata": {},
     "output_type": "execute_result"
    }
   ],
   "source": [
    "pos_new_conf_rmsds_under_threshold_numbers"
   ]
  },
  {
   "cell_type": "code",
   "execution_count": 12,
   "metadata": {},
   "outputs": [
    {
     "data": {
      "text/plain": [
       "[10.193812896011927,\n",
       " 2.203029165102015,\n",
       " 1.907951867014018,\n",
       " 12.81889178133135,\n",
       " 1.5878336436995655,\n",
       " 1.6134285356382312,\n",
       " 0.8538098783817324]"
      ]
     },
     "execution_count": 12,
     "metadata": {},
     "output_type": "execute_result"
    }
   ],
   "source": [
    "neg_new_conf_rmsds_under_threshold_numbers"
   ]
  },
  {
   "cell_type": "code",
   "execution_count": 13,
   "metadata": {},
   "outputs": [],
   "source": [
    "# reorganize frame indexes into groups of new conformation sets\n",
    "\n",
    "pos_new_conf_indexes_35 = []\n",
    "neg_new_conf_indexes_35 = []\n",
    "\n",
    "# positive\n",
    "# run 4\n",
    "indexes = pos_new_conf_rmsds_under_threshold[0]\n",
    "run = [set(np.concatenate(indexes[0:10])), set(np.concatenate(indexes[10:36]))]\n",
    "pos_new_conf_indexes_35.append(run)\n",
    "\n",
    "# run 5\n",
    "indexes = pos_new_conf_rmsds_under_threshold[1]\n",
    "run = [set(np.concatenate(indexes))]\n",
    "pos_new_conf_indexes_35.append(run)\n",
    "\n",
    "# run 8\n",
    "indexes = pos_new_conf_rmsds_under_threshold[2]\n",
    "run = [set(np.concatenate(indexes))]\n",
    "pos_new_conf_indexes_35.append(run)\n",
    "\n",
    "# run 9\n",
    "indexes = pos_new_conf_rmsds_under_threshold[3]\n",
    "run = [set(np.concatenate(indexes[0:39])), set(np.concatenate(indexes[39:70])), set(np.concatenate(indexes[70:113])), set(np.concatenate(indexes[113:156]))]\n",
    "pos_new_conf_indexes_35.append(run)\n",
    "\n",
    "# run 21\n",
    "indexes = pos_new_conf_rmsds_under_threshold[4]\n",
    "run = [set(np.concatenate(indexes[0:19])), set(np.concatenate(indexes[19:41]))]\n",
    "pos_new_conf_indexes_35.append(run)\n",
    "\n",
    "# negative\n",
    "# run 5\n",
    "indexes = neg_new_conf_rmsds_under_threshold[0]\n",
    "run = [set(np.concatenate(indexes))]\n",
    "neg_new_conf_indexes_35.append(run)\n",
    "\n",
    "# run 6\n",
    "indexes = neg_new_conf_rmsds_under_threshold[1]\n",
    "run = [set(np.concatenate(indexes))]\n",
    "neg_new_conf_indexes_35.append(run)\n",
    "\n",
    "# run 9\n",
    "indexes = neg_new_conf_rmsds_under_threshold[2]\n",
    "run = [set(np.concatenate(indexes[0:3])), set(np.concatenate(indexes[3:])),]\n",
    "neg_new_conf_indexes_35.append(run)\n",
    "\n",
    "# run 12\n",
    "indexes = neg_new_conf_rmsds_under_threshold[3]\n",
    "run = [set(np.concatenate(indexes[0:51])), set(np.concatenate(indexes[51:73])), set(np.concatenate(indexes[73:112]))]\n",
    "neg_new_conf_indexes_35.append(run)\n",
    "\n",
    "# run 17\n",
    "indexes = neg_new_conf_rmsds_under_threshold[4]\n",
    "run = [set(np.concatenate(indexes))]\n",
    "neg_new_conf_indexes_35.append(run)\n",
    "\n",
    "# run 21\n",
    "indexes = neg_new_conf_rmsds_under_threshold[5]\n",
    "run = [set(np.concatenate(indexes[0:1])), set(np.concatenate(indexes[1:2])), set(np.concatenate(indexes[2:4])), set(np.concatenate(indexes[4:7]))]\n",
    "neg_new_conf_indexes_35.append(run)\n",
    "\n",
    "# run 23\n",
    "indexes = neg_new_conf_rmsds_under_threshold[6]\n",
    "run = [set(np.concatenate(indexes))]\n",
    "neg_new_conf_indexes_35.append(run)\n",
    "\n",
    "pos_runs = [4,5,8,9,21]\n",
    "\n",
    "for i, run_ in enumerate(pos_new_conf_indexes_35):\n",
    "    run = pos_runs[i]\n",
    "    \n",
    "    all_mut_traj = md.load('/Volumes/DATA/11713/run%d-clone0.h5' % run)\n",
    "    for clone in np.arange(1,40):\n",
    "        traj = md.load('/Volumes/DATA/11713/run%d-clone%d.h5' % (run, clone))\n",
    "        all_mut_traj = md.join([all_mut_traj, traj])\n",
    "    \n",
    "    for j, group in enumerate(run_):\n",
    "        group = list(group)[::10]\n",
    "        traj = all_mut_traj[group]\n",
    "        traj.save('/Volumes/DATA/11713_pos_newconf_frames_within_35A/run%d-%d.pdb' % (run, j))\n",
    "        \n",
    "neg_runs = [5,6,9,12,17,21,23]\n",
    "\n",
    "for i, run_ in enumerate(neg_new_conf_indexes_35):\n",
    "    run = neg_runs[i]\n",
    "    \n",
    "    all_mut_traj = md.load('/Volumes/DATA/11713/run%d-clone0.h5' % run)\n",
    "    for clone in np.arange(1,40):\n",
    "        traj = md.load('/Volumes/DATA/11713/run%d-clone%d.h5' % (run, clone))\n",
    "        all_mut_traj = md.join([all_mut_traj, traj])\n",
    "    \n",
    "    for j, group in enumerate(run_):\n",
    "        group = list(group)[::10]\n",
    "        traj = all_mut_traj[group]\n",
    "        traj.save('/Volumes/DATA/11713_neg_newconf_frames_within_35A/run%d-%d.pdb' % (run, j))        "
   ]
  },
  {
   "cell_type": "code",
   "execution_count": 14,
   "metadata": {},
   "outputs": [],
   "source": [
    "# threshold 4A"
   ]
  },
  {
   "cell_type": "code",
   "execution_count": 15,
   "metadata": {},
   "outputs": [],
   "source": [
    "threshold = 0.4\n",
    "\n",
    "pos_new_conf_rmsds_under_threshold = []\n",
    "pos_new_conf_rmsds_under_threshold_numbers = []\n",
    "\n",
    "for i,run in enumerate(pos_new_conf_rmsds):\n",
    "    pos_new_conf_rmsds_under_threshold.append([])\n",
    "    for frame in run:\n",
    "        pos_new_conf_rmsds_under_threshold[-1].append(np.concatenate(np.argwhere(frame < threshold)))\n",
    "    \n",
    "    unique_length = len(set(np.concatenate(pos_new_conf_rmsds_under_threshold[-1])))\n",
    "    pos_new_conf_rmsds_under_threshold_numbers.append(100*unique_length/pos_mut_traj_lengths[i])\n",
    "        \n",
    "neg_new_conf_rmsds_under_threshold = []\n",
    "neg_new_conf_rmsds_under_threshold_numbers = []\n",
    "\n",
    "for i,run in enumerate(neg_new_conf_rmsds):\n",
    "    neg_new_conf_rmsds_under_threshold.append([])\n",
    "    for frame in run:\n",
    "        neg_new_conf_rmsds_under_threshold[-1].append(np.concatenate(np.argwhere(frame < threshold)))\n",
    "        \n",
    "    unique_length = len(set(np.concatenate(neg_new_conf_rmsds_under_threshold[-1])))\n",
    "    neg_new_conf_rmsds_under_threshold_numbers.append(100*unique_length/neg_mut_traj_lengths[i])    "
   ]
  },
  {
   "cell_type": "code",
   "execution_count": 16,
   "metadata": {},
   "outputs": [
    {
     "data": {
      "text/plain": [
       "[30.345513298533433,\n",
       " 11.581562927071685,\n",
       " 4.81329859818881,\n",
       " 13.789852375635776,\n",
       " 12.381310284354253]"
      ]
     },
     "execution_count": 16,
     "metadata": {},
     "output_type": "execute_result"
    }
   ],
   "source": [
    "pos_new_conf_rmsds_under_threshold_numbers"
   ]
  },
  {
   "cell_type": "code",
   "execution_count": 17,
   "metadata": {},
   "outputs": [
    {
     "data": {
      "text/plain": [
       "[23.579326624425395,\n",
       " 2.229315308549255,\n",
       " 2.585287185212753,\n",
       " 32.2449485558448,\n",
       " 7.087523277467412,\n",
       " 5.330076412376299,\n",
       " 6.456937205261852]"
      ]
     },
     "execution_count": 17,
     "metadata": {},
     "output_type": "execute_result"
    }
   ],
   "source": [
    "neg_new_conf_rmsds_under_threshold_numbers"
   ]
  },
  {
   "cell_type": "code",
   "execution_count": 18,
   "metadata": {},
   "outputs": [],
   "source": [
    "# reorganize frame indexes into groups of new conformation sets\n",
    "\n",
    "pos_new_conf_indexes_4 = []\n",
    "neg_new_conf_indexes_4 = []\n",
    "\n",
    "# positive\n",
    "# run 4\n",
    "indexes = pos_new_conf_rmsds_under_threshold[0]\n",
    "run = [set(np.concatenate(indexes[0:10])), set(np.concatenate(indexes[10:36]))]\n",
    "pos_new_conf_indexes_4.append(run)\n",
    "\n",
    "# run 5\n",
    "indexes = pos_new_conf_rmsds_under_threshold[1]\n",
    "run = [set(np.concatenate(indexes))]\n",
    "pos_new_conf_indexes_4.append(run)\n",
    "\n",
    "# run 8\n",
    "indexes = pos_new_conf_rmsds_under_threshold[2]\n",
    "run = [set(np.concatenate(indexes))]\n",
    "pos_new_conf_indexes_4.append(run)\n",
    "\n",
    "# run 9\n",
    "indexes = pos_new_conf_rmsds_under_threshold[3]\n",
    "run = [set(np.concatenate(indexes[0:39])), set(np.concatenate(indexes[39:70])), set(np.concatenate(indexes[70:113])), set(np.concatenate(indexes[113:156]))]\n",
    "pos_new_conf_indexes_4.append(run)\n",
    "\n",
    "# run 21\n",
    "indexes = pos_new_conf_rmsds_under_threshold[4]\n",
    "run = [set(np.concatenate(indexes[0:19])), set(np.concatenate(indexes[19:41]))]\n",
    "pos_new_conf_indexes_4.append(run)\n",
    "\n",
    "# negative\n",
    "# run 5\n",
    "indexes = neg_new_conf_rmsds_under_threshold[0]\n",
    "run = [set(np.concatenate(indexes))]\n",
    "neg_new_conf_indexes_4.append(run)\n",
    "\n",
    "# run 6\n",
    "indexes = neg_new_conf_rmsds_under_threshold[1]\n",
    "run = [set(np.concatenate(indexes))]\n",
    "neg_new_conf_indexes_4.append(run)\n",
    "\n",
    "# run 9\n",
    "indexes = neg_new_conf_rmsds_under_threshold[2]\n",
    "run = [set(np.concatenate(indexes[0:3])), set(np.concatenate(indexes[3:])),]\n",
    "neg_new_conf_indexes_4.append(run)\n",
    "\n",
    "# run 12\n",
    "indexes = neg_new_conf_rmsds_under_threshold[3]\n",
    "run = [set(np.concatenate(indexes[0:51])), set(np.concatenate(indexes[51:73])), set(np.concatenate(indexes[73:112]))]\n",
    "neg_new_conf_indexes_4.append(run)\n",
    "\n",
    "# run 17\n",
    "indexes = neg_new_conf_rmsds_under_threshold[4]\n",
    "run = [set(np.concatenate(indexes))]\n",
    "neg_new_conf_indexes_4.append(run)\n",
    "\n",
    "# run 21\n",
    "indexes = neg_new_conf_rmsds_under_threshold[5]\n",
    "run = [set(np.concatenate(indexes[0:1])), set(np.concatenate(indexes[1:2])), set(np.concatenate(indexes[2:4])), set(np.concatenate(indexes[4:7]))]\n",
    "neg_new_conf_indexes_4.append(run)\n",
    "\n",
    "# run 23\n",
    "indexes = neg_new_conf_rmsds_under_threshold[6]\n",
    "run = [set(np.concatenate(indexes))]\n",
    "neg_new_conf_indexes_4.append(run)\n",
    "\n",
    "pos_runs = [4,5,8,9,21]\n",
    "\n",
    "for i, run_ in enumerate(pos_new_conf_indexes_4):\n",
    "    run = pos_runs[i]\n",
    "    \n",
    "    all_mut_traj = md.load('/Volumes/DATA/11713/run%d-clone0.h5' % run)\n",
    "    for clone in np.arange(1,40):\n",
    "        traj = md.load('/Volumes/DATA/11713/run%d-clone%d.h5' % (run, clone))\n",
    "        all_mut_traj = md.join([all_mut_traj, traj])\n",
    "    \n",
    "    for j, group in enumerate(run_):\n",
    "        group = list(group)[::10]\n",
    "        traj = all_mut_traj[group]\n",
    "        traj.save('/Volumes/DATA/11713_pos_newconf_frames_within_4A/run%d-%d.pdb' % (run, j))\n",
    "        \n",
    "neg_runs = [5,6,9,12,17,21,23]\n",
    "\n",
    "for i, run_ in enumerate(neg_new_conf_indexes_4):\n",
    "    run = neg_runs[i]\n",
    "    \n",
    "    all_mut_traj = md.load('/Volumes/DATA/11713/run%d-clone0.h5' % run)\n",
    "    for clone in np.arange(1,40):\n",
    "        traj = md.load('/Volumes/DATA/11713/run%d-clone%d.h5' % (run, clone))\n",
    "        all_mut_traj = md.join([all_mut_traj, traj])\n",
    "    \n",
    "    for j, group in enumerate(run_):\n",
    "        group = list(group)[::10]\n",
    "        traj = all_mut_traj[group]\n",
    "        traj.save('/Volumes/DATA/11713_neg_newconf_frames_within_4A/run%d-%d.pdb' % (run, j))        "
   ]
  },
  {
   "cell_type": "code",
   "execution_count": null,
   "metadata": {},
   "outputs": [],
   "source": []
  }
 ],
 "metadata": {
  "anaconda-cloud": {},
  "kernelspec": {
   "display_name": "Python 3",
   "language": "python",
   "name": "python3"
  },
  "language_info": {
   "codemirror_mode": {
    "name": "ipython",
    "version": 3
   },
   "file_extension": ".py",
   "mimetype": "text/x-python",
   "name": "python",
   "nbconvert_exporter": "python",
   "pygments_lexer": "ipython3",
   "version": "3.6.4"
  }
 },
 "nbformat": 4,
 "nbformat_minor": 1
}
