{
 "cells": [
  {
   "cell_type": "code",
   "execution_count": 2,
   "metadata": {},
   "outputs": [],
   "source": [
    "# prepare indexes for frame extraction for paper figure (subtract 232 from them for 0-index)"
   ]
  },
  {
   "cell_type": "code",
   "execution_count": 8,
   "metadata": {},
   "outputs": [],
   "source": [
    "contacts_dict = {\n",
    "3: [(287,325), (287,326), (287,358), (287,359)],\n",
    "21: [(287,290), (287,325), (287,326), (287,358), (287,359), (390,339)],\n",
    "14: [(287,290),(287,325),(287,326),(287,332),(287,358),(287,359),(255,251),(255,284),(255,285),(332,329),(333,286),(333,327),(333,329),(334,286)],\n",
    "15: [(332,269)],\n",
    "8: [(308,303),(308,311),(308,328),(390,267),(390,339),(307,388),(310,313),(338,377)],\n",
    "5: [(366,233),(390,267),(390,339)],\n",
    "6: [(366,233)],\n",
    "17: [(338,377),(390,339)],\n",
    "13: [(240,351),(247,236),(280,235),(280,237),(300,381),(304,383),(311,391)],\n",
    "10: [(384,314),(389,312),(392,306),(392,309)],\n",
    "22: [(378,348),(378,314)],\n",
    "18: [(356,351)],\n",
    "12: [(312,303),(314,326),(314,327),(314,390),(321,290),(321,291),(325,287),(322,290),(322,291),(322,296),(322,315),\n",
    "     (322,325),(323,289),(323,326),(323,357),(323,356),(315,325),(315,299),(328,299),(293,317),(293,320)],\n",
    "}"
   ]
  },
  {
   "cell_type": "code",
   "execution_count": 9,
   "metadata": {},
   "outputs": [],
   "source": [
    "# ok now subtract 232 from all, additionally for the deletion any indexes above 324 before subtraction, 92 after\n",
    "# need 1 subtracted from them"
   ]
  },
  {
   "cell_type": "code",
   "execution_count": 10,
   "metadata": {},
   "outputs": [],
   "source": [
    "contacts_dict_subtract = dict()\n",
    "\n",
    "for mutant in contacts_dict:\n",
    "    items = []\n",
    "    if mutant == 12:\n",
    "        for pair in contacts_dict[mutant]:\n",
    "            new_pair = []\n",
    "            for indiv in pair:\n",
    "                if indiv > 324:\n",
    "                    new_pair.append(indiv - 233)\n",
    "                else:\n",
    "                    new_pair.append(indiv - 232)\n",
    "            items.append(tuple(new_pair))  \n",
    "    else:\n",
    "        for pair in contacts_dict[mutant]:\n",
    "            items.append((pair[0]-232, pair[1]-232))\n",
    "    contacts_dict_subtract[mutant] = items"
   ]
  },
  {
   "cell_type": "code",
   "execution_count": 11,
   "metadata": {},
   "outputs": [
    {
     "data": {
      "text/plain": [
       "{3: [(55, 93), (55, 94), (55, 126), (55, 127)],\n",
       " 5: [(134, 1), (158, 35), (158, 107)],\n",
       " 6: [(134, 1)],\n",
       " 8: [(76, 71),\n",
       "  (76, 79),\n",
       "  (76, 96),\n",
       "  (158, 35),\n",
       "  (158, 107),\n",
       "  (75, 156),\n",
       "  (78, 81),\n",
       "  (106, 145)],\n",
       " 10: [(152, 82), (157, 80), (160, 74), (160, 77)],\n",
       " 12: [(80, 71),\n",
       "  (82, 93),\n",
       "  (82, 94),\n",
       "  (82, 157),\n",
       "  (89, 58),\n",
       "  (89, 59),\n",
       "  (92, 55),\n",
       "  (90, 58),\n",
       "  (90, 59),\n",
       "  (90, 64),\n",
       "  (90, 83),\n",
       "  (90, 92),\n",
       "  (91, 57),\n",
       "  (91, 93),\n",
       "  (91, 124),\n",
       "  (91, 123),\n",
       "  (83, 92),\n",
       "  (83, 67),\n",
       "  (95, 67),\n",
       "  (61, 85),\n",
       "  (61, 88)],\n",
       " 13: [(8, 119), (15, 4), (48, 3), (48, 5), (68, 149), (72, 151), (79, 159)],\n",
       " 14: [(55, 58),\n",
       "  (55, 93),\n",
       "  (55, 94),\n",
       "  (55, 100),\n",
       "  (55, 126),\n",
       "  (55, 127),\n",
       "  (23, 19),\n",
       "  (23, 52),\n",
       "  (23, 53),\n",
       "  (100, 97),\n",
       "  (101, 54),\n",
       "  (101, 95),\n",
       "  (101, 97),\n",
       "  (102, 54)],\n",
       " 15: [(100, 37)],\n",
       " 17: [(106, 145), (158, 107)],\n",
       " 18: [(124, 119)],\n",
       " 21: [(55, 58), (55, 93), (55, 94), (55, 126), (55, 127), (158, 107)],\n",
       " 22: [(146, 116), (146, 82)]}"
      ]
     },
     "execution_count": 11,
     "metadata": {},
     "output_type": "execute_result"
    }
   ],
   "source": [
    "contacts_dict_subtract"
   ]
  },
  {
   "cell_type": "code",
   "execution_count": null,
   "metadata": {},
   "outputs": [],
   "source": [
    "# got extracted frame indexes from lilac"
   ]
  },
  {
   "cell_type": "code",
   "execution_count": 3,
   "metadata": {},
   "outputs": [],
   "source": [
    "import numpy as np"
   ]
  },
  {
   "cell_type": "code",
   "execution_count": 4,
   "metadata": {},
   "outputs": [],
   "source": [
    "frames = np.load('extract_frames_max_relative_paper.npy')"
   ]
  },
  {
   "cell_type": "code",
   "execution_count": 5,
   "metadata": {},
   "outputs": [
    {
     "data": {
      "text/plain": [
       "(13,)"
      ]
     },
     "execution_count": 5,
     "metadata": {},
     "output_type": "execute_result"
    }
   ],
   "source": [
    "frames.shape"
   ]
  },
  {
   "cell_type": "code",
   "execution_count": 22,
   "metadata": {},
   "outputs": [
    {
     "name": "stdout",
     "output_type": "stream",
     "text": [
      "10378\n",
      "843\n",
      "4292\n",
      "0\n",
      "1646\n",
      "0\n",
      "338\n",
      "0\n",
      "4736\n",
      "3698\n",
      "5619\n",
      "1144\n",
      "4747\n"
     ]
    }
   ],
   "source": [
    "for x in frames:\n",
    "    print(len(x))"
   ]
  },
  {
   "cell_type": "code",
   "execution_count": 23,
   "metadata": {},
   "outputs": [],
   "source": [
    "# alright - for those with any frames we want to do rmsd regspace clustering"
   ]
  },
  {
   "cell_type": "code",
   "execution_count": 24,
   "metadata": {},
   "outputs": [],
   "source": [
    "# for those that didn't return any frames (8,12,14 == T309M, C324del, R333C) - cut down to top5 contacts (for deletion all infinities)"
   ]
  },
  {
   "cell_type": "code",
   "execution_count": 25,
   "metadata": {},
   "outputs": [],
   "source": [
    "contacts_dict = {\n",
    "3: [(287,325), (287,326), (287,358), (287,359)],\n",
    "21: [(287,290), (287,325), (287,326), (287,358), (287,359), (390,339)],\n",
    "14: [(287,290),(287,332),(332,329),(333,286),(334,286)],\n",
    "15: [(332,269)],\n",
    "8: [(308,303),(308,311),(308,328),(307,388),(338,377)],\n",
    "5: [(366,233),(390,267),(390,339)],\n",
    "6: [(366,233)],\n",
    "17: [(338,377),(390,339)],\n",
    "13: [(240,351),(247,236),(280,235),(280,237),(300,381),(304,383),(311,391)],\n",
    "10: [(384,314),(389,312),(392,306),(392,309)],\n",
    "22: [(378,348),(378,314)],\n",
    "18: [(356,351)],\n",
    "12: [(314,326),(321,290),(321,291),(322,290),\n",
    "     (322,325),(323,289),(323,326),(315,325),(293,317),(293,320)]\n",
    "}"
   ]
  },
  {
   "cell_type": "code",
   "execution_count": 26,
   "metadata": {},
   "outputs": [],
   "source": [
    "contacts_dict_subtract = dict()\n",
    "\n",
    "for mutant in contacts_dict:\n",
    "    items = []\n",
    "    if mutant == 12:\n",
    "        for pair in contacts_dict[mutant]:\n",
    "            new_pair = []\n",
    "            for indiv in pair:\n",
    "                if indiv > 324:\n",
    "                    new_pair.append(indiv - 233)\n",
    "                else:\n",
    "                    new_pair.append(indiv - 232)\n",
    "            items.append(tuple(new_pair))  \n",
    "    else:\n",
    "        for pair in contacts_dict[mutant]:\n",
    "            items.append((pair[0]-232, pair[1]-232))\n",
    "    contacts_dict_subtract[mutant] = items"
   ]
  },
  {
   "cell_type": "code",
   "execution_count": 27,
   "metadata": {},
   "outputs": [
    {
     "data": {
      "text/plain": [
       "{3: [(55, 93), (55, 94), (55, 126), (55, 127)],\n",
       " 5: [(134, 1), (158, 35), (158, 107)],\n",
       " 6: [(134, 1)],\n",
       " 8: [(76, 71), (76, 79), (76, 96), (75, 156), (106, 145)],\n",
       " 10: [(152, 82), (157, 80), (160, 74), (160, 77)],\n",
       " 12: [(82, 93),\n",
       "  (89, 58),\n",
       "  (89, 59),\n",
       "  (90, 58),\n",
       "  (90, 92),\n",
       "  (91, 57),\n",
       "  (91, 93),\n",
       "  (83, 92),\n",
       "  (61, 85),\n",
       "  (61, 88)],\n",
       " 13: [(8, 119), (15, 4), (48, 3), (48, 5), (68, 149), (72, 151), (79, 159)],\n",
       " 14: [(55, 58), (55, 100), (100, 97), (101, 54), (102, 54)],\n",
       " 15: [(100, 37)],\n",
       " 17: [(106, 145), (158, 107)],\n",
       " 18: [(124, 119)],\n",
       " 21: [(55, 58), (55, 93), (55, 94), (55, 126), (55, 127), (158, 107)],\n",
       " 22: [(146, 116), (146, 82)]}"
      ]
     },
     "execution_count": 27,
     "metadata": {},
     "output_type": "execute_result"
    }
   ],
   "source": [
    "contacts_dict_subtract"
   ]
  },
  {
   "cell_type": "code",
   "execution_count": 28,
   "metadata": {},
   "outputs": [],
   "source": [
    "frames = np.load('extract_frames_max_relative_paper_fixnoframes.npy')"
   ]
  },
  {
   "cell_type": "code",
   "execution_count": 29,
   "metadata": {},
   "outputs": [
    {
     "name": "stdout",
     "output_type": "stream",
     "text": [
      "10378\n",
      "843\n",
      "4292\n",
      "0\n",
      "1646\n",
      "98\n",
      "338\n",
      "288\n",
      "4736\n",
      "3698\n",
      "5619\n",
      "1144\n",
      "4747\n"
     ]
    }
   ],
   "source": [
    "for x in frames:\n",
    "    print(len(x))"
   ]
  },
  {
   "cell_type": "code",
   "execution_count": null,
   "metadata": {},
   "outputs": [],
   "source": [
    "# still nothing for T309M - get it down to top4"
   ]
  },
  {
   "cell_type": "code",
   "execution_count": 31,
   "metadata": {},
   "outputs": [],
   "source": [
    "contacts_dict = {\n",
    "3: [(287,325), (287,326), (287,358), (287,359)],\n",
    "21: [(287,290), (287,325), (287,326), (287,358), (287,359), (390,339)],\n",
    "14: [(287,290),(287,332),(332,329),(333,286),(334,286)],\n",
    "15: [(332,269)],\n",
    "8: [(308,303),(308,328),(307,388),(338,377)],\n",
    "5: [(366,233),(390,267),(390,339)],\n",
    "6: [(366,233)],\n",
    "17: [(338,377),(390,339)],\n",
    "13: [(240,351),(247,236),(280,235),(280,237),(300,381),(304,383),(311,391)],\n",
    "10: [(384,314),(389,312),(392,306),(392,309)],\n",
    "22: [(378,348),(378,314)],\n",
    "18: [(356,351)],\n",
    "12: [(314,326),(321,290),(321,291),(322,290),\n",
    "     (322,325),(323,289),(323,326),(315,325),(293,317),(293,320)]\n",
    "}"
   ]
  },
  {
   "cell_type": "code",
   "execution_count": 32,
   "metadata": {},
   "outputs": [],
   "source": [
    "contacts_dict_subtract = dict()\n",
    "\n",
    "for mutant in contacts_dict:\n",
    "    items = []\n",
    "    if mutant == 12:\n",
    "        for pair in contacts_dict[mutant]:\n",
    "            new_pair = []\n",
    "            for indiv in pair:\n",
    "                if indiv > 324:\n",
    "                    new_pair.append(indiv - 233)\n",
    "                else:\n",
    "                    new_pair.append(indiv - 232)\n",
    "            items.append(tuple(new_pair))  \n",
    "    else:\n",
    "        for pair in contacts_dict[mutant]:\n",
    "            items.append((pair[0]-232, pair[1]-232))\n",
    "    contacts_dict_subtract[mutant] = items"
   ]
  },
  {
   "cell_type": "code",
   "execution_count": 33,
   "metadata": {},
   "outputs": [
    {
     "data": {
      "text/plain": [
       "{3: [(55, 93), (55, 94), (55, 126), (55, 127)],\n",
       " 5: [(134, 1), (158, 35), (158, 107)],\n",
       " 6: [(134, 1)],\n",
       " 8: [(76, 71), (76, 96), (75, 156), (106, 145)],\n",
       " 10: [(152, 82), (157, 80), (160, 74), (160, 77)],\n",
       " 12: [(82, 93),\n",
       "  (89, 58),\n",
       "  (89, 59),\n",
       "  (90, 58),\n",
       "  (90, 92),\n",
       "  (91, 57),\n",
       "  (91, 93),\n",
       "  (83, 92),\n",
       "  (61, 85),\n",
       "  (61, 88)],\n",
       " 13: [(8, 119), (15, 4), (48, 3), (48, 5), (68, 149), (72, 151), (79, 159)],\n",
       " 14: [(55, 58), (55, 100), (100, 97), (101, 54), (102, 54)],\n",
       " 15: [(100, 37)],\n",
       " 17: [(106, 145), (158, 107)],\n",
       " 18: [(124, 119)],\n",
       " 21: [(55, 58), (55, 93), (55, 94), (55, 126), (55, 127), (158, 107)],\n",
       " 22: [(146, 116), (146, 82)]}"
      ]
     },
     "execution_count": 33,
     "metadata": {},
     "output_type": "execute_result"
    }
   ],
   "source": [
    "contacts_dict_subtract"
   ]
  },
  {
   "cell_type": "code",
   "execution_count": 34,
   "metadata": {},
   "outputs": [],
   "source": [
    "frames = np.load('extract_frames_max_relative_paper_fixnoframes.npy')"
   ]
  },
  {
   "cell_type": "code",
   "execution_count": 35,
   "metadata": {},
   "outputs": [
    {
     "name": "stdout",
     "output_type": "stream",
     "text": [
      "10378\n",
      "843\n",
      "4292\n",
      "0\n",
      "1646\n",
      "98\n",
      "338\n",
      "288\n",
      "4736\n",
      "3698\n",
      "5619\n",
      "1144\n",
      "4747\n"
     ]
    }
   ],
   "source": [
    "for x in frames:\n",
    "    print(len(x))"
   ]
  },
  {
   "cell_type": "code",
   "execution_count": 36,
   "metadata": {},
   "outputs": [],
   "source": [
    "# nothing for top4 either - try top3"
   ]
  },
  {
   "cell_type": "code",
   "execution_count": 37,
   "metadata": {},
   "outputs": [],
   "source": [
    "contacts_dict = {\n",
    "3: [(287,325), (287,326), (287,358), (287,359)],\n",
    "21: [(287,290), (287,325), (287,326), (287,358), (287,359), (390,339)],\n",
    "14: [(287,290),(287,332),(332,329),(333,286),(334,286)],\n",
    "15: [(332,269)],\n",
    "8: [(308,303),(308,328),(338,377)],\n",
    "5: [(366,233),(390,267),(390,339)],\n",
    "6: [(366,233)],\n",
    "17: [(338,377),(390,339)],\n",
    "13: [(240,351),(247,236),(280,235),(280,237),(300,381),(304,383),(311,391)],\n",
    "10: [(384,314),(389,312),(392,306),(392,309)],\n",
    "22: [(378,348),(378,314)],\n",
    "18: [(356,351)],\n",
    "12: [(314,326),(321,290),(321,291),(322,290),\n",
    "     (322,325),(323,289),(323,326),(315,325),(293,317),(293,320)]\n",
    "}"
   ]
  },
  {
   "cell_type": "code",
   "execution_count": 38,
   "metadata": {},
   "outputs": [],
   "source": [
    "contacts_dict_subtract = dict()\n",
    "\n",
    "for mutant in contacts_dict:\n",
    "    items = []\n",
    "    if mutant == 12:\n",
    "        for pair in contacts_dict[mutant]:\n",
    "            new_pair = []\n",
    "            for indiv in pair:\n",
    "                if indiv > 324:\n",
    "                    new_pair.append(indiv - 233)\n",
    "                else:\n",
    "                    new_pair.append(indiv - 232)\n",
    "            items.append(tuple(new_pair))  \n",
    "    else:\n",
    "        for pair in contacts_dict[mutant]:\n",
    "            items.append((pair[0]-232, pair[1]-232))\n",
    "    contacts_dict_subtract[mutant] = items"
   ]
  },
  {
   "cell_type": "code",
   "execution_count": 39,
   "metadata": {},
   "outputs": [
    {
     "data": {
      "text/plain": [
       "{3: [(55, 93), (55, 94), (55, 126), (55, 127)],\n",
       " 5: [(134, 1), (158, 35), (158, 107)],\n",
       " 6: [(134, 1)],\n",
       " 8: [(76, 71), (76, 96), (106, 145)],\n",
       " 10: [(152, 82), (157, 80), (160, 74), (160, 77)],\n",
       " 12: [(82, 93),\n",
       "  (89, 58),\n",
       "  (89, 59),\n",
       "  (90, 58),\n",
       "  (90, 92),\n",
       "  (91, 57),\n",
       "  (91, 93),\n",
       "  (83, 92),\n",
       "  (61, 85),\n",
       "  (61, 88)],\n",
       " 13: [(8, 119), (15, 4), (48, 3), (48, 5), (68, 149), (72, 151), (79, 159)],\n",
       " 14: [(55, 58), (55, 100), (100, 97), (101, 54), (102, 54)],\n",
       " 15: [(100, 37)],\n",
       " 17: [(106, 145), (158, 107)],\n",
       " 18: [(124, 119)],\n",
       " 21: [(55, 58), (55, 93), (55, 94), (55, 126), (55, 127), (158, 107)],\n",
       " 22: [(146, 116), (146, 82)]}"
      ]
     },
     "execution_count": 39,
     "metadata": {},
     "output_type": "execute_result"
    }
   ],
   "source": [
    "contacts_dict_subtract"
   ]
  },
  {
   "cell_type": "code",
   "execution_count": 40,
   "metadata": {},
   "outputs": [],
   "source": [
    "frames = np.load('extract_frames_max_relative_paper_fixnoframes.npy')"
   ]
  },
  {
   "cell_type": "code",
   "execution_count": 41,
   "metadata": {},
   "outputs": [
    {
     "name": "stdout",
     "output_type": "stream",
     "text": [
      "10378\n",
      "843\n",
      "4292\n",
      "0\n",
      "1646\n",
      "98\n",
      "338\n",
      "288\n",
      "4736\n",
      "3698\n",
      "5619\n",
      "1144\n",
      "4747\n"
     ]
    }
   ],
   "source": [
    "for x in frames:\n",
    "    print(len(x))"
   ]
  },
  {
   "cell_type": "code",
   "execution_count": 42,
   "metadata": {},
   "outputs": [],
   "source": [
    "# down to top2"
   ]
  },
  {
   "cell_type": "code",
   "execution_count": 44,
   "metadata": {},
   "outputs": [],
   "source": [
    "contacts_dict = {\n",
    "3: [(287,325), (287,326), (287,358), (287,359)],\n",
    "21: [(287,290), (287,325), (287,326), (287,358), (287,359), (390,339)],\n",
    "14: [(287,290),(287,332),(332,329),(333,286),(334,286)],\n",
    "15: [(332,269)],\n",
    "8: [(308,328),(338,377)],\n",
    "5: [(366,233),(390,267),(390,339)],\n",
    "6: [(366,233)],\n",
    "17: [(338,377),(390,339)],\n",
    "13: [(240,351),(247,236),(280,235),(280,237),(300,381),(304,383),(311,391)],\n",
    "10: [(384,314),(389,312),(392,306),(392,309)],\n",
    "22: [(378,348),(378,314)],\n",
    "18: [(356,351)],\n",
    "12: [(314,326),(321,290),(321,291),(322,290),\n",
    "     (322,325),(323,289),(323,326),(315,325),(293,317),(293,320)]\n",
    "}"
   ]
  },
  {
   "cell_type": "code",
   "execution_count": 45,
   "metadata": {},
   "outputs": [],
   "source": [
    "contacts_dict_subtract = dict()\n",
    "\n",
    "for mutant in contacts_dict:\n",
    "    items = []\n",
    "    if mutant == 12:\n",
    "        for pair in contacts_dict[mutant]:\n",
    "            new_pair = []\n",
    "            for indiv in pair:\n",
    "                if indiv > 324:\n",
    "                    new_pair.append(indiv - 233)\n",
    "                else:\n",
    "                    new_pair.append(indiv - 232)\n",
    "            items.append(tuple(new_pair))  \n",
    "    else:\n",
    "        for pair in contacts_dict[mutant]:\n",
    "            items.append((pair[0]-232, pair[1]-232))\n",
    "    contacts_dict_subtract[mutant] = items"
   ]
  },
  {
   "cell_type": "code",
   "execution_count": 46,
   "metadata": {},
   "outputs": [
    {
     "data": {
      "text/plain": [
       "{3: [(55, 93), (55, 94), (55, 126), (55, 127)],\n",
       " 5: [(134, 1), (158, 35), (158, 107)],\n",
       " 6: [(134, 1)],\n",
       " 8: [(76, 96), (106, 145)],\n",
       " 10: [(152, 82), (157, 80), (160, 74), (160, 77)],\n",
       " 12: [(82, 93),\n",
       "  (89, 58),\n",
       "  (89, 59),\n",
       "  (90, 58),\n",
       "  (90, 92),\n",
       "  (91, 57),\n",
       "  (91, 93),\n",
       "  (83, 92),\n",
       "  (61, 85),\n",
       "  (61, 88)],\n",
       " 13: [(8, 119), (15, 4), (48, 3), (48, 5), (68, 149), (72, 151), (79, 159)],\n",
       " 14: [(55, 58), (55, 100), (100, 97), (101, 54), (102, 54)],\n",
       " 15: [(100, 37)],\n",
       " 17: [(106, 145), (158, 107)],\n",
       " 18: [(124, 119)],\n",
       " 21: [(55, 58), (55, 93), (55, 94), (55, 126), (55, 127), (158, 107)],\n",
       " 22: [(146, 116), (146, 82)]}"
      ]
     },
     "execution_count": 46,
     "metadata": {},
     "output_type": "execute_result"
    }
   ],
   "source": [
    "contacts_dict_subtract"
   ]
  },
  {
   "cell_type": "code",
   "execution_count": 47,
   "metadata": {},
   "outputs": [],
   "source": [
    "frames = np.load('extract_frames_max_relative_paper_fixnoframes.npy')"
   ]
  },
  {
   "cell_type": "code",
   "execution_count": 48,
   "metadata": {},
   "outputs": [
    {
     "name": "stdout",
     "output_type": "stream",
     "text": [
      "10378\n",
      "843\n",
      "4292\n",
      "0\n",
      "1646\n",
      "98\n",
      "338\n",
      "288\n",
      "4736\n",
      "3698\n",
      "5619\n",
      "1144\n",
      "4747\n"
     ]
    }
   ],
   "source": [
    "for x in frames:\n",
    "    print(len(x))"
   ]
  },
  {
   "cell_type": "code",
   "execution_count": 49,
   "metadata": {},
   "outputs": [],
   "source": [
    "# ok so just the top1 it is..."
   ]
  },
  {
   "cell_type": "code",
   "execution_count": 50,
   "metadata": {},
   "outputs": [],
   "source": [
    "contacts_dict = {\n",
    "3: [(287,325), (287,326), (287,358), (287,359)],\n",
    "21: [(287,290), (287,325), (287,326), (287,358), (287,359), (390,339)],\n",
    "14: [(287,290),(287,332),(332,329),(333,286),(334,286)],\n",
    "15: [(332,269)],\n",
    "8: [(308,328)],\n",
    "5: [(366,233),(390,267),(390,339)],\n",
    "6: [(366,233)],\n",
    "17: [(338,377),(390,339)],\n",
    "13: [(240,351),(247,236),(280,235),(280,237),(300,381),(304,383),(311,391)],\n",
    "10: [(384,314),(389,312),(392,306),(392,309)],\n",
    "22: [(378,348),(378,314)],\n",
    "18: [(356,351)],\n",
    "12: [(314,326),(321,290),(321,291),(322,290),\n",
    "     (322,325),(323,289),(323,326),(315,325),(293,317),(293,320)]\n",
    "}"
   ]
  },
  {
   "cell_type": "code",
   "execution_count": 51,
   "metadata": {},
   "outputs": [],
   "source": [
    "contacts_dict_subtract = dict()\n",
    "\n",
    "for mutant in contacts_dict:\n",
    "    items = []\n",
    "    if mutant == 12:\n",
    "        for pair in contacts_dict[mutant]:\n",
    "            new_pair = []\n",
    "            for indiv in pair:\n",
    "                if indiv > 324:\n",
    "                    new_pair.append(indiv - 233)\n",
    "                else:\n",
    "                    new_pair.append(indiv - 232)\n",
    "            items.append(tuple(new_pair))  \n",
    "    else:\n",
    "        for pair in contacts_dict[mutant]:\n",
    "            items.append((pair[0]-232, pair[1]-232))\n",
    "    contacts_dict_subtract[mutant] = items"
   ]
  },
  {
   "cell_type": "code",
   "execution_count": 52,
   "metadata": {},
   "outputs": [
    {
     "data": {
      "text/plain": [
       "{3: [(55, 93), (55, 94), (55, 126), (55, 127)],\n",
       " 5: [(134, 1), (158, 35), (158, 107)],\n",
       " 6: [(134, 1)],\n",
       " 8: [(76, 96)],\n",
       " 10: [(152, 82), (157, 80), (160, 74), (160, 77)],\n",
       " 12: [(82, 93),\n",
       "  (89, 58),\n",
       "  (89, 59),\n",
       "  (90, 58),\n",
       "  (90, 92),\n",
       "  (91, 57),\n",
       "  (91, 93),\n",
       "  (83, 92),\n",
       "  (61, 85),\n",
       "  (61, 88)],\n",
       " 13: [(8, 119), (15, 4), (48, 3), (48, 5), (68, 149), (72, 151), (79, 159)],\n",
       " 14: [(55, 58), (55, 100), (100, 97), (101, 54), (102, 54)],\n",
       " 15: [(100, 37)],\n",
       " 17: [(106, 145), (158, 107)],\n",
       " 18: [(124, 119)],\n",
       " 21: [(55, 58), (55, 93), (55, 94), (55, 126), (55, 127), (158, 107)],\n",
       " 22: [(146, 116), (146, 82)]}"
      ]
     },
     "execution_count": 52,
     "metadata": {},
     "output_type": "execute_result"
    }
   ],
   "source": [
    "contacts_dict_subtract"
   ]
  },
  {
   "cell_type": "code",
   "execution_count": 18,
   "metadata": {},
   "outputs": [],
   "source": [
    "frames = np.load('extract_frames_max_relative_paper_fixnoframes.npy')"
   ]
  },
  {
   "cell_type": "code",
   "execution_count": 54,
   "metadata": {},
   "outputs": [
    {
     "name": "stdout",
     "output_type": "stream",
     "text": [
      "10378\n",
      "843\n",
      "4292\n",
      "1356\n",
      "1646\n",
      "98\n",
      "338\n",
      "288\n",
      "4736\n",
      "3698\n",
      "5619\n",
      "1144\n",
      "4747\n"
     ]
    }
   ],
   "source": [
    "for x in frames:\n",
    "    print(len(x))"
   ]
  },
  {
   "cell_type": "code",
   "execution_count": 12,
   "metadata": {},
   "outputs": [],
   "source": [
    "# HAD A MISTAKE -- T309M is not run8, but run 11! - no surprise I couldn't get any frames for run8!\n",
    "# not correcting anything above for clarity - let's just do run 11 separately too"
   ]
  },
  {
   "cell_type": "code",
   "execution_count": 13,
   "metadata": {},
   "outputs": [],
   "source": [
    "contacts_dict = {\n",
    "11: [(308,303),(308,311),(308,328),(390,267),(390,339),(307,388),(310,313),(338,377)]\n",
    "}"
   ]
  },
  {
   "cell_type": "code",
   "execution_count": 14,
   "metadata": {},
   "outputs": [],
   "source": [
    "contacts_dict_subtract = dict()\n",
    "\n",
    "for mutant in contacts_dict:\n",
    "    items = []\n",
    "    if mutant == 12:\n",
    "        for pair in contacts_dict[mutant]:\n",
    "            new_pair = []\n",
    "            for indiv in pair:\n",
    "                if indiv > 324:\n",
    "                    new_pair.append(indiv - 233)\n",
    "                else:\n",
    "                    new_pair.append(indiv - 232)\n",
    "            items.append(tuple(new_pair))  \n",
    "    else:\n",
    "        for pair in contacts_dict[mutant]:\n",
    "            items.append((pair[0]-232, pair[1]-232))\n",
    "    contacts_dict_subtract[mutant] = items"
   ]
  },
  {
   "cell_type": "code",
   "execution_count": 15,
   "metadata": {},
   "outputs": [
    {
     "data": {
      "text/plain": [
       "{11: [(76, 71),\n",
       "  (76, 79),\n",
       "  (76, 96),\n",
       "  (158, 35),\n",
       "  (158, 107),\n",
       "  (75, 156),\n",
       "  (78, 81),\n",
       "  (106, 145)]}"
      ]
     },
     "execution_count": 15,
     "metadata": {},
     "output_type": "execute_result"
    }
   ],
   "source": [
    "contacts_dict_subtract"
   ]
  },
  {
   "cell_type": "code",
   "execution_count": 16,
   "metadata": {},
   "outputs": [],
   "source": [
    "# got extracted frame indexes from lilac"
   ]
  },
  {
   "cell_type": "code",
   "execution_count": 17,
   "metadata": {},
   "outputs": [],
   "source": [
    "import numpy as np"
   ]
  },
  {
   "cell_type": "code",
   "execution_count": 22,
   "metadata": {},
   "outputs": [],
   "source": [
    "frames = np.load('extract_frames_max_relative_paper_run11.npy')"
   ]
  },
  {
   "cell_type": "code",
   "execution_count": 25,
   "metadata": {},
   "outputs": [
    {
     "data": {
      "text/plain": [
       "281"
      ]
     },
     "execution_count": 25,
     "metadata": {},
     "output_type": "execute_result"
    }
   ],
   "source": [
    "len(frames)"
   ]
  },
  {
   "cell_type": "code",
   "execution_count": null,
   "metadata": {},
   "outputs": [],
   "source": []
  }
 ],
 "metadata": {
  "kernelspec": {
   "display_name": "Python 3",
   "language": "python",
   "name": "python3"
  },
  "language_info": {
   "codemirror_mode": {
    "name": "ipython",
    "version": 3
   },
   "file_extension": ".py",
   "mimetype": "text/x-python",
   "name": "python",
   "nbconvert_exporter": "python",
   "pygments_lexer": "ipython3",
   "version": "3.6.4"
  }
 },
 "nbformat": 4,
 "nbformat_minor": 2
}
