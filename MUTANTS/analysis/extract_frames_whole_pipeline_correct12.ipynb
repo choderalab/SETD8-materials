{
 "cells": [
  {
   "cell_type": "code",
   "execution_count": 1,
   "metadata": {},
   "outputs": [],
   "source": [
    "import numpy as np\n",
    "import glob\n",
    "import mdtraj as md"
   ]
  },
  {
   "cell_type": "code",
   "execution_count": 2,
   "metadata": {},
   "outputs": [],
   "source": [
    "# realized a mistake for mutant 12 (deletion) - indexes of contacts to extract frames weren't corrected by 1 for \n",
    "# the deleted residue - check here what the effect was"
   ]
  },
  {
   "cell_type": "code",
   "execution_count": 6,
   "metadata": {},
   "outputs": [],
   "source": [
    "frame_indexes = np.load('extract_frames_indexes_all_top5_neg.npy')"
   ]
  },
  {
   "cell_type": "code",
   "execution_count": 7,
   "metadata": {},
   "outputs": [
    {
     "data": {
      "text/plain": [
       "6318"
      ]
     },
     "execution_count": 7,
     "metadata": {},
     "output_type": "execute_result"
    }
   ],
   "source": [
    "len(frame_indexes[12])"
   ]
  },
  {
   "cell_type": "code",
   "execution_count": 8,
   "metadata": {},
   "outputs": [],
   "source": [
    "frame_indexes_10strided = []\n",
    "\n",
    "for x in frame_indexes:\n",
    "    frame_indexes_ = []\n",
    "    for frame in x:\n",
    "        if len(x) < 7500:\n",
    "            if frame[1]%10 == 0:\n",
    "                frame_indexes_.append((frame[0], int(frame[1])+1500))\n",
    "        else:\n",
    "            if frame[1]%20 == 0:\n",
    "                frame_indexes_.append((frame[0], int(frame[1])+1500))\n",
    "    frame_indexes_10strided.append(frame_indexes_)"
   ]
  },
  {
   "cell_type": "code",
   "execution_count": 9,
   "metadata": {},
   "outputs": [
    {
     "data": {
      "text/plain": [
       "621"
      ]
     },
     "execution_count": 9,
     "metadata": {},
     "output_type": "execute_result"
    }
   ],
   "source": [
    "len(frame_indexes_10strided[12])"
   ]
  },
  {
   "cell_type": "code",
   "execution_count": 11,
   "metadata": {},
   "outputs": [],
   "source": [
    "# from those we chose actual \"new conformations\""
   ]
  },
  {
   "cell_type": "code",
   "execution_count": null,
   "metadata": {},
   "outputs": [],
   "source": [
    "# [[397,447], [550,571], [572,610]]"
   ]
  },
  {
   "cell_type": "code",
   "execution_count": 17,
   "metadata": {},
   "outputs": [],
   "source": [
    "mutant_12_new_confs = []\n",
    "\n",
    "mutant_12_new_confs.append(frame_indexes_10strided[12][396:447])\n",
    "mutant_12_new_confs.append(frame_indexes_10strided[12][549:571])\n",
    "mutant_12_new_confs.append(frame_indexes_10strided[12][571:610])\n",
    "\n",
    "mutant_12_new_confs = np.concatenate(mutant_12_new_confs)"
   ]
  },
  {
   "cell_type": "code",
   "execution_count": 19,
   "metadata": {},
   "outputs": [
    {
     "data": {
      "text/plain": [
       "(112, 2)"
      ]
     },
     "execution_count": 19,
     "metadata": {},
     "output_type": "execute_result"
    }
   ],
   "source": [
    "mutant_12_new_confs.shape"
   ]
  },
  {
   "cell_type": "code",
   "execution_count": 21,
   "metadata": {},
   "outputs": [],
   "source": [
    "# now the corrected frames"
   ]
  },
  {
   "cell_type": "code",
   "execution_count": 22,
   "metadata": {},
   "outputs": [],
   "source": [
    "frames_corrected = np.load('extract_frames_indexes_all_top5_neg_correct12.npy')"
   ]
  },
  {
   "cell_type": "code",
   "execution_count": 24,
   "metadata": {},
   "outputs": [
    {
     "data": {
      "text/plain": [
       "(13912, 2)"
      ]
     },
     "execution_count": 24,
     "metadata": {},
     "output_type": "execute_result"
    }
   ],
   "source": [
    "frames_corrected.shape"
   ]
  },
  {
   "cell_type": "code",
   "execution_count": 25,
   "metadata": {},
   "outputs": [],
   "source": [
    "# check if those picked as new conformations are included"
   ]
  },
  {
   "cell_type": "code",
   "execution_count": 78,
   "metadata": {},
   "outputs": [],
   "source": [
    "in_corrected = []\n",
    "\n",
    "for i,frame in enumerate(mutant_12_new_confs):\n",
    "    for frame_ in frames_corrected:\n",
    "        if frame[0] == frame_[0] and frame[1] == frame_[1]+1500:\n",
    "            in_corrected.append(i)"
   ]
  },
  {
   "cell_type": "code",
   "execution_count": 79,
   "metadata": {},
   "outputs": [
    {
     "data": {
      "text/plain": [
       "112"
      ]
     },
     "execution_count": 79,
     "metadata": {},
     "output_type": "execute_result"
    }
   ],
   "source": [
    "len(in_corrected)"
   ]
  },
  {
   "cell_type": "code",
   "execution_count": 80,
   "metadata": {},
   "outputs": [],
   "source": [
    "in_corrected = []\n",
    "\n",
    "for i,frame in enumerate(frame_indexes_10strided[12]):\n",
    "    for frame_ in frames_corrected:\n",
    "        if frame[0] == frame_[0] and frame[1] == frame_[1]+1500:\n",
    "            in_corrected.append(i)"
   ]
  },
  {
   "cell_type": "code",
   "execution_count": 81,
   "metadata": {},
   "outputs": [
    {
     "data": {
      "text/plain": [
       "619"
      ]
     },
     "execution_count": 81,
     "metadata": {},
     "output_type": "execute_result"
    }
   ],
   "source": [
    "len(in_corrected)"
   ]
  },
  {
   "cell_type": "code",
   "execution_count": 82,
   "metadata": {},
   "outputs": [],
   "source": [
    "# ok awesome - so let's 10 (actually 20) stride the corrected frames, then remove all the ones we had in 10 strided \n",
    "# previously - and pass all remaining to Shi"
   ]
  },
  {
   "cell_type": "code",
   "execution_count": 89,
   "metadata": {},
   "outputs": [],
   "source": [
    "frames_corrected_strided = []\n",
    "\n",
    "for frame in frames_corrected:\n",
    "    if frame[1]%20 == 0:\n",
    "        frames_corrected_strided.append((frame[0], int(frame[1])+1500))"
   ]
  },
  {
   "cell_type": "code",
   "execution_count": 91,
   "metadata": {},
   "outputs": [
    {
     "data": {
      "text/plain": [
       "704"
      ]
     },
     "execution_count": 91,
     "metadata": {},
     "output_type": "execute_result"
    }
   ],
   "source": [
    "len(frames_corrected_strided)"
   ]
  },
  {
   "cell_type": "code",
   "execution_count": 92,
   "metadata": {},
   "outputs": [],
   "source": [
    "old_corrected = []\n",
    "\n",
    "for i,frame_ in enumerate(frames_corrected_strided):\n",
    "    for frame in frame_indexes_10strided[12]:\n",
    "        if frame[0] == frame_[0] and frame[1] == frame_[1]:\n",
    "            old_corrected.append(i)"
   ]
  },
  {
   "cell_type": "code",
   "execution_count": 93,
   "metadata": {},
   "outputs": [
    {
     "data": {
      "text/plain": [
       "310"
      ]
     },
     "execution_count": 93,
     "metadata": {},
     "output_type": "execute_result"
    }
   ],
   "source": [
    "len(old_corrected)"
   ]
  },
  {
   "cell_type": "code",
   "execution_count": 99,
   "metadata": {},
   "outputs": [],
   "source": [
    "new_corrected = []\n",
    "\n",
    "for i,frame_ in enumerate(frames_corrected_strided):\n",
    "    if i not in old_corrected:\n",
    "        new_corrected.append(frame_)"
   ]
  },
  {
   "cell_type": "code",
   "execution_count": 100,
   "metadata": {},
   "outputs": [
    {
     "data": {
      "text/plain": [
       "394"
      ]
     },
     "execution_count": 100,
     "metadata": {},
     "output_type": "execute_result"
    }
   ],
   "source": [
    "len(new_corrected)"
   ]
  },
  {
   "cell_type": "code",
   "execution_count": 102,
   "metadata": {},
   "outputs": [],
   "source": [
    "np.save('mutant_12_corrected_new_strided_frame_indexes.npy', new_corrected)"
   ]
  },
  {
   "cell_type": "code",
   "execution_count": null,
   "metadata": {},
   "outputs": [],
   "source": []
  }
 ],
 "metadata": {
  "kernelspec": {
   "display_name": "Python 3",
   "language": "python",
   "name": "python3"
  },
  "language_info": {
   "codemirror_mode": {
    "name": "ipython",
    "version": 3
   },
   "file_extension": ".py",
   "mimetype": "text/x-python",
   "name": "python",
   "nbconvert_exporter": "python",
   "pygments_lexer": "ipython3",
   "version": "3.6.4"
  }
 },
 "nbformat": 4,
 "nbformat_minor": 2
}
