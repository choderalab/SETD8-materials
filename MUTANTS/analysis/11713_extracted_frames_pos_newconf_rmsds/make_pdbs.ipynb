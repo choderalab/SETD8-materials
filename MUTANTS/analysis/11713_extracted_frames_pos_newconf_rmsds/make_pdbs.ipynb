{
 "cells": [
  {
   "cell_type": "code",
   "execution_count": 1,
   "metadata": {},
   "outputs": [],
   "source": [
    "import mdtraj as md\n",
    "import glob"
   ]
  },
  {
   "cell_type": "code",
   "execution_count": 3,
   "metadata": {},
   "outputs": [],
   "source": [
    "for traj in glob.glob('*.h5'):\n",
    "    traj_ = md.load(traj)\n",
    "    traj_.save('%s.pdb' % traj[:-3])"
   ]
  },
  {
   "cell_type": "code",
   "execution_count": 4,
   "metadata": {},
   "outputs": [
    {
     "name": "stdout",
     "output_type": "stream",
     "text": [
      "make_pdbs.ipynb  run15_2.h5       run4_0.pdb       run9_0.h5\r\n",
      "run11_0.h5       run15_2.pdb      run4_1.h5        run9_0.pdb\r\n",
      "run11_0.pdb      run19_0.h5       run4_1.pdb       run9_1.h5\r\n",
      "run11_1.h5       run19_0.pdb      run4_2.h5        run9_1.pdb\r\n",
      "run11_1.pdb      run21_0.h5       run4_2.pdb       run9_2.h5\r\n",
      "run11_2.h5       run21_0.pdb      run4_3.h5        run9_2.pdb\r\n",
      "run11_2.pdb      run21_1.h5       run4_3.pdb       run9_3.h5\r\n",
      "run13_0.h5       run21_1.pdb      run5_0.h5        run9_3.pdb\r\n",
      "run13_0.pdb      run21_2.h5       run5_0.pdb       run9_4.h5\r\n",
      "run15_0.h5       run21_2.pdb      run6_0.h5        run9_4.pdb\r\n",
      "run15_0.pdb      run23_0.h5       run6_0.pdb\r\n",
      "run15_1.h5       run23_0.pdb      run8_0.h5\r\n",
      "run15_1.pdb      run4_0.h5        run8_0.pdb\r\n"
     ]
    }
   ],
   "source": [
    "ls"
   ]
  },
  {
   "cell_type": "code",
   "execution_count": null,
   "metadata": {},
   "outputs": [],
   "source": []
  }
 ],
 "metadata": {
  "anaconda-cloud": {},
  "kernelspec": {
   "display_name": "Python [default]",
   "language": "python",
   "name": "python3"
  },
  "language_info": {
   "codemirror_mode": {
    "name": "ipython",
    "version": 3
   },
   "file_extension": ".py",
   "mimetype": "text/x-python",
   "name": "python",
   "nbconvert_exporter": "python",
   "pygments_lexer": "ipython3",
   "version": "3.5.2"
  }
 },
 "nbformat": 4,
 "nbformat_minor": 1
}
