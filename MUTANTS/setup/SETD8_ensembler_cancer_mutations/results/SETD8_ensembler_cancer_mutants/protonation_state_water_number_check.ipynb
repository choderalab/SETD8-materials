{
 "cells": [
  {
   "cell_type": "code",
   "execution_count": 1,
   "metadata": {
    "collapsed": false
   },
   "outputs": [
    {
     "data": {
      "text/plain": [
       "'/Users/rafalpwiewiora/repos/pimento/SETD8/SETD8_ensembler_cancer_mutations/results_implicit/SETD8_ensembler_cancer_mutants'"
      ]
     },
     "execution_count": 1,
     "metadata": {},
     "output_type": "execute_result"
    }
   ],
   "source": [
    "pwd"
   ]
  },
  {
   "cell_type": "code",
   "execution_count": 6,
   "metadata": {
    "collapsed": false
   },
   "outputs": [
    {
     "name": "stdout",
     "output_type": "stream",
     "text": [
      "alignment.pir          implicit-refined.pdb   sequence-identity.txt\r\n",
      "implicit-energies.txt  model.pdb              unique_by_clustering\r\n",
      "implicit-log.yaml      modeling-log.yaml\r\n"
     ]
    }
   ],
   "source": [
    "# 0/models/KMT5A_HUMAN_D0/KMT5A_HUMAN_1ZKK_A/implicit-refined.pdb"
   ]
  },
  {
   "cell_type": "code",
   "execution_count": 8,
   "metadata": {
    "collapsed": true
   },
   "outputs": [],
   "source": [
    "import mdtraj as md"
   ]
  },
  {
   "cell_type": "code",
   "execution_count": 10,
   "metadata": {
    "collapsed": false
   },
   "outputs": [],
   "source": [
    "# ir == implicit refined\n",
    "\n",
    "ir_models = []\n",
    "\n",
    "for i in range(27):\n",
    "    model = md.load('%d/models/KMT5A_HUMAN_D0/KMT5A_HUMAN_1ZKK_A/implicit-refined.pdb' % i)\n",
    "    ir_models.append(model)"
   ]
  },
  {
   "cell_type": "code",
   "execution_count": 87,
   "metadata": {
    "collapsed": false
   },
   "outputs": [
    {
     "name": "stdout",
     "output_type": "stream",
     "text": [
      "5\n",
      "12\n",
      "15\n",
      "25\n",
      "42\n",
      "47\n",
      "48\n",
      "51\n",
      "60\n",
      "61\n",
      "64\n",
      "69\n",
      "77\n",
      "98\n",
      "101\n",
      "102\n",
      "108\n",
      "119\n",
      "120\n",
      "124\n",
      "127\n",
      "136\n",
      "140\n",
      "150\n",
      "156\n"
     ]
    }
   ],
   "source": [
    "for residue_no in range(162):\n",
    "    atom_names = []\n",
    "    for i in range(len(ir_models)):\n",
    "        if len(list(ir_models[i].top.residues)) != 162:\n",
    "            if residue_no == 92:\n",
    "                continue\n",
    "            if residue_no > 92:\n",
    "                atom_names.append(tuple([str(x).split('-')[1] for x in list(ir_models[i].top.residue(residue_no-1).atoms)]))\n",
    "        else:        \n",
    "            atom_names.append(tuple([str(x).split('-')[1] for x in list(ir_models[i].top.residue(residue_no).atoms)]))\n",
    "    if len(set(atom_names)) != 1:\n",
    "        print(residue_no)"
   ]
  },
  {
   "cell_type": "code",
   "execution_count": null,
   "metadata": {
    "collapsed": true
   },
   "outputs": [],
   "source": [
    "# those from above that are not mutations: 119"
   ]
  },
  {
   "cell_type": "code",
   "execution_count": 49,
   "metadata": {
    "collapsed": false
   },
   "outputs": [
    {
     "data": {
      "text/plain": [
       "['N',\n",
       " 'H',\n",
       " 'CA',\n",
       " 'HA',\n",
       " 'ND1',\n",
       " 'CG',\n",
       " 'CB',\n",
       " 'HB2',\n",
       " 'HB3',\n",
       " 'NE2',\n",
       " 'HE2',\n",
       " 'CD2',\n",
       " 'HD2',\n",
       " 'CE1',\n",
       " 'HE1',\n",
       " 'C',\n",
       " 'O']"
      ]
     },
     "execution_count": 49,
     "metadata": {},
     "output_type": "execute_result"
    }
   ],
   "source": [
    "[str(x).split('-')[1] for x in list(ir_models[0].top.residue(119).atoms)]"
   ]
  },
  {
   "cell_type": "code",
   "execution_count": 50,
   "metadata": {
    "collapsed": false
   },
   "outputs": [
    {
     "data": {
      "text/plain": [
       "HIS120"
      ]
     },
     "execution_count": 50,
     "metadata": {},
     "output_type": "execute_result"
    }
   ],
   "source": [
    "ir_models[0].top.residue(119)"
   ]
  },
  {
   "cell_type": "code",
   "execution_count": 56,
   "metadata": {
    "collapsed": true
   },
   "outputs": [],
   "source": [
    "atom_names = []\n",
    "\n",
    "residue_no = 119\n",
    "\n",
    "for i in range(len(ir_models)):\n",
    "    if len(list(ir_models[i].top.residues)) != 162:\n",
    "            continue\n",
    "    atom_names.append(tuple([str(x).split('-')[1] for x in list(ir_models[i].top.residue(residue_no).atoms)]))"
   ]
  },
  {
   "cell_type": "code",
   "execution_count": 57,
   "metadata": {
    "collapsed": false
   },
   "outputs": [
    {
     "data": {
      "text/plain": [
       "{('N',\n",
       "  'H',\n",
       "  'CA',\n",
       "  'HA',\n",
       "  'ND1',\n",
       "  'CG',\n",
       "  'CB',\n",
       "  'HB2',\n",
       "  'HB3',\n",
       "  'NE2',\n",
       "  'HE2',\n",
       "  'CD2',\n",
       "  'HD2',\n",
       "  'CE1',\n",
       "  'HE1',\n",
       "  'C',\n",
       "  'O'),\n",
       " ('N',\n",
       "  'H',\n",
       "  'CA',\n",
       "  'HA',\n",
       "  'ND1',\n",
       "  'HD1',\n",
       "  'CG',\n",
       "  'CB',\n",
       "  'HB2',\n",
       "  'HB3',\n",
       "  'NE2',\n",
       "  'CD2',\n",
       "  'HD2',\n",
       "  'CE1',\n",
       "  'HE1',\n",
       "  'C',\n",
       "  'O')}"
      ]
     },
     "execution_count": 57,
     "metadata": {},
     "output_type": "execute_result"
    }
   ],
   "source": [
    "set(atom_names)"
   ]
  },
  {
   "cell_type": "code",
   "execution_count": 58,
   "metadata": {
    "collapsed": true
   },
   "outputs": [],
   "source": [
    "# let's test this system out on the WT 11709 hypothetical models vs others - see if it's the same HIS there with problems"
   ]
  },
  {
   "cell_type": "code",
   "execution_count": 59,
   "metadata": {
    "collapsed": true
   },
   "outputs": [],
   "source": [
    "import glob"
   ]
  },
  {
   "cell_type": "code",
   "execution_count": 61,
   "metadata": {
    "collapsed": true
   },
   "outputs": [],
   "source": [
    "wt_explicit_models = glob.glob('/Users/rafalpwiewiora/repos/MSM/sasa/explicit_refined/*.pdb')"
   ]
  },
  {
   "cell_type": "code",
   "execution_count": 62,
   "metadata": {
    "collapsed": false
   },
   "outputs": [
    {
     "data": {
      "text/plain": [
       "25"
      ]
     },
     "execution_count": 62,
     "metadata": {},
     "output_type": "execute_result"
    }
   ],
   "source": [
    "len(wt_explicit_models)"
   ]
  },
  {
   "cell_type": "code",
   "execution_count": 63,
   "metadata": {
    "collapsed": true
   },
   "outputs": [],
   "source": [
    "wt_explicit_models_trajs = []\n",
    "\n",
    "for model in wt_explicit_models:\n",
    "    wt_explicit_models_trajs.append(md.load(model))"
   ]
  },
  {
   "cell_type": "code",
   "execution_count": 64,
   "metadata": {
    "collapsed": true
   },
   "outputs": [],
   "source": [
    "for residue_no in range(162):\n",
    "    atom_names = []\n",
    "    for i in range(len(wt_explicit_models_trajs)):\n",
    "        if len(list(wt_explicit_models_trajs[i].top.residues)) != 162:\n",
    "            continue\n",
    "        atom_names.append(tuple([str(x).split('-')[1] for x in list(wt_explicit_models_trajs[i].top.residue(residue_no).atoms)]))\n",
    "    if len(set(atom_names)) != 1:\n",
    "        print(residue_no)"
   ]
  },
  {
   "cell_type": "code",
   "execution_count": 65,
   "metadata": {
    "collapsed": true
   },
   "outputs": [],
   "source": [
    "# so all the same here - now let's add a hypothetical model"
   ]
  },
  {
   "cell_type": "code",
   "execution_count": 73,
   "metadata": {
    "collapsed": true
   },
   "outputs": [],
   "source": [
    "wt_11709_implicit_models = glob.glob('/Users/rafalpwiewiora/repos/pimento/SETD8/SETD8_ensembler_25plus_domains_swap/models/KMT5A_HUMAN_D0/*/implicit-refined.pdb')"
   ]
  },
  {
   "cell_type": "code",
   "execution_count": 78,
   "metadata": {
    "collapsed": false
   },
   "outputs": [
    {
     "data": {
      "text/plain": [
       "3"
      ]
     },
     "execution_count": 78,
     "metadata": {},
     "output_type": "execute_result"
    }
   ],
   "source": [
    "len(wt_11709_implicit_models)"
   ]
  },
  {
   "cell_type": "code",
   "execution_count": 79,
   "metadata": {
    "collapsed": true
   },
   "outputs": [],
   "source": [
    "wt_models_trajs = []\n",
    "\n",
    "for model in wt_explicit_models:\n",
    "    wt_models_trajs.append(md.load(model))\n",
    "for model in wt_11709_implicit_models:\n",
    "    wt_models_trajs.append(md.load(model))"
   ]
  },
  {
   "cell_type": "code",
   "execution_count": 80,
   "metadata": {
    "collapsed": false
   },
   "outputs": [
    {
     "data": {
      "text/plain": [
       "[<mdtraj.Trajectory with 1 frames, 2576 atoms, 162 residues, without unitcells at 0x121127358>,\n",
       " <mdtraj.Trajectory with 1 frames, 2576 atoms, 162 residues, without unitcells at 0x120fca198>,\n",
       " <mdtraj.Trajectory with 1 frames, 2576 atoms, 162 residues, without unitcells at 0x120f0beb8>,\n",
       " <mdtraj.Trajectory with 1 frames, 2576 atoms, 162 residues, without unitcells at 0x11f27de48>,\n",
       " <mdtraj.Trajectory with 1 frames, 2576 atoms, 162 residues, without unitcells at 0x121569f60>,\n",
       " <mdtraj.Trajectory with 1 frames, 2576 atoms, 162 residues, without unitcells at 0x120393a58>,\n",
       " <mdtraj.Trajectory with 1 frames, 2576 atoms, 162 residues, without unitcells at 0x11f3cc710>,\n",
       " <mdtraj.Trajectory with 1 frames, 2576 atoms, 162 residues, without unitcells at 0x121b9ee10>,\n",
       " <mdtraj.Trajectory with 1 frames, 2576 atoms, 162 residues, without unitcells at 0x121070fd0>,\n",
       " <mdtraj.Trajectory with 1 frames, 2576 atoms, 162 residues, without unitcells at 0x1207969e8>,\n",
       " <mdtraj.Trajectory with 1 frames, 2576 atoms, 162 residues, without unitcells at 0x11f3ae898>,\n",
       " <mdtraj.Trajectory with 1 frames, 2576 atoms, 162 residues, without unitcells at 0x12127eef0>,\n",
       " <mdtraj.Trajectory with 1 frames, 2576 atoms, 162 residues, without unitcells at 0x1211215c0>,\n",
       " <mdtraj.Trajectory with 1 frames, 2576 atoms, 162 residues, without unitcells at 0x11fd110f0>,\n",
       " <mdtraj.Trajectory with 1 frames, 2576 atoms, 162 residues, without unitcells at 0x1216db588>,\n",
       " <mdtraj.Trajectory with 1 frames, 2576 atoms, 162 residues, without unitcells at 0x121afa550>,\n",
       " <mdtraj.Trajectory with 1 frames, 2576 atoms, 162 residues, without unitcells at 0x121996438>,\n",
       " <mdtraj.Trajectory with 1 frames, 2576 atoms, 162 residues, without unitcells at 0x121d4dc50>,\n",
       " <mdtraj.Trajectory with 1 frames, 2576 atoms, 162 residues, without unitcells at 0x120af5b38>,\n",
       " <mdtraj.Trajectory with 1 frames, 2576 atoms, 162 residues, without unitcells at 0x12159e2b0>,\n",
       " <mdtraj.Trajectory with 1 frames, 2576 atoms, 162 residues, without unitcells at 0x121f61c50>,\n",
       " <mdtraj.Trajectory with 1 frames, 2576 atoms, 162 residues, without unitcells at 0x121b98748>,\n",
       " <mdtraj.Trajectory with 1 frames, 2576 atoms, 162 residues, without unitcells at 0x121e71f60>,\n",
       " <mdtraj.Trajectory with 1 frames, 2576 atoms, 162 residues, without unitcells at 0x121286e48>,\n",
       " <mdtraj.Trajectory with 1 frames, 2576 atoms, 162 residues, without unitcells at 0x11fe5c6d8>,\n",
       " <mdtraj.Trajectory with 1 frames, 2576 atoms, 162 residues, without unitcells at 0x12298b2e8>,\n",
       " <mdtraj.Trajectory with 1 frames, 2576 atoms, 162 residues, without unitcells at 0x122aedcc0>,\n",
       " <mdtraj.Trajectory with 1 frames, 2576 atoms, 162 residues, without unitcells at 0x1211d5f98>]"
      ]
     },
     "execution_count": 80,
     "metadata": {},
     "output_type": "execute_result"
    }
   ],
   "source": [
    "wt_models_trajs"
   ]
  },
  {
   "cell_type": "code",
   "execution_count": 81,
   "metadata": {
    "collapsed": false
   },
   "outputs": [
    {
     "name": "stdout",
     "output_type": "stream",
     "text": [
      "119\n"
     ]
    }
   ],
   "source": [
    "for residue_no in range(162):\n",
    "    atom_names = []\n",
    "    for i in range(len(wt_models_trajs)):\n",
    "        if len(list(wt_models_trajs[i].top.residues)) != 162:\n",
    "            continue\n",
    "        atom_names.append(tuple([str(x).split('-')[1] for x in list(wt_models_trajs[i].top.residue(residue_no).atoms)]))\n",
    "    if len(set(atom_names)) != 1:\n",
    "        print(residue_no)"
   ]
  },
  {
   "cell_type": "code",
   "execution_count": 112,
   "metadata": {
    "collapsed": true
   },
   "outputs": [],
   "source": [
    "residue_no = 119\n",
    "\n",
    "atom_names = []\n",
    "for i in range(len(wt_models_trajs)):\n",
    "    if len(list(wt_models_trajs[i].top.residues)) != 162:\n",
    "        continue\n",
    "    atom_names.append(tuple([str(x).split('-')[1] for x in list(wt_models_trajs[i].top.residue(residue_no).atoms)]))"
   ]
  },
  {
   "cell_type": "code",
   "execution_count": 113,
   "metadata": {
    "collapsed": true
   },
   "outputs": [],
   "source": [
    "atom_names_h = []\n",
    "\n",
    "for names in atom_names:\n",
    "    if 'HD1' in names:\n",
    "        atom_names_h.append('HD1')\n",
    "    else:\n",
    "        atom_names_h.append('HE2')"
   ]
  },
  {
   "cell_type": "code",
   "execution_count": 114,
   "metadata": {
    "collapsed": false
   },
   "outputs": [
    {
     "data": {
      "text/plain": [
       "['HE2',\n",
       " 'HE2',\n",
       " 'HE2',\n",
       " 'HE2',\n",
       " 'HE2',\n",
       " 'HE2',\n",
       " 'HE2',\n",
       " 'HE2',\n",
       " 'HE2',\n",
       " 'HE2',\n",
       " 'HE2',\n",
       " 'HE2',\n",
       " 'HE2',\n",
       " 'HE2',\n",
       " 'HE2',\n",
       " 'HE2',\n",
       " 'HE2',\n",
       " 'HE2',\n",
       " 'HE2',\n",
       " 'HE2',\n",
       " 'HE2',\n",
       " 'HE2',\n",
       " 'HE2',\n",
       " 'HE2',\n",
       " 'HE2',\n",
       " 'HD1',\n",
       " 'HD1',\n",
       " 'HD1']"
      ]
     },
     "execution_count": 114,
     "metadata": {},
     "output_type": "execute_result"
    }
   ],
   "source": [
    "atom_names_h"
   ]
  },
  {
   "cell_type": "code",
   "execution_count": 82,
   "metadata": {
    "collapsed": true
   },
   "outputs": [],
   "source": [
    "# ok so the same HIS here!"
   ]
  },
  {
   "cell_type": "code",
   "execution_count": 88,
   "metadata": {
    "collapsed": true
   },
   "outputs": [],
   "source": [
    "# alright - so let's look at the mutant models again - see in which ones we have which variant - then look\n",
    "# at structures and see: is this random? or depends on the mutant (mutated residue in proximity)?"
   ]
  },
  {
   "cell_type": "code",
   "execution_count": 117,
   "metadata": {
    "collapsed": true
   },
   "outputs": [],
   "source": [
    "residue_no = 119\n",
    "\n",
    "atom_names = []\n",
    "for i in range(len(ir_models)):\n",
    "    if len(list(ir_models[i].top.residues)) != 162:\n",
    "        if residue_no == 92:\n",
    "            continue\n",
    "        if residue_no > 92:\n",
    "            atom_names.append(tuple([str(x).split('-')[1] for x in list(ir_models[i].top.residue(residue_no-1).atoms)]))\n",
    "    else:        \n",
    "        atom_names.append(tuple([str(x).split('-')[1] for x in list(ir_models[i].top.residue(residue_no).atoms)]))"
   ]
  },
  {
   "cell_type": "code",
   "execution_count": 118,
   "metadata": {
    "collapsed": false
   },
   "outputs": [
    {
     "data": {
      "text/plain": [
       "[('N',\n",
       "  'H',\n",
       "  'CA',\n",
       "  'HA',\n",
       "  'ND1',\n",
       "  'CG',\n",
       "  'CB',\n",
       "  'HB2',\n",
       "  'HB3',\n",
       "  'NE2',\n",
       "  'HE2',\n",
       "  'CD2',\n",
       "  'HD2',\n",
       "  'CE1',\n",
       "  'HE1',\n",
       "  'C',\n",
       "  'O'),\n",
       " ('N',\n",
       "  'H',\n",
       "  'CA',\n",
       "  'HA',\n",
       "  'ND1',\n",
       "  'CG',\n",
       "  'CB',\n",
       "  'HB2',\n",
       "  'HB3',\n",
       "  'NE2',\n",
       "  'HE2',\n",
       "  'CD2',\n",
       "  'HD2',\n",
       "  'CE1',\n",
       "  'HE1',\n",
       "  'C',\n",
       "  'O'),\n",
       " ('N',\n",
       "  'H',\n",
       "  'CA',\n",
       "  'HA',\n",
       "  'ND1',\n",
       "  'CG',\n",
       "  'CB',\n",
       "  'HB2',\n",
       "  'HB3',\n",
       "  'NE2',\n",
       "  'HE2',\n",
       "  'CD2',\n",
       "  'HD2',\n",
       "  'CE1',\n",
       "  'HE1',\n",
       "  'C',\n",
       "  'O'),\n",
       " ('N',\n",
       "  'H',\n",
       "  'CA',\n",
       "  'HA',\n",
       "  'ND1',\n",
       "  'CG',\n",
       "  'CB',\n",
       "  'HB2',\n",
       "  'HB3',\n",
       "  'NE2',\n",
       "  'HE2',\n",
       "  'CD2',\n",
       "  'HD2',\n",
       "  'CE1',\n",
       "  'HE1',\n",
       "  'C',\n",
       "  'O'),\n",
       " ('N',\n",
       "  'H',\n",
       "  'CA',\n",
       "  'HA',\n",
       "  'ND1',\n",
       "  'CG',\n",
       "  'CB',\n",
       "  'HB2',\n",
       "  'HB3',\n",
       "  'NE2',\n",
       "  'HE2',\n",
       "  'CD2',\n",
       "  'HD2',\n",
       "  'CE1',\n",
       "  'HE1',\n",
       "  'C',\n",
       "  'O'),\n",
       " ('N',\n",
       "  'H',\n",
       "  'CA',\n",
       "  'HA',\n",
       "  'ND1',\n",
       "  'CG',\n",
       "  'CB',\n",
       "  'HB2',\n",
       "  'HB3',\n",
       "  'NE2',\n",
       "  'HE2',\n",
       "  'CD2',\n",
       "  'HD2',\n",
       "  'CE1',\n",
       "  'HE1',\n",
       "  'C',\n",
       "  'O'),\n",
       " ('N',\n",
       "  'H',\n",
       "  'CA',\n",
       "  'HA',\n",
       "  'ND1',\n",
       "  'CG',\n",
       "  'CB',\n",
       "  'HB2',\n",
       "  'HB3',\n",
       "  'NE2',\n",
       "  'HE2',\n",
       "  'CD2',\n",
       "  'HD2',\n",
       "  'CE1',\n",
       "  'HE1',\n",
       "  'C',\n",
       "  'O'),\n",
       " ('N',\n",
       "  'H',\n",
       "  'CA',\n",
       "  'HA',\n",
       "  'ND1',\n",
       "  'HD1',\n",
       "  'CG',\n",
       "  'CB',\n",
       "  'HB2',\n",
       "  'HB3',\n",
       "  'NE2',\n",
       "  'CD2',\n",
       "  'HD2',\n",
       "  'CE1',\n",
       "  'HE1',\n",
       "  'C',\n",
       "  'O'),\n",
       " ('N',\n",
       "  'H',\n",
       "  'CA',\n",
       "  'HA',\n",
       "  'ND1',\n",
       "  'CG',\n",
       "  'CB',\n",
       "  'HB2',\n",
       "  'HB3',\n",
       "  'NE2',\n",
       "  'HE2',\n",
       "  'CD2',\n",
       "  'HD2',\n",
       "  'CE1',\n",
       "  'HE1',\n",
       "  'C',\n",
       "  'O'),\n",
       " ('N',\n",
       "  'H',\n",
       "  'CA',\n",
       "  'HA',\n",
       "  'ND1',\n",
       "  'CG',\n",
       "  'CB',\n",
       "  'HB2',\n",
       "  'HB3',\n",
       "  'NE2',\n",
       "  'HE2',\n",
       "  'CD2',\n",
       "  'HD2',\n",
       "  'CE1',\n",
       "  'HE1',\n",
       "  'C',\n",
       "  'O'),\n",
       " ('N',\n",
       "  'H',\n",
       "  'CA',\n",
       "  'HA',\n",
       "  'ND1',\n",
       "  'CG',\n",
       "  'CB',\n",
       "  'HB2',\n",
       "  'HB3',\n",
       "  'NE2',\n",
       "  'HE2',\n",
       "  'CD2',\n",
       "  'HD2',\n",
       "  'CE1',\n",
       "  'HE1',\n",
       "  'C',\n",
       "  'O'),\n",
       " ('N',\n",
       "  'H',\n",
       "  'CA',\n",
       "  'HA',\n",
       "  'ND1',\n",
       "  'CG',\n",
       "  'CB',\n",
       "  'HB2',\n",
       "  'HB3',\n",
       "  'NE2',\n",
       "  'HE2',\n",
       "  'CD2',\n",
       "  'HD2',\n",
       "  'CE1',\n",
       "  'HE1',\n",
       "  'C',\n",
       "  'O'),\n",
       " ('N',\n",
       "  'H',\n",
       "  'CA',\n",
       "  'HA',\n",
       "  'ND1',\n",
       "  'CG',\n",
       "  'CB',\n",
       "  'HB2',\n",
       "  'HB3',\n",
       "  'NE2',\n",
       "  'HE2',\n",
       "  'CD2',\n",
       "  'HD2',\n",
       "  'CE1',\n",
       "  'HE1',\n",
       "  'C',\n",
       "  'O'),\n",
       " ('N',\n",
       "  'H',\n",
       "  'CA',\n",
       "  'HA',\n",
       "  'ND1',\n",
       "  'CG',\n",
       "  'CB',\n",
       "  'HB2',\n",
       "  'HB3',\n",
       "  'NE2',\n",
       "  'HE2',\n",
       "  'CD2',\n",
       "  'HD2',\n",
       "  'CE1',\n",
       "  'HE1',\n",
       "  'C',\n",
       "  'O'),\n",
       " ('N',\n",
       "  'H',\n",
       "  'CA',\n",
       "  'HA',\n",
       "  'ND1',\n",
       "  'CG',\n",
       "  'CB',\n",
       "  'HB2',\n",
       "  'HB3',\n",
       "  'NE2',\n",
       "  'HE2',\n",
       "  'CD2',\n",
       "  'HD2',\n",
       "  'CE1',\n",
       "  'HE1',\n",
       "  'C',\n",
       "  'O'),\n",
       " ('N',\n",
       "  'H',\n",
       "  'CA',\n",
       "  'HA',\n",
       "  'ND1',\n",
       "  'CG',\n",
       "  'CB',\n",
       "  'HB2',\n",
       "  'HB3',\n",
       "  'NE2',\n",
       "  'HE2',\n",
       "  'CD2',\n",
       "  'HD2',\n",
       "  'CE1',\n",
       "  'HE1',\n",
       "  'C',\n",
       "  'O'),\n",
       " ('N',\n",
       "  'H',\n",
       "  'CA',\n",
       "  'HA',\n",
       "  'ND1',\n",
       "  'CG',\n",
       "  'CB',\n",
       "  'HB2',\n",
       "  'HB3',\n",
       "  'NE2',\n",
       "  'HE2',\n",
       "  'CD2',\n",
       "  'HD2',\n",
       "  'CE1',\n",
       "  'HE1',\n",
       "  'C',\n",
       "  'O'),\n",
       " ('N',\n",
       "  'H',\n",
       "  'CA',\n",
       "  'HA',\n",
       "  'ND1',\n",
       "  'HD1',\n",
       "  'CG',\n",
       "  'CB',\n",
       "  'HB2',\n",
       "  'HB3',\n",
       "  'NE2',\n",
       "  'CD2',\n",
       "  'HD2',\n",
       "  'CE1',\n",
       "  'HE1',\n",
       "  'C',\n",
       "  'O'),\n",
       " ('N',\n",
       "  'H',\n",
       "  'CA',\n",
       "  'HA',\n",
       "  'ND1',\n",
       "  'CG',\n",
       "  'CB',\n",
       "  'HB2',\n",
       "  'HB3',\n",
       "  'NE2',\n",
       "  'HE2',\n",
       "  'CD2',\n",
       "  'HD2',\n",
       "  'CE1',\n",
       "  'HE1',\n",
       "  'C',\n",
       "  'O'),\n",
       " ('N',\n",
       "  'H',\n",
       "  'CA',\n",
       "  'HA',\n",
       "  'ND1',\n",
       "  'CG',\n",
       "  'CB',\n",
       "  'HB2',\n",
       "  'HB3',\n",
       "  'NE2',\n",
       "  'HE2',\n",
       "  'CD2',\n",
       "  'HD2',\n",
       "  'CE1',\n",
       "  'HE1',\n",
       "  'C',\n",
       "  'O'),\n",
       " ('N',\n",
       "  'H',\n",
       "  'CA',\n",
       "  'HA',\n",
       "  'ND1',\n",
       "  'CG',\n",
       "  'CB',\n",
       "  'HB2',\n",
       "  'HB3',\n",
       "  'NE2',\n",
       "  'HE2',\n",
       "  'CD2',\n",
       "  'HD2',\n",
       "  'CE1',\n",
       "  'HE1',\n",
       "  'C',\n",
       "  'O'),\n",
       " ('N',\n",
       "  'H',\n",
       "  'CA',\n",
       "  'HA',\n",
       "  'ND1',\n",
       "  'CG',\n",
       "  'CB',\n",
       "  'HB2',\n",
       "  'HB3',\n",
       "  'NE2',\n",
       "  'HE2',\n",
       "  'CD2',\n",
       "  'HD2',\n",
       "  'CE1',\n",
       "  'HE1',\n",
       "  'C',\n",
       "  'O'),\n",
       " ('N',\n",
       "  'H',\n",
       "  'CA',\n",
       "  'HA',\n",
       "  'ND1',\n",
       "  'CG',\n",
       "  'CB',\n",
       "  'HB2',\n",
       "  'HB3',\n",
       "  'NE2',\n",
       "  'HE2',\n",
       "  'CD2',\n",
       "  'HD2',\n",
       "  'CE1',\n",
       "  'HE1',\n",
       "  'C',\n",
       "  'O'),\n",
       " ('N',\n",
       "  'H',\n",
       "  'CA',\n",
       "  'HA',\n",
       "  'ND1',\n",
       "  'CG',\n",
       "  'CB',\n",
       "  'HB2',\n",
       "  'HB3',\n",
       "  'NE2',\n",
       "  'HE2',\n",
       "  'CD2',\n",
       "  'HD2',\n",
       "  'CE1',\n",
       "  'HE1',\n",
       "  'C',\n",
       "  'O'),\n",
       " ('N',\n",
       "  'H',\n",
       "  'CA',\n",
       "  'HA',\n",
       "  'ND1',\n",
       "  'CG',\n",
       "  'CB',\n",
       "  'HB2',\n",
       "  'HB3',\n",
       "  'NE2',\n",
       "  'HE2',\n",
       "  'CD2',\n",
       "  'HD2',\n",
       "  'CE1',\n",
       "  'HE1',\n",
       "  'C',\n",
       "  'O'),\n",
       " ('N',\n",
       "  'H',\n",
       "  'CA',\n",
       "  'HA',\n",
       "  'ND1',\n",
       "  'CG',\n",
       "  'CB',\n",
       "  'HB2',\n",
       "  'HB3',\n",
       "  'NE2',\n",
       "  'HE2',\n",
       "  'CD2',\n",
       "  'HD2',\n",
       "  'CE1',\n",
       "  'HE1',\n",
       "  'C',\n",
       "  'O'),\n",
       " ('N',\n",
       "  'H',\n",
       "  'CA',\n",
       "  'HA',\n",
       "  'ND1',\n",
       "  'HD1',\n",
       "  'CG',\n",
       "  'CB',\n",
       "  'HB2',\n",
       "  'HB3',\n",
       "  'NE2',\n",
       "  'CD2',\n",
       "  'HD2',\n",
       "  'CE1',\n",
       "  'HE1',\n",
       "  'C',\n",
       "  'O')]"
      ]
     },
     "execution_count": 118,
     "metadata": {},
     "output_type": "execute_result"
    }
   ],
   "source": [
    "atom_names"
   ]
  },
  {
   "cell_type": "code",
   "execution_count": 119,
   "metadata": {
    "collapsed": false
   },
   "outputs": [],
   "source": [
    "atom_names_h = []\n",
    "\n",
    "for names in atom_names:\n",
    "    if 'HD1' in names:\n",
    "        atom_names_h.append('HD1')\n",
    "    else:\n",
    "        atom_names_h.append('HE2')"
   ]
  },
  {
   "cell_type": "code",
   "execution_count": 120,
   "metadata": {
    "collapsed": false
   },
   "outputs": [
    {
     "data": {
      "text/plain": [
       "['HE2',\n",
       " 'HE2',\n",
       " 'HE2',\n",
       " 'HE2',\n",
       " 'HE2',\n",
       " 'HE2',\n",
       " 'HE2',\n",
       " 'HD1',\n",
       " 'HE2',\n",
       " 'HE2',\n",
       " 'HE2',\n",
       " 'HE2',\n",
       " 'HE2',\n",
       " 'HE2',\n",
       " 'HE2',\n",
       " 'HE2',\n",
       " 'HE2',\n",
       " 'HD1',\n",
       " 'HE2',\n",
       " 'HE2',\n",
       " 'HE2',\n",
       " 'HE2',\n",
       " 'HE2',\n",
       " 'HE2',\n",
       " 'HE2',\n",
       " 'HE2',\n",
       " 'HD1']"
      ]
     },
     "execution_count": 120,
     "metadata": {},
     "output_type": "execute_result"
    }
   ],
   "source": [
    "atom_names_h"
   ]
  },
  {
   "cell_type": "code",
   "execution_count": 121,
   "metadata": {
    "collapsed": true
   },
   "outputs": [],
   "source": [
    "# check mutants: 7, 17, 26"
   ]
  },
  {
   "cell_type": "code",
   "execution_count": null,
   "metadata": {
    "collapsed": true
   },
   "outputs": [],
   "source": [
    "# verdict - they do NOT have anything to do with the mutants - force that residue variant to HIE "
   ]
  },
  {
   "cell_type": "code",
   "execution_count": 89,
   "metadata": {
    "collapsed": true
   },
   "outputs": [],
   "source": [
    "# check water numbers"
   ]
  },
  {
   "cell_type": "code",
   "execution_count": 90,
   "metadata": {
    "collapsed": true
   },
   "outputs": [],
   "source": [
    "# wt we used 10874 everywhere"
   ]
  },
  {
   "cell_type": "code",
   "execution_count": 95,
   "metadata": {
    "collapsed": true
   },
   "outputs": [],
   "source": [
    "# ir == implicit refined\n",
    "\n",
    "nwaters = []\n",
    "\n",
    "for i in range(27):\n",
    "    f = open('%d/models/KMT5A_HUMAN_D0/KMT5A_HUMAN_1ZKK_A/nwaters.txt' % i)\n",
    "    nwaters.append(int(f.read()))\n",
    "    f.close()"
   ]
  },
  {
   "cell_type": "code",
   "execution_count": 99,
   "metadata": {
    "collapsed": true
   },
   "outputs": [],
   "source": [
    "import numpy as np"
   ]
  },
  {
   "cell_type": "code",
   "execution_count": 100,
   "metadata": {
    "collapsed": false
   },
   "outputs": [
    {
     "data": {
      "text/plain": [
       "12367"
      ]
     },
     "execution_count": 100,
     "metadata": {},
     "output_type": "execute_result"
    }
   ],
   "source": [
    "np.max(nwaters)"
   ]
  },
  {
   "cell_type": "code",
   "execution_count": 102,
   "metadata": {
    "collapsed": false
   },
   "outputs": [
    {
     "data": {
      "text/plain": [
       "7080"
      ]
     },
     "execution_count": 102,
     "metadata": {},
     "output_type": "execute_result"
    }
   ],
   "source": [
    "np.min(nwaters)"
   ]
  },
  {
   "cell_type": "code",
   "execution_count": 104,
   "metadata": {
    "collapsed": false
   },
   "outputs": [
    {
     "data": {
      "text/plain": [
       "10121.16"
      ]
     },
     "execution_count": 104,
     "metadata": {},
     "output_type": "execute_result"
    }
   ],
   "source": [
    "np.percentile(nwaters, 68)"
   ]
  },
  {
   "cell_type": "code",
   "execution_count": null,
   "metadata": {
    "collapsed": true
   },
   "outputs": [],
   "source": [
    "# ok in this case let's just use the WT number - 10874"
   ]
  }
 ],
 "metadata": {
  "anaconda-cloud": {},
  "kernelspec": {
   "display_name": "Python [conda root]",
   "language": "python",
   "name": "conda-root-py"
  },
  "language_info": {
   "codemirror_mode": {
    "name": "ipython",
    "version": 3
   },
   "file_extension": ".py",
   "mimetype": "text/x-python",
   "name": "python",
   "nbconvert_exporter": "python",
   "pygments_lexer": "ipython3",
   "version": "3.5.2"
  }
 },
 "nbformat": 4,
 "nbformat_minor": 1
}
