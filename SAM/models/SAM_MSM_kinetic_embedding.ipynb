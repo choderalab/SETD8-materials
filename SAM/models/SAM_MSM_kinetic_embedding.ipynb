{
 "cells": [
  {
   "cell_type": "code",
   "execution_count": 1,
   "metadata": {},
   "outputs": [
    {
     "name": "stderr",
     "output_type": "stream",
     "text": [
      "/Users/rafalpwiewiora/anaconda3/lib/python3.5/site-packages/sklearn/cross_validation.py:44: DeprecationWarning: This module was deprecated in version 0.18 in favor of the model_selection module into which all the refactored classes and functions are moved. Also note that the interface of the new CV iterators are different from that of this module. This module will be removed in 0.20.\n",
      "  \"This module will be removed in 0.20.\", DeprecationWarning)\n",
      "/Users/rafalpwiewiora/anaconda3/lib/python3.5/site-packages/sklearn/grid_search.py:43: DeprecationWarning: This module was deprecated in version 0.18 in favor of the model_selection module into which all the refactored classes and functions are moved. This module will be removed in 0.20.\n",
      "  DeprecationWarning)\n"
     ]
    }
   ],
   "source": [
    "import numpy as np\n",
    "import glob\n",
    "import matplotlib\n",
    "%matplotlib inline\n",
    "import matplotlib.pyplot as plt\n",
    "import pyemma\n",
    "import msmbuilder\n",
    "from msmbuilder.msm import MarkovStateModel\n",
    "from msmbuilder.lumping import PCCAPlus\n",
    "import sklearn\n",
    "import sklearn.manifold\n",
    "import scipy"
   ]
  },
  {
   "cell_type": "code",
   "execution_count": 2,
   "metadata": {},
   "outputs": [],
   "source": [
    "dtrajs = [np.load(x) for x in glob.glob('dtrajs/*.npy')]"
   ]
  },
  {
   "cell_type": "code",
   "execution_count": 3,
   "metadata": {},
   "outputs": [],
   "source": [
    "msm = pyemma.msm.estimate_markov_model(dtrajs, lag=100)"
   ]
  },
  {
   "cell_type": "code",
   "execution_count": 4,
   "metadata": {},
   "outputs": [
    {
     "data": {
      "text/plain": [
       "66"
      ]
     },
     "execution_count": 4,
     "metadata": {},
     "output_type": "execute_result"
    }
   ],
   "source": [
    "msm.nstates"
   ]
  },
  {
   "cell_type": "code",
   "execution_count": 5,
   "metadata": {},
   "outputs": [],
   "source": [
    "pi = msm.pi"
   ]
  },
  {
   "cell_type": "code",
   "execution_count": 6,
   "metadata": {},
   "outputs": [],
   "source": [
    "P = msm.P"
   ]
  },
  {
   "cell_type": "code",
   "execution_count": 20,
   "metadata": {},
   "outputs": [
    {
     "data": {
      "text/plain": [
       "0.21028466483011937"
      ]
     },
     "execution_count": 20,
     "metadata": {},
     "output_type": "execute_result"
    }
   ],
   "source": [
    "np.count_nonzero(P) / (66*66)"
   ]
  },
  {
   "cell_type": "code",
   "execution_count": 21,
   "metadata": {},
   "outputs": [],
   "source": [
    "P_2 = np.linalg.matrix_power(P, 2)"
   ]
  },
  {
   "cell_type": "code",
   "execution_count": 23,
   "metadata": {},
   "outputs": [
    {
     "data": {
      "text/plain": [
       "0.5895316804407713"
      ]
     },
     "execution_count": 23,
     "metadata": {},
     "output_type": "execute_result"
    }
   ],
   "source": [
    "np.count_nonzero(P_2) / (66*66)"
   ]
  },
  {
   "cell_type": "code",
   "execution_count": 24,
   "metadata": {},
   "outputs": [],
   "source": [
    "P_3 = np.linalg.matrix_power(P, 3)"
   ]
  },
  {
   "cell_type": "code",
   "execution_count": 25,
   "metadata": {},
   "outputs": [
    {
     "data": {
      "text/plain": [
       "0.8898071625344353"
      ]
     },
     "execution_count": 25,
     "metadata": {},
     "output_type": "execute_result"
    }
   ],
   "source": [
    "np.count_nonzero(P_3) / (66*66)"
   ]
  },
  {
   "cell_type": "code",
   "execution_count": 26,
   "metadata": {},
   "outputs": [],
   "source": [
    "P_4 = np.linalg.matrix_power(P, 4)"
   ]
  },
  {
   "cell_type": "code",
   "execution_count": 27,
   "metadata": {},
   "outputs": [
    {
     "data": {
      "text/plain": [
       "1.0"
      ]
     },
     "execution_count": 27,
     "metadata": {},
     "output_type": "execute_result"
    }
   ],
   "source": [
    "np.count_nonzero(P_4) / (66*66)"
   ]
  },
  {
   "cell_type": "code",
   "execution_count": 28,
   "metadata": {},
   "outputs": [],
   "source": [
    "fluxes_4 = np.multiply(P_4.T, pi)"
   ]
  },
  {
   "cell_type": "code",
   "execution_count": 29,
   "metadata": {},
   "outputs": [],
   "source": [
    "inverse_fluxes_4_log = np.log10(1/fluxes_4)"
   ]
  },
  {
   "cell_type": "code",
   "execution_count": 30,
   "metadata": {},
   "outputs": [],
   "source": [
    "# set diagonals to 0\n",
    "for i in range(24):\n",
    "    inverse_fluxes_4_log[i,i] = 0"
   ]
  },
  {
   "cell_type": "code",
   "execution_count": 31,
   "metadata": {},
   "outputs": [],
   "source": [
    "# we want the embedding to overlap as well as possible with the macrostate embedding - load that, and the metastable\n",
    "# sets from the HMM - we will generate a microstate embedding and calculate the distances from microstates belonging to \n",
    "# macrostate X to that macrostate in the HMM embedding - make 1000 embeddings, pick the top 50 with lowest sums of\n",
    "# distances"
   ]
  },
  {
   "cell_type": "code",
   "execution_count": 33,
   "metadata": {},
   "outputs": [],
   "source": [
    "hmm_embedding = np.load('/Users/rafalpwiewiora/repos/MSM/11708_11710_SET8_ligands/dih/SAM/hmms/results/inverse_flux_150ns_transmatrix_log10_embedding/save_data/17.npy')"
   ]
  },
  {
   "cell_type": "code",
   "execution_count": 34,
   "metadata": {},
   "outputs": [],
   "source": [
    "meta_sets = np.load('/Users/rafalpwiewiora/repos/MSM/11708_11710_SET8_ligands/dih/SAM/hmms/results/12/metastable_sets.npy')"
   ]
  },
  {
   "cell_type": "code",
   "execution_count": 44,
   "metadata": {},
   "outputs": [
    {
     "data": {
      "text/plain": [
       "array([array([ 2,  5,  7, 11, 21, 23, 25, 34, 54, 55, 60, 65]),\n",
       "       array([13, 19]), array([ 0, 18, 31]), array([46]),\n",
       "       array([ 1,  6, 28, 43, 48]),\n",
       "       array([ 4, 16, 20, 30, 32, 33, 35, 39, 50, 58, 59, 62, 64]),\n",
       "       array([44, 49, 51]),\n",
       "       array([ 3,  9, 12, 15, 17, 22, 24, 27, 36, 37, 40, 42, 45, 47, 53, 56, 61,\n",
       "       63, 66]),\n",
       "       array([26, 29]), array([ 8, 10, 14, 38, 41, 52, 57])], dtype=object)"
      ]
     },
     "execution_count": 44,
     "metadata": {},
     "output_type": "execute_result"
    }
   ],
   "source": [
    "meta_sets"
   ]
  },
  {
   "cell_type": "code",
   "execution_count": 43,
   "metadata": {},
   "outputs": [
    {
     "data": {
      "text/plain": [
       "array([ 0,  1,  2,  3,  4,  6,  7,  8, 11, 13, 14, 15, 16, 18, 19, 21, 23,\n",
       "       25, 26, 27, 29, 30, 33, 36, 37, 38, 41, 42, 43, 44, 49, 50, 51, 54,\n",
       "       55, 57, 58, 59, 61, 62, 63, 65, 66, 67, 68, 72, 73, 74, 76, 79, 80,\n",
       "       81, 82, 83, 84, 85, 86, 87, 89, 92, 93, 94, 95, 96, 97, 98])"
      ]
     },
     "execution_count": 43,
     "metadata": {},
     "output_type": "execute_result"
    }
   ],
   "source": [
    "msm.connected_sets[0]"
   ]
  },
  {
   "cell_type": "code",
   "execution_count": null,
   "metadata": {},
   "outputs": [],
   "source": [
    "# make a microstate: macrostate dictionary - first translate "
   ]
  },
  {
   "cell_type": "code",
   "execution_count": 46,
   "metadata": {},
   "outputs": [],
   "source": [
    "hmm_micro_to_micro_translate = {0: 0,\n",
    " 1: 1,\n",
    " 2: 2,\n",
    " 3: 3,\n",
    " 4: 4,\n",
    " 6: 5,\n",
    " 7: 6,\n",
    " 8: 7,\n",
    " 11: 8,\n",
    " 13: 9,\n",
    " 14: 10,\n",
    " 15: 11,\n",
    " 16: 12,\n",
    " 18: 13,\n",
    " 19: 14,\n",
    " 21: 15,\n",
    " 23: 16,\n",
    " 25: 17,\n",
    " 26: 18,\n",
    " 27: 19,\n",
    " 29: 20,\n",
    " 30: 21,\n",
    " 33: 22,\n",
    " 36: 23,\n",
    " 37: 24,\n",
    " 38: 25,\n",
    " 41: 26,\n",
    " 42: 27,\n",
    " 43: 28,\n",
    " 44: 29,\n",
    " 45: 30,\n",
    " 49: 31,\n",
    " 50: 32,\n",
    " 51: 33,\n",
    " 54: 34,\n",
    " 55: 35,\n",
    " 57: 36,\n",
    " 58: 37,\n",
    " 59: 38,\n",
    " 61: 39,\n",
    " 62: 40,\n",
    " 63: 41,\n",
    " 65: 42,\n",
    " 66: 43,\n",
    " 67: 44,\n",
    " 68: 45,\n",
    " 72: 46,\n",
    " 73: 47,\n",
    " 74: 48,\n",
    " 76: 49,\n",
    " 79: 50,\n",
    " 80: 51,\n",
    " 81: 52,\n",
    " 82: 53,\n",
    " 83: 54,\n",
    " 84: 55,\n",
    " 85: 56,\n",
    " 86: 57,\n",
    " 87: 58,\n",
    " 89: 59,\n",
    " 92: 60,\n",
    " 93: 61,\n",
    " 94: 62,\n",
    " 95: 63,\n",
    " 96: 64,\n",
    " 97: 65,\n",
    " 98: 66}"
   ]
  },
  {
   "cell_type": "code",
   "execution_count": 48,
   "metadata": {},
   "outputs": [],
   "source": [
    "micro_macro_translate = dict()\n",
    "\n",
    "for msm_microstate_index, dtrajs_microstate_index in enumerate(msm.connected_sets[0]):\n",
    "    hmm_microstate = hmm_micro_to_micro_translate[dtrajs_microstate_index]\n",
    "    for macro_index, macrostate in enumerate(meta_sets):\n",
    "        if hmm_microstate in macrostate:\n",
    "            macrostate_index = macro_index\n",
    "            break\n",
    "    micro_macro_translate[msm_microstate_index] = macrostate_index"
   ]
  },
  {
   "cell_type": "code",
   "execution_count": 50,
   "metadata": {},
   "outputs": [],
   "source": [
    "# make a dictionary of microstate: macrostate it belongs to coordinates"
   ]
  },
  {
   "cell_type": "code",
   "execution_count": 51,
   "metadata": {},
   "outputs": [],
   "source": [
    "micro_coordinates = dict()\n",
    "\n",
    "for msm_microstate_index, dtrajs_microstate_index in enumerate(msm.connected_sets[0]):\n",
    "    hmm_microstate = hmm_micro_to_micro_translate[dtrajs_microstate_index]\n",
    "    for macro_index, macrostate in enumerate(meta_sets):\n",
    "        if hmm_microstate in macrostate:\n",
    "            macrostate_index = macro_index\n",
    "            break\n",
    "    micro_coordinates[msm_microstate_index] = hmm_embedding[macrostate_index]"
   ]
  },
  {
   "cell_type": "code",
   "execution_count": 52,
   "metadata": {},
   "outputs": [],
   "source": [
    "embeddings = []\n",
    "\n",
    "for j in range(1000):\n",
    "    mds = sklearn.manifold.MDS(dissimilarity='precomputed')\n",
    "    mds_embed = mds.fit_transform(inverse_fluxes_4_log)\n",
    "    distance_sum = 0\n",
    "    for microstate_index, microstate in enumerate(mds_embed):\n",
    "        distance = scipy.spatial.distance.pdist([microstate, micro_coordinates[microstate_index]])\n",
    "        distance_sum += distance[0]\n",
    "    embeddings.append([mds_embed, distance_sum])    "
   ]
  },
  {
   "cell_type": "code",
   "execution_count": 53,
   "metadata": {},
   "outputs": [],
   "source": [
    "# sort by distance\n",
    "sorted_embeddings = sorted(embeddings, key=lambda x: x[1])"
   ]
  },
  {
   "cell_type": "code",
   "execution_count": 54,
   "metadata": {},
   "outputs": [],
   "source": [
    "for j in range(50):\n",
    "    mds_embed = sorted_embeddings[j][0]\n",
    "    np.save('inverse_flux_200ns_transmatrix_log10_embedding/save_data/%d.npy' % j, mds_embed)\n",
    "    with open('inverse_flux_200ns_transmatrix_log10_embedding/%d.txt' % j, 'w') as f:\n",
    "        f.write(str(mds_embed))\n",
    "    f, ax = plt.subplots(dpi=300)\n",
    "    ax.scatter(mds_embed[:,0], mds_embed[:,1], c='black')\n",
    "    for i in range(66):\n",
    "        ax.annotate(i, (mds_embed[i,0], mds_embed[i,1]))\n",
    "    plt.savefig('inverse_flux_200ns_transmatrix_log10_embedding/%d.png' % j, dpi=300)\n",
    "    plt.close()"
   ]
  },
  {
   "cell_type": "code",
   "execution_count": 55,
   "metadata": {},
   "outputs": [],
   "source": [
    "for j in range(50):\n",
    "    mds_embed = sorted_embeddings[j][0]\n",
    "    f, ax = plt.subplots(dpi=300)\n",
    "    ax.scatter(mds_embed[:,0], mds_embed[:,1], c='black')\n",
    "    for i in range(66):\n",
    "        ax.annotate(micro_macro_translate[i], (mds_embed[i,0], mds_embed[i,1]))\n",
    "    plt.savefig('inverse_flux_200ns_transmatrix_log10_embedding/%d_macrolabels.png' % j, dpi=300)\n",
    "    plt.close()"
   ]
  },
  {
   "cell_type": "code",
   "execution_count": null,
   "metadata": {},
   "outputs": [],
   "source": []
  }
 ],
 "metadata": {
  "anaconda-cloud": {},
  "kernelspec": {
   "display_name": "Python [conda root]",
   "language": "python",
   "name": "conda-root-py"
  },
  "language_info": {
   "codemirror_mode": {
    "name": "ipython",
    "version": 3
   },
   "file_extension": ".py",
   "mimetype": "text/x-python",
   "name": "python",
   "nbconvert_exporter": "python",
   "pygments_lexer": "ipython3",
   "version": "3.5.2"
  }
 },
 "nbformat": 4,
 "nbformat_minor": 1
}
