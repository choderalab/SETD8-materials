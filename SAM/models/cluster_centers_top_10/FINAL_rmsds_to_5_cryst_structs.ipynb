{
 "cells": [
  {
   "cell_type": "code",
   "execution_count": 4,
   "metadata": {},
   "outputs": [],
   "source": [
    "import mdtraj as md\n",
    "import numpy as np\n",
    "import glob"
   ]
  },
  {
   "cell_type": "code",
   "execution_count": 2,
   "metadata": {},
   "outputs": [
    {
     "data": {
      "text/plain": [
       "'/Users/rafalpwiewiora/repos/MSM/11708_11710_SET8_ligands/dih/SAM/cluster_centers_top_10'"
      ]
     },
     "execution_count": 2,
     "metadata": {},
     "output_type": "execute_result"
    }
   ],
   "source": [
    "pwd"
   ]
  },
  {
   "cell_type": "code",
   "execution_count": 8,
   "metadata": {},
   "outputs": [],
   "source": [
    "microstates_loaded = []\n",
    "\n",
    "for i in range(100):\n",
    "    filename = 'h5_reimaged/%d.h5' % i\n",
    "    if filename in glob.glob('h5_reimaged/*.h5'):\n",
    "        traj = md.load(filename)\n",
    "        traj = traj.atom_slice(traj.top.select('protein and not element H'))\n",
    "        microstates_loaded.append(traj)"
   ]
  },
  {
   "cell_type": "code",
   "execution_count": 9,
   "metadata": {},
   "outputs": [],
   "source": [
    "cluster_top10 = microstates_loaded"
   ]
  },
  {
   "cell_type": "code",
   "execution_count": 11,
   "metadata": {},
   "outputs": [],
   "source": [
    "obs_probs = np.load('/Users/rafalpwiewiora/repos/MSM/11708_11710_SET8_ligands/dih/SAM/hmms/results/12/observation_probabilities.npy')"
   ]
  },
  {
   "cell_type": "code",
   "execution_count": 12,
   "metadata": {},
   "outputs": [],
   "source": [
    "zkk = md.load('/Users/rafalpwiewiora/repos/MSM/sasa/models/1zkk_a.pdb')\n",
    "ij8 = md.load('/Users/rafalpwiewiora/repos/MSM/sasa/models/4ij8_a.pdb')\n",
    "apo = md.load('/Users/rafalpwiewiora/repos/MSM/sasa/models/apo_a.pdb')\n",
    "inh1 = md.load('/Users/rafalpwiewiora/repos/MSM/sasa/models/inh_a.pdb')\n",
    "inh2 = md.load('/Users/rafalpwiewiora/repos/MSM/sasa/models/inh2_a.pdb')"
   ]
  },
  {
   "cell_type": "code",
   "execution_count": 13,
   "metadata": {},
   "outputs": [],
   "source": [
    "cluster_top10_ca = [x.atom_slice(x.top.select('name CA')) for x in cluster_top10]"
   ]
  },
  {
   "cell_type": "code",
   "execution_count": 14,
   "metadata": {},
   "outputs": [],
   "source": [
    "zkk_ca = zkk.atom_slice(zkk.top.select('name CA'))\n",
    "ij8_ca = ij8.atom_slice(ij8.top.select('name CA'))\n",
    "apo_ca = apo.atom_slice(apo.top.select('name CA'))\n",
    "inh1_ca = inh1.atom_slice(inh1.top.select('name CA'))\n",
    "inh2_ca = inh2.atom_slice(inh2.top.select('name CA'))"
   ]
  },
  {
   "cell_type": "code",
   "execution_count": 15,
   "metadata": {},
   "outputs": [
    {
     "data": {
      "text/plain": [
       "67"
      ]
     },
     "execution_count": 15,
     "metadata": {},
     "output_type": "execute_result"
    }
   ],
   "source": [
    "len(cluster_top10)"
   ]
  },
  {
   "cell_type": "code",
   "execution_count": 16,
   "metadata": {},
   "outputs": [],
   "source": [
    "whole_rmsds = []\n",
    "seti_rmsds = []\n",
    "selection1 = np.concatenate([np.arange(25,59), np.arange(95,145)])\n",
    "\n",
    "for i in range(67):\n",
    "    trajectory = cluster_top10_ca[i]\n",
    "    whole_rmsds.append([])\n",
    "    seti_rmsds.append([])\n",
    "         \n",
    "    # whole protein\n",
    "    reference = zkk_ca                        \n",
    "    trajectory.superpose(reference, atom_indices=selection1)\n",
    "    whole_rmsds[-1].append(np.sqrt(3*np.mean((trajectory.xyz - reference.xyz)**2, axis=(1,2))))\n",
    "    \n",
    "    reference = ij8_ca                        \n",
    "    trajectory.superpose(reference, atom_indices=selection1)\n",
    "    whole_rmsds[-1].append(np.sqrt(3*np.mean((trajectory.xyz - reference.xyz)**2, axis=(1,2))))\n",
    "                            \n",
    "    reference = apo_ca                        \n",
    "    trajectory.superpose(reference, atom_indices=selection1)\n",
    "    whole_rmsds[-1].append(np.sqrt(3*np.mean((trajectory.xyz - reference.xyz)**2, axis=(1,2))))\n",
    "    \n",
    "    reference = inh1_ca                        \n",
    "    trajectory.superpose(reference, atom_indices=selection1)\n",
    "    whole_rmsds[-1].append(np.sqrt(3*np.mean((trajectory.xyz - reference.xyz)**2, axis=(1,2))))\n",
    "    \n",
    "    reference = inh2_ca                        \n",
    "    trajectory.superpose(reference, atom_indices=selection1)\n",
    "    whole_rmsds[-1].append(np.sqrt(3*np.mean((trajectory.xyz - reference.xyz)**2, axis=(1,2))))\n",
    "    \n",
    "    # SETI + C-flank\n",
    "    selection2 = np.concatenate([np.arange(59,95), np.arange(145,162)])\n",
    "                            \n",
    "    reference = zkk_ca            \n",
    "    trajectory.superpose(reference, atom_indices=selection1)\n",
    "    seti_rmsds[-1].append(np.sqrt(3*np.mean((trajectory.xyz[:, selection2, :] - reference.xyz[:, selection2, :])**2, axis=(1,2))))\n",
    "    \n",
    "    reference = ij8_ca            \n",
    "    trajectory.superpose(reference, atom_indices=selection1)\n",
    "    seti_rmsds[-1].append(np.sqrt(3*np.mean((trajectory.xyz[:, selection2, :] - reference.xyz[:, selection2, :])**2, axis=(1,2))))                  \n",
    "    \n",
    "    reference = apo_ca            \n",
    "    trajectory.superpose(reference, atom_indices=selection1)\n",
    "    seti_rmsds[-1].append(np.sqrt(3*np.mean((trajectory.xyz[:, selection2, :] - reference.xyz[:, selection2, :])**2, axis=(1,2))))\n",
    "    \n",
    "    reference = inh1_ca            \n",
    "    trajectory.superpose(reference, atom_indices=selection1)\n",
    "    seti_rmsds[-1].append(np.sqrt(3*np.mean((trajectory.xyz[:, selection2, :] - reference.xyz[:, selection2, :])**2, axis=(1,2))))\n",
    "    \n",
    "    reference = inh2_ca            \n",
    "    trajectory.superpose(reference, atom_indices=selection1)\n",
    "    seti_rmsds[-1].append(np.sqrt(3*np.mean((trajectory.xyz[:, selection2, :] - reference.xyz[:, selection2, :])**2, axis=(1,2))))"
   ]
  },
  {
   "cell_type": "code",
   "execution_count": 17,
   "metadata": {},
   "outputs": [],
   "source": [
    "# whole protein"
   ]
  },
  {
   "cell_type": "code",
   "execution_count": 19,
   "metadata": {},
   "outputs": [],
   "source": [
    "zkk_only_rmsds_micro = []\n",
    "ij8_only_rmsds_micro = []\n",
    "apo_only_rmsds_micro = []\n",
    "inh1_only_rmsds_micro = []\n",
    "inh2_only_rmsds_micro = []\n",
    "\n",
    "for i in range(67):\n",
    "    zkk_only_rmsds_micro.append(np.mean(whole_rmsds[i][0]))\n",
    "\n",
    "for i in range(67):\n",
    "    ij8_only_rmsds_micro.append(np.mean(whole_rmsds[i][1]))\n",
    "    \n",
    "for i in range(67):\n",
    "    apo_only_rmsds_micro.append(np.mean(whole_rmsds[i][2]))\n",
    "    \n",
    "for i in range(67):\n",
    "    inh1_only_rmsds_micro.append(np.mean(whole_rmsds[i][3]))\n",
    "    \n",
    "for i in range(67):\n",
    "    inh2_only_rmsds_micro.append(np.mean(whole_rmsds[i][4]))    "
   ]
  },
  {
   "cell_type": "code",
   "execution_count": 22,
   "metadata": {},
   "outputs": [],
   "source": [
    "#mkdir FINAL_rmsd_data"
   ]
  },
  {
   "cell_type": "code",
   "execution_count": 23,
   "metadata": {},
   "outputs": [],
   "source": [
    "np.savetxt('FINAL_rmsd_data/micro_TC_CA_whole.csv', zkk_only_rmsds_micro, delimiter=',')\n",
    "np.savetxt('FINAL_rmsd_data/micro_BC-SAM_CA_whole.csv', ij8_only_rmsds_micro, delimiter=',')\n",
    "np.savetxt('FINAL_rmsd_data/micro_APO_CA_whole.csv', apo_only_rmsds_micro, delimiter=',')\n",
    "np.savetxt('FINAL_rmsd_data/micro_BC-Inh1_CA_whole.csv', inh2_only_rmsds_micro, delimiter=',')\n",
    "np.savetxt('FINAL_rmsd_data/micro_BC-Inh2_CA_whole.csv', inh1_only_rmsds_micro, delimiter=',')"
   ]
  },
  {
   "cell_type": "code",
   "execution_count": 24,
   "metadata": {},
   "outputs": [],
   "source": [
    "# SET-I + C-flank"
   ]
  },
  {
   "cell_type": "code",
   "execution_count": 25,
   "metadata": {},
   "outputs": [],
   "source": [
    "zkk_only_rmsds_micro = []\n",
    "ij8_only_rmsds_micro = []\n",
    "apo_only_rmsds_micro = []\n",
    "inh1_only_rmsds_micro = []\n",
    "inh2_only_rmsds_micro = []\n",
    "\n",
    "for i in range(67):\n",
    "    zkk_only_rmsds_micro.append(np.mean(seti_rmsds[i][0]))\n",
    "\n",
    "for i in range(67):\n",
    "    ij8_only_rmsds_micro.append(np.mean(seti_rmsds[i][1]))\n",
    "    \n",
    "for i in range(67):\n",
    "    apo_only_rmsds_micro.append(np.mean(seti_rmsds[i][2]))\n",
    "    \n",
    "for i in range(67):\n",
    "    inh1_only_rmsds_micro.append(np.mean(seti_rmsds[i][3]))\n",
    "    \n",
    "for i in range(67):\n",
    "    inh2_only_rmsds_micro.append(np.mean(seti_rmsds[i][4]))    "
   ]
  },
  {
   "cell_type": "code",
   "execution_count": 26,
   "metadata": {},
   "outputs": [],
   "source": [
    "np.savetxt('FINAL_rmsd_data/micro_TC_CA_setipostset.csv', zkk_only_rmsds_micro, delimiter=',')\n",
    "np.savetxt('FINAL_rmsd_data/micro_BC-SAM_CA_setipostset.csv', ij8_only_rmsds_micro, delimiter=',')\n",
    "np.savetxt('FINAL_rmsd_data/micro_APO_CA_setipostset.csv', apo_only_rmsds_micro, delimiter=',')\n",
    "np.savetxt('FINAL_rmsd_data/micro_BC-Inh1_CA_setipostset.csv', inh2_only_rmsds_micro, delimiter=',')\n",
    "np.savetxt('FINAL_rmsd_data/micro_BC-Inh2_CA_setipostset.csv', inh1_only_rmsds_micro, delimiter=',')"
   ]
  },
  {
   "cell_type": "code",
   "execution_count": 27,
   "metadata": {},
   "outputs": [],
   "source": [
    "# macrostates - 4 ways - whole protein / SET-I + C-flank, either take top microstate or average over all microstates"
   ]
  },
  {
   "cell_type": "code",
   "execution_count": 28,
   "metadata": {},
   "outputs": [],
   "source": [
    "# whole protein, top"
   ]
  },
  {
   "cell_type": "code",
   "execution_count": 29,
   "metadata": {},
   "outputs": [
    {
     "data": {
      "text/plain": [
       "(10, 67)"
      ]
     },
     "execution_count": 29,
     "metadata": {},
     "output_type": "execute_result"
    }
   ],
   "source": [
    "obs_probs.shape"
   ]
  },
  {
   "cell_type": "code",
   "execution_count": 30,
   "metadata": {},
   "outputs": [],
   "source": [
    "zkk_only_rmsds = []\n",
    "ij8_only_rmsds = []\n",
    "apo_only_rmsds = []\n",
    "inh1_only_rmsds = []\n",
    "inh2_only_rmsds = []\n",
    "\n",
    "for i in range(10):\n",
    "    j = np.argmax(obs_probs[i])\n",
    "    zkk_only_rmsds.append(np.mean(whole_rmsds[j][0]))\n",
    "\n",
    "for i in range(10):\n",
    "    j = np.argmax(obs_probs[i])\n",
    "    ij8_only_rmsds.append(np.mean(whole_rmsds[j][1]))\n",
    "    \n",
    "for i in range(10):\n",
    "    j = np.argmax(obs_probs[i])\n",
    "    apo_only_rmsds.append(np.mean(whole_rmsds[j][2]))\n",
    "    \n",
    "for i in range(10):\n",
    "    j = np.argmax(obs_probs[i])\n",
    "    inh1_only_rmsds.append(np.mean(whole_rmsds[j][3]))\n",
    "    \n",
    "for i in range(10):\n",
    "    j = np.argmax(obs_probs[i])\n",
    "    inh2_only_rmsds.append(np.mean(whole_rmsds[j][4]))    "
   ]
  },
  {
   "cell_type": "code",
   "execution_count": 31,
   "metadata": {},
   "outputs": [],
   "source": [
    "np.savetxt('FINAL_rmsd_data/macro_top_TC_CA_whole.csv', zkk_only_rmsds, delimiter=',')\n",
    "np.savetxt('FINAL_rmsd_data/macro_top_BC-SAM_CA_whole.csv', ij8_only_rmsds, delimiter=',')\n",
    "np.savetxt('FINAL_rmsd_data/macro_top_APO_CA_whole.csv', apo_only_rmsds, delimiter=',')\n",
    "np.savetxt('FINAL_rmsd_data/macro_top_BC-Inh1_CA_whole.csv', inh2_only_rmsds, delimiter=',')\n",
    "np.savetxt('FINAL_rmsd_data/macro_top_BC-Inh2_CA_whole.csv', inh1_only_rmsds, delimiter=',')"
   ]
  },
  {
   "cell_type": "code",
   "execution_count": 32,
   "metadata": {},
   "outputs": [],
   "source": [
    "# whole protein, average"
   ]
  },
  {
   "cell_type": "code",
   "execution_count": 33,
   "metadata": {},
   "outputs": [],
   "source": [
    "zkk_all_microstates = [np.mean(x[0]) for x in whole_rmsds]\n",
    "ij8_all_microstates = [np.mean(x[1]) for x in whole_rmsds]\n",
    "apo_all_microstates = [np.mean(x[2]) for x in whole_rmsds]\n",
    "inh1_all_microstates = [np.mean(x[3]) for x in whole_rmsds]\n",
    "inh2_all_microstates = [np.mean(x[4]) for x in whole_rmsds]\n",
    "\n",
    "zkk_only_rmsds = []\n",
    "ij8_only_rmsds = []\n",
    "apo_only_rmsds = []\n",
    "inh1_only_rmsds = []\n",
    "inh2_only_rmsds = []\n",
    "\n",
    "for i in range(10):\n",
    "    zkk_only_rmsds.append(np.average(zkk_all_microstates, weights=obs_probs[i]))\n",
    "\n",
    "for i in range(10):\n",
    "    ij8_only_rmsds.append(np.average(ij8_all_microstates, weights=obs_probs[i]))\n",
    "    \n",
    "for i in range(10):\n",
    "    apo_only_rmsds.append(np.average(apo_all_microstates, weights=obs_probs[i]))\n",
    "    \n",
    "for i in range(10):\n",
    "    inh1_only_rmsds.append(np.average(inh1_all_microstates, weights=obs_probs[i]))\n",
    "    \n",
    "for i in range(10):\n",
    "    inh2_only_rmsds.append(np.average(inh2_all_microstates, weights=obs_probs[i]))    "
   ]
  },
  {
   "cell_type": "code",
   "execution_count": 34,
   "metadata": {},
   "outputs": [],
   "source": [
    "np.savetxt('FINAL_rmsd_data/macro_avg_TC_CA_whole.csv', zkk_only_rmsds, delimiter=',')\n",
    "np.savetxt('FINAL_rmsd_data/macro_avg_BC-SAM_CA_whole.csv', ij8_only_rmsds, delimiter=',')\n",
    "np.savetxt('FINAL_rmsd_data/macro_avg_APO_CA_whole.csv', apo_only_rmsds, delimiter=',')\n",
    "np.savetxt('FINAL_rmsd_data/macro_avg_BC-Inh1_CA_whole.csv', inh2_only_rmsds, delimiter=',')\n",
    "np.savetxt('FINAL_rmsd_data/macro_avg_BC-Inh2_CA_whole.csv', inh1_only_rmsds, delimiter=',')"
   ]
  },
  {
   "cell_type": "code",
   "execution_count": 35,
   "metadata": {},
   "outputs": [],
   "source": [
    "# SET-I + C-flank, top"
   ]
  },
  {
   "cell_type": "code",
   "execution_count": 36,
   "metadata": {},
   "outputs": [],
   "source": [
    "zkk_only_rmsds = []\n",
    "ij8_only_rmsds = []\n",
    "apo_only_rmsds = []\n",
    "inh1_only_rmsds = []\n",
    "inh2_only_rmsds = []\n",
    "\n",
    "for i in range(10):\n",
    "    j = np.argmax(obs_probs[i])\n",
    "    zkk_only_rmsds.append(np.mean(seti_rmsds[j][0]))\n",
    "\n",
    "for i in range(10):\n",
    "    j = np.argmax(obs_probs[i])\n",
    "    ij8_only_rmsds.append(np.mean(seti_rmsds[j][1]))\n",
    "    \n",
    "for i in range(10):\n",
    "    j = np.argmax(obs_probs[i])\n",
    "    apo_only_rmsds.append(np.mean(seti_rmsds[j][2]))\n",
    "    \n",
    "for i in range(10):\n",
    "    j = np.argmax(obs_probs[i])\n",
    "    inh1_only_rmsds.append(np.mean(seti_rmsds[j][3]))\n",
    "    \n",
    "for i in range(10):\n",
    "    j = np.argmax(obs_probs[i])\n",
    "    inh2_only_rmsds.append(np.mean(seti_rmsds[j][4]))    "
   ]
  },
  {
   "cell_type": "code",
   "execution_count": 37,
   "metadata": {},
   "outputs": [],
   "source": [
    "np.savetxt('FINAL_rmsd_data/macro_top_TC_CA_setipostset.csv', zkk_only_rmsds, delimiter=',')\n",
    "np.savetxt('FINAL_rmsd_data/macro_top_BC-SAM_CA_setipostset.csv', ij8_only_rmsds, delimiter=',')\n",
    "np.savetxt('FINAL_rmsd_data/macro_top_APO_CA_setipostset.csv', apo_only_rmsds, delimiter=',')\n",
    "np.savetxt('FINAL_rmsd_data/macro_top_BC-Inh1_CA_setipostset.csv', inh2_only_rmsds, delimiter=',')\n",
    "np.savetxt('FINAL_rmsd_data/macro_top_BC-Inh2_CA_setipostset.csv', inh1_only_rmsds, delimiter=',')"
   ]
  },
  {
   "cell_type": "code",
   "execution_count": 38,
   "metadata": {},
   "outputs": [],
   "source": [
    "# SET-I + C-flank, average"
   ]
  },
  {
   "cell_type": "code",
   "execution_count": 39,
   "metadata": {},
   "outputs": [],
   "source": [
    "zkk_all_microstates = [np.mean(x[0]) for x in seti_rmsds]\n",
    "ij8_all_microstates = [np.mean(x[1]) for x in seti_rmsds]\n",
    "apo_all_microstates = [np.mean(x[2]) for x in seti_rmsds]\n",
    "inh1_all_microstates = [np.mean(x[3]) for x in seti_rmsds]\n",
    "inh2_all_microstates = [np.mean(x[4]) for x in seti_rmsds]\n",
    "\n",
    "zkk_only_rmsds = []\n",
    "ij8_only_rmsds = []\n",
    "apo_only_rmsds = []\n",
    "inh1_only_rmsds = []\n",
    "inh2_only_rmsds = []\n",
    "\n",
    "for i in range(10):\n",
    "    zkk_only_rmsds.append(np.average(zkk_all_microstates, weights=obs_probs[i]))\n",
    "\n",
    "for i in range(10):\n",
    "    ij8_only_rmsds.append(np.average(ij8_all_microstates, weights=obs_probs[i]))\n",
    "    \n",
    "for i in range(10):\n",
    "    apo_only_rmsds.append(np.average(apo_all_microstates, weights=obs_probs[i]))\n",
    "    \n",
    "for i in range(10):\n",
    "    inh1_only_rmsds.append(np.average(inh1_all_microstates, weights=obs_probs[i]))\n",
    "    \n",
    "for i in range(10):\n",
    "    inh2_only_rmsds.append(np.average(inh2_all_microstates, weights=obs_probs[i]))    "
   ]
  },
  {
   "cell_type": "code",
   "execution_count": 40,
   "metadata": {},
   "outputs": [],
   "source": [
    "np.savetxt('FINAL_rmsd_data/macro_avg_TC_CA_setipostset.csv', zkk_only_rmsds, delimiter=',')\n",
    "np.savetxt('FINAL_rmsd_data/macro_avg_BC-SAM_CA_setipostset.csv', ij8_only_rmsds, delimiter=',')\n",
    "np.savetxt('FINAL_rmsd_data/macro_avg_APO_CA_setipostset.csv', apo_only_rmsds, delimiter=',')\n",
    "np.savetxt('FINAL_rmsd_data/macro_avg_BC-Inh1_CA_setipostset.csv', inh2_only_rmsds, delimiter=',')\n",
    "np.savetxt('FINAL_rmsd_data/macro_avg_BC-Inh2_CA_setipostset.csv', inh1_only_rmsds, delimiter=',')"
   ]
  },
  {
   "cell_type": "code",
   "execution_count": 41,
   "metadata": {},
   "outputs": [],
   "source": [
    "# now repeat everything, but with heavy atom RMSDs"
   ]
  },
  {
   "cell_type": "code",
   "execution_count": 42,
   "metadata": {},
   "outputs": [],
   "source": [
    "whole_rmsds = []\n",
    "seti_rmsds = []\n",
    "selection1_resids = np.concatenate([np.arange(25,59), np.arange(95,145)])\n",
    "selection1 = [atom.index for atom in zkk.top.atoms if atom.residue.index in selection1_resids]\n",
    "\n",
    "for i in range(67):\n",
    "    trajectory = cluster_top10[i]\n",
    "    whole_rmsds.append([])\n",
    "    seti_rmsds.append([])\n",
    "         \n",
    "    # whole protein\n",
    "    reference = zkk                        \n",
    "    trajectory.superpose(reference, atom_indices=selection1)\n",
    "    whole_rmsds[-1].append(np.sqrt(3*np.mean((trajectory.xyz - reference.xyz)**2, axis=(1,2))))\n",
    "    \n",
    "    reference = ij8                       \n",
    "    trajectory.superpose(reference, atom_indices=selection1)\n",
    "    whole_rmsds[-1].append(np.sqrt(3*np.mean((trajectory.xyz - reference.xyz)**2, axis=(1,2))))\n",
    "                            \n",
    "    reference = apo                        \n",
    "    trajectory.superpose(reference, atom_indices=selection1)\n",
    "    whole_rmsds[-1].append(np.sqrt(3*np.mean((trajectory.xyz - reference.xyz)**2, axis=(1,2))))\n",
    "    \n",
    "    reference = inh1                        \n",
    "    trajectory.superpose(reference, atom_indices=selection1)\n",
    "    whole_rmsds[-1].append(np.sqrt(3*np.mean((trajectory.xyz - reference.xyz)**2, axis=(1,2))))\n",
    "    \n",
    "    reference = inh2                       \n",
    "    trajectory.superpose(reference, atom_indices=selection1)\n",
    "    whole_rmsds[-1].append(np.sqrt(3*np.mean((trajectory.xyz - reference.xyz)**2, axis=(1,2))))\n",
    "    \n",
    "    # SETI + C-flank\n",
    "    selection2_resids = np.concatenate([np.arange(59,95), np.arange(145,162)])\n",
    "    selection2 = [atom.index for atom in zkk.top.atoms if atom.residue.index in selection2_resids]\n",
    "                            \n",
    "    reference = zkk            \n",
    "    trajectory.superpose(reference, atom_indices=selection1)\n",
    "    seti_rmsds[-1].append(np.sqrt(3*np.mean((trajectory.xyz[:, selection2, :] - reference.xyz[:, selection2, :])**2, axis=(1,2))))\n",
    "    \n",
    "    reference = ij8           \n",
    "    trajectory.superpose(reference, atom_indices=selection1)\n",
    "    seti_rmsds[-1].append(np.sqrt(3*np.mean((trajectory.xyz[:, selection2, :] - reference.xyz[:, selection2, :])**2, axis=(1,2))))                  \n",
    "    \n",
    "    reference = apo            \n",
    "    trajectory.superpose(reference, atom_indices=selection1)\n",
    "    seti_rmsds[-1].append(np.sqrt(3*np.mean((trajectory.xyz[:, selection2, :] - reference.xyz[:, selection2, :])**2, axis=(1,2))))\n",
    "    \n",
    "    reference = inh1            \n",
    "    trajectory.superpose(reference, atom_indices=selection1)\n",
    "    seti_rmsds[-1].append(np.sqrt(3*np.mean((trajectory.xyz[:, selection2, :] - reference.xyz[:, selection2, :])**2, axis=(1,2))))\n",
    "    \n",
    "    reference = inh2           \n",
    "    trajectory.superpose(reference, atom_indices=selection1)\n",
    "    seti_rmsds[-1].append(np.sqrt(3*np.mean((trajectory.xyz[:, selection2, :] - reference.xyz[:, selection2, :])**2, axis=(1,2))))"
   ]
  },
  {
   "cell_type": "code",
   "execution_count": 43,
   "metadata": {},
   "outputs": [],
   "source": [
    "zkk_only_rmsds_micro = []\n",
    "ij8_only_rmsds_micro = []\n",
    "apo_only_rmsds_micro = []\n",
    "inh1_only_rmsds_micro = []\n",
    "inh2_only_rmsds_micro = []\n",
    "\n",
    "for i in range(67):\n",
    "    zkk_only_rmsds_micro.append(np.mean(whole_rmsds[i][0]))\n",
    "\n",
    "for i in range(67):\n",
    "    ij8_only_rmsds_micro.append(np.mean(whole_rmsds[i][1]))\n",
    "    \n",
    "for i in range(67):\n",
    "    apo_only_rmsds_micro.append(np.mean(whole_rmsds[i][2]))\n",
    "    \n",
    "for i in range(67):\n",
    "    inh1_only_rmsds_micro.append(np.mean(whole_rmsds[i][3]))\n",
    "    \n",
    "for i in range(67):\n",
    "    inh2_only_rmsds_micro.append(np.mean(whole_rmsds[i][4]))    "
   ]
  },
  {
   "cell_type": "code",
   "execution_count": 44,
   "metadata": {},
   "outputs": [],
   "source": [
    "np.savetxt('FINAL_rmsd_data/micro_TC_heavyatom_whole.csv', zkk_only_rmsds_micro, delimiter=',')\n",
    "np.savetxt('FINAL_rmsd_data/micro_BC-SAM_heavyatom_whole.csv', ij8_only_rmsds_micro, delimiter=',')\n",
    "np.savetxt('FINAL_rmsd_data/micro_APO_heavyatom_whole.csv', apo_only_rmsds_micro, delimiter=',')\n",
    "np.savetxt('FINAL_rmsd_data/micro_BC-Inh1_heavyatom_whole.csv', inh2_only_rmsds_micro, delimiter=',')\n",
    "np.savetxt('FINAL_rmsd_data/micro_BC-Inh2_heavyatom_whole.csv', inh1_only_rmsds_micro, delimiter=',')"
   ]
  },
  {
   "cell_type": "code",
   "execution_count": 45,
   "metadata": {},
   "outputs": [],
   "source": [
    "zkk_only_rmsds_micro = []\n",
    "ij8_only_rmsds_micro = []\n",
    "apo_only_rmsds_micro = []\n",
    "inh1_only_rmsds_micro = []\n",
    "inh2_only_rmsds_micro = []\n",
    "\n",
    "for i in range(67):\n",
    "    zkk_only_rmsds_micro.append(np.mean(seti_rmsds[i][0]))\n",
    "\n",
    "for i in range(67):\n",
    "    ij8_only_rmsds_micro.append(np.mean(seti_rmsds[i][1]))\n",
    "    \n",
    "for i in range(67):\n",
    "    apo_only_rmsds_micro.append(np.mean(seti_rmsds[i][2]))\n",
    "    \n",
    "for i in range(67):\n",
    "    inh1_only_rmsds_micro.append(np.mean(seti_rmsds[i][3]))\n",
    "    \n",
    "for i in range(67):\n",
    "    inh2_only_rmsds_micro.append(np.mean(seti_rmsds[i][4]))    "
   ]
  },
  {
   "cell_type": "code",
   "execution_count": 46,
   "metadata": {},
   "outputs": [],
   "source": [
    "np.savetxt('FINAL_rmsd_data/micro_TC_heavyatom_setipostset.csv', zkk_only_rmsds_micro, delimiter=',')\n",
    "np.savetxt('FINAL_rmsd_data/micro_BC-SAM_heavyatom_setipostset.csv', ij8_only_rmsds_micro, delimiter=',')\n",
    "np.savetxt('FINAL_rmsd_data/micro_APO_heavyatom_setipostset.csv', apo_only_rmsds_micro, delimiter=',')\n",
    "np.savetxt('FINAL_rmsd_data/micro_BC-Inh1_heavyatom_setipostset.csv', inh2_only_rmsds_micro, delimiter=',')\n",
    "np.savetxt('FINAL_rmsd_data/micro_BC-Inh2_heavyatom_setipostset.csv', inh1_only_rmsds_micro, delimiter=',')"
   ]
  },
  {
   "cell_type": "code",
   "execution_count": 47,
   "metadata": {},
   "outputs": [],
   "source": [
    "zkk_only_rmsds = []\n",
    "ij8_only_rmsds = []\n",
    "apo_only_rmsds = []\n",
    "inh1_only_rmsds = []\n",
    "inh2_only_rmsds = []\n",
    "\n",
    "for i in range(10):\n",
    "    j = np.argmax(obs_probs[i])\n",
    "    zkk_only_rmsds.append(np.mean(whole_rmsds[j][0]))\n",
    "\n",
    "for i in range(10):\n",
    "    j = np.argmax(obs_probs[i])\n",
    "    ij8_only_rmsds.append(np.mean(whole_rmsds[j][1]))\n",
    "    \n",
    "for i in range(10):\n",
    "    j = np.argmax(obs_probs[i])\n",
    "    apo_only_rmsds.append(np.mean(whole_rmsds[j][2]))\n",
    "    \n",
    "for i in range(10):\n",
    "    j = np.argmax(obs_probs[i])\n",
    "    inh1_only_rmsds.append(np.mean(whole_rmsds[j][3]))\n",
    "    \n",
    "for i in range(10):\n",
    "    j = np.argmax(obs_probs[i])\n",
    "    inh2_only_rmsds.append(np.mean(whole_rmsds[j][4]))    "
   ]
  },
  {
   "cell_type": "code",
   "execution_count": 48,
   "metadata": {},
   "outputs": [],
   "source": [
    "np.savetxt('FINAL_rmsd_data/macro_top_TC_heavyatom_whole.csv', zkk_only_rmsds, delimiter=',')\n",
    "np.savetxt('FINAL_rmsd_data/macro_top_BC-SAM_heavyatom_whole.csv', ij8_only_rmsds, delimiter=',')\n",
    "np.savetxt('FINAL_rmsd_data/macro_top_APO_heavyatom_whole.csv', apo_only_rmsds, delimiter=',')\n",
    "np.savetxt('FINAL_rmsd_data/macro_top_BC-Inh1_heavyatom_whole.csv', inh2_only_rmsds, delimiter=',')\n",
    "np.savetxt('FINAL_rmsd_data/macro_top_BC-Inh2_heavyatom_whole.csv', inh1_only_rmsds, delimiter=',')"
   ]
  },
  {
   "cell_type": "code",
   "execution_count": 49,
   "metadata": {},
   "outputs": [],
   "source": [
    "zkk_all_microstates = [np.mean(x[0]) for x in whole_rmsds]\n",
    "ij8_all_microstates = [np.mean(x[1]) for x in whole_rmsds]\n",
    "apo_all_microstates = [np.mean(x[2]) for x in whole_rmsds]\n",
    "inh1_all_microstates = [np.mean(x[3]) for x in whole_rmsds]\n",
    "inh2_all_microstates = [np.mean(x[4]) for x in whole_rmsds]\n",
    "\n",
    "zkk_only_rmsds = []\n",
    "ij8_only_rmsds = []\n",
    "apo_only_rmsds = []\n",
    "inh1_only_rmsds = []\n",
    "inh2_only_rmsds = []\n",
    "\n",
    "for i in range(10):\n",
    "    zkk_only_rmsds.append(np.average(zkk_all_microstates, weights=obs_probs[i]))\n",
    "\n",
    "for i in range(10):\n",
    "    ij8_only_rmsds.append(np.average(ij8_all_microstates, weights=obs_probs[i]))\n",
    "    \n",
    "for i in range(10):\n",
    "    apo_only_rmsds.append(np.average(apo_all_microstates, weights=obs_probs[i]))\n",
    "    \n",
    "for i in range(10):\n",
    "    inh1_only_rmsds.append(np.average(inh1_all_microstates, weights=obs_probs[i]))\n",
    "    \n",
    "for i in range(10):\n",
    "    inh2_only_rmsds.append(np.average(inh2_all_microstates, weights=obs_probs[i]))    "
   ]
  },
  {
   "cell_type": "code",
   "execution_count": 50,
   "metadata": {},
   "outputs": [],
   "source": [
    "np.savetxt('FINAL_rmsd_data/macro_avg_TC_heavyatom_whole.csv', zkk_only_rmsds, delimiter=',')\n",
    "np.savetxt('FINAL_rmsd_data/macro_avg_BC-SAM_heavyatom_whole.csv', ij8_only_rmsds, delimiter=',')\n",
    "np.savetxt('FINAL_rmsd_data/macro_avg_APO_heavyatom_whole.csv', apo_only_rmsds, delimiter=',')\n",
    "np.savetxt('FINAL_rmsd_data/macro_avg_BC-Inh1_heavyatom_whole.csv', inh2_only_rmsds, delimiter=',')\n",
    "np.savetxt('FINAL_rmsd_data/macro_avg_BC-Inh2_heavyatom_whole.csv', inh1_only_rmsds, delimiter=',')"
   ]
  },
  {
   "cell_type": "code",
   "execution_count": 51,
   "metadata": {},
   "outputs": [],
   "source": [
    "zkk_only_rmsds = []\n",
    "ij8_only_rmsds = []\n",
    "apo_only_rmsds = []\n",
    "inh1_only_rmsds = []\n",
    "inh2_only_rmsds = []\n",
    "\n",
    "for i in range(10):\n",
    "    j = np.argmax(obs_probs[i])\n",
    "    zkk_only_rmsds.append(np.mean(seti_rmsds[j][0]))\n",
    "\n",
    "for i in range(10):\n",
    "    j = np.argmax(obs_probs[i])\n",
    "    ij8_only_rmsds.append(np.mean(seti_rmsds[j][1]))\n",
    "    \n",
    "for i in range(10):\n",
    "    j = np.argmax(obs_probs[i])\n",
    "    apo_only_rmsds.append(np.mean(seti_rmsds[j][2]))\n",
    "    \n",
    "for i in range(10):\n",
    "    j = np.argmax(obs_probs[i])\n",
    "    inh1_only_rmsds.append(np.mean(seti_rmsds[j][3]))\n",
    "    \n",
    "for i in range(10):\n",
    "    j = np.argmax(obs_probs[i])\n",
    "    inh2_only_rmsds.append(np.mean(seti_rmsds[j][4]))    "
   ]
  },
  {
   "cell_type": "code",
   "execution_count": 52,
   "metadata": {},
   "outputs": [],
   "source": [
    "np.savetxt('FINAL_rmsd_data/macro_top_TC_heavyatom_setipostset.csv', zkk_only_rmsds, delimiter=',')\n",
    "np.savetxt('FINAL_rmsd_data/macro_top_BC-SAM_heavyatom_setipostset.csv', ij8_only_rmsds, delimiter=',')\n",
    "np.savetxt('FINAL_rmsd_data/macro_top_APO_heavyatom_setipostset.csv', apo_only_rmsds, delimiter=',')\n",
    "np.savetxt('FINAL_rmsd_data/macro_top_BC-Inh1_heavyatom_setipostset.csv', inh2_only_rmsds, delimiter=',')\n",
    "np.savetxt('FINAL_rmsd_data/macro_top_BC-Inh2_heavyatom_setipostset.csv', inh1_only_rmsds, delimiter=',')"
   ]
  },
  {
   "cell_type": "code",
   "execution_count": 53,
   "metadata": {},
   "outputs": [],
   "source": [
    "zkk_all_microstates = [np.mean(x[0]) for x in seti_rmsds]\n",
    "ij8_all_microstates = [np.mean(x[1]) for x in seti_rmsds]\n",
    "apo_all_microstates = [np.mean(x[2]) for x in seti_rmsds]\n",
    "inh1_all_microstates = [np.mean(x[3]) for x in seti_rmsds]\n",
    "inh2_all_microstates = [np.mean(x[4]) for x in seti_rmsds]\n",
    "\n",
    "zkk_only_rmsds = []\n",
    "ij8_only_rmsds = []\n",
    "apo_only_rmsds = []\n",
    "inh1_only_rmsds = []\n",
    "inh2_only_rmsds = []\n",
    "\n",
    "for i in range(10):\n",
    "    zkk_only_rmsds.append(np.average(zkk_all_microstates, weights=obs_probs[i]))\n",
    "\n",
    "for i in range(10):\n",
    "    ij8_only_rmsds.append(np.average(ij8_all_microstates, weights=obs_probs[i]))\n",
    "    \n",
    "for i in range(10):\n",
    "    apo_only_rmsds.append(np.average(apo_all_microstates, weights=obs_probs[i]))\n",
    "    \n",
    "for i in range(10):\n",
    "    inh1_only_rmsds.append(np.average(inh1_all_microstates, weights=obs_probs[i]))\n",
    "    \n",
    "for i in range(10):\n",
    "    inh2_only_rmsds.append(np.average(inh2_all_microstates, weights=obs_probs[i]))    "
   ]
  },
  {
   "cell_type": "code",
   "execution_count": 54,
   "metadata": {},
   "outputs": [],
   "source": [
    "np.savetxt('FINAL_rmsd_data/macro_avg_TC_heavyatom_setipostset.csv', zkk_only_rmsds, delimiter=',')\n",
    "np.savetxt('FINAL_rmsd_data/macro_avg_BC-SAM_heavyatom_setipostset.csv', ij8_only_rmsds, delimiter=',')\n",
    "np.savetxt('FINAL_rmsd_data/macro_avg_APO_heavyatom_setipostset.csv', apo_only_rmsds, delimiter=',')\n",
    "np.savetxt('FINAL_rmsd_data/macro_avg_BC-Inh1_heavyatom_setipostset.csv', inh2_only_rmsds, delimiter=',')\n",
    "np.savetxt('FINAL_rmsd_data/macro_avg_BC-Inh2_heavyatom_setipostset.csv', inh1_only_rmsds, delimiter=',')"
   ]
  },
  {
   "cell_type": "code",
   "execution_count": null,
   "metadata": {},
   "outputs": [],
   "source": []
  }
 ],
 "metadata": {
  "kernelspec": {
   "display_name": "Python [conda root]",
   "language": "python",
   "name": "conda-root-py"
  },
  "language_info": {
   "codemirror_mode": {
    "name": "ipython",
    "version": 3
   },
   "file_extension": ".py",
   "mimetype": "text/x-python",
   "name": "python",
   "nbconvert_exporter": "python",
   "pygments_lexer": "ipython3",
   "version": "3.5.2"
  }
 },
 "nbformat": 4,
 "nbformat_minor": 1
}
