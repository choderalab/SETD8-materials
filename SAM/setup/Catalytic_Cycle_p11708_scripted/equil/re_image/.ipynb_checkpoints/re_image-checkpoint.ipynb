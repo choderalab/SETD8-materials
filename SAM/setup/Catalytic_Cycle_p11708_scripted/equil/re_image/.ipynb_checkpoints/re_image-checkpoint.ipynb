{
 "cells": [
  {
   "cell_type": "code",
   "execution_count": 1,
   "metadata": {
    "collapsed": false
   },
   "outputs": [
    {
     "name": "stdout",
     "output_type": "stream",
     "text": [
      "Untitled.ipynb\r\n"
     ]
    }
   ],
   "source": [
    "ls"
   ]
  },
  {
   "cell_type": "code",
   "execution_count": 2,
   "metadata": {
    "collapsed": false
   },
   "outputs": [
    {
     "name": "stdout",
     "output_type": "stream",
     "text": [
      "/Users/rafalpwiewiora/repos/pimento/SETD8/Catalytic_Cycle_p11708_scripted/equil\n"
     ]
    }
   ],
   "source": [
    "cd .."
   ]
  },
  {
   "cell_type": "code",
   "execution_count": 3,
   "metadata": {
    "collapsed": true
   },
   "outputs": [],
   "source": [
    "import mdtraj as md"
   ]
  },
  {
   "cell_type": "code",
   "execution_count": 4,
   "metadata": {
    "collapsed": false
   },
   "outputs": [
    {
     "name": "stdout",
     "output_type": "stream",
     "text": [
      "total 142720\r\n",
      "-rw-r--r--  1 rafalpwiewiora  staff  2507361 Nov  2 15:38 1ZKK_apo_SET8_MeP_SAH.pdb\r\n",
      "-rw-r--r--  1 rafalpwiewiora  staff  2541699 Nov  2 15:38 1ZKK_apo_SET8_MeP.pdb\r\n",
      "-rw-r--r--  1 rafalpwiewiora  staff  2507338 Nov  2 15:38 1ZKK_apo_SET8_PH.pdb\r\n",
      "-rw-r--r--  1 rafalpwiewiora  staff  2539930 Nov  2 15:38 1ZKK_apo_SET8_MeP_SAM.pdb\r\n",
      "-rw-r--r--  1 rafalpwiewiora  staff  2538901 Nov  2 15:38 1ZKK_apo_SET8.pdb\r\n",
      "-rw-r--r--  1 rafalpwiewiora  staff  2537888 Nov  2 15:38 1ZKK_apo_SET8_PH_SAM.pdb\r\n",
      "-rw-r--r--  1 rafalpwiewiora  staff  2538853 Nov  2 15:38 1ZKK_apo_SET8_PH_SAH.pdb\r\n",
      "-rw-r--r--  1 rafalpwiewiora  staff  2539913 Nov  2 15:38 1ZKK_apo_SET8_P_SAM.pdb\r\n",
      "-rw-r--r--  1 rafalpwiewiora  staff  2541850 Nov  2 15:38 1ZKK_apo_SET8_P_SAH.pdb\r\n",
      "-rw-r--r--  1 rafalpwiewiora  staff  2491381 Nov  2 15:38 1ZKK_apo_SET8_P.pdb\r\n",
      "-rw-r--r--  1 rafalpwiewiora  staff  2493230 Nov  2 15:38 1ZKK_apo_SET8_SAM.pdb\r\n",
      "-rw-r--r--  1 rafalpwiewiora  staff  2534695 Nov  2 15:38 1ZKK_apo_SET8_SAH.pdb\r\n",
      "-rw-r--r--  1 rafalpwiewiora  staff  2663242 Nov  2 15:38 4IJ8_SET8_SAH.pdb\r\n",
      "-rw-r--r--  1 rafalpwiewiora  staff  2691019 Nov  2 15:38 4IJ8_SET8.pdb\r\n",
      "-rw-r--r--  1 rafalpwiewiora  staff  2845381 Nov  2 15:38 SET8_MeP_SAM.pdb\r\n",
      "-rw-r--r--  1 rafalpwiewiora  staff  2893488 Nov  2 15:38 SET8_MeP_SAH.pdb\r\n",
      "-rw-r--r--  1 rafalpwiewiora  staff  2877525 Nov  2 15:38 SET8_MeP.pdb\r\n",
      "-rw-r--r--  1 rafalpwiewiora  staff  2800382 Nov  2 15:38 4IJ8_SET8_SAM.pdb\r\n",
      "-rw-r--r--  1 rafalpwiewiora  staff  2845351 Nov  2 15:38 SET8_PH.pdb\r\n",
      "-rw-r--r--  1 rafalpwiewiora  staff  2846053 Nov  2 15:38 SET8.pdb\r\n",
      "-rw-r--r--  1 rafalpwiewiora  staff  2886593 Nov  2 15:38 SET8_PH_SAM.pdb\r\n",
      "-rw-r--r--  1 rafalpwiewiora  staff  2937130 Nov  2 15:38 SET8_PH_SAH.pdb\r\n",
      "-rw-r--r--  1 rafalpwiewiora  staff  2931940 Nov  2 15:38 SET8_P.pdb\r\n",
      "-rw-r--r--  1 rafalpwiewiora  staff  2898338 Nov  2 15:38 SET8_P_SAM.pdb\r\n",
      "-rw-r--r--  1 rafalpwiewiora  staff  2857750 Nov  2 15:38 SET8_P_SAH.pdb\r\n",
      "-rw-r--r--  1 rafalpwiewiora  staff  2883974 Nov  2 15:38 SET8_SAM.pdb\r\n",
      "-rw-r--r--  1 rafalpwiewiora  staff  2850352 Nov  2 15:38 SET8_SAH.pdb\r\n",
      "drwxr-xr-x  4 rafalpwiewiora  staff      136 Nov  2 16:07 \u001b[34mre_image\u001b[m\u001b[m/\r\n"
     ]
    }
   ],
   "source": [
    "ls -ltr"
   ]
  },
  {
   "cell_type": "code",
   "execution_count": 5,
   "metadata": {
    "collapsed": true
   },
   "outputs": [],
   "source": [
    "set8_p = md.load('SET8_P.pdb')"
   ]
  },
  {
   "cell_type": "code",
   "execution_count": 9,
   "metadata": {
    "collapsed": false
   },
   "outputs": [
    {
     "data": {
      "text/plain": [
       "<mdtraj.Trajectory with 1 frames, 36194 atoms, 11313 residues, and unitcells at 0x10d472910>"
      ]
     },
     "execution_count": 9,
     "metadata": {},
     "output_type": "execute_result"
    }
   ],
   "source": [
    "set8_p.image_molecules(inplace=True)"
   ]
  },
  {
   "cell_type": "code",
   "execution_count": 8,
   "metadata": {
    "collapsed": false
   },
   "outputs": [
    {
     "name": "stdout",
     "output_type": "stream",
     "text": [
      "/Users/rafalpwiewiora/repos/pimento/SETD8/Catalytic_Cycle_p11708_scripted/equil/re_image\n"
     ]
    }
   ],
   "source": [
    "cd re_image/"
   ]
  },
  {
   "cell_type": "code",
   "execution_count": 11,
   "metadata": {
    "collapsed": false
   },
   "outputs": [],
   "source": [
    "set8_p.save('SET8_P_re.pdb')"
   ]
  },
  {
   "cell_type": "code",
   "execution_count": 12,
   "metadata": {
    "collapsed": true
   },
   "outputs": [],
   "source": [
    "# works very nice!"
   ]
  },
  {
   "cell_type": "code",
   "execution_count": 13,
   "metadata": {
    "collapsed": true
   },
   "outputs": [],
   "source": [
    "import glob"
   ]
  },
  {
   "cell_type": "code",
   "execution_count": 14,
   "metadata": {
    "collapsed": true
   },
   "outputs": [],
   "source": [
    "systems = glob.glob('../*.pdb')"
   ]
  },
  {
   "cell_type": "code",
   "execution_count": 15,
   "metadata": {
    "collapsed": true
   },
   "outputs": [],
   "source": [
    "import os"
   ]
  },
  {
   "cell_type": "code",
   "execution_count": 18,
   "metadata": {
    "collapsed": false
   },
   "outputs": [
    {
     "data": {
      "text/plain": [
       "'1ZKK_apo_SET8'"
      ]
     },
     "execution_count": 18,
     "metadata": {},
     "output_type": "execute_result"
    }
   ],
   "source": [
    "os.path.basename(systems[0])[:-4]"
   ]
  },
  {
   "cell_type": "code",
   "execution_count": 21,
   "metadata": {
    "collapsed": false
   },
   "outputs": [],
   "source": [
    "for system in systems:\n",
    "    system_ = md.load(system)\n",
    "    system_.image_molecules(inplace=True)\n",
    "    name = os.path.basename(system)[:-4]\n",
    "    system_.save(name + '_re.pdb')"
   ]
  },
  {
   "cell_type": "code",
   "execution_count": null,
   "metadata": {
    "collapsed": true
   },
   "outputs": [],
   "source": [
    "# all look great - we're going ahead to INTERNAL"
   ]
  }
 ],
 "metadata": {
  "kernelspec": {
   "display_name": "Python 2",
   "language": "python",
   "name": "python2"
  },
  "language_info": {
   "codemirror_mode": {
    "name": "ipython",
    "version": 2
   },
   "file_extension": ".py",
   "mimetype": "text/x-python",
   "name": "python",
   "nbconvert_exporter": "python",
   "pygments_lexer": "ipython2",
   "version": "2.7.11"
  }
 },
 "nbformat": 4,
 "nbformat_minor": 0
}
