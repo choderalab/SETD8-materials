{
 "cells": [
  {
   "cell_type": "code",
   "execution_count": 1,
   "metadata": {
    "collapsed": false
   },
   "outputs": [
    {
     "name": "stdout",
     "output_type": "stream",
     "text": [
      "1ZKK_apo_superposetest.pdb                    \u001b[34mSER0_test\u001b[m\u001b[m/                                    fah_parameters.py\r\n",
      "1zkk_debug.ipynb                              ZKK_apo_resid_renumber_test.pdb               \u001b[34mfirst_protocol\u001b[m\u001b[m/\r\n",
      "2bqz_fixer_test.ipynb                         after_reduce.py                               \u001b[34mgaff_check\u001b[m\u001b[m/\r\n",
      "\u001b[34m2bqz_only\u001b[m\u001b[m/                                    atom_numbers_for_FAH_4_check.ipynb            gaff_check.ipynb\r\n",
      "4IJ8_fixer_test.pdb                           \u001b[34mbefore_adding_SER0_partial\u001b[m\u001b[m/                   generate_structures.py\r\n",
      "4ij8_fixer_test2.pdb                          check_after_SER0_add.ipynb                    generate_structures_only1zkk.py\r\n",
      "4ij8_fixer_withsam.pdb                        debug.ipynb                                   master.sh\r\n",
      "4ij8_fixer_withsam2.pdb                       debug2.ipynb                                  master_genstr_solv_only.sh\r\n",
      "4ij8_sequence_checks_and_pdbfixer_test.ipynb  \u001b[34mequil_scripts\u001b[m\u001b[m/                                mol2 convert debug.ipynb\r\n",
      "MeP_noCONECT.pdb                              \u001b[34mequil_test_SET8_10ns_to_see_cflank\u001b[m\u001b[m/           processAmberParameters.py\r\n",
      "SAH_ideal.pdb                                 equilibrate_package.py                        \u001b[34mpymol_figs\u001b[m\u001b[m/\r\n",
      "SAM_ideal.pdb                                 equilibrate_package_SET8_mixedprecision.py    \u001b[34mzkk_vs_bqz\u001b[m\u001b[m/\r\n"
     ]
    }
   ],
   "source": [
    "ls"
   ]
  },
  {
   "cell_type": "code",
   "execution_count": 2,
   "metadata": {
    "collapsed": false
   },
   "outputs": [
    {
     "name": "stdout",
     "output_type": "stream",
     "text": [
      "/Users/rafalpwiewiora/repos/pimento/SETD8/Catalytic_Cycle_p11708_scripted\n"
     ]
    }
   ],
   "source": [
    "cd .."
   ]
  },
  {
   "cell_type": "code",
   "execution_count": 3,
   "metadata": {
    "collapsed": false
   },
   "outputs": [
    {
     "name": "stdout",
     "output_type": "stream",
     "text": [
      "README.MD               \u001b[34mequil_scripts\u001b[m\u001b[m/          generate_structures.py  master.sh               \u001b[34mpackage_OpenMM6\u001b[m\u001b[m/        solvate.py              \u001b[34mwith_solvent\u001b[m\u001b[m/\r\n",
      "after_antechamber.py    \u001b[34mfiles\u001b[m\u001b[m/                  \u001b[34mlegacy\u001b[m\u001b[m/                 \u001b[34mno_solvent\u001b[m\u001b[m/             repackage.py            \u001b[34mtemp_structures\u001b[m\u001b[m/\r\n"
     ]
    }
   ],
   "source": [
    "ls"
   ]
  },
  {
   "cell_type": "code",
   "execution_count": 4,
   "metadata": {
    "collapsed": false
   },
   "outputs": [
    {
     "name": "stdout",
     "output_type": "stream",
     "text": [
      "/Users/rafalpwiewiora/repos/pimento/SETD8/Catalytic_Cycle_p11708_scripted/with_solvent\n"
     ]
    }
   ],
   "source": [
    "cd with_solvent/"
   ]
  },
  {
   "cell_type": "code",
   "execution_count": 7,
   "metadata": {
    "collapsed": false
   },
   "outputs": [
    {
     "name": "stdout",
     "output_type": "stream",
     "text": [
      "total 151792\r\n",
      "-rw-r--r--  1 rafalpwiewiora  staff  2554674 Oct 19 14:07 1ZKK_apo_SET8.pdb\r\n",
      "-rw-r--r--  1 rafalpwiewiora  staff  2545079 Oct 19 14:07 1ZKK_apo_SET8_MeP.pdb\r\n",
      "-rw-r--r--  1 rafalpwiewiora  staff  2508068 Oct 19 14:07 1ZKK_apo_SET8_MeP_SAH.pdb\r\n",
      "-rw-r--r--  1 rafalpwiewiora  staff  2538450 Oct 19 14:07 1ZKK_apo_SET8_MeP_SAM.pdb\r\n",
      "-rw-r--r--  1 rafalpwiewiora  staff  2539716 Oct 19 14:07 1ZKK_apo_SET8_P.pdb\r\n",
      "-rw-r--r--  1 rafalpwiewiora  staff  2541822 Oct 19 14:07 1ZKK_apo_SET8_PH.pdb\r\n",
      "-rw-r--r--  1 rafalpwiewiora  staff  2553411 Oct 19 14:07 1ZKK_apo_SET8_PH_SAH.pdb\r\n",
      "-rw-r--r--  1 rafalpwiewiora  staff  2540539 Oct 19 14:07 1ZKK_apo_SET8_PH_SAM.pdb\r\n",
      "-rw-r--r--  1 rafalpwiewiora  staff  2536482 Oct 19 14:07 1ZKK_apo_SET8_P_SAH.pdb\r\n",
      "-rw-r--r--  1 rafalpwiewiora  staff  2533330 Oct 19 14:07 1ZKK_apo_SET8_P_SAM.pdb\r\n",
      "-rw-r--r--  1 rafalpwiewiora  staff  2531514 Oct 19 14:07 1ZKK_apo_SET8_SAH.pdb\r\n",
      "-rw-r--r--  1 rafalpwiewiora  staff  2485432 Oct 19 14:07 1ZKK_apo_SET8_SAM.pdb\r\n",
      "-rw-r--r--  1 rafalpwiewiora  staff  4240135 Oct 19 14:07 4IJ8_SET8.pdb\r\n",
      "-rw-r--r--  1 rafalpwiewiora  staff  4204812 Oct 19 14:07 4IJ8_SET8_SAH.pdb\r\n",
      "-rw-r--r--  1 rafalpwiewiora  staff  4240135 Oct 19 14:07 4IJ8_SET8_SAM.pdb\r\n",
      "-rw-r--r--  1 rafalpwiewiora  staff  2884911 Oct 19 14:07 SET8.pdb\r\n",
      "-rw-r--r--  1 rafalpwiewiora  staff  2888195 Oct 19 14:07 SET8_MeP.pdb\r\n",
      "-rw-r--r--  1 rafalpwiewiora  staff  2847053 Oct 19 14:07 SET8_MeP_SAH.pdb\r\n",
      "-rw-r--r--  1 rafalpwiewiora  staff  2883510 Oct 19 14:07 SET8_MeP_SAM.pdb\r\n",
      "-rw-r--r--  1 rafalpwiewiora  staff  2847111 Oct 19 14:07 SET8_P.pdb\r\n",
      "-rw-r--r--  1 rafalpwiewiora  staff  2899761 Oct 19 14:07 SET8_PH.pdb\r\n",
      "-rw-r--r--  1 rafalpwiewiora  staff  2878059 Oct 19 14:07 SET8_PH_SAH.pdb\r\n",
      "-rw-r--r--  1 rafalpwiewiora  staff  2845261 Oct 19 14:07 SET8_PH_SAM.pdb\r\n",
      "-rw-r--r--  1 rafalpwiewiora  staff  2885430 Oct 19 14:07 SET8_P_SAH.pdb\r\n",
      "-rw-r--r--  1 rafalpwiewiora  staff  2901718 Oct 19 14:07 SET8_P_SAM.pdb\r\n",
      "-rw-r--r--  1 rafalpwiewiora  staff  2901117 Oct 19 14:07 SET8_SAH.pdb\r\n",
      "-rw-r--r--  1 rafalpwiewiora  staff  2897074 Oct 19 14:07 SET8_SAM.pdb\r\n"
     ]
    }
   ],
   "source": [
    "ls -l"
   ]
  },
  {
   "cell_type": "code",
   "execution_count": 6,
   "metadata": {
    "collapsed": true
   },
   "outputs": [],
   "source": [
    "import mdtraj as md"
   ]
  },
  {
   "cell_type": "code",
   "execution_count": 8,
   "metadata": {
    "collapsed": true
   },
   "outputs": [],
   "source": [
    "run0 = md.load('SET8_PH.pdb')"
   ]
  },
  {
   "cell_type": "code",
   "execution_count": 9,
   "metadata": {
    "collapsed": true
   },
   "outputs": [],
   "source": [
    "run1 = md.load('SET8_SAM.pdb')"
   ]
  },
  {
   "cell_type": "code",
   "execution_count": 10,
   "metadata": {
    "collapsed": true
   },
   "outputs": [],
   "source": [
    "run2 = md.load('4IJ8_SET8_SAM.pdb')"
   ]
  },
  {
   "cell_type": "code",
   "execution_count": 11,
   "metadata": {
    "collapsed": true
   },
   "outputs": [],
   "source": [
    "run3 = md.load('1ZKK_apo_SET8_PH.pdb')"
   ]
  },
  {
   "cell_type": "code",
   "execution_count": 12,
   "metadata": {
    "collapsed": false
   },
   "outputs": [
    {
     "data": {
      "text/plain": [
       "<mdtraj.Trajectory with 1 frames, 35797 atoms, 11181 residues, and unitcells at 0x10c98be10>"
      ]
     },
     "execution_count": 12,
     "metadata": {},
     "output_type": "execute_result"
    }
   ],
   "source": [
    "run0"
   ]
  },
  {
   "cell_type": "code",
   "execution_count": 13,
   "metadata": {
    "collapsed": false
   },
   "outputs": [
    {
     "data": {
      "text/plain": [
       "<mdtraj.Trajectory with 1 frames, 35750 atoms, 11205 residues, and unitcells at 0x10d472990>"
      ]
     },
     "execution_count": 13,
     "metadata": {},
     "output_type": "execute_result"
    }
   ],
   "source": [
    "run1"
   ]
  },
  {
   "cell_type": "code",
   "execution_count": 14,
   "metadata": {
    "collapsed": false
   },
   "outputs": [
    {
     "data": {
      "text/plain": [
       "<mdtraj.Trajectory with 1 frames, 52331 atoms, 16732 residues, and unitcells at 0x114dc6090>"
      ]
     },
     "execution_count": 14,
     "metadata": {},
     "output_type": "execute_result"
    }
   ],
   "source": [
    "run2"
   ]
  },
  {
   "cell_type": "code",
   "execution_count": 15,
   "metadata": {
    "collapsed": false
   },
   "outputs": [
    {
     "data": {
      "text/plain": [
       "<mdtraj.Trajectory with 1 frames, 31378 atoms, 9708 residues, and unitcells at 0x11e2f4810>"
      ]
     },
     "execution_count": 15,
     "metadata": {},
     "output_type": "execute_result"
    }
   ],
   "source": [
    "run3"
   ]
  },
  {
   "cell_type": "code",
   "execution_count": null,
   "metadata": {
    "collapsed": true
   },
   "outputs": [],
   "source": []
  }
 ],
 "metadata": {
  "kernelspec": {
   "display_name": "Python 2",
   "language": "python",
   "name": "python2"
  },
  "language_info": {
   "codemirror_mode": {
    "name": "ipython",
    "version": 2
   },
   "file_extension": ".py",
   "mimetype": "text/x-python",
   "name": "python",
   "nbconvert_exporter": "python",
   "pygments_lexer": "ipython2",
   "version": "2.7.11"
  }
 },
 "nbformat": 4,
 "nbformat_minor": 0
}
