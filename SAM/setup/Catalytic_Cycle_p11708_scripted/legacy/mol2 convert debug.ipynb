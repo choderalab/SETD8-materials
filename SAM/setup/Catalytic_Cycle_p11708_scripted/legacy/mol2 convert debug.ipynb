{
 "cells": [
  {
   "cell_type": "code",
   "execution_count": 3,
   "metadata": {
    "collapsed": true
   },
   "outputs": [],
   "source": [
    "import parmed"
   ]
  },
  {
   "cell_type": "code",
   "execution_count": 7,
   "metadata": {
    "collapsed": false
   },
   "outputs": [],
   "source": [
    "params = parmed.amber.AmberParameterSet.from_leaprc('leaprc.SAM')"
   ]
  },
  {
   "cell_type": "code",
   "execution_count": 8,
   "metadata": {
    "collapsed": false
   },
   "outputs": [
    {
     "data": {
      "text/plain": [
       "<parmed.amber.parameters.AmberParameterSet at 0x10db33d50>"
      ]
     },
     "execution_count": 8,
     "metadata": {},
     "output_type": "execute_result"
    }
   ],
   "source": [
    "params"
   ]
  },
  {
   "cell_type": "code",
   "execution_count": 9,
   "metadata": {
    "collapsed": false
   },
   "outputs": [
    {
     "data": {
      "text/plain": [
       "['__class__',\n",
       " '__copy__',\n",
       " '__delattr__',\n",
       " '__dict__',\n",
       " '__doc__',\n",
       " '__format__',\n",
       " '__getattribute__',\n",
       " '__hash__',\n",
       " '__init__',\n",
       " '__module__',\n",
       " '__new__',\n",
       " '__reduce__',\n",
       " '__reduce_ex__',\n",
       " '__repr__',\n",
       " '__setattr__',\n",
       " '__sizeof__',\n",
       " '__str__',\n",
       " '__subclasshook__',\n",
       " '__weakref__',\n",
       " '_combining_rule',\n",
       " '_condense_types',\n",
       " '_parse_frcmod',\n",
       " '_parse_parm_dat',\n",
       " '_periodic_improper_key',\n",
       " '_process_angle_line',\n",
       " '_process_bond_line',\n",
       " '_process_dihedral_line',\n",
       " '_process_improper_line',\n",
       " '_process_mass_line',\n",
       " '_process_nbfix_line',\n",
       " '_process_nonbond_line',\n",
       " 'angle_types',\n",
       " 'atom_types',\n",
       " 'atom_types_int',\n",
       " 'atom_types_str',\n",
       " 'atom_types_tuple',\n",
       " 'bond_types',\n",
       " 'cmap_types',\n",
       " 'combining_rule',\n",
       " 'condense',\n",
       " 'default_scee',\n",
       " 'default_scnb',\n",
       " 'dihedral_types',\n",
       " 'from_leaprc',\n",
       " 'from_structure',\n",
       " 'id_format',\n",
       " 'improper_periodic_types',\n",
       " 'improper_types',\n",
       " 'load_parameters',\n",
       " 'nbfix_types',\n",
       " 'pair_types',\n",
       " 'parametersets',\n",
       " 'rb_torsion_types',\n",
       " 'residues',\n",
       " 'titles',\n",
       " 'typeify_templates',\n",
       " 'urey_bradley_types',\n",
       " 'write']"
      ]
     },
     "execution_count": 9,
     "metadata": {},
     "output_type": "execute_result"
    }
   ],
   "source": [
    "dir(params)"
   ]
  },
  {
   "cell_type": "code",
   "execution_count": 10,
   "metadata": {
    "collapsed": false
   },
   "outputs": [
    {
     "data": {
      "text/plain": [
       "OrderedDict()"
      ]
     },
     "execution_count": 10,
     "metadata": {},
     "output_type": "execute_result"
    }
   ],
   "source": [
    "params.atom_types"
   ]
  },
  {
   "cell_type": "code",
   "execution_count": 14,
   "metadata": {
    "collapsed": false
   },
   "outputs": [],
   "source": [
    "a = parmed.load_file('SAM.mol2')"
   ]
  },
  {
   "cell_type": "code",
   "execution_count": 17,
   "metadata": {
    "collapsed": false
   },
   "outputs": [],
   "source": [
    "a.save('SAM.lib')"
   ]
  },
  {
   "cell_type": "code",
   "execution_count": 18,
   "metadata": {
    "collapsed": false
   },
   "outputs": [
    {
     "name": "stdout",
     "output_type": "stream",
     "text": [
      "SAH.mol2                  SAM.mol2                  frcmod.SAM                mol2 convert debug.ipynb\r\n",
      "SAM.lib                   frcmod.SAH                leaprc.SAM\r\n"
     ]
    }
   ],
   "source": [
    "ls"
   ]
  },
  {
   "cell_type": "code",
   "execution_count": 19,
   "metadata": {
    "collapsed": true
   },
   "outputs": [],
   "source": [
    "from StringIO import StringIO"
   ]
  },
  {
   "cell_type": "code",
   "execution_count": 26,
   "metadata": {
    "collapsed": false
   },
   "outputs": [],
   "source": [
    "b = parmed.amber.AmberParameterSet.from_leaprc(StringIO('x = loadMol2 SAM.mol2'))"
   ]
  },
  {
   "cell_type": "code",
   "execution_count": 27,
   "metadata": {
    "collapsed": false
   },
   "outputs": [
    {
     "data": {
      "text/plain": [
       "OrderedDict([('x',\n",
       "              <ResidueTemplate SAM: 49 atoms; 51 bonds; head=None; tail=None>)])"
      ]
     },
     "execution_count": 27,
     "metadata": {},
     "output_type": "execute_result"
    }
   ],
   "source": [
    "b.residues"
   ]
  },
  {
   "cell_type": "code",
   "execution_count": 24,
   "metadata": {
    "collapsed": true
   },
   "outputs": [],
   "source": [
    "b = parmed.amber.AmberParameterSet.from_leaprc(StringIO('loadMol2 tripos.mol2'))"
   ]
  },
  {
   "cell_type": "code",
   "execution_count": 25,
   "metadata": {
    "collapsed": false
   },
   "outputs": [
    {
     "data": {
      "text/plain": [
       "OrderedDict()"
      ]
     },
     "execution_count": 25,
     "metadata": {},
     "output_type": "execute_result"
    }
   ],
   "source": [
    "b.residues"
   ]
  },
  {
   "cell_type": "code",
   "execution_count": null,
   "metadata": {
    "collapsed": true
   },
   "outputs": [],
   "source": []
  }
 ],
 "metadata": {
  "kernelspec": {
   "display_name": "Python 2",
   "language": "python",
   "name": "python2"
  },
  "language_info": {
   "codemirror_mode": {
    "name": "ipython",
    "version": 2
   },
   "file_extension": ".py",
   "mimetype": "text/x-python",
   "name": "python",
   "nbconvert_exporter": "python",
   "pygments_lexer": "ipython2",
   "version": "2.7.11"
  }
 },
 "nbformat": 4,
 "nbformat_minor": 0
}
