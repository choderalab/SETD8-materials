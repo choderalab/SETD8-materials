{
 "cells": [
  {
   "cell_type": "code",
   "execution_count": 1,
   "metadata": {
    "collapsed": true
   },
   "outputs": [],
   "source": [
    "# I'm seeing different number of atoms in SET8_noH.pdb and 1ZKK_apo stripped off hydrogens, which shouldn't happen?"
   ]
  },
  {
   "cell_type": "code",
   "execution_count": 2,
   "metadata": {
    "collapsed": false
   },
   "outputs": [
    {
     "name": "stdout",
     "output_type": "stream",
     "text": [
      "1ZKK_apo_superposetest.pdb                    SAH_ideal.pdb                                 fah_parameters.py\r\n",
      "1zkk_debug.ipynb                              SAM_ideal.pdb                                 \u001b[34mfirst_protocol\u001b[m\u001b[m/\r\n",
      "\u001b[34m2bqz_only\u001b[m\u001b[m/                                    after_reduce.py                               \u001b[34mgaff_check\u001b[m\u001b[m/\r\n",
      "4IJ8_fixer_test.pdb                           debug.ipynb                                   gaff_check.ipynb\r\n",
      "4ij8_fixer_test2.pdb                          debug2.ipynb                                  generate_structures.py\r\n",
      "4ij8_fixer_withsam.pdb                        \u001b[34mequil_scripts\u001b[m\u001b[m/                                master.sh\r\n",
      "4ij8_fixer_withsam2.pdb                       \u001b[34mequil_test_SET8_10ns_to_see_cflank\u001b[m\u001b[m/           mol2 convert debug.ipynb\r\n",
      "4ij8_sequence_checks_and_pdbfixer_test.ipynb  equilibrate_package.py                        processAmberParameters.py\r\n",
      "MeP_noCONECT.pdb                              equilibrate_package_SET8_mixedprecision.py    \u001b[34mpymol_figs\u001b[m\u001b[m/\r\n"
     ]
    }
   ],
   "source": [
    "ls"
   ]
  },
  {
   "cell_type": "code",
   "execution_count": 3,
   "metadata": {
    "collapsed": true
   },
   "outputs": [],
   "source": [
    "import mdtraj as md"
   ]
  },
  {
   "cell_type": "code",
   "execution_count": 4,
   "metadata": {
    "collapsed": false
   },
   "outputs": [
    {
     "name": "stdout",
     "output_type": "stream",
     "text": [
      "/Users/rafalpwiewiora/repos/pimento/SETD8/Catalytic_Cycle_p11708_scripted\n"
     ]
    }
   ],
   "source": [
    "cd .."
   ]
  },
  {
   "cell_type": "code",
   "execution_count": 5,
   "metadata": {
    "collapsed": false
   },
   "outputs": [
    {
     "name": "stdout",
     "output_type": "stream",
     "text": [
      "/Users/rafalpwiewiora/repos/pimento/SETD8/Catalytic_Cycle_p11708_scripted/temp_structures\n"
     ]
    }
   ],
   "source": [
    "cd temp_structures"
   ]
  },
  {
   "cell_type": "code",
   "execution_count": 6,
   "metadata": {
    "collapsed": false
   },
   "outputs": [
    {
     "name": "stdout",
     "output_type": "stream",
     "text": [
      "1ZKK_apo_SET8_noH.pdb  4IJ8_SET8_noH.pdb      SET8_MeP_SAH_noH.pdb   SET8_P_SAH_noH.pdb     SET8_SAH_noH.pdb\r\n",
      "4IJ8_SET8_SAH_noH.pdb  SAH_noH.pdb            SET8_MeP_SAM_noH.pdb   SET8_P_SAM_noH.pdb     SET8_SAM_noH.pdb\r\n",
      "4IJ8_SET8_SAM_noH.pdb  SAM_noH.pdb            SET8_MeP_noH.pdb       SET8_P_noH.pdb         SET8_noH.pdb\r\n"
     ]
    }
   ],
   "source": [
    "ls"
   ]
  },
  {
   "cell_type": "code",
   "execution_count": 7,
   "metadata": {
    "collapsed": false
   },
   "outputs": [],
   "source": [
    "set8 = md.load('SET8_noH.pdb')"
   ]
  },
  {
   "cell_type": "code",
   "execution_count": 8,
   "metadata": {
    "collapsed": false
   },
   "outputs": [
    {
     "name": "stdout",
     "output_type": "stream",
     "text": [
      "1ZKK_apo_SET8_noH.pdb  4IJ8_SET8_noH.pdb      SET8_MeP_SAH_noH.pdb   SET8_P_SAH_noH.pdb     SET8_SAH_noH.pdb\r\n",
      "4IJ8_SET8_SAH_noH.pdb  SAH_noH.pdb            SET8_MeP_SAM_noH.pdb   SET8_P_SAM_noH.pdb     SET8_SAM_noH.pdb\r\n",
      "4IJ8_SET8_SAM_noH.pdb  SAM_noH.pdb            SET8_MeP_noH.pdb       SET8_P_noH.pdb         SET8_noH.pdb\r\n"
     ]
    }
   ],
   "source": [
    "ls"
   ]
  },
  {
   "cell_type": "code",
   "execution_count": 9,
   "metadata": {
    "collapsed": false
   },
   "outputs": [
    {
     "data": {
      "text/plain": [
       "u'/Users/rafalpwiewiora/repos/pimento/SETD8/Catalytic_Cycle_p11708_scripted/temp_structures'"
      ]
     },
     "execution_count": 9,
     "metadata": {},
     "output_type": "execute_result"
    }
   ],
   "source": [
    "pwd"
   ]
  },
  {
   "cell_type": "code",
   "execution_count": 10,
   "metadata": {
    "collapsed": false
   },
   "outputs": [
    {
     "name": "stdout",
     "output_type": "stream",
     "text": [
      "/Users/rafalpwiewiora/repos/pimento/SETD8/Catalytic_Cycle_p11708_scripted\n"
     ]
    }
   ],
   "source": [
    "cd .."
   ]
  },
  {
   "cell_type": "code",
   "execution_count": 11,
   "metadata": {
    "collapsed": false
   },
   "outputs": [
    {
     "name": "stdout",
     "output_type": "stream",
     "text": [
      "/Users/rafalpwiewiora/repos/pimento/SETD8/Catalytic_Cycle_p11708_scripted/files\n"
     ]
    }
   ],
   "source": [
    "cd files"
   ]
  },
  {
   "cell_type": "code",
   "execution_count": 12,
   "metadata": {
    "collapsed": false
   },
   "outputs": [
    {
     "name": "stdout",
     "output_type": "stream",
     "text": [
      "1ZKK_apo_Ensembler_model_p11709.pdb  gaff.dat                             pdb2bqz.ent\r\n",
      "\u001b[31mffptm.in\u001b[m\u001b[m*                            hydrogens.xml                        pdb4ij8.ent\r\n",
      "frcmod.ff99SBildn                    parm99.dat                           processAmberForceField.py\r\n"
     ]
    }
   ],
   "source": [
    "ls"
   ]
  },
  {
   "cell_type": "code",
   "execution_count": 13,
   "metadata": {
    "collapsed": false
   },
   "outputs": [],
   "source": [
    "zkk_apo = md.load('1ZKK_apo_Ensembler_model_p11709.pdb')"
   ]
  },
  {
   "cell_type": "code",
   "execution_count": 14,
   "metadata": {
    "collapsed": true
   },
   "outputs": [],
   "source": [
    "zkk_apo_noH_selection = zkk_apo.top.select('not element H')"
   ]
  },
  {
   "cell_type": "code",
   "execution_count": 15,
   "metadata": {
    "collapsed": false
   },
   "outputs": [],
   "source": [
    "zkk_apo = zkk_apo.atom_slice(zkk_apo_noH_selection)"
   ]
  },
  {
   "cell_type": "code",
   "execution_count": 16,
   "metadata": {
    "collapsed": false
   },
   "outputs": [
    {
     "data": {
      "text/plain": [
       "<mdtraj.Trajectory with 1 frames, 1296 atoms, 162 residues, without unitcells at 0x10e5a2950>"
      ]
     },
     "execution_count": 16,
     "metadata": {},
     "output_type": "execute_result"
    }
   ],
   "source": [
    "zkk_apo"
   ]
  },
  {
   "cell_type": "code",
   "execution_count": 17,
   "metadata": {
    "collapsed": false
   },
   "outputs": [
    {
     "data": {
      "text/plain": [
       "<mdtraj.Trajectory with 1 frames, 1290 atoms, 161 residues, and unitcells at 0x106f20110>"
      ]
     },
     "execution_count": 17,
     "metadata": {},
     "output_type": "execute_result"
    }
   ],
   "source": [
    "set8"
   ]
  },
  {
   "cell_type": "code",
   "execution_count": 18,
   "metadata": {
    "collapsed": false
   },
   "outputs": [
    {
     "data": {
      "text/plain": [
       "['RKSKAELQSEERKRIDELIESGKEEGMKIDLIDGKGRGVIATKQFSRGDFVVEYHGDLIEITDAKKREALYAQDPSTGCYMYYFQYLSKTYCVDATRETNRLGRLINHSKCGNCQTKLHDIDGVPHLILIASRDIAAGEELLYDYGDRSKASIEAHPWLKH']"
      ]
     },
     "execution_count": 18,
     "metadata": {},
     "output_type": "execute_result"
    }
   ],
   "source": [
    "set8.top.to_fasta()"
   ]
  },
  {
   "cell_type": "code",
   "execution_count": 19,
   "metadata": {
    "collapsed": false
   },
   "outputs": [
    {
     "data": {
      "text/plain": [
       "['SRKSKAELQSEERKRIDELIESGKEEGMKIDLIDGKGRGVIATKQFSRGDFVVEYHGDLIEITDAKKREALYAQDPSTGCYMYYFQYLSKTYCVDATRETNRLGRLINHSKCGNCQTKLHDIDGVPHLILIASRDIAAGEELLYDYGDRSKASIEAHPWLKH']"
      ]
     },
     "execution_count": 19,
     "metadata": {},
     "output_type": "execute_result"
    }
   ],
   "source": [
    "zkk_apo.top.to_fasta()"
   ]
  },
  {
   "cell_type": "code",
   "execution_count": 20,
   "metadata": {
    "collapsed": true
   },
   "outputs": [],
   "source": [
    "# OOOOH! Sequence of the Ensembler set-ups is: \n",
    "#SRKSKAELQSEERKRIDELIESGKEEGMKIDLIDGKGRGVIATKQFSRGDFVVEYHGDLI\n",
    "#EITDAKKREALYAQDPSTGCYMYYFQYLSKTYCVDATRETNRLGRLINHSKCGNCQTKLH\n",
    "#DIDGVPHLILIASRDIAAGEELLYDYGDRSKASIEAHPWLKH\n",
    "\n",
    "# i.e one AA more at the beginning than 2BQZ - so here for now we're gonna make it the 2BQZ sequence (which is also the same \n",
    "# as we had in the p10478) - so cut off resid 0 from the 1ZKK_apo model"
   ]
  },
  {
   "cell_type": "code",
   "execution_count": 21,
   "metadata": {
    "collapsed": true
   },
   "outputs": [],
   "source": [
    "zkk_apo = zkk_apo.atom_slice(zkk_apo.top.select('not resid 0'))"
   ]
  },
  {
   "cell_type": "code",
   "execution_count": 22,
   "metadata": {
    "collapsed": false
   },
   "outputs": [
    {
     "data": {
      "text/plain": [
       "<mdtraj.Trajectory with 1 frames, 1290 atoms, 161 residues, without unitcells at 0x10e5b1b10>"
      ]
     },
     "execution_count": 22,
     "metadata": {},
     "output_type": "execute_result"
    }
   ],
   "source": [
    "zkk_apo"
   ]
  },
  {
   "cell_type": "code",
   "execution_count": 57,
   "metadata": {
    "collapsed": true
   },
   "outputs": [],
   "source": [
    "# yep - now same number of atoms\n",
    "# so let's now fix the atom index selections from the script and see if we can make the superpose work here"
   ]
  },
  {
   "cell_type": "code",
   "execution_count": 75,
   "metadata": {
    "collapsed": true
   },
   "outputs": [],
   "source": [
    "atom_indices = zkk_apo.top.select('not resid >= 145 and not resid < 25')"
   ]
  },
  {
   "cell_type": "code",
   "execution_count": 76,
   "metadata": {
    "collapsed": true
   },
   "outputs": [],
   "source": [
    "ref_atom_indices = set8.top.select('not resid >= 145 and not resid < 25')"
   ]
  },
  {
   "cell_type": "code",
   "execution_count": 60,
   "metadata": {
    "collapsed": false
   },
   "outputs": [],
   "source": [
    "zkk_apo = zkk_apo.superpose(set8, atom_indices=atom_indices.astype('int'), ref_atom_indices=ref_atom_indices.astype('int'))"
   ]
  },
  {
   "cell_type": "code",
   "execution_count": 31,
   "metadata": {
    "collapsed": false
   },
   "outputs": [
    {
     "name": "stdout",
     "output_type": "stream",
     "text": [
      "/Users/rafalpwiewiora/repos/pimento/SETD8/Catalytic_Cycle_p11708_scripted/legacy\n"
     ]
    }
   ],
   "source": [
    "cd ../legacy"
   ]
  },
  {
   "cell_type": "code",
   "execution_count": 65,
   "metadata": {
    "collapsed": false
   },
   "outputs": [],
   "source": [
    "zkk_apo2 = zkk_apo.atom_slice(atom_indices.astype('int64'))"
   ]
  },
  {
   "cell_type": "code",
   "execution_count": 78,
   "metadata": {
    "collapsed": false
   },
   "outputs": [
    {
     "data": {
      "text/plain": [
       "<mdtraj.Trajectory with 1 frames, 1290 atoms, 161 residues, without unitcells at 0x10df1d850>"
      ]
     },
     "execution_count": 78,
     "metadata": {},
     "output_type": "execute_result"
    }
   ],
   "source": [
    "zkk_apo"
   ]
  },
  {
   "cell_type": "code",
   "execution_count": 112,
   "metadata": {
    "collapsed": false
   },
   "outputs": [],
   "source": [
    "zkk_apo_test = zkk_apo.top.select('resid >= 25 and resid < 145')"
   ]
  },
  {
   "cell_type": "code",
   "execution_count": 113,
   "metadata": {
    "collapsed": false
   },
   "outputs": [
    {
     "data": {
      "text/plain": [
       "array([], dtype=float64)"
      ]
     },
     "execution_count": 113,
     "metadata": {},
     "output_type": "execute_result"
    }
   ],
   "source": [
    "zkk_apo_test"
   ]
  },
  {
   "cell_type": "code",
   "execution_count": null,
   "metadata": {
    "collapsed": false
   },
   "outputs": [],
   "source": [
    "# uncovered a bug - 'not >=' does not work - just returns empty arrays"
   ]
  },
  {
   "cell_type": "code",
   "execution_count": 26,
   "metadata": {
    "collapsed": false
   },
   "outputs": [
    {
     "data": {
      "text/plain": [
       "['__class__',\n",
       " '__delattr__',\n",
       " '__dict__',\n",
       " '__doc__',\n",
       " '__format__',\n",
       " '__getattribute__',\n",
       " '__hash__',\n",
       " '__init__',\n",
       " '__module__',\n",
       " '__new__',\n",
       " '__reduce__',\n",
       " '__reduce_ex__',\n",
       " '__repr__',\n",
       " '__setattr__',\n",
       " '__sizeof__',\n",
       " '__str__',\n",
       " '__subclasshook__',\n",
       " '__weakref__',\n",
       " '_atoms',\n",
       " 'atom',\n",
       " 'atoms',\n",
       " 'atoms_by_name',\n",
       " 'chain',\n",
       " 'code',\n",
       " 'index',\n",
       " 'is_nucleic',\n",
       " 'is_protein',\n",
       " 'is_water',\n",
       " 'n_atoms',\n",
       " 'name',\n",
       " 'resSeq',\n",
       " 'segment_id']"
      ]
     },
     "execution_count": 26,
     "metadata": {},
     "output_type": "execute_result"
    }
   ],
   "source": [
    "dir(zkk_apo.top.residue(0))"
   ]
  },
  {
   "cell_type": "code",
   "execution_count": 29,
   "metadata": {
    "collapsed": false
   },
   "outputs": [
    {
     "data": {
      "text/plain": [
       "''"
      ]
     },
     "execution_count": 29,
     "metadata": {},
     "output_type": "execute_result"
    }
   ],
   "source": [
    "zkk_apo.top.residue(0).segment_id"
   ]
  },
  {
   "cell_type": "code",
   "execution_count": 32,
   "metadata": {
    "collapsed": false
   },
   "outputs": [
    {
     "data": {
      "text/plain": [
       "u'/Users/rafalpwiewiora/repos/pimento/SETD8/Catalytic_Cycle_p11708_scripted/legacy'"
      ]
     },
     "execution_count": 32,
     "metadata": {},
     "output_type": "execute_result"
    }
   ],
   "source": [
    "pwd"
   ]
  },
  {
   "cell_type": "code",
   "execution_count": 36,
   "metadata": {
    "collapsed": true
   },
   "outputs": [],
   "source": [
    "# noticed that the resid's do not get updated - i.e. after I've cut off the first residue from zkk_apo, now we the new\n",
    "# first residue has resid 1 not 0\n",
    "# see if I save and re-load, this is fixed"
   ]
  },
  {
   "cell_type": "code",
   "execution_count": 37,
   "metadata": {
    "collapsed": true
   },
   "outputs": [],
   "source": [
    "zkk_apo.save('ZKK_apo_resid_renumber_test.pdb')"
   ]
  },
  {
   "cell_type": "code",
   "execution_count": 38,
   "metadata": {
    "collapsed": true
   },
   "outputs": [],
   "source": [
    "zkk_apo = md.load('ZKK_apo_resid_renumber_test.pdb')"
   ]
  },
  {
   "cell_type": "code",
   "execution_count": 40,
   "metadata": {
    "collapsed": false
   },
   "outputs": [
    {
     "data": {
      "text/plain": [
       "0"
      ]
     },
     "execution_count": 40,
     "metadata": {},
     "output_type": "execute_result"
    }
   ],
   "source": [
    "zkk_apo.top.residue(0).index"
   ]
  },
  {
   "cell_type": "code",
   "execution_count": 41,
   "metadata": {
    "collapsed": true
   },
   "outputs": [],
   "source": [
    "# yep, so let's do that in script - save and re-load, rather than deal with confusing indexes"
   ]
  },
  {
   "cell_type": "code",
   "execution_count": null,
   "metadata": {
    "collapsed": false
   },
   "outputs": [],
   "source": []
  },
  {
   "cell_type": "code",
   "execution_count": null,
   "metadata": {
    "collapsed": true
   },
   "outputs": [],
   "source": []
  }
 ],
 "metadata": {
  "kernelspec": {
   "display_name": "Python 2",
   "language": "python",
   "name": "python2"
  },
  "language_info": {
   "codemirror_mode": {
    "name": "ipython",
    "version": 2
   },
   "file_extension": ".py",
   "mimetype": "text/x-python",
   "name": "python",
   "nbconvert_exporter": "python",
   "pygments_lexer": "ipython2",
   "version": "2.7.11"
  }
 },
 "nbformat": 4,
 "nbformat_minor": 0
}
