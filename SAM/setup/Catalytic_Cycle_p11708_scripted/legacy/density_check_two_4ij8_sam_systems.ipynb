{
 "cells": [
  {
   "cell_type": "code",
   "execution_count": 1,
   "metadata": {
    "collapsed": true
   },
   "outputs": [],
   "source": [
    "import mdtraj as md"
   ]
  },
  {
   "cell_type": "code",
   "execution_count": 2,
   "metadata": {
    "collapsed": false
   },
   "outputs": [
    {
     "name": "stdout",
     "output_type": "stream",
     "text": [
      "1ZKK_apo_superposetest.pdb                    ZKK_apo_resid_renumber_test.pdb               \u001b[34mfirst_protocol\u001b[m\u001b[m/\r\n",
      "1zkk_debug.ipynb                              after_reduce.py                               \u001b[34mgaff_check\u001b[m\u001b[m/\r\n",
      "2bqz_fixer_test.ipynb                         atom_numbers_for_FAH_4_check.ipynb            gaff_check.ipynb\r\n",
      "\u001b[34m2bqz_only\u001b[m\u001b[m/                                    \u001b[34mbefore_adding_SER0_partial\u001b[m\u001b[m/                   generate_structures.py\r\n",
      "4IJ8_fixer_test.pdb                           check_after_SER0_add.ipynb                    generate_structures_only1zkk.py\r\n",
      "4ij8_fixer_test2.pdb                          debug.ipynb                                   master.sh\r\n",
      "4ij8_fixer_withsam.pdb                        debug2.ipynb                                  master_genstr_solv_only.sh\r\n",
      "4ij8_fixer_withsam2.pdb                       density_check_two_4ij8_sam_systems.ipynb      mol2 convert debug.ipynb\r\n",
      "4ij8_sequence_checks_and_pdbfixer_test.ipynb  \u001b[34mequil_scripts\u001b[m\u001b[m/                                processAmberParameters.py\r\n",
      "MeP_noCONECT.pdb                              \u001b[34mequil_test_SET8_10ns_to_see_cflank\u001b[m\u001b[m/           \u001b[34mpymol_figs\u001b[m\u001b[m/\r\n",
      "SAH_ideal.pdb                                 equilibrate_package.py                        \u001b[34mzkk_vs_bqz\u001b[m\u001b[m/\r\n",
      "SAM_ideal.pdb                                 equilibrate_package_SET8_mixedprecision.py\r\n",
      "\u001b[34mSER0_test\u001b[m\u001b[m/                                    fah_parameters.py\r\n"
     ]
    }
   ],
   "source": [
    "ls"
   ]
  },
  {
   "cell_type": "code",
   "execution_count": 3,
   "metadata": {
    "collapsed": false
   },
   "outputs": [
    {
     "name": "stdout",
     "output_type": "stream",
     "text": [
      "/Users/rafalpwiewiora/repos/pimento/SETD8/Catalytic_Cycle_p11708_scripted\n"
     ]
    }
   ],
   "source": [
    "cd .."
   ]
  },
  {
   "cell_type": "code",
   "execution_count": 4,
   "metadata": {
    "collapsed": false
   },
   "outputs": [
    {
     "name": "stdout",
     "output_type": "stream",
     "text": [
      "README.MD               \u001b[34mfiles\u001b[m\u001b[m/                  master.sh               repackage.py            \u001b[34mwith_solvent\u001b[m\u001b[m/\r\n",
      "after_antechamber.py    generate_structures.py  \u001b[34mno_solvent\u001b[m\u001b[m/             solvate.py\r\n",
      "\u001b[34mequil_scripts\u001b[m\u001b[m/          \u001b[34mlegacy\u001b[m\u001b[m/                 \u001b[34mpackage_OpenMM6\u001b[m\u001b[m/        \u001b[34mtemp_structures\u001b[m\u001b[m/\r\n"
     ]
    }
   ],
   "source": [
    "ls"
   ]
  },
  {
   "cell_type": "code",
   "execution_count": 5,
   "metadata": {
    "collapsed": false
   },
   "outputs": [
    {
     "name": "stdout",
     "output_type": "stream",
     "text": [
      "/Users/rafalpwiewiora/repos/pimento/SETD8/Catalytic_Cycle_p11708_scripted/with_solvent\n"
     ]
    }
   ],
   "source": [
    "cd with_solvent/"
   ]
  },
  {
   "cell_type": "code",
   "execution_count": 6,
   "metadata": {
    "collapsed": true
   },
   "outputs": [],
   "source": [
    "ij8_new = md.load('4IJ8_SET8_SAM.pdb')"
   ]
  },
  {
   "cell_type": "code",
   "execution_count": 7,
   "metadata": {
    "collapsed": false
   },
   "outputs": [
    {
     "data": {
      "text/plain": [
       "array([ 968.56793213], dtype=float32)"
      ]
     },
     "execution_count": 7,
     "metadata": {},
     "output_type": "execute_result"
    }
   ],
   "source": [
    "md.density(ij8_new)"
   ]
  },
  {
   "cell_type": "code",
   "execution_count": 8,
   "metadata": {
    "collapsed": false
   },
   "outputs": [
    {
     "name": "stdout",
     "output_type": "stream",
     "text": [
      "/Users/rafalpwiewiora/repos/pimento/SETD8/Catalytic_Cycle_p11708_scripted\n"
     ]
    }
   ],
   "source": [
    "cd .."
   ]
  },
  {
   "cell_type": "code",
   "execution_count": 9,
   "metadata": {
    "collapsed": false
   },
   "outputs": [
    {
     "name": "stdout",
     "output_type": "stream",
     "text": [
      "/Users/rafalpwiewiora/repos/pimento/SETD8/Catalytic_Cycle_p11708_scripted/legacy\n"
     ]
    }
   ],
   "source": [
    "cd legacy"
   ]
  },
  {
   "cell_type": "code",
   "execution_count": 11,
   "metadata": {
    "collapsed": false
   },
   "outputs": [
    {
     "name": "stdout",
     "output_type": "stream",
     "text": [
      "/Users/rafalpwiewiora/repos/pimento/SETD8/Catalytic_Cycle_p11708_scripted/legacy/before_adding_SER0_partial\n"
     ]
    }
   ],
   "source": [
    "cd before_adding_SER0_partial/"
   ]
  },
  {
   "cell_type": "code",
   "execution_count": 13,
   "metadata": {
    "collapsed": false
   },
   "outputs": [
    {
     "name": "stdout",
     "output_type": "stream",
     "text": [
      "/Users/rafalpwiewiora/repos/pimento/SETD8/Catalytic_Cycle_p11708_scripted/legacy/before_adding_SER0_partial/with_solvent\n"
     ]
    }
   ],
   "source": [
    "cd with_solvent/"
   ]
  },
  {
   "cell_type": "code",
   "execution_count": 14,
   "metadata": {
    "collapsed": true
   },
   "outputs": [],
   "source": [
    "ij8_old = md.load('4IJ8_SET8_SAM.pdb')"
   ]
  },
  {
   "cell_type": "code",
   "execution_count": 15,
   "metadata": {
    "collapsed": false
   },
   "outputs": [
    {
     "data": {
      "text/plain": [
       "array([ 960.56280518], dtype=float32)"
      ]
     },
     "execution_count": 15,
     "metadata": {},
     "output_type": "execute_result"
    }
   ],
   "source": [
    "md.density(ij8_old)"
   ]
  },
  {
   "cell_type": "code",
   "execution_count": 16,
   "metadata": {
    "collapsed": false
   },
   "outputs": [
    {
     "data": {
      "text/plain": [
       "<mdtraj.Trajectory with 1 frames, 52331 atoms, 16732 residues, and unitcells at 0x10d4a1390>"
      ]
     },
     "execution_count": 16,
     "metadata": {},
     "output_type": "execute_result"
    }
   ],
   "source": [
    "ij8_new"
   ]
  },
  {
   "cell_type": "code",
   "execution_count": 17,
   "metadata": {
    "collapsed": false
   },
   "outputs": [
    {
     "data": {
      "text/plain": [
       "<mdtraj.Trajectory with 1 frames, 45516 atoms, 14463 residues, and unitcells at 0x11826d250>"
      ]
     },
     "execution_count": 17,
     "metadata": {},
     "output_type": "execute_result"
    }
   ],
   "source": [
    "ij8_old"
   ]
  },
  {
   "cell_type": "code",
   "execution_count": 18,
   "metadata": {
    "collapsed": true
   },
   "outputs": [],
   "source": [
    "# masses"
   ]
  },
  {
   "cell_type": "code",
   "execution_count": 19,
   "metadata": {
    "collapsed": true
   },
   "outputs": [],
   "source": [
    "ij8_new_mass = sum(atom.element.mass for atom in ij8_new.top.atoms)"
   ]
  },
  {
   "cell_type": "code",
   "execution_count": 20,
   "metadata": {
    "collapsed": false
   },
   "outputs": [
    {
     "data": {
      "text/plain": [
       "317341.0026122911"
      ]
     },
     "execution_count": 20,
     "metadata": {},
     "output_type": "execute_result"
    }
   ],
   "source": [
    "ij8_new_mass"
   ]
  },
  {
   "cell_type": "code",
   "execution_count": 21,
   "metadata": {
    "collapsed": true
   },
   "outputs": [],
   "source": [
    "ij8_old_mass = sum(atom.element.mass for atom in ij8_old.top.atoms)"
   ]
  },
  {
   "cell_type": "code",
   "execution_count": 22,
   "metadata": {
    "collapsed": false
   },
   "outputs": [
    {
     "data": {
      "text/plain": [
       "276395.1701253407"
      ]
     },
     "execution_count": 22,
     "metadata": {},
     "output_type": "execute_result"
    }
   ],
   "source": [
    "ij8_old_mass"
   ]
  },
  {
   "cell_type": "code",
   "execution_count": 23,
   "metadata": {
    "collapsed": false
   },
   "outputs": [
    {
     "data": {
      "text/plain": [
       "1.1481423588855844"
      ]
     },
     "execution_count": 23,
     "metadata": {},
     "output_type": "execute_result"
    }
   ],
   "source": [
    "ij8_new_mass / ij8_old_mass"
   ]
  },
  {
   "cell_type": "code",
   "execution_count": 24,
   "metadata": {
    "collapsed": true
   },
   "outputs": [],
   "source": [
    "# how about numbers of atoms"
   ]
  },
  {
   "cell_type": "code",
   "execution_count": 26,
   "metadata": {
    "collapsed": true
   },
   "outputs": [],
   "source": [
    "from __future__ import division"
   ]
  },
  {
   "cell_type": "code",
   "execution_count": 27,
   "metadata": {
    "collapsed": false
   },
   "outputs": [
    {
     "data": {
      "text/plain": [
       "1.1497275683276211"
      ]
     },
     "execution_count": 27,
     "metadata": {},
     "output_type": "execute_result"
    }
   ],
   "source": [
    "len(list(ij8_new.top.atoms)) / len(list(ij8_old.top.atoms))"
   ]
  },
  {
   "cell_type": "code",
   "execution_count": 28,
   "metadata": {
    "collapsed": true
   },
   "outputs": [],
   "source": [
    "# volumes"
   ]
  },
  {
   "cell_type": "code",
   "execution_count": 31,
   "metadata": {
    "collapsed": false
   },
   "outputs": [],
   "source": [
    "ij8_old_volume = ij8_old.unitcell_volumes"
   ]
  },
  {
   "cell_type": "code",
   "execution_count": 32,
   "metadata": {
    "collapsed": false
   },
   "outputs": [
    {
     "data": {
      "text/plain": [
       "array([ 477.80828857], dtype=float32)"
      ]
     },
     "execution_count": 32,
     "metadata": {},
     "output_type": "execute_result"
    }
   ],
   "source": [
    "ij8_old_volume"
   ]
  },
  {
   "cell_type": "code",
   "execution_count": 33,
   "metadata": {
    "collapsed": true
   },
   "outputs": [],
   "source": [
    "ij8_new_volume = ij8_new.unitcell_volumes"
   ]
  },
  {
   "cell_type": "code",
   "execution_count": 34,
   "metadata": {
    "collapsed": false
   },
   "outputs": [
    {
     "data": {
      "text/plain": [
       "array([ 544.05792236], dtype=float32)"
      ]
     },
     "execution_count": 34,
     "metadata": {},
     "output_type": "execute_result"
    }
   ],
   "source": [
    "ij8_new_volume"
   ]
  },
  {
   "cell_type": "code",
   "execution_count": 35,
   "metadata": {
    "collapsed": false
   },
   "outputs": [
    {
     "data": {
      "text/plain": [
       "array([ 1.13865316], dtype=float32)"
      ]
     },
     "execution_count": 35,
     "metadata": {},
     "output_type": "execute_result"
    }
   ],
   "source": [
    "ij8_new_volume / ij8_old_volume"
   ]
  },
  {
   "cell_type": "code",
   "execution_count": null,
   "metadata": {
    "collapsed": true
   },
   "outputs": [],
   "source": []
  }
 ],
 "metadata": {
  "kernelspec": {
   "display_name": "Python 2",
   "language": "python",
   "name": "python2"
  },
  "language_info": {
   "codemirror_mode": {
    "name": "ipython",
    "version": 2
   },
   "file_extension": ".py",
   "mimetype": "text/x-python",
   "name": "python",
   "nbconvert_exporter": "python",
   "pygments_lexer": "ipython2",
   "version": "2.7.11"
  }
 },
 "nbformat": 4,
 "nbformat_minor": 0
}
