{
 "cells": [
  {
   "cell_type": "code",
   "execution_count": 1,
   "metadata": {
    "collapsed": true
   },
   "outputs": [],
   "source": [
    "import mdtraj as md"
   ]
  },
  {
   "cell_type": "code",
   "execution_count": 2,
   "metadata": {
    "collapsed": false
   },
   "outputs": [
    {
     "name": "stdout",
     "output_type": "stream",
     "text": [
      "SET8_P_test.pdb         after_reduce.py         generate_structures.py  master.sh\r\n",
      "Untitled.ipynb          \u001b[34mfiles\u001b[m\u001b[m/                  \u001b[34mlegacy\u001b[m\u001b[m/                 \u001b[34mstructures\u001b[m\u001b[m/\r\n"
     ]
    }
   ],
   "source": [
    "ls"
   ]
  },
  {
   "cell_type": "code",
   "execution_count": 6,
   "metadata": {
    "collapsed": false
   },
   "outputs": [
    {
     "name": "stdout",
     "output_type": "stream",
     "text": [
      "/Users/rafalpwiewiora/repos/pimento/SETD8/Catalytic_Cycle_p11708_scripted/structures\n"
     ]
    }
   ],
   "source": [
    "cd structures/"
   ]
  },
  {
   "cell_type": "code",
   "execution_count": 7,
   "metadata": {
    "collapsed": false
   },
   "outputs": [
    {
     "name": "stdout",
     "output_type": "stream",
     "text": [
      "MeP.pdb           SAH_noH.pdb       SAM_noH.pdb       SET8_MeP.pdb      SET8_P.pdb        SET8_noH.pdb\r\n",
      "SAH.pdb           SAM.pdb           SET8.pdb          SET8_MeP_noH.pdb  SET8_P_noH.pdb\r\n"
     ]
    }
   ],
   "source": [
    "ls"
   ]
  },
  {
   "cell_type": "code",
   "execution_count": 8,
   "metadata": {
    "collapsed": true
   },
   "outputs": [],
   "source": [
    "set8_mep = md.load('SET8_MeP.pdb')"
   ]
  },
  {
   "cell_type": "code",
   "execution_count": 9,
   "metadata": {
    "collapsed": true
   },
   "outputs": [],
   "source": [
    "set8_mep_selection = set8_mep.top.select('resname MLZ and (name CM or name HCM1 or name HCM2 or name HCM3)')"
   ]
  },
  {
   "cell_type": "code",
   "execution_count": 10,
   "metadata": {
    "collapsed": false
   },
   "outputs": [
    {
     "data": {
      "text/plain": [
       "array([2639, 2642, 2643, 2644])"
      ]
     },
     "execution_count": 10,
     "metadata": {},
     "output_type": "execute_result"
    }
   ],
   "source": [
    "set8_mep_selection"
   ]
  },
  {
   "cell_type": "code",
   "execution_count": 11,
   "metadata": {
    "collapsed": true
   },
   "outputs": [],
   "source": [
    "# from the P structure delete HZ1 both for deprotonation, as well as fixing the MLZ"
   ]
  },
  {
   "cell_type": "code",
   "execution_count": 12,
   "metadata": {
    "collapsed": false
   },
   "outputs": [],
   "source": [
    "set8_p = md.load('SET8_P.pdb')"
   ]
  },
  {
   "cell_type": "code",
   "execution_count": 13,
   "metadata": {
    "collapsed": true
   },
   "outputs": [],
   "source": [
    "set8_p_selection = set8_p.top.select('not (chainid 1 and resname LYS and name HZ1)')"
   ]
  },
  {
   "cell_type": "code",
   "execution_count": 14,
   "metadata": {
    "collapsed": false
   },
   "outputs": [
    {
     "data": {
      "text/plain": [
       "2760"
      ]
     },
     "execution_count": 14,
     "metadata": {},
     "output_type": "execute_result"
    }
   ],
   "source": [
    "len(set8_p_selection)"
   ]
  },
  {
   "cell_type": "code",
   "execution_count": 15,
   "metadata": {
    "collapsed": false
   },
   "outputs": [
    {
     "data": {
      "text/plain": [
       "<mdtraj.Trajectory with 1 frames, 2761 atoms, 171 residues, and unitcells at 0x10e437e50>"
      ]
     },
     "execution_count": 15,
     "metadata": {},
     "output_type": "execute_result"
    }
   ],
   "source": [
    "set8_p"
   ]
  },
  {
   "cell_type": "code",
   "execution_count": 16,
   "metadata": {
    "collapsed": true
   },
   "outputs": [],
   "source": [
    "set8_p_selection_delete = set8_p.top.select('chainid 1 and resname LYS and name HZ1')"
   ]
  },
  {
   "cell_type": "code",
   "execution_count": 17,
   "metadata": {
    "collapsed": false
   },
   "outputs": [
    {
     "data": {
      "text/plain": [
       "array([2651])"
      ]
     },
     "execution_count": 17,
     "metadata": {},
     "output_type": "execute_result"
    }
   ],
   "source": [
    "set8_p_selection_delete"
   ]
  },
  {
   "cell_type": "code",
   "execution_count": null,
   "metadata": {
    "collapsed": true
   },
   "outputs": [],
   "source": []
  },
  {
   "cell_type": "code",
   "execution_count": 18,
   "metadata": {
    "collapsed": true
   },
   "outputs": [],
   "source": [
    "# new problems - 1) if we delete HZ1, gotta rename HZ2 and HZ3 - how to rename atoms"
   ]
  },
  {
   "cell_type": "code",
   "execution_count": 19,
   "metadata": {
    "collapsed": true
   },
   "outputs": [],
   "source": [
    "# new problems - 2) gotta rename LYS to MLZ"
   ]
  },
  {
   "cell_type": "code",
   "execution_count": 20,
   "metadata": {
    "collapsed": true
   },
   "outputs": [],
   "source": [
    "# new problems - 3) the methyl from MLZ needs to become part of the LYS--> MLZ (name change number 2) residue"
   ]
  },
  {
   "cell_type": "code",
   "execution_count": 21,
   "metadata": {
    "collapsed": true
   },
   "outputs": [],
   "source": [
    "top = set8_p.top"
   ]
  },
  {
   "cell_type": "code",
   "execution_count": 22,
   "metadata": {
    "collapsed": false
   },
   "outputs": [
    {
     "data": {
      "text/plain": [
       "['__class__',\n",
       " '__copy__',\n",
       " '__deepcopy__',\n",
       " '__delattr__',\n",
       " '__dict__',\n",
       " '__doc__',\n",
       " '__eq__',\n",
       " '__format__',\n",
       " '__getattribute__',\n",
       " '__hash__',\n",
       " '__init__',\n",
       " '__module__',\n",
       " '__ne__',\n",
       " '__new__',\n",
       " '__reduce__',\n",
       " '__reduce_ex__',\n",
       " '__repr__',\n",
       " '__setattr__',\n",
       " '__sizeof__',\n",
       " '__str__',\n",
       " '__subclasshook__',\n",
       " '__weakref__',\n",
       " '_atoms',\n",
       " '_bonds',\n",
       " '_chains',\n",
       " '_numAtoms',\n",
       " '_numResidues',\n",
       " '_residues',\n",
       " '_standardBonds',\n",
       " '_string_summary_basic',\n",
       " '_unique_pairs',\n",
       " '_unique_pairs_equal',\n",
       " '_unique_pairs_mutually_exclusive',\n",
       " 'add_atom',\n",
       " 'add_bond',\n",
       " 'add_chain',\n",
       " 'add_residue',\n",
       " 'atom',\n",
       " 'atoms',\n",
       " 'atoms_by_name',\n",
       " 'bonds',\n",
       " 'chain',\n",
       " 'chains',\n",
       " 'copy',\n",
       " 'create_disulfide_bonds',\n",
       " 'create_standard_bonds',\n",
       " 'find_molecules',\n",
       " 'from_dataframe',\n",
       " 'from_openmm',\n",
       " 'join',\n",
       " 'n_atoms',\n",
       " 'n_bonds',\n",
       " 'n_chains',\n",
       " 'n_residues',\n",
       " 'residue',\n",
       " 'residues',\n",
       " 'select',\n",
       " 'select_atom_indices',\n",
       " 'select_expression',\n",
       " 'select_pairs',\n",
       " 'subset',\n",
       " 'to_bondgraph',\n",
       " 'to_dataframe',\n",
       " 'to_fasta',\n",
       " 'to_openmm']"
      ]
     },
     "execution_count": 22,
     "metadata": {},
     "output_type": "execute_result"
    }
   ],
   "source": [
    "dir(top)"
   ]
  },
  {
   "cell_type": "code",
   "execution_count": 23,
   "metadata": {
    "collapsed": false
   },
   "outputs": [
    {
     "data": {
      "text/plain": [
       "{'A': [('-OP3', 'P'),\n",
       "  (\"C1'\", \"C2'\"),\n",
       "  (\"C1'\", \"H1'\"),\n",
       "  (\"C1'\", 'N9'),\n",
       "  (\"C1'\", \"O4'\"),\n",
       "  ('C2', 'H2'),\n",
       "  ('C2', 'N1'),\n",
       "  ('C2', 'N3'),\n",
       "  (\"C2'\", \"C3'\"),\n",
       "  (\"C2'\", \"H2'\"),\n",
       "  (\"C2'\", \"O2'\"),\n",
       "  (\"C3'\", \"C4'\"),\n",
       "  (\"C3'\", \"H3'\"),\n",
       "  (\"C3'\", \"O3'\"),\n",
       "  ('C4', 'C5'),\n",
       "  ('C4', 'N3'),\n",
       "  ('C4', 'N9'),\n",
       "  (\"C4'\", \"C5'\"),\n",
       "  (\"C4'\", \"H4'\"),\n",
       "  (\"C4'\", \"O4'\"),\n",
       "  ('C5', 'C6'),\n",
       "  ('C5', 'N7'),\n",
       "  (\"C5'\", \"H5'\"),\n",
       "  (\"C5'\", \"H5''\"),\n",
       "  (\"C5'\", \"O5'\"),\n",
       "  ('C6', 'N1'),\n",
       "  ('C6', 'N6'),\n",
       "  ('C8', 'H8'),\n",
       "  ('C8', 'N7'),\n",
       "  ('C8', 'N9'),\n",
       "  ('H61', 'N6'),\n",
       "  ('H62', 'N6'),\n",
       "  (\"HO2'\", \"O2'\"),\n",
       "  (\"HO3'\", \"O3'\"),\n",
       "  ('HOP2', 'OP2'),\n",
       "  ('HOP3', 'OP3'),\n",
       "  (\"O5'\", 'P'),\n",
       "  ('OP1', 'P'),\n",
       "  ('OP2', 'P'),\n",
       "  ('OP3', 'P')],\n",
       " 'ACE': [('C', 'CH3'),\n",
       "  ('C', 'H'),\n",
       "  ('C', 'O'),\n",
       "  ('CH3', 'H1'),\n",
       "  ('CH3', 'H2'),\n",
       "  ('CH3', 'H3')],\n",
       " 'AIB': [('-C', 'N'),\n",
       "  ('C', 'CA'),\n",
       "  ('C', 'O'),\n",
       "  ('C', 'OXT'),\n",
       "  ('CA', 'CB1'),\n",
       "  ('CA', 'CB2'),\n",
       "  ('CA', 'N'),\n",
       "  ('CB1', 'HB11'),\n",
       "  ('CB1', 'HB12'),\n",
       "  ('CB1', 'HB13'),\n",
       "  ('CB2', 'HB21'),\n",
       "  ('CB2', 'HB22'),\n",
       "  ('CB2', 'HB23'),\n",
       "  ('H', 'N'),\n",
       "  ('H2', 'N'),\n",
       "  ('H3', 'N'),\n",
       "  ('HO2', 'OXT')],\n",
       " 'ALA': [('-C', 'N'),\n",
       "  ('C', 'CA'),\n",
       "  ('C', 'O'),\n",
       "  ('C', 'OXT'),\n",
       "  ('CA', 'CB'),\n",
       "  ('CA', 'HA'),\n",
       "  ('CA', 'N'),\n",
       "  ('CB', 'HB1'),\n",
       "  ('CB', 'HB2'),\n",
       "  ('CB', 'HB3'),\n",
       "  ('H', 'N'),\n",
       "  ('H2', 'N'),\n",
       "  ('H3', 'N'),\n",
       "  ('HXT', 'OXT')],\n",
       " 'ARG': [('-C', 'N'),\n",
       "  ('C', 'CA'),\n",
       "  ('C', 'O'),\n",
       "  ('C', 'OXT'),\n",
       "  ('CA', 'CB'),\n",
       "  ('CA', 'HA'),\n",
       "  ('CA', 'N'),\n",
       "  ('CB', 'CG'),\n",
       "  ('CB', 'HB2'),\n",
       "  ('CB', 'HB3'),\n",
       "  ('CD', 'CG'),\n",
       "  ('CD', 'HD2'),\n",
       "  ('CD', 'HD3'),\n",
       "  ('CD', 'NE'),\n",
       "  ('CG', 'HG2'),\n",
       "  ('CG', 'HG3'),\n",
       "  ('CZ', 'NE'),\n",
       "  ('CZ', 'NH1'),\n",
       "  ('CZ', 'NH2'),\n",
       "  ('H', 'N'),\n",
       "  ('H2', 'N'),\n",
       "  ('H3', 'N'),\n",
       "  ('HE', 'NE'),\n",
       "  ('HH11', 'NH1'),\n",
       "  ('HH12', 'NH1'),\n",
       "  ('HH21', 'NH2'),\n",
       "  ('HH22', 'NH2'),\n",
       "  ('HXT', 'OXT')],\n",
       " 'ASN': [('-C', 'N'),\n",
       "  ('C', 'CA'),\n",
       "  ('C', 'O'),\n",
       "  ('C', 'OXT'),\n",
       "  ('CA', 'CB'),\n",
       "  ('CA', 'HA'),\n",
       "  ('CA', 'N'),\n",
       "  ('CB', 'CG'),\n",
       "  ('CB', 'HB2'),\n",
       "  ('CB', 'HB3'),\n",
       "  ('CG', 'ND2'),\n",
       "  ('CG', 'OD1'),\n",
       "  ('H', 'N'),\n",
       "  ('H2', 'N'),\n",
       "  ('H3', 'N'),\n",
       "  ('HD21', 'ND2'),\n",
       "  ('HD22', 'ND2'),\n",
       "  ('HXT', 'OXT')],\n",
       " 'ASP': [('-C', 'N'),\n",
       "  ('C', 'CA'),\n",
       "  ('C', 'O'),\n",
       "  ('C', 'OXT'),\n",
       "  ('CA', 'CB'),\n",
       "  ('CA', 'HA'),\n",
       "  ('CA', 'N'),\n",
       "  ('CB', 'CG'),\n",
       "  ('CB', 'HB2'),\n",
       "  ('CB', 'HB3'),\n",
       "  ('CG', 'OD1'),\n",
       "  ('CG', 'OD2'),\n",
       "  ('H', 'N'),\n",
       "  ('H2', 'N'),\n",
       "  ('H3', 'N'),\n",
       "  ('HD2', 'OD2'),\n",
       "  ('HXT', 'OXT')],\n",
       " 'C': [('-OP3', 'P'),\n",
       "  (\"C1'\", \"C2'\"),\n",
       "  (\"C1'\", \"H1'\"),\n",
       "  (\"C1'\", 'N1'),\n",
       "  (\"C1'\", \"O4'\"),\n",
       "  ('C2', 'N1'),\n",
       "  ('C2', 'N3'),\n",
       "  ('C2', 'O2'),\n",
       "  (\"C2'\", \"C3'\"),\n",
       "  (\"C2'\", \"H2'\"),\n",
       "  (\"C2'\", \"O2'\"),\n",
       "  (\"C3'\", \"C4'\"),\n",
       "  (\"C3'\", \"H3'\"),\n",
       "  (\"C3'\", \"O3'\"),\n",
       "  ('C4', 'C5'),\n",
       "  ('C4', 'N3'),\n",
       "  ('C4', 'N4'),\n",
       "  (\"C4'\", \"C5'\"),\n",
       "  (\"C4'\", \"H4'\"),\n",
       "  (\"C4'\", \"O4'\"),\n",
       "  ('C5', 'C6'),\n",
       "  ('C5', 'H5'),\n",
       "  (\"C5'\", \"H5'\"),\n",
       "  (\"C5'\", \"H5''\"),\n",
       "  (\"C5'\", \"O5'\"),\n",
       "  ('C6', 'H6'),\n",
       "  ('C6', 'N1'),\n",
       "  ('H41', 'N4'),\n",
       "  ('H42', 'N4'),\n",
       "  (\"HO2'\", \"O2'\"),\n",
       "  (\"HO3'\", \"O3'\"),\n",
       "  ('HOP2', 'OP2'),\n",
       "  ('HOP3', 'OP3'),\n",
       "  (\"O5'\", 'P'),\n",
       "  ('OP1', 'P'),\n",
       "  ('OP2', 'P'),\n",
       "  ('OP3', 'P')],\n",
       " 'CYS': [('-C', 'N'),\n",
       "  ('C', 'CA'),\n",
       "  ('C', 'O'),\n",
       "  ('C', 'OXT'),\n",
       "  ('CA', 'CB'),\n",
       "  ('CA', 'HA'),\n",
       "  ('CA', 'N'),\n",
       "  ('CB', 'HB2'),\n",
       "  ('CB', 'HB3'),\n",
       "  ('CB', 'SG'),\n",
       "  ('H', 'N'),\n",
       "  ('H2', 'N'),\n",
       "  ('H3', 'N'),\n",
       "  ('HG', 'SG'),\n",
       "  ('HXT', 'OXT')],\n",
       " 'DA': [('-OP3', 'P'),\n",
       "  (\"C1'\", \"C2'\"),\n",
       "  (\"C1'\", \"H1'\"),\n",
       "  (\"C1'\", 'N9'),\n",
       "  (\"C1'\", \"O4'\"),\n",
       "  ('C2', 'H2'),\n",
       "  ('C2', 'N1'),\n",
       "  ('C2', 'N3'),\n",
       "  (\"C2'\", \"C3'\"),\n",
       "  (\"C2'\", \"H2'\"),\n",
       "  (\"C2'\", \"H2''\"),\n",
       "  (\"C3'\", \"C4'\"),\n",
       "  (\"C3'\", \"H3'\"),\n",
       "  (\"C3'\", \"O3'\"),\n",
       "  ('C4', 'C5'),\n",
       "  ('C4', 'N3'),\n",
       "  ('C4', 'N9'),\n",
       "  (\"C4'\", \"C5'\"),\n",
       "  (\"C4'\", \"H4'\"),\n",
       "  (\"C4'\", \"O4'\"),\n",
       "  ('C5', 'C6'),\n",
       "  ('C5', 'N7'),\n",
       "  (\"C5'\", \"H5'\"),\n",
       "  (\"C5'\", \"H5''\"),\n",
       "  (\"C5'\", \"O5'\"),\n",
       "  ('C6', 'N1'),\n",
       "  ('C6', 'N6'),\n",
       "  ('C8', 'H8'),\n",
       "  ('C8', 'N7'),\n",
       "  ('C8', 'N9'),\n",
       "  ('H61', 'N6'),\n",
       "  ('H62', 'N6'),\n",
       "  (\"HO3'\", \"O3'\"),\n",
       "  ('HOP2', 'OP2'),\n",
       "  ('HOP3', 'OP3'),\n",
       "  (\"O5'\", 'P'),\n",
       "  ('OP1', 'P'),\n",
       "  ('OP2', 'P'),\n",
       "  ('OP3', 'P')],\n",
       " 'DC': [('-OP3', 'P'),\n",
       "  (\"C1'\", \"C2'\"),\n",
       "  (\"C1'\", \"H1'\"),\n",
       "  (\"C1'\", 'N1'),\n",
       "  (\"C1'\", \"O4'\"),\n",
       "  ('C2', 'N1'),\n",
       "  ('C2', 'N3'),\n",
       "  ('C2', 'O2'),\n",
       "  (\"C2'\", \"C3'\"),\n",
       "  (\"C2'\", \"H2'\"),\n",
       "  (\"C2'\", \"H2''\"),\n",
       "  (\"C3'\", \"C4'\"),\n",
       "  (\"C3'\", \"H3'\"),\n",
       "  (\"C3'\", \"O3'\"),\n",
       "  ('C4', 'C5'),\n",
       "  ('C4', 'N3'),\n",
       "  ('C4', 'N4'),\n",
       "  (\"C4'\", \"C5'\"),\n",
       "  (\"C4'\", \"H4'\"),\n",
       "  (\"C4'\", \"O4'\"),\n",
       "  ('C5', 'C6'),\n",
       "  ('C5', 'H5'),\n",
       "  (\"C5'\", \"H5'\"),\n",
       "  (\"C5'\", \"H5''\"),\n",
       "  (\"C5'\", \"O5'\"),\n",
       "  ('C6', 'H6'),\n",
       "  ('C6', 'N1'),\n",
       "  ('H41', 'N4'),\n",
       "  ('H42', 'N4'),\n",
       "  (\"HO3'\", \"O3'\"),\n",
       "  ('HOP2', 'OP2'),\n",
       "  ('HOP3', 'OP3'),\n",
       "  (\"O5'\", 'P'),\n",
       "  ('OP1', 'P'),\n",
       "  ('OP2', 'P'),\n",
       "  ('OP3', 'P')],\n",
       " 'DG': [('-OP3', 'P'),\n",
       "  (\"C1'\", \"C2'\"),\n",
       "  (\"C1'\", \"H1'\"),\n",
       "  (\"C1'\", 'N9'),\n",
       "  (\"C1'\", \"O4'\"),\n",
       "  ('C2', 'N1'),\n",
       "  ('C2', 'N2'),\n",
       "  ('C2', 'N3'),\n",
       "  (\"C2'\", \"C3'\"),\n",
       "  (\"C2'\", \"H2'\"),\n",
       "  (\"C2'\", \"H2''\"),\n",
       "  (\"C3'\", \"C4'\"),\n",
       "  (\"C3'\", \"H3'\"),\n",
       "  (\"C3'\", \"O3'\"),\n",
       "  ('C4', 'C5'),\n",
       "  ('C4', 'N3'),\n",
       "  ('C4', 'N9'),\n",
       "  (\"C4'\", \"C5'\"),\n",
       "  (\"C4'\", \"H4'\"),\n",
       "  (\"C4'\", \"O4'\"),\n",
       "  ('C5', 'C6'),\n",
       "  ('C5', 'N7'),\n",
       "  (\"C5'\", \"H5'\"),\n",
       "  (\"C5'\", \"H5''\"),\n",
       "  (\"C5'\", \"O5'\"),\n",
       "  ('C6', 'N1'),\n",
       "  ('C6', 'O6'),\n",
       "  ('C8', 'H8'),\n",
       "  ('C8', 'N7'),\n",
       "  ('C8', 'N9'),\n",
       "  ('H1', 'N1'),\n",
       "  ('H21', 'N2'),\n",
       "  ('H22', 'N2'),\n",
       "  (\"HO3'\", \"O3'\"),\n",
       "  ('HOP2', 'OP2'),\n",
       "  ('HOP3', 'OP3'),\n",
       "  (\"O5'\", 'P'),\n",
       "  ('OP1', 'P'),\n",
       "  ('OP2', 'P'),\n",
       "  ('OP3', 'P')],\n",
       " 'DT': [('-OP3', 'P'),\n",
       "  (\"C1'\", \"C2'\"),\n",
       "  (\"C1'\", \"H1'\"),\n",
       "  (\"C1'\", 'N1'),\n",
       "  (\"C1'\", \"O4'\"),\n",
       "  ('C2', 'N1'),\n",
       "  ('C2', 'N3'),\n",
       "  ('C2', 'O2'),\n",
       "  (\"C2'\", \"C3'\"),\n",
       "  (\"C2'\", \"H2'\"),\n",
       "  (\"C2'\", \"H2''\"),\n",
       "  (\"C3'\", \"C4'\"),\n",
       "  (\"C3'\", \"H3'\"),\n",
       "  (\"C3'\", \"O3'\"),\n",
       "  ('C4', 'C5'),\n",
       "  ('C4', 'N3'),\n",
       "  ('C4', 'O4'),\n",
       "  (\"C4'\", \"C5'\"),\n",
       "  (\"C4'\", \"H4'\"),\n",
       "  (\"C4'\", \"O4'\"),\n",
       "  ('C5', 'C6'),\n",
       "  ('C5', 'C7'),\n",
       "  (\"C5'\", \"H5'\"),\n",
       "  (\"C5'\", \"H5''\"),\n",
       "  (\"C5'\", \"O5'\"),\n",
       "  ('C6', 'H6'),\n",
       "  ('C6', 'N1'),\n",
       "  ('C7', 'H71'),\n",
       "  ('C7', 'H72'),\n",
       "  ('C7', 'H73'),\n",
       "  ('H3', 'N3'),\n",
       "  (\"HO3'\", \"O3'\"),\n",
       "  ('HOP2', 'OP2'),\n",
       "  ('HOP3', 'OP3'),\n",
       "  (\"O5'\", 'P'),\n",
       "  ('OP1', 'P'),\n",
       "  ('OP2', 'P'),\n",
       "  ('OP3', 'P')],\n",
       " 'FOR': [('-C', 'N'), ('C', 'H1'), ('C', 'H2'), ('C', 'O'), ('H3', 'N')],\n",
       " 'G': [('-OP3', 'P'),\n",
       "  (\"C1'\", \"C2'\"),\n",
       "  (\"C1'\", \"H1'\"),\n",
       "  (\"C1'\", 'N9'),\n",
       "  (\"C1'\", \"O4'\"),\n",
       "  ('C2', 'N1'),\n",
       "  ('C2', 'N2'),\n",
       "  ('C2', 'N3'),\n",
       "  (\"C2'\", \"C3'\"),\n",
       "  (\"C2'\", \"H2'\"),\n",
       "  (\"C2'\", \"O2'\"),\n",
       "  (\"C3'\", \"C4'\"),\n",
       "  (\"C3'\", \"H3'\"),\n",
       "  (\"C3'\", \"O3'\"),\n",
       "  ('C4', 'C5'),\n",
       "  ('C4', 'N3'),\n",
       "  ('C4', 'N9'),\n",
       "  (\"C4'\", \"C5'\"),\n",
       "  (\"C4'\", \"H4'\"),\n",
       "  (\"C4'\", \"O4'\"),\n",
       "  ('C5', 'C6'),\n",
       "  ('C5', 'N7'),\n",
       "  (\"C5'\", \"H5'\"),\n",
       "  (\"C5'\", \"H5''\"),\n",
       "  (\"C5'\", \"O5'\"),\n",
       "  ('C6', 'N1'),\n",
       "  ('C6', 'O6'),\n",
       "  ('C8', 'H8'),\n",
       "  ('C8', 'N7'),\n",
       "  ('C8', 'N9'),\n",
       "  ('H1', 'N1'),\n",
       "  ('H21', 'N2'),\n",
       "  ('H22', 'N2'),\n",
       "  (\"HO2'\", \"O2'\"),\n",
       "  (\"HO3'\", \"O3'\"),\n",
       "  ('HOP2', 'OP2'),\n",
       "  ('HOP3', 'OP3'),\n",
       "  (\"O5'\", 'P'),\n",
       "  ('OP1', 'P'),\n",
       "  ('OP2', 'P'),\n",
       "  ('OP3', 'P')],\n",
       " 'GLN': [('-C', 'N'),\n",
       "  ('C', 'CA'),\n",
       "  ('C', 'O'),\n",
       "  ('C', 'OXT'),\n",
       "  ('CA', 'CB'),\n",
       "  ('CA', 'HA'),\n",
       "  ('CA', 'N'),\n",
       "  ('CB', 'CG'),\n",
       "  ('CB', 'HB2'),\n",
       "  ('CB', 'HB3'),\n",
       "  ('CD', 'CG'),\n",
       "  ('CD', 'NE2'),\n",
       "  ('CD', 'OE1'),\n",
       "  ('CG', 'HG2'),\n",
       "  ('CG', 'HG3'),\n",
       "  ('H', 'N'),\n",
       "  ('H2', 'N'),\n",
       "  ('H3', 'N'),\n",
       "  ('HE21', 'NE2'),\n",
       "  ('HE22', 'NE2'),\n",
       "  ('HXT', 'OXT')],\n",
       " 'GLU': [('-C', 'N'),\n",
       "  ('C', 'CA'),\n",
       "  ('C', 'O'),\n",
       "  ('C', 'OXT'),\n",
       "  ('CA', 'CB'),\n",
       "  ('CA', 'HA'),\n",
       "  ('CA', 'N'),\n",
       "  ('CB', 'CG'),\n",
       "  ('CB', 'HB2'),\n",
       "  ('CB', 'HB3'),\n",
       "  ('CD', 'CG'),\n",
       "  ('CD', 'OE1'),\n",
       "  ('CD', 'OE2'),\n",
       "  ('CG', 'HG2'),\n",
       "  ('CG', 'HG3'),\n",
       "  ('H', 'N'),\n",
       "  ('H2', 'N'),\n",
       "  ('H3', 'N'),\n",
       "  ('HE2', 'OE2'),\n",
       "  ('HXT', 'OXT')],\n",
       " 'GLY': [('-C', 'N'),\n",
       "  ('C', 'CA'),\n",
       "  ('C', 'O'),\n",
       "  ('C', 'OXT'),\n",
       "  ('CA', 'HA2'),\n",
       "  ('CA', 'HA3'),\n",
       "  ('CA', 'N'),\n",
       "  ('H', 'N'),\n",
       "  ('H2', 'N'),\n",
       "  ('H3', 'N'),\n",
       "  ('HXT', 'OXT')],\n",
       " 'HIS': [('-C', 'N'),\n",
       "  ('C', 'CA'),\n",
       "  ('C', 'O'),\n",
       "  ('C', 'OXT'),\n",
       "  ('CA', 'CB'),\n",
       "  ('CA', 'HA'),\n",
       "  ('CA', 'N'),\n",
       "  ('CB', 'CG'),\n",
       "  ('CB', 'HB2'),\n",
       "  ('CB', 'HB3'),\n",
       "  ('CD2', 'CG'),\n",
       "  ('CD2', 'HD2'),\n",
       "  ('CD2', 'NE2'),\n",
       "  ('CE1', 'HE1'),\n",
       "  ('CE1', 'ND1'),\n",
       "  ('CE1', 'NE2'),\n",
       "  ('CG', 'ND1'),\n",
       "  ('H', 'N'),\n",
       "  ('H2', 'N'),\n",
       "  ('H3', 'N'),\n",
       "  ('HD1', 'ND1'),\n",
       "  ('HE2', 'NE2'),\n",
       "  ('HXT', 'OXT')],\n",
       " 'HOH': [('H1', 'O'), ('H2', 'O')],\n",
       " 'ILE': [('-C', 'N'),\n",
       "  ('C', 'CA'),\n",
       "  ('C', 'O'),\n",
       "  ('C', 'OXT'),\n",
       "  ('CA', 'CB'),\n",
       "  ('CA', 'HA'),\n",
       "  ('CA', 'N'),\n",
       "  ('CB', 'CG1'),\n",
       "  ('CB', 'CG2'),\n",
       "  ('CB', 'HB'),\n",
       "  ('CD1', 'CG1'),\n",
       "  ('CD1', 'HD11'),\n",
       "  ('CD1', 'HD12'),\n",
       "  ('CD1', 'HD13'),\n",
       "  ('CG1', 'HG12'),\n",
       "  ('CG1', 'HG13'),\n",
       "  ('CG2', 'HG21'),\n",
       "  ('CG2', 'HG22'),\n",
       "  ('CG2', 'HG23'),\n",
       "  ('H', 'N'),\n",
       "  ('H2', 'N'),\n",
       "  ('H3', 'N'),\n",
       "  ('HXT', 'OXT')],\n",
       " 'LEU': [('-C', 'N'),\n",
       "  ('C', 'CA'),\n",
       "  ('C', 'O'),\n",
       "  ('C', 'OXT'),\n",
       "  ('CA', 'CB'),\n",
       "  ('CA', 'HA'),\n",
       "  ('CA', 'N'),\n",
       "  ('CB', 'CG'),\n",
       "  ('CB', 'HB2'),\n",
       "  ('CB', 'HB3'),\n",
       "  ('CD1', 'CG'),\n",
       "  ('CD1', 'HD11'),\n",
       "  ('CD1', 'HD12'),\n",
       "  ('CD1', 'HD13'),\n",
       "  ('CD2', 'CG'),\n",
       "  ('CD2', 'HD21'),\n",
       "  ('CD2', 'HD22'),\n",
       "  ('CD2', 'HD23'),\n",
       "  ('CG', 'HG'),\n",
       "  ('H', 'N'),\n",
       "  ('H2', 'N'),\n",
       "  ('H3', 'N'),\n",
       "  ('HXT', 'OXT')],\n",
       " 'LYS': [('-C', 'N'),\n",
       "  ('C', 'CA'),\n",
       "  ('C', 'O'),\n",
       "  ('C', 'OXT'),\n",
       "  ('CA', 'CB'),\n",
       "  ('CA', 'HA'),\n",
       "  ('CA', 'N'),\n",
       "  ('CB', 'CG'),\n",
       "  ('CB', 'HB2'),\n",
       "  ('CB', 'HB3'),\n",
       "  ('CD', 'CE'),\n",
       "  ('CD', 'CG'),\n",
       "  ('CD', 'HD2'),\n",
       "  ('CD', 'HD3'),\n",
       "  ('CE', 'HE2'),\n",
       "  ('CE', 'HE3'),\n",
       "  ('CE', 'NZ'),\n",
       "  ('CG', 'HG2'),\n",
       "  ('CG', 'HG3'),\n",
       "  ('H', 'N'),\n",
       "  ('H2', 'N'),\n",
       "  ('H3', 'N'),\n",
       "  ('HXT', 'OXT'),\n",
       "  ('HZ1', 'NZ'),\n",
       "  ('HZ2', 'NZ'),\n",
       "  ('HZ3', 'NZ')],\n",
       " 'MET': [('-C', 'N'),\n",
       "  ('C', 'CA'),\n",
       "  ('C', 'O'),\n",
       "  ('C', 'OXT'),\n",
       "  ('CA', 'CB'),\n",
       "  ('CA', 'HA'),\n",
       "  ('CA', 'N'),\n",
       "  ('CB', 'CG'),\n",
       "  ('CB', 'HB2'),\n",
       "  ('CB', 'HB3'),\n",
       "  ('CE', 'HE1'),\n",
       "  ('CE', 'HE2'),\n",
       "  ('CE', 'HE3'),\n",
       "  ('CE', 'SD'),\n",
       "  ('CG', 'HG2'),\n",
       "  ('CG', 'HG3'),\n",
       "  ('CG', 'SD'),\n",
       "  ('H', 'N'),\n",
       "  ('H2', 'N'),\n",
       "  ('H3', 'N'),\n",
       "  ('HXT', 'OXT')],\n",
       " 'NH2': [('-C', 'N'), ('HN1', 'N'), ('HN2', 'N')],\n",
       " 'NME': [('-C', 'N'),\n",
       "  ('C', 'H1'),\n",
       "  ('C', 'H2'),\n",
       "  ('C', 'H3'),\n",
       "  ('C', 'N'),\n",
       "  ('H', 'N'),\n",
       "  ('HN2', 'N')],\n",
       " 'ORN': [('-C', 'N'),\n",
       "  ('C', 'CA'),\n",
       "  ('C', 'O'),\n",
       "  ('C', 'OXT'),\n",
       "  ('CA', 'CB'),\n",
       "  ('CA', 'HA'),\n",
       "  ('CA', 'N'),\n",
       "  ('CB', 'CG'),\n",
       "  ('CB', 'HB2'),\n",
       "  ('CB', 'HB3'),\n",
       "  ('CD', 'CG'),\n",
       "  ('CD', 'HD2'),\n",
       "  ('CD', 'HD3'),\n",
       "  ('CD', 'NE'),\n",
       "  ('CG', 'HG2'),\n",
       "  ('CG', 'HG3'),\n",
       "  ('H', 'N'),\n",
       "  ('H2', 'N'),\n",
       "  ('H3', 'N'),\n",
       "  ('HE1', 'NE'),\n",
       "  ('HE2', 'NE'),\n",
       "  ('HXT', 'OXT')],\n",
       " 'PCA': [('-C', 'N'),\n",
       "  ('C', 'CA'),\n",
       "  ('C', 'O'),\n",
       "  ('C', 'OXT'),\n",
       "  ('CA', 'CB'),\n",
       "  ('CA', 'HA'),\n",
       "  ('CA', 'N'),\n",
       "  ('CB', 'CG'),\n",
       "  ('CB', 'HB2'),\n",
       "  ('CB', 'HB3'),\n",
       "  ('CD', 'CG'),\n",
       "  ('CD', 'N'),\n",
       "  ('CD', 'OE'),\n",
       "  ('CG', 'HG2'),\n",
       "  ('CG', 'HG3'),\n",
       "  ('H', 'N'),\n",
       "  ('H3', 'N'),\n",
       "  ('HXT', 'OXT')],\n",
       " 'PHE': [('-C', 'N'),\n",
       "  ('C', 'CA'),\n",
       "  ('C', 'O'),\n",
       "  ('C', 'OXT'),\n",
       "  ('CA', 'CB'),\n",
       "  ('CA', 'HA'),\n",
       "  ('CA', 'N'),\n",
       "  ('CB', 'CG'),\n",
       "  ('CB', 'HB2'),\n",
       "  ('CB', 'HB3'),\n",
       "  ('CD1', 'CE1'),\n",
       "  ('CD1', 'CG'),\n",
       "  ('CD1', 'HD1'),\n",
       "  ('CD2', 'CE2'),\n",
       "  ('CD2', 'CG'),\n",
       "  ('CD2', 'HD2'),\n",
       "  ('CE1', 'CZ'),\n",
       "  ('CE1', 'HE1'),\n",
       "  ('CE2', 'CZ'),\n",
       "  ('CE2', 'HE2'),\n",
       "  ('CZ', 'HZ'),\n",
       "  ('H', 'N'),\n",
       "  ('H2', 'N'),\n",
       "  ('H3', 'N'),\n",
       "  ('HXT', 'OXT')],\n",
       " 'PRO': [('-C', 'N'),\n",
       "  ('C', 'CA'),\n",
       "  ('C', 'O'),\n",
       "  ('C', 'OXT'),\n",
       "  ('CA', 'CB'),\n",
       "  ('CA', 'HA'),\n",
       "  ('CA', 'N'),\n",
       "  ('CB', 'CG'),\n",
       "  ('CB', 'HB2'),\n",
       "  ('CB', 'HB3'),\n",
       "  ('CD', 'CG'),\n",
       "  ('CD', 'HD2'),\n",
       "  ('CD', 'HD3'),\n",
       "  ('CD', 'N'),\n",
       "  ('CG', 'HG2'),\n",
       "  ('CG', 'HG3'),\n",
       "  ('H', 'N'),\n",
       "  ('H3', 'N'),\n",
       "  ('HXT', 'OXT')],\n",
       " 'SER': [('-C', 'N'),\n",
       "  ('C', 'CA'),\n",
       "  ('C', 'O'),\n",
       "  ('C', 'OXT'),\n",
       "  ('CA', 'CB'),\n",
       "  ('CA', 'HA'),\n",
       "  ('CA', 'N'),\n",
       "  ('CB', 'HB2'),\n",
       "  ('CB', 'HB3'),\n",
       "  ('CB', 'OG'),\n",
       "  ('H', 'N'),\n",
       "  ('H2', 'N'),\n",
       "  ('H3', 'N'),\n",
       "  ('HG', 'OG'),\n",
       "  ('HXT', 'OXT')],\n",
       " 'THR': [('-C', 'N'),\n",
       "  ('C', 'CA'),\n",
       "  ('C', 'O'),\n",
       "  ('C', 'OXT'),\n",
       "  ('CA', 'CB'),\n",
       "  ('CA', 'HA'),\n",
       "  ('CA', 'N'),\n",
       "  ('CB', 'CG2'),\n",
       "  ('CB', 'HB'),\n",
       "  ('CB', 'OG1'),\n",
       "  ('CG2', 'HG21'),\n",
       "  ('CG2', 'HG22'),\n",
       "  ('CG2', 'HG23'),\n",
       "  ('H', 'N'),\n",
       "  ('H2', 'N'),\n",
       "  ('H3', 'N'),\n",
       "  ('HG1', 'OG1'),\n",
       "  ('HXT', 'OXT')],\n",
       " 'TRP': [('-C', 'N'),\n",
       "  ('C', 'CA'),\n",
       "  ('C', 'O'),\n",
       "  ('C', 'OXT'),\n",
       "  ('CA', 'CB'),\n",
       "  ('CA', 'HA'),\n",
       "  ('CA', 'N'),\n",
       "  ('CB', 'CG'),\n",
       "  ('CB', 'HB2'),\n",
       "  ('CB', 'HB3'),\n",
       "  ('CD1', 'CG'),\n",
       "  ('CD1', 'HD1'),\n",
       "  ('CD1', 'NE1'),\n",
       "  ('CD2', 'CE2'),\n",
       "  ('CD2', 'CE3'),\n",
       "  ('CD2', 'CG'),\n",
       "  ('CE2', 'CZ2'),\n",
       "  ('CE2', 'NE1'),\n",
       "  ('CE3', 'CZ3'),\n",
       "  ('CE3', 'HE3'),\n",
       "  ('CH2', 'CZ2'),\n",
       "  ('CH2', 'CZ3'),\n",
       "  ('CH2', 'HH2'),\n",
       "  ('CZ2', 'HZ2'),\n",
       "  ('CZ3', 'HZ3'),\n",
       "  ('H', 'N'),\n",
       "  ('H2', 'N'),\n",
       "  ('H3', 'N'),\n",
       "  ('HE1', 'NE1'),\n",
       "  ('HXT', 'OXT')],\n",
       " 'TYR': [('-C', 'N'),\n",
       "  ('C', 'CA'),\n",
       "  ('C', 'O'),\n",
       "  ('C', 'OXT'),\n",
       "  ('CA', 'CB'),\n",
       "  ('CA', 'HA'),\n",
       "  ('CA', 'N'),\n",
       "  ('CB', 'CG'),\n",
       "  ('CB', 'HB2'),\n",
       "  ('CB', 'HB3'),\n",
       "  ('CD1', 'CE1'),\n",
       "  ('CD1', 'CG'),\n",
       "  ('CD1', 'HD1'),\n",
       "  ('CD2', 'CE2'),\n",
       "  ('CD2', 'CG'),\n",
       "  ('CD2', 'HD2'),\n",
       "  ('CE1', 'CZ'),\n",
       "  ('CE1', 'HE1'),\n",
       "  ('CE2', 'CZ'),\n",
       "  ('CE2', 'HE2'),\n",
       "  ('CZ', 'OH'),\n",
       "  ('H', 'N'),\n",
       "  ('H2', 'N'),\n",
       "  ('H3', 'N'),\n",
       "  ('HH', 'OH'),\n",
       "  ('HXT', 'OXT')],\n",
       " 'U': [('-OP3', 'P'),\n",
       "  (\"C1'\", \"C2'\"),\n",
       "  (\"C1'\", \"H1'\"),\n",
       "  (\"C1'\", 'N1'),\n",
       "  (\"C1'\", \"O4'\"),\n",
       "  ('C2', 'N1'),\n",
       "  ('C2', 'N3'),\n",
       "  ('C2', 'O2'),\n",
       "  (\"C2'\", \"C3'\"),\n",
       "  (\"C2'\", \"H2'\"),\n",
       "  (\"C2'\", \"O2'\"),\n",
       "  (\"C3'\", \"C4'\"),\n",
       "  (\"C3'\", \"H3'\"),\n",
       "  (\"C3'\", \"O3'\"),\n",
       "  ('C4', 'C5'),\n",
       "  ('C4', 'N3'),\n",
       "  ('C4', 'O4'),\n",
       "  (\"C4'\", \"C5'\"),\n",
       "  (\"C4'\", \"H4'\"),\n",
       "  (\"C4'\", \"O4'\"),\n",
       "  ('C5', 'C6'),\n",
       "  ('C5', 'H5'),\n",
       "  (\"C5'\", \"H5'\"),\n",
       "  (\"C5'\", \"H5''\"),\n",
       "  (\"C5'\", \"O5'\"),\n",
       "  ('C6', 'H6'),\n",
       "  ('C6', 'N1'),\n",
       "  ('H3', 'N3'),\n",
       "  (\"HO2'\", \"O2'\"),\n",
       "  (\"HO3'\", \"O3'\"),\n",
       "  ('HOP2', 'OP2'),\n",
       "  ('HOP3', 'OP3'),\n",
       "  (\"O5'\", 'P'),\n",
       "  ('OP1', 'P'),\n",
       "  ('OP2', 'P'),\n",
       "  ('OP3', 'P')],\n",
       " 'UNK': [('-C', 'N'),\n",
       "  ('C', 'CA'),\n",
       "  ('C', 'O'),\n",
       "  ('C', 'OXT'),\n",
       "  ('CA', 'CB'),\n",
       "  ('CA', 'HA'),\n",
       "  ('CA', 'N'),\n",
       "  ('CB', 'CG'),\n",
       "  ('CB', 'HB1'),\n",
       "  ('CB', 'HB2'),\n",
       "  ('CG', 'HG1'),\n",
       "  ('CG', 'HG2'),\n",
       "  ('CG', 'HG3'),\n",
       "  ('H', 'N'),\n",
       "  ('H2', 'N'),\n",
       "  ('H3', 'N'),\n",
       "  ('HXT', 'OXT')],\n",
       " 'VAL': [('-C', 'N'),\n",
       "  ('C', 'CA'),\n",
       "  ('C', 'O'),\n",
       "  ('C', 'OXT'),\n",
       "  ('CA', 'CB'),\n",
       "  ('CA', 'HA'),\n",
       "  ('CA', 'N'),\n",
       "  ('CB', 'CG1'),\n",
       "  ('CB', 'CG2'),\n",
       "  ('CB', 'HB'),\n",
       "  ('CG1', 'HG11'),\n",
       "  ('CG1', 'HG12'),\n",
       "  ('CG1', 'HG13'),\n",
       "  ('CG2', 'HG21'),\n",
       "  ('CG2', 'HG22'),\n",
       "  ('CG2', 'HG23'),\n",
       "  ('H', 'N'),\n",
       "  ('H2', 'N'),\n",
       "  ('H3', 'N'),\n",
       "  ('HXT', 'OXT')]}"
      ]
     },
     "execution_count": 23,
     "metadata": {},
     "output_type": "execute_result"
    }
   ],
   "source": [
    "top._standardBonds"
   ]
  },
  {
   "cell_type": "code",
   "execution_count": null,
   "metadata": {
    "collapsed": true
   },
   "outputs": [],
   "source": []
  },
  {
   "cell_type": "code",
   "execution_count": 25,
   "metadata": {
    "collapsed": true
   },
   "outputs": [],
   "source": [
    "# changing to protonation by openmm.app.modeller - try using MLZ - created manual hydrogens.xml"
   ]
  },
  {
   "cell_type": "code",
   "execution_count": 26,
   "metadata": {
    "collapsed": false
   },
   "outputs": [
    {
     "name": "stdout",
     "output_type": "stream",
     "text": [
      "MeP.pdb           SAH_noH.pdb       SAM_noH.pdb       SET8_MeP.pdb      SET8_P.pdb        SET8_noH.pdb\r\n",
      "SAH.pdb           SAM.pdb           SET8.pdb          SET8_MeP_noH.pdb  SET8_P_noH.pdb\r\n"
     ]
    }
   ],
   "source": [
    "ls"
   ]
  },
  {
   "cell_type": "code",
   "execution_count": 30,
   "metadata": {
    "collapsed": true
   },
   "outputs": [],
   "source": [
    "from simtk.openmm.app import Modeller"
   ]
  },
  {
   "cell_type": "code",
   "execution_count": 33,
   "metadata": {
    "collapsed": false
   },
   "outputs": [],
   "source": [
    "from simtk.openmm.app import PDBFile"
   ]
  },
  {
   "cell_type": "code",
   "execution_count": 35,
   "metadata": {
    "collapsed": false
   },
   "outputs": [],
   "source": [
    "set8_mep = PDBFile('SET8_MeP_noH.pdb')"
   ]
  },
  {
   "cell_type": "code",
   "execution_count": 36,
   "metadata": {
    "collapsed": true
   },
   "outputs": [],
   "source": [
    "modeller = Modeller(set8_mep.topology, set8_mep.positions)"
   ]
  },
  {
   "cell_type": "code",
   "execution_count": 40,
   "metadata": {
    "collapsed": false
   },
   "outputs": [
    {
     "name": "stdout",
     "output_type": "stream",
     "text": [
      "/Users/rafalpwiewiora/repos/pimento/SETD8/Catalytic_Cycle_p11708_scripted\n"
     ]
    }
   ],
   "source": [
    "cd .."
   ]
  },
  {
   "cell_type": "code",
   "execution_count": 42,
   "metadata": {
    "collapsed": false
   },
   "outputs": [
    {
     "name": "stdout",
     "output_type": "stream",
     "text": [
      "after_reduce.py         \u001b[34mfiles\u001b[m\u001b[m/                  \u001b[34mlegacy\u001b[m\u001b[m/                 \u001b[34mno_solvent\u001b[m\u001b[m/\r\n",
      "debug2.ipynb            generate_structures.py  master.sh               \u001b[34mstructures\u001b[m\u001b[m/\r\n"
     ]
    }
   ],
   "source": [
    "ls"
   ]
  },
  {
   "cell_type": "code",
   "execution_count": 43,
   "metadata": {
    "collapsed": true
   },
   "outputs": [],
   "source": [
    "modeller.loadHydrogenDefinitions('files/hydrogens.xml')"
   ]
  },
  {
   "cell_type": "code",
   "execution_count": 44,
   "metadata": {
    "collapsed": false
   },
   "outputs": [
    {
     "data": {
      "text/plain": [
       "[None,\n",
       " None,\n",
       " None,\n",
       " None,\n",
       " None,\n",
       " None,\n",
       " None,\n",
       " None,\n",
       " None,\n",
       " None,\n",
       " None,\n",
       " None,\n",
       " None,\n",
       " None,\n",
       " None,\n",
       " None,\n",
       " None,\n",
       " None,\n",
       " None,\n",
       " None,\n",
       " None,\n",
       " None,\n",
       " None,\n",
       " None,\n",
       " None,\n",
       " None,\n",
       " None,\n",
       " None,\n",
       " None,\n",
       " None,\n",
       " None,\n",
       " None,\n",
       " None,\n",
       " None,\n",
       " None,\n",
       " None,\n",
       " None,\n",
       " None,\n",
       " None,\n",
       " None,\n",
       " None,\n",
       " None,\n",
       " None,\n",
       " None,\n",
       " None,\n",
       " None,\n",
       " None,\n",
       " None,\n",
       " None,\n",
       " None,\n",
       " None,\n",
       " None,\n",
       " None,\n",
       " None,\n",
       " 'HID',\n",
       " None,\n",
       " None,\n",
       " None,\n",
       " None,\n",
       " None,\n",
       " None,\n",
       " None,\n",
       " None,\n",
       " None,\n",
       " None,\n",
       " None,\n",
       " None,\n",
       " None,\n",
       " None,\n",
       " None,\n",
       " None,\n",
       " None,\n",
       " None,\n",
       " None,\n",
       " None,\n",
       " None,\n",
       " None,\n",
       " None,\n",
       " None,\n",
       " None,\n",
       " None,\n",
       " None,\n",
       " None,\n",
       " None,\n",
       " None,\n",
       " None,\n",
       " None,\n",
       " None,\n",
       " None,\n",
       " None,\n",
       " None,\n",
       " None,\n",
       " None,\n",
       " None,\n",
       " None,\n",
       " None,\n",
       " None,\n",
       " None,\n",
       " None,\n",
       " None,\n",
       " None,\n",
       " None,\n",
       " None,\n",
       " None,\n",
       " None,\n",
       " None,\n",
       " None,\n",
       " 'HID',\n",
       " None,\n",
       " None,\n",
       " None,\n",
       " None,\n",
       " None,\n",
       " None,\n",
       " None,\n",
       " None,\n",
       " None,\n",
       " None,\n",
       " 'HIE',\n",
       " None,\n",
       " None,\n",
       " None,\n",
       " None,\n",
       " None,\n",
       " None,\n",
       " 'HID',\n",
       " None,\n",
       " None,\n",
       " None,\n",
       " None,\n",
       " None,\n",
       " None,\n",
       " None,\n",
       " None,\n",
       " None,\n",
       " None,\n",
       " None,\n",
       " None,\n",
       " None,\n",
       " None,\n",
       " None,\n",
       " None,\n",
       " None,\n",
       " None,\n",
       " None,\n",
       " None,\n",
       " None,\n",
       " None,\n",
       " None,\n",
       " None,\n",
       " None,\n",
       " None,\n",
       " None,\n",
       " None,\n",
       " None,\n",
       " 'HIE',\n",
       " None,\n",
       " None,\n",
       " None,\n",
       " None,\n",
       " 'HID',\n",
       " None,\n",
       " 'HID',\n",
       " None,\n",
       " None,\n",
       " None,\n",
       " None,\n",
       " None,\n",
       " None,\n",
       " None,\n",
       " None]"
      ]
     },
     "execution_count": 44,
     "metadata": {},
     "output_type": "execute_result"
    }
   ],
   "source": [
    "modeller.addHydrogens()"
   ]
  },
  {
   "cell_type": "code",
   "execution_count": 45,
   "metadata": {
    "collapsed": true
   },
   "outputs": [],
   "source": [
    "PDBFile.writeFile(modeller.topology, modeller.positions, open('structures/SET8_MeP_test.pdb', 'w'))"
   ]
  },
  {
   "cell_type": "code",
   "execution_count": 46,
   "metadata": {
    "collapsed": true
   },
   "outputs": [],
   "source": [
    "# works, cool!"
   ]
  },
  {
   "cell_type": "code",
   "execution_count": null,
   "metadata": {
    "collapsed": true
   },
   "outputs": [],
   "source": [
    "# now try the SET8_P and see if only 2 hydrogens get added ok (want the reactive LYS deprotonated)"
   ]
  },
  {
   "cell_type": "code",
   "execution_count": 48,
   "metadata": {
    "collapsed": true
   },
   "outputs": [],
   "source": [
    "set8_p = PDBFile('structures/SET8_P_noH.pdb')"
   ]
  },
  {
   "cell_type": "code",
   "execution_count": 49,
   "metadata": {
    "collapsed": true
   },
   "outputs": [],
   "source": [
    "modeller = Modeller(set8_p.topology, set8_p.positions)"
   ]
  },
  {
   "cell_type": "code",
   "execution_count": 47,
   "metadata": {
    "collapsed": true
   },
   "outputs": [],
   "source": [
    "# now try this for SAM and SAH - updating the manual hydrogens.xml"
   ]
  },
  {
   "cell_type": "code",
   "execution_count": 51,
   "metadata": {
    "collapsed": false
   },
   "outputs": [],
   "source": [
    "top = modeller.topology"
   ]
  },
  {
   "cell_type": "code",
   "execution_count": 52,
   "metadata": {
    "collapsed": false
   },
   "outputs": [
    {
     "data": {
      "text/plain": [
       "['__class__',\n",
       " '__delattr__',\n",
       " '__dict__',\n",
       " '__doc__',\n",
       " '__format__',\n",
       " '__getattribute__',\n",
       " '__hash__',\n",
       " '__init__',\n",
       " '__module__',\n",
       " '__new__',\n",
       " '__reduce__',\n",
       " '__reduce_ex__',\n",
       " '__repr__',\n",
       " '__setattr__',\n",
       " '__sizeof__',\n",
       " '__str__',\n",
       " '__subclasshook__',\n",
       " '__weakref__',\n",
       " '_bonds',\n",
       " '_chains',\n",
       " '_hasLoadedStandardBonds',\n",
       " '_numAtoms',\n",
       " '_numResidues',\n",
       " '_periodicBoxVectors',\n",
       " '_standardBonds',\n",
       " 'addAtom',\n",
       " 'addBond',\n",
       " 'addChain',\n",
       " 'addResidue',\n",
       " 'atoms',\n",
       " 'bonds',\n",
       " 'chains',\n",
       " 'createDisulfideBonds',\n",
       " 'createStandardBonds',\n",
       " 'getNumAtoms',\n",
       " 'getNumChains',\n",
       " 'getNumResidues',\n",
       " 'getPeriodicBoxVectors',\n",
       " 'getUnitCellDimensions',\n",
       " 'loadBondDefinitions',\n",
       " 'residues',\n",
       " 'setPeriodicBoxVectors',\n",
       " 'setUnitCellDimensions']"
      ]
     },
     "execution_count": 52,
     "metadata": {},
     "output_type": "execute_result"
    }
   ],
   "source": [
    "dir(top)"
   ]
  },
  {
   "cell_type": "code",
   "execution_count": 55,
   "metadata": {
    "collapsed": false
   },
   "outputs": [],
   "source": [
    "res = list(top.residues())"
   ]
  },
  {
   "cell_type": "code",
   "execution_count": 56,
   "metadata": {
    "collapsed": false
   },
   "outputs": [
    {
     "data": {
      "text/plain": [
       "171"
      ]
     },
     "execution_count": 56,
     "metadata": {},
     "output_type": "execute_result"
    }
   ],
   "source": [
    "len(res)"
   ]
  },
  {
   "cell_type": "code",
   "execution_count": 57,
   "metadata": {
    "collapsed": false
   },
   "outputs": [
    {
     "data": {
      "text/plain": [
       "[<Residue 0 (ARG) of chain 0>,\n",
       " <Residue 1 (LYS) of chain 0>,\n",
       " <Residue 2 (SER) of chain 0>,\n",
       " <Residue 3 (LYS) of chain 0>,\n",
       " <Residue 4 (ALA) of chain 0>,\n",
       " <Residue 5 (GLU) of chain 0>,\n",
       " <Residue 6 (LEU) of chain 0>,\n",
       " <Residue 7 (GLN) of chain 0>,\n",
       " <Residue 8 (SER) of chain 0>,\n",
       " <Residue 9 (GLU) of chain 0>,\n",
       " <Residue 10 (GLU) of chain 0>,\n",
       " <Residue 11 (ARG) of chain 0>,\n",
       " <Residue 12 (LYS) of chain 0>,\n",
       " <Residue 13 (ARG) of chain 0>,\n",
       " <Residue 14 (ILE) of chain 0>,\n",
       " <Residue 15 (ASP) of chain 0>,\n",
       " <Residue 16 (GLU) of chain 0>,\n",
       " <Residue 17 (LEU) of chain 0>,\n",
       " <Residue 18 (ILE) of chain 0>,\n",
       " <Residue 19 (GLU) of chain 0>,\n",
       " <Residue 20 (SER) of chain 0>,\n",
       " <Residue 21 (GLY) of chain 0>,\n",
       " <Residue 22 (LYS) of chain 0>,\n",
       " <Residue 23 (GLU) of chain 0>,\n",
       " <Residue 24 (GLU) of chain 0>,\n",
       " <Residue 25 (GLY) of chain 0>,\n",
       " <Residue 26 (MET) of chain 0>,\n",
       " <Residue 27 (LYS) of chain 0>,\n",
       " <Residue 28 (ILE) of chain 0>,\n",
       " <Residue 29 (ASP) of chain 0>,\n",
       " <Residue 30 (LEU) of chain 0>,\n",
       " <Residue 31 (ILE) of chain 0>,\n",
       " <Residue 32 (ASP) of chain 0>,\n",
       " <Residue 33 (GLY) of chain 0>,\n",
       " <Residue 34 (LYS) of chain 0>,\n",
       " <Residue 35 (GLY) of chain 0>,\n",
       " <Residue 36 (ARG) of chain 0>,\n",
       " <Residue 37 (GLY) of chain 0>,\n",
       " <Residue 38 (VAL) of chain 0>,\n",
       " <Residue 39 (ILE) of chain 0>,\n",
       " <Residue 40 (ALA) of chain 0>,\n",
       " <Residue 41 (THR) of chain 0>,\n",
       " <Residue 42 (LYS) of chain 0>,\n",
       " <Residue 43 (GLN) of chain 0>,\n",
       " <Residue 44 (PHE) of chain 0>,\n",
       " <Residue 45 (SER) of chain 0>,\n",
       " <Residue 46 (ARG) of chain 0>,\n",
       " <Residue 47 (GLY) of chain 0>,\n",
       " <Residue 48 (ASP) of chain 0>,\n",
       " <Residue 49 (PHE) of chain 0>,\n",
       " <Residue 50 (VAL) of chain 0>,\n",
       " <Residue 51 (VAL) of chain 0>,\n",
       " <Residue 52 (GLU) of chain 0>,\n",
       " <Residue 53 (TYR) of chain 0>,\n",
       " <Residue 54 (HIS) of chain 0>,\n",
       " <Residue 55 (GLY) of chain 0>,\n",
       " <Residue 56 (ASP) of chain 0>,\n",
       " <Residue 57 (LEU) of chain 0>,\n",
       " <Residue 58 (ILE) of chain 0>,\n",
       " <Residue 59 (GLU) of chain 0>,\n",
       " <Residue 60 (ILE) of chain 0>,\n",
       " <Residue 61 (THR) of chain 0>,\n",
       " <Residue 62 (ASP) of chain 0>,\n",
       " <Residue 63 (ALA) of chain 0>,\n",
       " <Residue 64 (LYS) of chain 0>,\n",
       " <Residue 65 (LYS) of chain 0>,\n",
       " <Residue 66 (ARG) of chain 0>,\n",
       " <Residue 67 (GLU) of chain 0>,\n",
       " <Residue 68 (ALA) of chain 0>,\n",
       " <Residue 69 (LEU) of chain 0>,\n",
       " <Residue 70 (TYR) of chain 0>,\n",
       " <Residue 71 (ALA) of chain 0>,\n",
       " <Residue 72 (GLN) of chain 0>,\n",
       " <Residue 73 (ASP) of chain 0>,\n",
       " <Residue 74 (PRO) of chain 0>,\n",
       " <Residue 75 (SER) of chain 0>,\n",
       " <Residue 76 (THR) of chain 0>,\n",
       " <Residue 77 (GLY) of chain 0>,\n",
       " <Residue 78 (CYS) of chain 0>,\n",
       " <Residue 79 (TYR) of chain 0>,\n",
       " <Residue 80 (MET) of chain 0>,\n",
       " <Residue 81 (TYR) of chain 0>,\n",
       " <Residue 82 (TYR) of chain 0>,\n",
       " <Residue 83 (PHE) of chain 0>,\n",
       " <Residue 84 (GLN) of chain 0>,\n",
       " <Residue 85 (TYR) of chain 0>,\n",
       " <Residue 86 (LEU) of chain 0>,\n",
       " <Residue 87 (SER) of chain 0>,\n",
       " <Residue 88 (LYS) of chain 0>,\n",
       " <Residue 89 (THR) of chain 0>,\n",
       " <Residue 90 (TYR) of chain 0>,\n",
       " <Residue 91 (CYS) of chain 0>,\n",
       " <Residue 92 (VAL) of chain 0>,\n",
       " <Residue 93 (ASP) of chain 0>,\n",
       " <Residue 94 (ALA) of chain 0>,\n",
       " <Residue 95 (THR) of chain 0>,\n",
       " <Residue 96 (ARG) of chain 0>,\n",
       " <Residue 97 (GLU) of chain 0>,\n",
       " <Residue 98 (THR) of chain 0>,\n",
       " <Residue 99 (ASN) of chain 0>,\n",
       " <Residue 100 (ARG) of chain 0>,\n",
       " <Residue 101 (LEU) of chain 0>,\n",
       " <Residue 102 (GLY) of chain 0>,\n",
       " <Residue 103 (ARG) of chain 0>,\n",
       " <Residue 104 (LEU) of chain 0>,\n",
       " <Residue 105 (ILE) of chain 0>,\n",
       " <Residue 106 (ASN) of chain 0>,\n",
       " <Residue 107 (HIS) of chain 0>,\n",
       " <Residue 108 (SER) of chain 0>,\n",
       " <Residue 109 (LYS) of chain 0>,\n",
       " <Residue 110 (CYS) of chain 0>,\n",
       " <Residue 111 (GLY) of chain 0>,\n",
       " <Residue 112 (ASN) of chain 0>,\n",
       " <Residue 113 (CYS) of chain 0>,\n",
       " <Residue 114 (GLN) of chain 0>,\n",
       " <Residue 115 (THR) of chain 0>,\n",
       " <Residue 116 (LYS) of chain 0>,\n",
       " <Residue 117 (LEU) of chain 0>,\n",
       " <Residue 118 (HIS) of chain 0>,\n",
       " <Residue 119 (ASP) of chain 0>,\n",
       " <Residue 120 (ILE) of chain 0>,\n",
       " <Residue 121 (ASP) of chain 0>,\n",
       " <Residue 122 (GLY) of chain 0>,\n",
       " <Residue 123 (VAL) of chain 0>,\n",
       " <Residue 124 (PRO) of chain 0>,\n",
       " <Residue 125 (HIS) of chain 0>,\n",
       " <Residue 126 (LEU) of chain 0>,\n",
       " <Residue 127 (ILE) of chain 0>,\n",
       " <Residue 128 (LEU) of chain 0>,\n",
       " <Residue 129 (ILE) of chain 0>,\n",
       " <Residue 130 (ALA) of chain 0>,\n",
       " <Residue 131 (SER) of chain 0>,\n",
       " <Residue 132 (ARG) of chain 0>,\n",
       " <Residue 133 (ASP) of chain 0>,\n",
       " <Residue 134 (ILE) of chain 0>,\n",
       " <Residue 135 (ALA) of chain 0>,\n",
       " <Residue 136 (ALA) of chain 0>,\n",
       " <Residue 137 (GLY) of chain 0>,\n",
       " <Residue 138 (GLU) of chain 0>,\n",
       " <Residue 139 (GLU) of chain 0>,\n",
       " <Residue 140 (LEU) of chain 0>,\n",
       " <Residue 141 (LEU) of chain 0>,\n",
       " <Residue 142 (TYR) of chain 0>,\n",
       " <Residue 143 (ASP) of chain 0>,\n",
       " <Residue 144 (TYR) of chain 0>,\n",
       " <Residue 145 (GLY) of chain 0>,\n",
       " <Residue 146 (ASP) of chain 0>,\n",
       " <Residue 147 (ARG) of chain 0>,\n",
       " <Residue 148 (SER) of chain 0>,\n",
       " <Residue 149 (LYS) of chain 0>,\n",
       " <Residue 150 (ALA) of chain 0>,\n",
       " <Residue 151 (SER) of chain 0>,\n",
       " <Residue 152 (ILE) of chain 0>,\n",
       " <Residue 153 (GLU) of chain 0>,\n",
       " <Residue 154 (ALA) of chain 0>,\n",
       " <Residue 155 (HIS) of chain 0>,\n",
       " <Residue 156 (PRO) of chain 0>,\n",
       " <Residue 157 (TRP) of chain 0>,\n",
       " <Residue 158 (LEU) of chain 0>,\n",
       " <Residue 159 (LYS) of chain 0>,\n",
       " <Residue 160 (HIS) of chain 0>,\n",
       " <Residue 161 (ARG) of chain 1>,\n",
       " <Residue 162 (HIS) of chain 1>,\n",
       " <Residue 163 (ARG) of chain 1>,\n",
       " <Residue 164 (LYS) of chain 1>,\n",
       " <Residue 165 (VAL) of chain 1>,\n",
       " <Residue 166 (LEU) of chain 1>,\n",
       " <Residue 167 (ARG) of chain 1>,\n",
       " <Residue 168 (ASP) of chain 1>,\n",
       " <Residue 169 (ASN) of chain 1>,\n",
       " <Residue 170 (TYR) of chain 1>]"
      ]
     },
     "execution_count": 57,
     "metadata": {},
     "output_type": "execute_result"
    }
   ],
   "source": [
    "res"
   ]
  },
  {
   "cell_type": "code",
   "execution_count": 58,
   "metadata": {
    "collapsed": true
   },
   "outputs": [],
   "source": [
    "variants = [None] * 171"
   ]
  },
  {
   "cell_type": "code",
   "execution_count": 62,
   "metadata": {
    "collapsed": false
   },
   "outputs": [],
   "source": [
    "variants[164] = 'LYN'"
   ]
  },
  {
   "cell_type": "code",
   "execution_count": 63,
   "metadata": {
    "collapsed": false
   },
   "outputs": [
    {
     "data": {
      "text/plain": [
       "[None,\n",
       " None,\n",
       " None,\n",
       " None,\n",
       " None,\n",
       " None,\n",
       " None,\n",
       " None,\n",
       " None,\n",
       " None,\n",
       " None,\n",
       " None,\n",
       " None,\n",
       " None,\n",
       " None,\n",
       " None,\n",
       " None,\n",
       " None,\n",
       " None,\n",
       " None,\n",
       " None,\n",
       " None,\n",
       " None,\n",
       " None,\n",
       " None,\n",
       " None,\n",
       " None,\n",
       " None,\n",
       " None,\n",
       " None,\n",
       " None,\n",
       " None,\n",
       " None,\n",
       " None,\n",
       " None,\n",
       " None,\n",
       " None,\n",
       " None,\n",
       " None,\n",
       " None,\n",
       " None,\n",
       " None,\n",
       " None,\n",
       " None,\n",
       " None,\n",
       " None,\n",
       " None,\n",
       " None,\n",
       " None,\n",
       " None,\n",
       " None,\n",
       " None,\n",
       " None,\n",
       " None,\n",
       " 'HID',\n",
       " None,\n",
       " None,\n",
       " None,\n",
       " None,\n",
       " None,\n",
       " None,\n",
       " None,\n",
       " None,\n",
       " None,\n",
       " None,\n",
       " None,\n",
       " None,\n",
       " None,\n",
       " None,\n",
       " None,\n",
       " None,\n",
       " None,\n",
       " None,\n",
       " None,\n",
       " None,\n",
       " None,\n",
       " None,\n",
       " None,\n",
       " None,\n",
       " None,\n",
       " None,\n",
       " None,\n",
       " None,\n",
       " None,\n",
       " None,\n",
       " None,\n",
       " None,\n",
       " None,\n",
       " None,\n",
       " None,\n",
       " None,\n",
       " None,\n",
       " None,\n",
       " None,\n",
       " None,\n",
       " None,\n",
       " None,\n",
       " None,\n",
       " None,\n",
       " None,\n",
       " None,\n",
       " None,\n",
       " None,\n",
       " None,\n",
       " None,\n",
       " None,\n",
       " None,\n",
       " 'HID',\n",
       " None,\n",
       " None,\n",
       " None,\n",
       " None,\n",
       " None,\n",
       " None,\n",
       " None,\n",
       " None,\n",
       " None,\n",
       " None,\n",
       " 'HIE',\n",
       " None,\n",
       " None,\n",
       " None,\n",
       " None,\n",
       " None,\n",
       " None,\n",
       " 'HID',\n",
       " None,\n",
       " None,\n",
       " None,\n",
       " None,\n",
       " None,\n",
       " None,\n",
       " None,\n",
       " None,\n",
       " None,\n",
       " None,\n",
       " None,\n",
       " None,\n",
       " None,\n",
       " None,\n",
       " None,\n",
       " None,\n",
       " None,\n",
       " None,\n",
       " None,\n",
       " None,\n",
       " None,\n",
       " None,\n",
       " None,\n",
       " None,\n",
       " None,\n",
       " None,\n",
       " None,\n",
       " None,\n",
       " None,\n",
       " 'HIE',\n",
       " None,\n",
       " None,\n",
       " None,\n",
       " None,\n",
       " 'HID',\n",
       " None,\n",
       " 'HID',\n",
       " None,\n",
       " 'LYN',\n",
       " None,\n",
       " None,\n",
       " None,\n",
       " None,\n",
       " None,\n",
       " None]"
      ]
     },
     "execution_count": 63,
     "metadata": {},
     "output_type": "execute_result"
    }
   ],
   "source": [
    "modeller.addHydrogens(variants = variants)"
   ]
  },
  {
   "cell_type": "code",
   "execution_count": 64,
   "metadata": {
    "collapsed": true
   },
   "outputs": [],
   "source": [
    "PDBFile.writeFile(modeller.topology, modeller.positions, open('structures/SET8_P_test.pdb', 'w'))"
   ]
  },
  {
   "cell_type": "code",
   "execution_count": 65,
   "metadata": {
    "collapsed": true
   },
   "outputs": [],
   "source": [
    "# have added SAM and SAH to the manual hydrogens.xml - try protonating those and if all works we'll all good - plan is "
   ]
  },
  {
   "cell_type": "code",
   "execution_count": 66,
   "metadata": {
    "collapsed": true
   },
   "outputs": [],
   "source": [
    "# use openmm.app.modeller to protonate everything at the very last step - assemble with SAM/SAH first, and solvate too"
   ]
  },
  {
   "cell_type": "code",
   "execution_count": 67,
   "metadata": {
    "collapsed": false
   },
   "outputs": [
    {
     "name": "stdout",
     "output_type": "stream",
     "text": [
      "after_reduce.py         \u001b[34mfiles\u001b[m\u001b[m/                  \u001b[34mlegacy\u001b[m\u001b[m/                 \u001b[34mno_solvent\u001b[m\u001b[m/\r\n",
      "debug2.ipynb            generate_structures.py  master.sh               \u001b[34mstructures\u001b[m\u001b[m/\r\n"
     ]
    }
   ],
   "source": [
    "ls"
   ]
  },
  {
   "cell_type": "code",
   "execution_count": 68,
   "metadata": {
    "collapsed": true
   },
   "outputs": [],
   "source": [
    "sam = PDBFile('structures/SAM_noH.pdb')"
   ]
  },
  {
   "cell_type": "code",
   "execution_count": 69,
   "metadata": {
    "collapsed": true
   },
   "outputs": [],
   "source": [
    "sah = PDBFile('structures/SAH_noH.pdb')"
   ]
  },
  {
   "cell_type": "code",
   "execution_count": 70,
   "metadata": {
    "collapsed": true
   },
   "outputs": [],
   "source": [
    "modeller = Modeller(sam.topology, sam.positions)"
   ]
  },
  {
   "cell_type": "code",
   "execution_count": 71,
   "metadata": {
    "collapsed": true
   },
   "outputs": [],
   "source": [
    "modeller.loadHydrogenDefinitions('files/hydrogens.xml')"
   ]
  },
  {
   "cell_type": "code",
   "execution_count": 72,
   "metadata": {
    "collapsed": false
   },
   "outputs": [
    {
     "data": {
      "text/plain": [
       "[None]"
      ]
     },
     "execution_count": 72,
     "metadata": {},
     "output_type": "execute_result"
    }
   ],
   "source": [
    "modeller.addHydrogens()"
   ]
  },
  {
   "cell_type": "code",
   "execution_count": 73,
   "metadata": {
    "collapsed": true
   },
   "outputs": [],
   "source": [
    "PDBFile.writeFile(modeller.topology, modeller.positions, open('SAM_test.pdb', 'w'))"
   ]
  },
  {
   "cell_type": "code",
   "execution_count": 74,
   "metadata": {
    "collapsed": true
   },
   "outputs": [],
   "source": [
    "# that works! not doing SAH yet - need to change code that makes the noH structures to have SAH called SAH not SAM"
   ]
  },
  {
   "cell_type": "code",
   "execution_count": 2,
   "metadata": {
    "collapsed": true
   },
   "outputs": [],
   "source": [
    "# also that code can't be using PDBFixer, need MDTraj - so CONECT records are preserved "
   ]
  },
  {
   "cell_type": "code",
   "execution_count": 3,
   "metadata": {
    "collapsed": true
   },
   "outputs": [],
   "source": [
    "# try to change the SAM to SAH name"
   ]
  },
  {
   "cell_type": "code",
   "execution_count": 5,
   "metadata": {
    "collapsed": false
   },
   "outputs": [],
   "source": [
    "sah = md.load('structures/SAH_noH.pdb')"
   ]
  },
  {
   "cell_type": "code",
   "execution_count": 7,
   "metadata": {
    "collapsed": false
   },
   "outputs": [],
   "source": [
    "top = sah.top"
   ]
  },
  {
   "cell_type": "code",
   "execution_count": 8,
   "metadata": {
    "collapsed": false
   },
   "outputs": [
    {
     "data": {
      "text/plain": [
       "['__class__',\n",
       " '__copy__',\n",
       " '__deepcopy__',\n",
       " '__delattr__',\n",
       " '__dict__',\n",
       " '__doc__',\n",
       " '__eq__',\n",
       " '__format__',\n",
       " '__getattribute__',\n",
       " '__hash__',\n",
       " '__init__',\n",
       " '__module__',\n",
       " '__ne__',\n",
       " '__new__',\n",
       " '__reduce__',\n",
       " '__reduce_ex__',\n",
       " '__repr__',\n",
       " '__setattr__',\n",
       " '__sizeof__',\n",
       " '__str__',\n",
       " '__subclasshook__',\n",
       " '__weakref__',\n",
       " '_atoms',\n",
       " '_bonds',\n",
       " '_chains',\n",
       " '_numAtoms',\n",
       " '_numResidues',\n",
       " '_residues',\n",
       " '_standardBonds',\n",
       " '_string_summary_basic',\n",
       " '_unique_pairs',\n",
       " '_unique_pairs_equal',\n",
       " '_unique_pairs_mutually_exclusive',\n",
       " 'add_atom',\n",
       " 'add_bond',\n",
       " 'add_chain',\n",
       " 'add_residue',\n",
       " 'atom',\n",
       " 'atoms',\n",
       " 'atoms_by_name',\n",
       " 'bonds',\n",
       " 'chain',\n",
       " 'chains',\n",
       " 'copy',\n",
       " 'create_disulfide_bonds',\n",
       " 'create_standard_bonds',\n",
       " 'find_molecules',\n",
       " 'from_dataframe',\n",
       " 'from_openmm',\n",
       " 'join',\n",
       " 'n_atoms',\n",
       " 'n_bonds',\n",
       " 'n_chains',\n",
       " 'n_residues',\n",
       " 'residue',\n",
       " 'residues',\n",
       " 'select',\n",
       " 'select_atom_indices',\n",
       " 'select_expression',\n",
       " 'select_pairs',\n",
       " 'subset',\n",
       " 'to_bondgraph',\n",
       " 'to_dataframe',\n",
       " 'to_fasta',\n",
       " 'to_openmm']"
      ]
     },
     "execution_count": 8,
     "metadata": {},
     "output_type": "execute_result"
    }
   ],
   "source": [
    "dir(top)"
   ]
  },
  {
   "cell_type": "code",
   "execution_count": 13,
   "metadata": {
    "collapsed": false
   },
   "outputs": [],
   "source": [
    "res = top.residue(0)"
   ]
  },
  {
   "cell_type": "code",
   "execution_count": 14,
   "metadata": {
    "collapsed": false
   },
   "outputs": [
    {
     "data": {
      "text/plain": [
       "['__class__',\n",
       " '__delattr__',\n",
       " '__dict__',\n",
       " '__doc__',\n",
       " '__format__',\n",
       " '__getattribute__',\n",
       " '__hash__',\n",
       " '__init__',\n",
       " '__module__',\n",
       " '__new__',\n",
       " '__reduce__',\n",
       " '__reduce_ex__',\n",
       " '__repr__',\n",
       " '__setattr__',\n",
       " '__sizeof__',\n",
       " '__str__',\n",
       " '__subclasshook__',\n",
       " '__weakref__',\n",
       " '_atoms',\n",
       " 'atom',\n",
       " 'atoms',\n",
       " 'atoms_by_name',\n",
       " 'chain',\n",
       " 'code',\n",
       " 'index',\n",
       " 'is_nucleic',\n",
       " 'is_protein',\n",
       " 'is_water',\n",
       " 'n_atoms',\n",
       " 'name',\n",
       " 'resSeq',\n",
       " 'segment_id']"
      ]
     },
     "execution_count": 14,
     "metadata": {},
     "output_type": "execute_result"
    }
   ],
   "source": [
    "dir(res)"
   ]
  },
  {
   "cell_type": "code",
   "execution_count": 15,
   "metadata": {
    "collapsed": false
   },
   "outputs": [
    {
     "data": {
      "text/plain": [
       "'SAM'"
      ]
     },
     "execution_count": 15,
     "metadata": {},
     "output_type": "execute_result"
    }
   ],
   "source": [
    "res.name"
   ]
  },
  {
   "cell_type": "code",
   "execution_count": 16,
   "metadata": {
    "collapsed": true
   },
   "outputs": [],
   "source": [
    "res.name = 'SAH'"
   ]
  },
  {
   "cell_type": "code",
   "execution_count": 17,
   "metadata": {
    "collapsed": false
   },
   "outputs": [
    {
     "data": {
      "text/plain": [
       "SAH501"
      ]
     },
     "execution_count": 17,
     "metadata": {},
     "output_type": "execute_result"
    }
   ],
   "source": [
    "res"
   ]
  },
  {
   "cell_type": "code",
   "execution_count": 18,
   "metadata": {
    "collapsed": false
   },
   "outputs": [
    {
     "data": {
      "text/plain": [
       "<mdtraj.Trajectory with 1 frames, 26 atoms, 1 residues, and unitcells at 0x1069fdf90>"
      ]
     },
     "execution_count": 18,
     "metadata": {},
     "output_type": "execute_result"
    }
   ],
   "source": [
    "sah"
   ]
  },
  {
   "cell_type": "code",
   "execution_count": 19,
   "metadata": {
    "collapsed": true
   },
   "outputs": [],
   "source": [
    "sah.save('structures/SAH_test.pdb')"
   ]
  },
  {
   "cell_type": "code",
   "execution_count": 20,
   "metadata": {
    "collapsed": false
   },
   "outputs": [
    {
     "data": {
      "text/plain": [
       "<mdtraj.Trajectory with 1 frames, 26 atoms, 1 residues, and unitcells at 0x1069fdf90>"
      ]
     },
     "execution_count": 20,
     "metadata": {},
     "output_type": "execute_result"
    }
   ],
   "source": [
    "sah"
   ]
  },
  {
   "cell_type": "code",
   "execution_count": null,
   "metadata": {
    "collapsed": true
   },
   "outputs": [],
   "source": []
  },
  {
   "cell_type": "code",
   "execution_count": null,
   "metadata": {
    "collapsed": false
   },
   "outputs": [],
   "source": []
  },
  {
   "cell_type": "code",
   "execution_count": null,
   "metadata": {
    "collapsed": false
   },
   "outputs": [],
   "source": []
  },
  {
   "cell_type": "code",
   "execution_count": null,
   "metadata": {
    "collapsed": true
   },
   "outputs": [],
   "source": []
  },
  {
   "cell_type": "code",
   "execution_count": null,
   "metadata": {
    "collapsed": true
   },
   "outputs": [],
   "source": []
  }
 ],
 "metadata": {
  "kernelspec": {
   "display_name": "Python 2",
   "language": "python",
   "name": "python2"
  },
  "language_info": {
   "codemirror_mode": {
    "name": "ipython",
    "version": 2
   },
   "file_extension": ".py",
   "mimetype": "text/x-python",
   "name": "python",
   "nbconvert_exporter": "python",
   "pygments_lexer": "ipython2",
   "version": "2.7.11"
  }
 },
 "nbformat": 4,
 "nbformat_minor": 0
}
