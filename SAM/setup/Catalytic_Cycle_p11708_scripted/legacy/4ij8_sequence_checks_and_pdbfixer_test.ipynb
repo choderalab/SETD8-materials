{
 "cells": [
  {
   "cell_type": "code",
   "execution_count": 1,
   "metadata": {
    "collapsed": false
   },
   "outputs": [
    {
     "name": "stdout",
     "output_type": "stream",
     "text": [
      "1ZKK_apo_superposetest.pdb                    SAM_ideal.pdb                                 \u001b[34mfirst_protocol\u001b[m\u001b[m/\r\n",
      "1zkk_debug.ipynb                              ZKK_apo_resid_renumber_test.pdb               \u001b[34mgaff_check\u001b[m\u001b[m/\r\n",
      "\u001b[34m2bqz_only\u001b[m\u001b[m/                                    after_reduce.py                               gaff_check.ipynb\r\n",
      "4IJ8_fixer_test.pdb                           debug.ipynb                                   generate_structures.py\r\n",
      "4ij8_fixer_test2.pdb                          debug2.ipynb                                  generate_structures_only1zkk.py\r\n",
      "4ij8_fixer_withsam.pdb                        \u001b[34mequil_scripts\u001b[m\u001b[m/                                master.sh\r\n",
      "4ij8_fixer_withsam2.pdb                       \u001b[34mequil_test_SET8_10ns_to_see_cflank\u001b[m\u001b[m/           mol2 convert debug.ipynb\r\n",
      "4ij8_sequence_checks_and_pdbfixer_test.ipynb  equilibrate_package.py                        processAmberParameters.py\r\n",
      "MeP_noCONECT.pdb                              equilibrate_package_SET8_mixedprecision.py    \u001b[34mpymol_figs\u001b[m\u001b[m/\r\n",
      "SAH_ideal.pdb                                 fah_parameters.py                             \u001b[34mzkk_vs_bqz\u001b[m\u001b[m/\r\n"
     ]
    }
   ],
   "source": [
    "ls"
   ]
  },
  {
   "cell_type": "code",
   "execution_count": 2,
   "metadata": {
    "collapsed": false
   },
   "outputs": [
    {
     "name": "stdout",
     "output_type": "stream",
     "text": [
      "/Users/rafalpwiewiora/repos/pimento/SETD8/Catalytic_Cycle_p11708_scripted\n"
     ]
    }
   ],
   "source": [
    "cd .."
   ]
  },
  {
   "cell_type": "code",
   "execution_count": 3,
   "metadata": {
    "collapsed": false
   },
   "outputs": [
    {
     "name": "stdout",
     "output_type": "stream",
     "text": [
      "README.MD                   \u001b[34mfiles\u001b[m\u001b[m/                      master_genstr_solv_only.sh  repackage.py\r\n",
      "after_antechamber.py        generate_structures.py      \u001b[34mno_solvent\u001b[m\u001b[m/                 solvate.py\r\n",
      "\u001b[34mequil\u001b[m\u001b[m/                      \u001b[34mlegacy\u001b[m\u001b[m/                     \u001b[34mpackage\u001b[m\u001b[m/                    \u001b[34mtemp_structures\u001b[m\u001b[m/\r\n",
      "\u001b[34mequil_scripts\u001b[m\u001b[m/              master.sh                   \u001b[34mparameters\u001b[m\u001b[m/                 \u001b[34mwith_solvent\u001b[m\u001b[m/\r\n"
     ]
    }
   ],
   "source": [
    "ls"
   ]
  },
  {
   "cell_type": "code",
   "execution_count": 4,
   "metadata": {
    "collapsed": false
   },
   "outputs": [
    {
     "name": "stdout",
     "output_type": "stream",
     "text": [
      "/Users/rafalpwiewiora/repos/pimento/SETD8/Catalytic_Cycle_p11708_scripted/files\n"
     ]
    }
   ],
   "source": [
    "cd files"
   ]
  },
  {
   "cell_type": "code",
   "execution_count": 5,
   "metadata": {
    "collapsed": false
   },
   "outputs": [
    {
     "name": "stdout",
     "output_type": "stream",
     "text": [
      "1ZKK_apo_Ensembler_model_p11709.pdb  gaff.dat                             pdb2bqz.ent\r\n",
      "\u001b[31mffptm.in\u001b[m\u001b[m*                            hydrogens.xml                        pdb4ij8.ent\r\n",
      "frcmod.ff99SBildn                    parm99.dat                           processAmberForceField.py\r\n"
     ]
    }
   ],
   "source": [
    "ls"
   ]
  },
  {
   "cell_type": "code",
   "execution_count": 6,
   "metadata": {
    "collapsed": true
   },
   "outputs": [],
   "source": [
    "import mdtraj as md"
   ]
  },
  {
   "cell_type": "code",
   "execution_count": 7,
   "metadata": {
    "collapsed": true
   },
   "outputs": [],
   "source": [
    "ij8 = md.load_pdb('pdb4ij8.ent')"
   ]
  },
  {
   "cell_type": "code",
   "execution_count": 8,
   "metadata": {
    "collapsed": false
   },
   "outputs": [
    {
     "data": {
      "text/plain": [
       "['RKSKAELQSEERKRIDELIESGKEEGMKIDLIDGKGRGVIATKQFSRGDFVVEYHGDLIEITDAKKREALYAQDPSTGCYMYYFQYLSKTYCVDATRETNRLGRLINHSKSGNCQTKLHDIDGVPHLILIASRDIAAGEELLYDYGDRSKASIEAHPWLKH',\n",
       " 'RKRIDELIESGKEEGMKIDLIDGKGRGVIATKQFSRGDFVVEYHGDLIEITDAKKREALYAQDPSTGCYMYYFQYLSKTYCVDATRETNRLGRLINHSKSGNCQTKLHDIDGVPHLILIASRDIAAGEELLYDYGDRSKASIEAHPWLKH',\n",
       " 'XXXXXXXXXX',\n",
       " '',\n",
       " '',\n",
       " '',\n",
       " '']"
      ]
     },
     "execution_count": 8,
     "metadata": {},
     "output_type": "execute_result"
    }
   ],
   "source": [
    "ij8.top.to_fasta()"
   ]
  },
  {
   "cell_type": "code",
   "execution_count": 9,
   "metadata": {
    "collapsed": false
   },
   "outputs": [],
   "source": [
    "bqz = md.load_pdb('pdb2bqz.ent')"
   ]
  },
  {
   "cell_type": "code",
   "execution_count": 10,
   "metadata": {
    "collapsed": false
   },
   "outputs": [
    {
     "data": {
      "text/plain": [
       "<mdtraj.Trajectory with 1 frames, 3437 atoms, 957 residues, and unitcells at 0x10eae8210>"
      ]
     },
     "execution_count": 10,
     "metadata": {},
     "output_type": "execute_result"
    }
   ],
   "source": [
    "bqz"
   ]
  },
  {
   "cell_type": "code",
   "execution_count": 11,
   "metadata": {
    "collapsed": false
   },
   "outputs": [
    {
     "data": {
      "text/plain": [
       "['RKSKAELQSEERKRIDELIESGKEEGMKIDLIDGKGRGVIATKQFSRGDFVVEYHGDLIEITDAKKREALYAQDPSTGCYMYYFQYLSKTYCVDATRETNRLGRLINHSKCGNCQTKLHDIDGVPHLILIASRDIAAGEELLYDYGDRSKASIEAHPWLKH',\n",
       " 'RHRKVLRDNY',\n",
       " 'RKSKAELQSEERKRIDELIESGKEEGMKIDLIDGKGRGVIATKQFSRGDFVVEYHGDLIEITDAKKREALYAQDPSTGCYMYYFQYLSKTYCVDATRETNRLGRLINHSKCGNCQTKLHDIDGVPHLILIASRDIAAGEELLYDYGDRSKASIEAHPWLKH',\n",
       " 'RHRKVLRDNY',\n",
       " 'C',\n",
       " 'C',\n",
       " '',\n",
       " '',\n",
       " '',\n",
       " '']"
      ]
     },
     "execution_count": 11,
     "metadata": {},
     "output_type": "execute_result"
    }
   ],
   "source": [
    "bqz.top.to_fasta()"
   ]
  },
  {
   "cell_type": "code",
   "execution_count": 12,
   "metadata": {
    "collapsed": false
   },
   "outputs": [
    {
     "data": {
      "text/plain": [
       "u'/Users/rafalpwiewiora/repos/pimento/SETD8/Catalytic_Cycle_p11708_scripted/files'"
      ]
     },
     "execution_count": 12,
     "metadata": {},
     "output_type": "execute_result"
    }
   ],
   "source": [
    "pwd"
   ]
  },
  {
   "cell_type": "code",
   "execution_count": 13,
   "metadata": {
    "collapsed": false
   },
   "outputs": [
    {
     "name": "stdout",
     "output_type": "stream",
     "text": [
      "/Users/rafalpwiewiora/repos/pimento/SETD8\n"
     ]
    }
   ],
   "source": [
    "cd ../.."
   ]
  },
  {
   "cell_type": "code",
   "execution_count": 14,
   "metadata": {
    "collapsed": false
   },
   "outputs": [
    {
     "name": "stdout",
     "output_type": "stream",
     "text": [
      "/Users/rafalpwiewiora/repos/pimento/SETD8/RMSD_analysis_scripted\n"
     ]
    }
   ],
   "source": [
    "cd RMSD_analysis_scripted/"
   ]
  },
  {
   "cell_type": "code",
   "execution_count": 15,
   "metadata": {
    "collapsed": false
   },
   "outputs": [
    {
     "name": "stdout",
     "output_type": "stream",
     "text": [
      "\u001b[34mCA_rmsds\u001b[m\u001b[m/                 analysis_domainsonly.py   analysis_trajrmsds.py     \u001b[34mlegacy\u001b[m\u001b[m/                   run0-clone0.h5\r\n",
      "README                    analysis_plotonly.py      \u001b[34mcopies_of_rmsfs_analysis\u001b[m\u001b[m/ \u001b[34mrmsfs\u001b[m\u001b[m/                    \u001b[34mslides\u001b[m\u001b[m/\r\n",
      "analysis.py               analysis_rmsf.py          \u001b[34mfiles\u001b[m\u001b[m/                    \u001b[34mrmsfs_correct\u001b[m\u001b[m/\r\n"
     ]
    }
   ],
   "source": [
    "ls"
   ]
  },
  {
   "cell_type": "code",
   "execution_count": 16,
   "metadata": {
    "collapsed": true
   },
   "outputs": [],
   "source": [
    "data = md.load('run0-clone0.h5')[0]"
   ]
  },
  {
   "cell_type": "code",
   "execution_count": 17,
   "metadata": {
    "collapsed": false
   },
   "outputs": [
    {
     "data": {
      "text/plain": [
       "['RKSKAELQSEERKRIDELIESGKEEGMKIDLIDGKGRGVIATKQFSRGDFVVEYHGDLIEITDAKKREALYAQDPSTGCYMYYFQYLSKTYCVDATRETNRLGRLINHSKCGNCQTKLHDIDGVPHLILIASRDIAAGEELLYDYGDRSKASIEAHPWLKH']"
      ]
     },
     "execution_count": 17,
     "metadata": {},
     "output_type": "execute_result"
    }
   ],
   "source": [
    "data.top.to_fasta()"
   ]
  },
  {
   "cell_type": "code",
   "execution_count": 18,
   "metadata": {
    "collapsed": true
   },
   "outputs": [],
   "source": [
    "# bqz matches perfectly"
   ]
  },
  {
   "cell_type": "code",
   "execution_count": 19,
   "metadata": {
    "collapsed": true
   },
   "outputs": [],
   "source": [
    "# ij8 - just one mutation - 0-index 110 - S in 4ij8 - should be C - mutate in pdbfixer "
   ]
  },
  {
   "cell_type": "code",
   "execution_count": 20,
   "metadata": {
    "collapsed": false
   },
   "outputs": [
    {
     "name": "stdout",
     "output_type": "stream",
     "text": [
      "\u001b[34mCA_rmsds\u001b[m\u001b[m/                 analysis_domainsonly.py   analysis_trajrmsds.py     \u001b[34mlegacy\u001b[m\u001b[m/                   run0-clone0.h5\r\n",
      "README                    analysis_plotonly.py      \u001b[34mcopies_of_rmsfs_analysis\u001b[m\u001b[m/ \u001b[34mrmsfs\u001b[m\u001b[m/                    \u001b[34mslides\u001b[m\u001b[m/\r\n",
      "analysis.py               analysis_rmsf.py          \u001b[34mfiles\u001b[m\u001b[m/                    \u001b[34mrmsfs_correct\u001b[m\u001b[m/\r\n"
     ]
    }
   ],
   "source": [
    "ls"
   ]
  },
  {
   "cell_type": "code",
   "execution_count": 21,
   "metadata": {
    "collapsed": false
   },
   "outputs": [
    {
     "name": "stdout",
     "output_type": "stream",
     "text": [
      "/Users/rafalpwiewiora/repos/pimento/SETD8\n"
     ]
    }
   ],
   "source": [
    "cd .."
   ]
  },
  {
   "cell_type": "code",
   "execution_count": 22,
   "metadata": {
    "collapsed": false
   },
   "outputs": [
    {
     "name": "stdout",
     "output_type": "stream",
     "text": [
      "/Users/rafalpwiewiora/repos/pimento/SETD8/Catalytic_Cycle_p11708_scripted\n"
     ]
    }
   ],
   "source": [
    "cd Catalytic_Cycle_p11708_scripted/"
   ]
  },
  {
   "cell_type": "code",
   "execution_count": 23,
   "metadata": {
    "collapsed": false
   },
   "outputs": [
    {
     "name": "stdout",
     "output_type": "stream",
     "text": [
      "README.MD                   \u001b[34mfiles\u001b[m\u001b[m/                      master_genstr_solv_only.sh  repackage.py\r\n",
      "after_antechamber.py        generate_structures.py      \u001b[34mno_solvent\u001b[m\u001b[m/                 solvate.py\r\n",
      "\u001b[34mequil\u001b[m\u001b[m/                      \u001b[34mlegacy\u001b[m\u001b[m/                     \u001b[34mpackage\u001b[m\u001b[m/                    \u001b[34mtemp_structures\u001b[m\u001b[m/\r\n",
      "\u001b[34mequil_scripts\u001b[m\u001b[m/              master.sh                   \u001b[34mparameters\u001b[m\u001b[m/                 \u001b[34mwith_solvent\u001b[m\u001b[m/\r\n"
     ]
    }
   ],
   "source": [
    "ls"
   ]
  },
  {
   "cell_type": "code",
   "execution_count": 24,
   "metadata": {
    "collapsed": false
   },
   "outputs": [
    {
     "name": "stdout",
     "output_type": "stream",
     "text": [
      "/Users/rafalpwiewiora/repos/pimento/SETD8/Catalytic_Cycle_p11708_scripted/legacy\n"
     ]
    }
   ],
   "source": [
    "cd legacy"
   ]
  },
  {
   "cell_type": "code",
   "execution_count": 25,
   "metadata": {
    "collapsed": false
   },
   "outputs": [
    {
     "name": "stdout",
     "output_type": "stream",
     "text": [
      "1ZKK_apo_superposetest.pdb                    SAM_ideal.pdb                                 \u001b[34mfirst_protocol\u001b[m\u001b[m/\r\n",
      "1zkk_debug.ipynb                              ZKK_apo_resid_renumber_test.pdb               \u001b[34mgaff_check\u001b[m\u001b[m/\r\n",
      "\u001b[34m2bqz_only\u001b[m\u001b[m/                                    after_reduce.py                               gaff_check.ipynb\r\n",
      "4IJ8_fixer_test.pdb                           debug.ipynb                                   generate_structures.py\r\n",
      "4ij8_fixer_test2.pdb                          debug2.ipynb                                  generate_structures_only1zkk.py\r\n",
      "4ij8_fixer_withsam.pdb                        \u001b[34mequil_scripts\u001b[m\u001b[m/                                master.sh\r\n",
      "4ij8_fixer_withsam2.pdb                       \u001b[34mequil_test_SET8_10ns_to_see_cflank\u001b[m\u001b[m/           mol2 convert debug.ipynb\r\n",
      "4ij8_sequence_checks_and_pdbfixer_test.ipynb  equilibrate_package.py                        processAmberParameters.py\r\n",
      "MeP_noCONECT.pdb                              equilibrate_package_SET8_mixedprecision.py    \u001b[34mpymol_figs\u001b[m\u001b[m/\r\n",
      "SAH_ideal.pdb                                 fah_parameters.py                             \u001b[34mzkk_vs_bqz\u001b[m\u001b[m/\r\n"
     ]
    }
   ],
   "source": [
    "ls"
   ]
  },
  {
   "cell_type": "code",
   "execution_count": 26,
   "metadata": {
    "collapsed": true
   },
   "outputs": [],
   "source": [
    "ij8_fixer = md.load('4IJ8_fixer_test.pdb')"
   ]
  },
  {
   "cell_type": "code",
   "execution_count": 27,
   "metadata": {
    "collapsed": false
   },
   "outputs": [
    {
     "data": {
      "text/plain": [
       "['AMGSRKSKAELQSEERKRIDELIESGKEEGMKIDLIDGKGRGVIATKQFSRGDFVVEYHGDLIEITDAKKREALYAQDPSTGCYMYYFQYLSKTYCVDATRETNRLGRLINHSKSGNCQTKLHDIDGVPHLILIASRDIAAGEELLYDYGDRSKASIEAHPWLKH']"
      ]
     },
     "execution_count": 27,
     "metadata": {},
     "output_type": "execute_result"
    }
   ],
   "source": [
    "ij8_fixer.top.to_fasta()"
   ]
  },
  {
   "cell_type": "code",
   "execution_count": 28,
   "metadata": {
    "collapsed": true
   },
   "outputs": [],
   "source": [
    "# do not add the AMGS at the beginning! (didn't know it was at the beginning on first try) - i.e do not add any missing \n",
    "# residues"
   ]
  },
  {
   "cell_type": "code",
   "execution_count": 29,
   "metadata": {
    "collapsed": true
   },
   "outputs": [],
   "source": [
    "ij8_fixer2 = md.load('4IJ8_fixer_test2.pdb')"
   ]
  },
  {
   "cell_type": "code",
   "execution_count": 30,
   "metadata": {
    "collapsed": false
   },
   "outputs": [
    {
     "data": {
      "text/plain": [
       "['RKSKAELQSEERKRIDELIESGKEEGMKIDLIDGKGRGVIATKQFSRGDFVVEYHGDLIEITDAKKREALYAQDPSTGCYMYYFQYLSKTYCVDATRETNRLGRLINHSKSGNCQTKLHDIDGVPHLILIASRDIAAGEELLYDYGDRSKASIEAHPWLKH']"
      ]
     },
     "execution_count": 30,
     "metadata": {},
     "output_type": "execute_result"
    }
   ],
   "source": [
    "ij8_fixer2.top.to_fasta()"
   ]
  },
  {
   "cell_type": "code",
   "execution_count": 31,
   "metadata": {
    "collapsed": true
   },
   "outputs": [],
   "source": [
    "# sequence good - except that need to do mutation S --> at position 110"
   ]
  },
  {
   "cell_type": "code",
   "execution_count": 32,
   "metadata": {
    "collapsed": true
   },
   "outputs": [],
   "source": [
    "# made 4ij8_fixer_withsam.pdb - PDBFixer still will not print out CONECT records"
   ]
  },
  {
   "cell_type": "code",
   "execution_count": 33,
   "metadata": {
    "collapsed": true
   },
   "outputs": [],
   "source": [
    "# let's see if the same happens if I do that from the API"
   ]
  },
  {
   "cell_type": "code",
   "execution_count": 34,
   "metadata": {
    "collapsed": false
   },
   "outputs": [
    {
     "name": "stdout",
     "output_type": "stream",
     "text": [
      "1ZKK_apo_superposetest.pdb                    SAM_ideal.pdb                                 \u001b[34mfirst_protocol\u001b[m\u001b[m/\r\n",
      "1zkk_debug.ipynb                              ZKK_apo_resid_renumber_test.pdb               \u001b[34mgaff_check\u001b[m\u001b[m/\r\n",
      "\u001b[34m2bqz_only\u001b[m\u001b[m/                                    after_reduce.py                               gaff_check.ipynb\r\n",
      "4IJ8_fixer_test.pdb                           debug.ipynb                                   generate_structures.py\r\n",
      "4ij8_fixer_test2.pdb                          debug2.ipynb                                  generate_structures_only1zkk.py\r\n",
      "4ij8_fixer_withsam.pdb                        \u001b[34mequil_scripts\u001b[m\u001b[m/                                master.sh\r\n",
      "4ij8_fixer_withsam2.pdb                       \u001b[34mequil_test_SET8_10ns_to_see_cflank\u001b[m\u001b[m/           mol2 convert debug.ipynb\r\n",
      "4ij8_sequence_checks_and_pdbfixer_test.ipynb  equilibrate_package.py                        processAmberParameters.py\r\n",
      "MeP_noCONECT.pdb                              equilibrate_package_SET8_mixedprecision.py    \u001b[34mpymol_figs\u001b[m\u001b[m/\r\n",
      "SAH_ideal.pdb                                 fah_parameters.py                             \u001b[34mzkk_vs_bqz\u001b[m\u001b[m/\r\n"
     ]
    }
   ],
   "source": [
    "ls"
   ]
  },
  {
   "cell_type": "code",
   "execution_count": 35,
   "metadata": {
    "collapsed": false
   },
   "outputs": [
    {
     "name": "stdout",
     "output_type": "stream",
     "text": [
      "/Users/rafalpwiewiora/repos/pimento/SETD8/Catalytic_Cycle_p11708_scripted\n"
     ]
    }
   ],
   "source": [
    "cd .."
   ]
  },
  {
   "cell_type": "code",
   "execution_count": 36,
   "metadata": {
    "collapsed": false
   },
   "outputs": [
    {
     "name": "stdout",
     "output_type": "stream",
     "text": [
      "README.MD                   \u001b[34mfiles\u001b[m\u001b[m/                      master_genstr_solv_only.sh  repackage.py\r\n",
      "after_antechamber.py        generate_structures.py      \u001b[34mno_solvent\u001b[m\u001b[m/                 solvate.py\r\n",
      "\u001b[34mequil\u001b[m\u001b[m/                      \u001b[34mlegacy\u001b[m\u001b[m/                     \u001b[34mpackage\u001b[m\u001b[m/                    \u001b[34mtemp_structures\u001b[m\u001b[m/\r\n",
      "\u001b[34mequil_scripts\u001b[m\u001b[m/              master.sh                   \u001b[34mparameters\u001b[m\u001b[m/                 \u001b[34mwith_solvent\u001b[m\u001b[m/\r\n"
     ]
    }
   ],
   "source": [
    "ls"
   ]
  },
  {
   "cell_type": "code",
   "execution_count": 37,
   "metadata": {
    "collapsed": false
   },
   "outputs": [
    {
     "name": "stdout",
     "output_type": "stream",
     "text": [
      "/Users/rafalpwiewiora/repos/pimento/SETD8/Catalytic_Cycle_p11708_scripted/files\n"
     ]
    }
   ],
   "source": [
    "cd files"
   ]
  },
  {
   "cell_type": "code",
   "execution_count": 38,
   "metadata": {
    "collapsed": false
   },
   "outputs": [
    {
     "name": "stdout",
     "output_type": "stream",
     "text": [
      "1ZKK_apo_Ensembler_model_p11709.pdb  gaff.dat                             pdb2bqz.ent\r\n",
      "\u001b[31mffptm.in\u001b[m\u001b[m*                            hydrogens.xml                        pdb4ij8.ent\r\n",
      "frcmod.ff99SBildn                    parm99.dat                           processAmberForceField.py\r\n"
     ]
    }
   ],
   "source": [
    "ls"
   ]
  },
  {
   "cell_type": "code",
   "execution_count": 39,
   "metadata": {
    "collapsed": false
   },
   "outputs": [],
   "source": [
    "import pdbfixer"
   ]
  },
  {
   "cell_type": "code",
   "execution_count": 40,
   "metadata": {
    "collapsed": true
   },
   "outputs": [],
   "source": [
    "fixer = pdbfixer.PDBFixer('pdb4ij8.ent')"
   ]
  },
  {
   "cell_type": "code",
   "execution_count": 85,
   "metadata": {
    "collapsed": true
   },
   "outputs": [],
   "source": [
    "fixer.removeChains([1,2,4,5,6])"
   ]
  },
  {
   "cell_type": "code",
   "execution_count": 86,
   "metadata": {
    "collapsed": false
   },
   "outputs": [],
   "source": [
    "fixer.findMissingResidues()"
   ]
  },
  {
   "cell_type": "code",
   "execution_count": 87,
   "metadata": {
    "collapsed": false
   },
   "outputs": [
    {
     "data": {
      "text/plain": [
       "{(0, 0): ['ALA', 'MET', 'GLY', 'SER']}"
      ]
     },
     "execution_count": 87,
     "metadata": {},
     "output_type": "execute_result"
    }
   ],
   "source": [
    "fixer.missingResidues"
   ]
  },
  {
   "cell_type": "code",
   "execution_count": 88,
   "metadata": {
    "collapsed": true
   },
   "outputs": [],
   "source": [
    "fixer.missingResidues = {}"
   ]
  },
  {
   "cell_type": "code",
   "execution_count": 89,
   "metadata": {
    "collapsed": false
   },
   "outputs": [],
   "source": [
    "fixer.findNonstandardResidues()"
   ]
  },
  {
   "cell_type": "code",
   "execution_count": 90,
   "metadata": {
    "collapsed": false
   },
   "outputs": [
    {
     "data": {
      "text/plain": [
       "[]"
      ]
     },
     "execution_count": 90,
     "metadata": {},
     "output_type": "execute_result"
    }
   ],
   "source": [
    "fixer.nonstandardResidues"
   ]
  },
  {
   "cell_type": "code",
   "execution_count": 91,
   "metadata": {
    "collapsed": false
   },
   "outputs": [],
   "source": [
    "residues = list(fixer.topology.residues())"
   ]
  },
  {
   "cell_type": "code",
   "execution_count": 92,
   "metadata": {
    "collapsed": false
   },
   "outputs": [
    {
     "data": {
      "text/plain": [
       "<Residue 110 (SER) of chain 0>"
      ]
     },
     "execution_count": 92,
     "metadata": {},
     "output_type": "execute_result"
    }
   ],
   "source": [
    "residues[110]"
   ]
  },
  {
   "cell_type": "code",
   "execution_count": 93,
   "metadata": {
    "collapsed": true
   },
   "outputs": [],
   "source": [
    "fixer.nonstandardResidues = [(residues[110], 'CYS')]"
   ]
  },
  {
   "cell_type": "code",
   "execution_count": 94,
   "metadata": {
    "collapsed": true
   },
   "outputs": [],
   "source": [
    "fixer.replaceNonstandardResidues()"
   ]
  },
  {
   "cell_type": "code",
   "execution_count": 95,
   "metadata": {
    "collapsed": false
   },
   "outputs": [],
   "source": [
    "fixer.findMissingAtoms()"
   ]
  },
  {
   "cell_type": "code",
   "execution_count": 96,
   "metadata": {
    "collapsed": true
   },
   "outputs": [],
   "source": [
    "fixer.addMissingAtoms()"
   ]
  },
  {
   "cell_type": "code",
   "execution_count": 98,
   "metadata": {
    "collapsed": false
   },
   "outputs": [],
   "source": [
    "from simtk.openmm.app import PDBFile"
   ]
  },
  {
   "cell_type": "code",
   "execution_count": 111,
   "metadata": {
    "collapsed": false
   },
   "outputs": [
    {
     "data": {
      "text/plain": [
       "u'/Users/rafalpwiewiora/repos/pimento/SETD8/Catalytic_Cycle_p11708_scripted'"
      ]
     },
     "execution_count": 111,
     "metadata": {},
     "output_type": "execute_result"
    }
   ],
   "source": [
    "pwd"
   ]
  },
  {
   "cell_type": "code",
   "execution_count": 112,
   "metadata": {
    "collapsed": false
   },
   "outputs": [
    {
     "name": "stdout",
     "output_type": "stream",
     "text": [
      "/Users/rafalpwiewiora/repos/pimento/SETD8/Catalytic_Cycle_p11708_scripted/legacy\n"
     ]
    }
   ],
   "source": [
    "cd legacy"
   ]
  },
  {
   "cell_type": "code",
   "execution_count": 113,
   "metadata": {
    "collapsed": false
   },
   "outputs": [],
   "source": [
    "PDBFile.writeFile(fixer.topology, fixer.positions, open('4ij8_fixer_withsam2.pdb', 'w'))"
   ]
  },
  {
   "cell_type": "code",
   "execution_count": null,
   "metadata": {
    "collapsed": true
   },
   "outputs": [],
   "source": [
    "# also does not save CONECT - so we're gonna do protein only in PDBFixer, and copy SAM through MDTraj"
   ]
  },
  {
   "cell_type": "code",
   "execution_count": 103,
   "metadata": {
    "collapsed": false
   },
   "outputs": [],
   "source": []
  },
  {
   "cell_type": "code",
   "execution_count": 41,
   "metadata": {
    "collapsed": true
   },
   "outputs": [],
   "source": [
    "# now have decided to have the same sequence as in 11707 and 11709, so need to add S on the N-terminus (for 4IJ8 pdbfixer finds \n",
    "# 4 missing residues, that's one of them - testing here how I can only add that one"
   ]
  },
  {
   "cell_type": "code",
   "execution_count": 42,
   "metadata": {
    "collapsed": true
   },
   "outputs": [],
   "source": [
    "fixer = pdbfixer.PDBFixer('pdb4ij8.ent')"
   ]
  },
  {
   "cell_type": "code",
   "execution_count": 43,
   "metadata": {
    "collapsed": true
   },
   "outputs": [],
   "source": [
    "fixer.removeChains([1,2,3,4,5,6])"
   ]
  },
  {
   "cell_type": "code",
   "execution_count": 44,
   "metadata": {
    "collapsed": true
   },
   "outputs": [],
   "source": [
    "fixer.findMissingResidues()"
   ]
  },
  {
   "cell_type": "code",
   "execution_count": 45,
   "metadata": {
    "collapsed": false
   },
   "outputs": [
    {
     "data": {
      "text/plain": [
       "{(0, 0): ['ALA', 'MET', 'GLY', 'SER']}"
      ]
     },
     "execution_count": 45,
     "metadata": {},
     "output_type": "execute_result"
    }
   ],
   "source": [
    "fixer.missingResidues"
   ]
  },
  {
   "cell_type": "code",
   "execution_count": null,
   "metadata": {
    "collapsed": true
   },
   "outputs": [],
   "source": []
  }
 ],
 "metadata": {
  "kernelspec": {
   "display_name": "Python 2",
   "language": "python",
   "name": "python2"
  },
  "language_info": {
   "codemirror_mode": {
    "name": "ipython",
    "version": 2
   },
   "file_extension": ".py",
   "mimetype": "text/x-python",
   "name": "python",
   "nbconvert_exporter": "python",
   "pygments_lexer": "ipython2",
   "version": "2.7.11"
  }
 },
 "nbformat": 4,
 "nbformat_minor": 0
}
