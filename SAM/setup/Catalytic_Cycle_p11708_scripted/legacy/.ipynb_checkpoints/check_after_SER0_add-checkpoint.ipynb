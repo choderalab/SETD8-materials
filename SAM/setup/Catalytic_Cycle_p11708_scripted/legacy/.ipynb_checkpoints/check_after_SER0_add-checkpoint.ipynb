{
 "cells": [
  {
   "cell_type": "code",
   "execution_count": 1,
   "metadata": {
    "collapsed": false
   },
   "outputs": [
    {
     "name": "stdout",
     "output_type": "stream",
     "text": [
      "1ZKK_apo_superposetest.pdb                    SAM_ideal.pdb                                 fah_parameters.py\r\n",
      "1zkk_debug.ipynb                              ZKK_apo_resid_renumber_test.pdb               \u001b[34mfirst_protocol\u001b[m\u001b[m/\r\n",
      "2bqz_fixer_test.ipynb                         after_reduce.py                               \u001b[34mgaff_check\u001b[m\u001b[m/\r\n",
      "\u001b[34m2bqz_only\u001b[m\u001b[m/                                    \u001b[34mbefore_adding_SER0_partial\u001b[m\u001b[m/                   gaff_check.ipynb\r\n",
      "4IJ8_fixer_test.pdb                           check_after_SER0_add.ipynb                    generate_structures.py\r\n",
      "4ij8_fixer_test2.pdb                          debug.ipynb                                   generate_structures_only1zkk.py\r\n",
      "4ij8_fixer_withsam.pdb                        debug2.ipynb                                  master.sh\r\n",
      "4ij8_fixer_withsam2.pdb                       \u001b[34mequil_scripts\u001b[m\u001b[m/                                mol2 convert debug.ipynb\r\n",
      "4ij8_sequence_checks_and_pdbfixer_test.ipynb  \u001b[34mequil_test_SET8_10ns_to_see_cflank\u001b[m\u001b[m/           processAmberParameters.py\r\n",
      "MeP_noCONECT.pdb                              equilibrate_package.py                        \u001b[34mpymol_figs\u001b[m\u001b[m/\r\n",
      "SAH_ideal.pdb                                 equilibrate_package_SET8_mixedprecision.py    \u001b[34mzkk_vs_bqz\u001b[m\u001b[m/\r\n"
     ]
    }
   ],
   "source": [
    "ls"
   ]
  },
  {
   "cell_type": "code",
   "execution_count": 2,
   "metadata": {
    "collapsed": false
   },
   "outputs": [
    {
     "name": "stdout",
     "output_type": "stream",
     "text": [
      "/Users/rafalpwiewiora/repos/pimento/SETD8/Catalytic_Cycle_p11708_scripted\n"
     ]
    }
   ],
   "source": [
    "cd .."
   ]
  },
  {
   "cell_type": "code",
   "execution_count": 3,
   "metadata": {
    "collapsed": false
   },
   "outputs": [
    {
     "name": "stdout",
     "output_type": "stream",
     "text": [
      "README.MD                   \u001b[34mfiles\u001b[m\u001b[m/                      master.sh                   \u001b[34mparameters\u001b[m\u001b[m/                 \u001b[34mtemp_structures\u001b[m\u001b[m/\r\n",
      "after_antechamber.py        generate_structures.py      master_genstr_solv_only.sh  repackage.py\r\n",
      "\u001b[34mequil_scripts\u001b[m\u001b[m/              \u001b[34mlegacy\u001b[m\u001b[m/                     \u001b[34mno_solvent\u001b[m\u001b[m/                 solvate.py\r\n"
     ]
    }
   ],
   "source": [
    "ls"
   ]
  },
  {
   "cell_type": "code",
   "execution_count": 4,
   "metadata": {
    "collapsed": false
   },
   "outputs": [
    {
     "name": "stdout",
     "output_type": "stream",
     "text": [
      "/Users/rafalpwiewiora/repos/pimento/SETD8/Catalytic_Cycle_p11708_scripted/no_solvent\n"
     ]
    }
   ],
   "source": [
    "cd no_solvent/"
   ]
  },
  {
   "cell_type": "code",
   "execution_count": 5,
   "metadata": {
    "collapsed": false
   },
   "outputs": [
    {
     "name": "stdout",
     "output_type": "stream",
     "text": [
      "1ZKK_apo_SET8.pdb          1ZKK_apo_SET8_PH_SAH.pdb   4IJ8_SET8.pdb              SET8_MeP.pdb               SET8_PH_SAM.pdb\r\n",
      "1ZKK_apo_SET8_MeP.pdb      1ZKK_apo_SET8_PH_SAM.pdb   4IJ8_SET8_SAH.pdb          SET8_MeP_SAH.pdb           SET8_P_SAH.pdb\r\n",
      "1ZKK_apo_SET8_MeP_SAH.pdb  1ZKK_apo_SET8_P_SAH.pdb    4IJ8_SET8_SAM.pdb          SET8_MeP_SAM.pdb           SET8_P_SAM.pdb\r\n",
      "1ZKK_apo_SET8_MeP_SAM.pdb  1ZKK_apo_SET8_P_SAM.pdb    SAH.pdb                    SET8_P.pdb                 SET8_SAH.pdb\r\n",
      "1ZKK_apo_SET8_P.pdb        1ZKK_apo_SET8_SAH.pdb      SAM.pdb                    SET8_PH.pdb                SET8_SAM.pdb\r\n",
      "1ZKK_apo_SET8_PH.pdb       1ZKK_apo_SET8_SAM.pdb      SET8.pdb                   SET8_PH_SAH.pdb\r\n"
     ]
    }
   ],
   "source": [
    "ls"
   ]
  },
  {
   "cell_type": "code",
   "execution_count": 6,
   "metadata": {
    "collapsed": true
   },
   "outputs": [],
   "source": [
    "import mdtraj as md"
   ]
  },
  {
   "cell_type": "code",
   "execution_count": 7,
   "metadata": {
    "collapsed": true
   },
   "outputs": [],
   "source": [
    "import glob"
   ]
  },
  {
   "cell_type": "code",
   "execution_count": 9,
   "metadata": {
    "collapsed": false
   },
   "outputs": [],
   "source": [
    "pdbs = glob.glob('*.pdb')"
   ]
  },
  {
   "cell_type": "code",
   "execution_count": 13,
   "metadata": {
    "collapsed": false
   },
   "outputs": [
    {
     "name": "stdout",
     "output_type": "stream",
     "text": [
      "1ZKK_apo_SET8.pdb\n",
      "['SRKSKAELQSEERKRIDELIESGKEEGMKIDLIDGKGRGVIATKQFSRGDFVVEYHGDLIEITDAKKREALYAQDPSTGCYMYYFQYLSKTYCVDATRETNRLGRLINHSKCGNCQTKLHDIDGVPHLILIASRDIAAGEELLYDYGDRSKASIEAHPWLKH']\n",
      "1ZKK_apo_SET8_MeP.pdb\n",
      "['SRKSKAELQSEERKRIDELIESGKEEGMKIDLIDGKGRGVIATKQFSRGDFVVEYHGDLIEITDAKKREALYAQDPSTGCYMYYFQYLSKTYCVDATRETNRLGRLINHSKCGNCQTKLHDIDGVPHLILIASRDIAAGEELLYDYGDRSKASIEAHPWLKH', 'RHRKVLRDNY']\n",
      "1ZKK_apo_SET8_MeP_SAH.pdb\n",
      "['SRKSKAELQSEERKRIDELIESGKEEGMKIDLIDGKGRGVIATKQFSRGDFVVEYHGDLIEITDAKKREALYAQDPSTGCYMYYFQYLSKTYCVDATRETNRLGRLINHSKCGNCQTKLHDIDGVPHLILIASRDIAAGEELLYDYGDRSKASIEAHPWLKH', 'RHRKVLRDNY', 'C']\n",
      "1ZKK_apo_SET8_MeP_SAM.pdb\n",
      "['SRKSKAELQSEERKRIDELIESGKEEGMKIDLIDGKGRGVIATKQFSRGDFVVEYHGDLIEITDAKKREALYAQDPSTGCYMYYFQYLSKTYCVDATRETNRLGRLINHSKCGNCQTKLHDIDGVPHLILIASRDIAAGEELLYDYGDRSKASIEAHPWLKH', 'RHRKVLRDNY', '']\n",
      "1ZKK_apo_SET8_P.pdb\n",
      "['SRKSKAELQSEERKRIDELIESGKEEGMKIDLIDGKGRGVIATKQFSRGDFVVEYHGDLIEITDAKKREALYAQDPSTGCYMYYFQYLSKTYCVDATRETNRLGRLINHSKCGNCQTKLHDIDGVPHLILIASRDIAAGEELLYDYGDRSKASIEAHPWLKH', 'RHRKVLRDNY']\n",
      "1ZKK_apo_SET8_P_SAH.pdb\n",
      "['SRKSKAELQSEERKRIDELIESGKEEGMKIDLIDGKGRGVIATKQFSRGDFVVEYHGDLIEITDAKKREALYAQDPSTGCYMYYFQYLSKTYCVDATRETNRLGRLINHSKCGNCQTKLHDIDGVPHLILIASRDIAAGEELLYDYGDRSKASIEAHPWLKH', 'RHRKVLRDNY', 'C']\n",
      "1ZKK_apo_SET8_P_SAM.pdb\n",
      "['SRKSKAELQSEERKRIDELIESGKEEGMKIDLIDGKGRGVIATKQFSRGDFVVEYHGDLIEITDAKKREALYAQDPSTGCYMYYFQYLSKTYCVDATRETNRLGRLINHSKCGNCQTKLHDIDGVPHLILIASRDIAAGEELLYDYGDRSKASIEAHPWLKH', 'RHRKVLRDNY', '']\n",
      "1ZKK_apo_SET8_PH.pdb\n",
      "['SRKSKAELQSEERKRIDELIESGKEEGMKIDLIDGKGRGVIATKQFSRGDFVVEYHGDLIEITDAKKREALYAQDPSTGCYMYYFQYLSKTYCVDATRETNRLGRLINHSKCGNCQTKLHDIDGVPHLILIASRDIAAGEELLYDYGDRSKASIEAHPWLKH', 'RHRKVLRDNY']\n",
      "1ZKK_apo_SET8_PH_SAH.pdb\n",
      "['SRKSKAELQSEERKRIDELIESGKEEGMKIDLIDGKGRGVIATKQFSRGDFVVEYHGDLIEITDAKKREALYAQDPSTGCYMYYFQYLSKTYCVDATRETNRLGRLINHSKCGNCQTKLHDIDGVPHLILIASRDIAAGEELLYDYGDRSKASIEAHPWLKH', 'RHRKVLRDNY', 'C']\n",
      "1ZKK_apo_SET8_PH_SAM.pdb\n",
      "['SRKSKAELQSEERKRIDELIESGKEEGMKIDLIDGKGRGVIATKQFSRGDFVVEYHGDLIEITDAKKREALYAQDPSTGCYMYYFQYLSKTYCVDATRETNRLGRLINHSKCGNCQTKLHDIDGVPHLILIASRDIAAGEELLYDYGDRSKASIEAHPWLKH', 'RHRKVLRDNY', '']\n",
      "1ZKK_apo_SET8_SAH.pdb\n",
      "['SRKSKAELQSEERKRIDELIESGKEEGMKIDLIDGKGRGVIATKQFSRGDFVVEYHGDLIEITDAKKREALYAQDPSTGCYMYYFQYLSKTYCVDATRETNRLGRLINHSKCGNCQTKLHDIDGVPHLILIASRDIAAGEELLYDYGDRSKASIEAHPWLKH', 'C']\n",
      "1ZKK_apo_SET8_SAM.pdb\n",
      "['SRKSKAELQSEERKRIDELIESGKEEGMKIDLIDGKGRGVIATKQFSRGDFVVEYHGDLIEITDAKKREALYAQDPSTGCYMYYFQYLSKTYCVDATRETNRLGRLINHSKCGNCQTKLHDIDGVPHLILIASRDIAAGEELLYDYGDRSKASIEAHPWLKH', '']\n",
      "4IJ8_SET8.pdb\n",
      "['SRKSKAELQSEERKRIDELIESGKEEGMKIDLIDGKGRGVIATKQFSRGDFVVEYHGDLIEITDAKKREALYAQDPSTGCYMYYFQYLSKTYCVDATRETNRLGRLINHSKCGNCQTKLHDIDGVPHLILIASRDIAAGEELLYDYGDRSKASIEAHPWLKH', '']\n",
      "4IJ8_SET8_SAH.pdb\n",
      "['SRKSKAELQSEERKRIDELIESGKEEGMKIDLIDGKGRGVIATKQFSRGDFVVEYHGDLIEITDAKKREALYAQDPSTGCYMYYFQYLSKTYCVDATRETNRLGRLINHSKCGNCQTKLHDIDGVPHLILIASRDIAAGEELLYDYGDRSKASIEAHPWLKH', 'C']\n",
      "4IJ8_SET8_SAM.pdb\n",
      "['SRKSKAELQSEERKRIDELIESGKEEGMKIDLIDGKGRGVIATKQFSRGDFVVEYHGDLIEITDAKKREALYAQDPSTGCYMYYFQYLSKTYCVDATRETNRLGRLINHSKCGNCQTKLHDIDGVPHLILIASRDIAAGEELLYDYGDRSKASIEAHPWLKH', '']\n",
      "SAH.pdb\n",
      "['C']\n",
      "SAM.pdb\n",
      "['']\n",
      "SET8.pdb\n",
      "['SRKSKAELQSEERKRIDELIESGKEEGMKIDLIDGKGRGVIATKQFSRGDFVVEYHGDLIEITDAKKREALYAQDPSTGCYMYYFQYLSKTYCVDATRETNRLGRLINHSKCGNCQTKLHDIDGVPHLILIASRDIAAGEELLYDYGDRSKASIEAHPWLKH']\n",
      "SET8_MeP.pdb\n",
      "['SRKSKAELQSEERKRIDELIESGKEEGMKIDLIDGKGRGVIATKQFSRGDFVVEYHGDLIEITDAKKREALYAQDPSTGCYMYYFQYLSKTYCVDATRETNRLGRLINHSKCGNCQTKLHDIDGVPHLILIASRDIAAGEELLYDYGDRSKASIEAHPWLKH', 'RHRKVLRDNY']\n",
      "SET8_MeP_SAH.pdb\n",
      "['SRKSKAELQSEERKRIDELIESGKEEGMKIDLIDGKGRGVIATKQFSRGDFVVEYHGDLIEITDAKKREALYAQDPSTGCYMYYFQYLSKTYCVDATRETNRLGRLINHSKCGNCQTKLHDIDGVPHLILIASRDIAAGEELLYDYGDRSKASIEAHPWLKH', 'RHRKVLRDNY', 'C']\n",
      "SET8_MeP_SAM.pdb\n",
      "['SRKSKAELQSEERKRIDELIESGKEEGMKIDLIDGKGRGVIATKQFSRGDFVVEYHGDLIEITDAKKREALYAQDPSTGCYMYYFQYLSKTYCVDATRETNRLGRLINHSKCGNCQTKLHDIDGVPHLILIASRDIAAGEELLYDYGDRSKASIEAHPWLKH', 'RHRKVLRDNY', '']\n",
      "SET8_P.pdb\n",
      "['SRKSKAELQSEERKRIDELIESGKEEGMKIDLIDGKGRGVIATKQFSRGDFVVEYHGDLIEITDAKKREALYAQDPSTGCYMYYFQYLSKTYCVDATRETNRLGRLINHSKCGNCQTKLHDIDGVPHLILIASRDIAAGEELLYDYGDRSKASIEAHPWLKH', 'RHRKVLRDNY']\n",
      "SET8_P_SAH.pdb\n",
      "['SRKSKAELQSEERKRIDELIESGKEEGMKIDLIDGKGRGVIATKQFSRGDFVVEYHGDLIEITDAKKREALYAQDPSTGCYMYYFQYLSKTYCVDATRETNRLGRLINHSKCGNCQTKLHDIDGVPHLILIASRDIAAGEELLYDYGDRSKASIEAHPWLKH', 'RHRKVLRDNY', 'C']\n",
      "SET8_P_SAM.pdb\n",
      "['SRKSKAELQSEERKRIDELIESGKEEGMKIDLIDGKGRGVIATKQFSRGDFVVEYHGDLIEITDAKKREALYAQDPSTGCYMYYFQYLSKTYCVDATRETNRLGRLINHSKCGNCQTKLHDIDGVPHLILIASRDIAAGEELLYDYGDRSKASIEAHPWLKH', 'RHRKVLRDNY', '']\n",
      "SET8_PH.pdb\n",
      "['SRKSKAELQSEERKRIDELIESGKEEGMKIDLIDGKGRGVIATKQFSRGDFVVEYHGDLIEITDAKKREALYAQDPSTGCYMYYFQYLSKTYCVDATRETNRLGRLINHSKCGNCQTKLHDIDGVPHLILIASRDIAAGEELLYDYGDRSKASIEAHPWLKH', 'RHRKVLRDNY']\n",
      "SET8_PH_SAH.pdb\n",
      "['SRKSKAELQSEERKRIDELIESGKEEGMKIDLIDGKGRGVIATKQFSRGDFVVEYHGDLIEITDAKKREALYAQDPSTGCYMYYFQYLSKTYCVDATRETNRLGRLINHSKCGNCQTKLHDIDGVPHLILIASRDIAAGEELLYDYGDRSKASIEAHPWLKH', 'RHRKVLRDNY', 'C']\n",
      "SET8_PH_SAM.pdb\n",
      "['SRKSKAELQSEERKRIDELIESGKEEGMKIDLIDGKGRGVIATKQFSRGDFVVEYHGDLIEITDAKKREALYAQDPSTGCYMYYFQYLSKTYCVDATRETNRLGRLINHSKCGNCQTKLHDIDGVPHLILIASRDIAAGEELLYDYGDRSKASIEAHPWLKH', 'RHRKVLRDNY', '']\n",
      "SET8_SAH.pdb\n",
      "['SRKSKAELQSEERKRIDELIESGKEEGMKIDLIDGKGRGVIATKQFSRGDFVVEYHGDLIEITDAKKREALYAQDPSTGCYMYYFQYLSKTYCVDATRETNRLGRLINHSKCGNCQTKLHDIDGVPHLILIASRDIAAGEELLYDYGDRSKASIEAHPWLKH', 'C']\n",
      "SET8_SAM.pdb\n",
      "['SRKSKAELQSEERKRIDELIESGKEEGMKIDLIDGKGRGVIATKQFSRGDFVVEYHGDLIEITDAKKREALYAQDPSTGCYMYYFQYLSKTYCVDATRETNRLGRLINHSKCGNCQTKLHDIDGVPHLILIASRDIAAGEELLYDYGDRSKASIEAHPWLKH', '']\n"
     ]
    }
   ],
   "source": [
    "for pdb in pdbs:\n",
    "    pdb_ = md.load(pdb)\n",
    "    print(pdb)\n",
    "    print(pdb_.top.to_fasta())"
   ]
  },
  {
   "cell_type": "code",
   "execution_count": null,
   "metadata": {
    "collapsed": true
   },
   "outputs": [],
   "source": [
    "# all good!"
   ]
  }
 ],
 "metadata": {
  "kernelspec": {
   "display_name": "Python 2",
   "language": "python",
   "name": "python2"
  },
  "language_info": {
   "codemirror_mode": {
    "name": "ipython",
    "version": 2
   },
   "file_extension": ".py",
   "mimetype": "text/x-python",
   "name": "python",
   "nbconvert_exporter": "python",
   "pygments_lexer": "ipython2",
   "version": "2.7.11"
  }
 },
 "nbformat": 4,
 "nbformat_minor": 0
}
