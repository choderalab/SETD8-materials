{
 "cells": [
  {
   "cell_type": "code",
   "execution_count": 1,
   "metadata": {
    "collapsed": false
   },
   "outputs": [
    {
     "name": "stdout",
     "output_type": "stream",
     "text": [
      "1ZKK_apo_superposetest.pdb                    SAM_ideal.pdb                                 \u001b[34mgaff_check\u001b[m\u001b[m/\r\n",
      "1zkk_debug.ipynb                              ZKK_apo_resid_renumber_test.pdb               gaff_check.ipynb\r\n",
      "2bqz_fixer_test.ipynb                         after_reduce.py                               generate_structures.py\r\n",
      "\u001b[34m2bqz_only\u001b[m\u001b[m/                                    debug.ipynb                                   generate_structures_only1zkk.py\r\n",
      "4IJ8_fixer_test.pdb                           debug2.ipynb                                  master.sh\r\n",
      "4ij8_fixer_test2.pdb                          \u001b[34mequil_scripts\u001b[m\u001b[m/                                mol2 convert debug.ipynb\r\n",
      "4ij8_fixer_withsam.pdb                        \u001b[34mequil_test_SET8_10ns_to_see_cflank\u001b[m\u001b[m/           processAmberParameters.py\r\n",
      "4ij8_fixer_withsam2.pdb                       equilibrate_package.py                        \u001b[34mpymol_figs\u001b[m\u001b[m/\r\n",
      "4ij8_sequence_checks_and_pdbfixer_test.ipynb  equilibrate_package_SET8_mixedprecision.py    \u001b[34mzkk_vs_bqz\u001b[m\u001b[m/\r\n",
      "MeP_noCONECT.pdb                              fah_parameters.py\r\n",
      "SAH_ideal.pdb                                 \u001b[34mfirst_protocol\u001b[m\u001b[m/\r\n"
     ]
    }
   ],
   "source": [
    "ls"
   ]
  },
  {
   "cell_type": "code",
   "execution_count": 2,
   "metadata": {
    "collapsed": false
   },
   "outputs": [
    {
     "name": "stdout",
     "output_type": "stream",
     "text": [
      "/Users/rafalpwiewiora/repos/pimento/SETD8/Catalytic_Cycle_p11708_scripted\n"
     ]
    }
   ],
   "source": [
    "cd .."
   ]
  },
  {
   "cell_type": "code",
   "execution_count": 3,
   "metadata": {
    "collapsed": false
   },
   "outputs": [
    {
     "name": "stdout",
     "output_type": "stream",
     "text": [
      "README.MD                   \u001b[34mfiles\u001b[m\u001b[m/                      master_genstr_solv_only.sh  repackage.py\r\n",
      "after_antechamber.py        generate_structures.py      \u001b[34mno_solvent\u001b[m\u001b[m/                 solvate.py\r\n",
      "\u001b[34mequil\u001b[m\u001b[m/                      \u001b[34mlegacy\u001b[m\u001b[m/                     \u001b[34mpackage\u001b[m\u001b[m/                    \u001b[34mtemp_structures\u001b[m\u001b[m/\r\n",
      "\u001b[34mequil_scripts\u001b[m\u001b[m/              master.sh                   \u001b[34mparameters\u001b[m\u001b[m/                 \u001b[34mwith_solvent\u001b[m\u001b[m/\r\n"
     ]
    }
   ],
   "source": [
    "ls"
   ]
  },
  {
   "cell_type": "code",
   "execution_count": 4,
   "metadata": {
    "collapsed": false
   },
   "outputs": [
    {
     "name": "stdout",
     "output_type": "stream",
     "text": [
      "/Users/rafalpwiewiora/repos/pimento/SETD8/Catalytic_Cycle_p11708_scripted/files\n"
     ]
    }
   ],
   "source": [
    "cd files"
   ]
  },
  {
   "cell_type": "code",
   "execution_count": 9,
   "metadata": {
    "collapsed": false
   },
   "outputs": [
    {
     "name": "stdout",
     "output_type": "stream",
     "text": [
      "/Users/rafalpwiewiora/repos/pimento/SETD8/Catalytic_Cycle_p11708_scripted\n"
     ]
    }
   ],
   "source": [
    "cd .."
   ]
  },
  {
   "cell_type": "code",
   "execution_count": 10,
   "metadata": {
    "collapsed": true
   },
   "outputs": [],
   "source": [
    "import pdbfixer"
   ]
  },
  {
   "cell_type": "code",
   "execution_count": 32,
   "metadata": {
    "collapsed": false
   },
   "outputs": [],
   "source": [
    "fixer_SET8_P = pdbfixer.PDBFixer('files/pdb2bqz.ent')"
   ]
  },
  {
   "cell_type": "code",
   "execution_count": 33,
   "metadata": {
    "collapsed": true
   },
   "outputs": [],
   "source": [
    "fixer_SET8_P.removeChains([2,3,4,5,6,7,8,9])"
   ]
  },
  {
   "cell_type": "code",
   "execution_count": 27,
   "metadata": {
    "collapsed": true
   },
   "outputs": [],
   "source": [
    "fixer_SET8_P.findMissingResidues()\n",
    "fixer_SET8_P.missingResidues = {(0,0): ['SER']}"
   ]
  },
  {
   "cell_type": "code",
   "execution_count": 34,
   "metadata": {
    "collapsed": true
   },
   "outputs": [],
   "source": [
    "fixer_SET8_P.findNonstandardResidues()\n",
    "fixer_SET8_P.replaceNonstandardResidues()"
   ]
  },
  {
   "cell_type": "code",
   "execution_count": 29,
   "metadata": {
    "collapsed": false
   },
   "outputs": [],
   "source": [
    "fixer_SET8_P.findMissingAtoms()"
   ]
  },
  {
   "cell_type": "code",
   "execution_count": 30,
   "metadata": {
    "collapsed": false
   },
   "outputs": [
    {
     "data": {
      "text/plain": [
       "{}"
      ]
     },
     "execution_count": 30,
     "metadata": {},
     "output_type": "execute_result"
    }
   ],
   "source": [
    "fixer_SET8_P.missingAtoms"
   ]
  },
  {
   "cell_type": "code",
   "execution_count": 31,
   "metadata": {
    "collapsed": false
   },
   "outputs": [],
   "source": [
    "# was just checking if findMissingAtoms was ok - not returning a missing methyl on the MLZ for example!"
   ]
  },
  {
   "cell_type": "code",
   "execution_count": null,
   "metadata": {
    "collapsed": true
   },
   "outputs": [],
   "source": []
  },
  {
   "cell_type": "code",
   "execution_count": null,
   "metadata": {
    "collapsed": false
   },
   "outputs": [],
   "source": []
  },
  {
   "cell_type": "code",
   "execution_count": null,
   "metadata": {
    "collapsed": true
   },
   "outputs": [],
   "source": []
  }
 ],
 "metadata": {
  "kernelspec": {
   "display_name": "Python 2",
   "language": "python",
   "name": "python2"
  },
  "language_info": {
   "codemirror_mode": {
    "name": "ipython",
    "version": 2
   },
   "file_extension": ".py",
   "mimetype": "text/x-python",
   "name": "python",
   "nbconvert_exporter": "python",
   "pygments_lexer": "ipython2",
   "version": "2.7.11"
  }
 },
 "nbformat": 4,
 "nbformat_minor": 0
}
