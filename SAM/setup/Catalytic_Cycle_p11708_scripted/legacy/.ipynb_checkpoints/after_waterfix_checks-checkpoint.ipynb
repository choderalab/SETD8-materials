{
 "cells": [
  {
   "cell_type": "code",
   "execution_count": 1,
   "metadata": {
    "collapsed": false
   },
   "outputs": [
    {
     "name": "stdout",
     "output_type": "stream",
     "text": [
      "/Users/rafalpwiewiora/repos/pimento/SETD8/Catalytic_Cycle_p11708_scripted\n"
     ]
    }
   ],
   "source": [
    "cd .."
   ]
  },
  {
   "cell_type": "code",
   "execution_count": 2,
   "metadata": {
    "collapsed": false
   },
   "outputs": [
    {
     "name": "stdout",
     "output_type": "stream",
     "text": [
      "README.MD               \u001b[34mfiles\u001b[m\u001b[m/                  master.sh               \u001b[34mparameters\u001b[m\u001b[m/             \u001b[34mtemp_structures\u001b[m\u001b[m/\r\n",
      "after_antechamber.py    generate_structures.py  \u001b[34mno_solvent\u001b[m\u001b[m/             repackage.py            \u001b[34mwith_solvent\u001b[m\u001b[m/\r\n",
      "\u001b[34mequil_scripts\u001b[m\u001b[m/          \u001b[34mlegacy\u001b[m\u001b[m/                 \u001b[34mpackage\u001b[m\u001b[m/                solvate.py\r\n"
     ]
    }
   ],
   "source": [
    "ls"
   ]
  },
  {
   "cell_type": "code",
   "execution_count": 3,
   "metadata": {
    "collapsed": false
   },
   "outputs": [
    {
     "name": "stdout",
     "output_type": "stream",
     "text": [
      "/Users/rafalpwiewiora/repos/pimento/SETD8/Catalytic_Cycle_p11708_scripted/with_solvent\n"
     ]
    }
   ],
   "source": [
    "cd with_solvent"
   ]
  },
  {
   "cell_type": "code",
   "execution_count": 4,
   "metadata": {
    "collapsed": false
   },
   "outputs": [
    {
     "name": "stdout",
     "output_type": "stream",
     "text": [
      "1ZKK_apo_SET8.pdb          1ZKK_apo_SET8_PH_SAM.pdb   4IJ8_SET8_SAM.pdb          SET8_PH_SAH.pdb\r\n",
      "1ZKK_apo_SET8_MeP.pdb      1ZKK_apo_SET8_P_SAH.pdb    SET8.pdb                   SET8_PH_SAM.pdb\r\n",
      "1ZKK_apo_SET8_MeP_SAH.pdb  1ZKK_apo_SET8_P_SAM.pdb    SET8_MeP.pdb               SET8_P_SAH.pdb\r\n",
      "1ZKK_apo_SET8_MeP_SAM.pdb  1ZKK_apo_SET8_SAH.pdb      SET8_MeP_SAH.pdb           SET8_P_SAM.pdb\r\n",
      "1ZKK_apo_SET8_P.pdb        1ZKK_apo_SET8_SAM.pdb      SET8_MeP_SAM.pdb           SET8_SAH.pdb\r\n",
      "1ZKK_apo_SET8_PH.pdb       4IJ8_SET8.pdb              SET8_P.pdb                 SET8_SAM.pdb\r\n",
      "1ZKK_apo_SET8_PH_SAH.pdb   4IJ8_SET8_SAH.pdb          SET8_PH.pdb\r\n"
     ]
    }
   ],
   "source": [
    "ls"
   ]
  },
  {
   "cell_type": "code",
   "execution_count": 5,
   "metadata": {
    "collapsed": true
   },
   "outputs": [],
   "source": [
    "import glob"
   ]
  },
  {
   "cell_type": "code",
   "execution_count": 6,
   "metadata": {
    "collapsed": true
   },
   "outputs": [],
   "source": [
    "systems = glob.glob('*.pdb')"
   ]
  },
  {
   "cell_type": "code",
   "execution_count": 7,
   "metadata": {
    "collapsed": true
   },
   "outputs": [],
   "source": [
    "import mdtraj as md"
   ]
  },
  {
   "cell_type": "code",
   "execution_count": 11,
   "metadata": {
    "collapsed": false
   },
   "outputs": [
    {
     "name": "stdout",
     "output_type": "stream",
     "text": [
      "1ZKK_apo_SET8.pdb\n",
      "['SRKSKAELQSEERKRIDELIESGKEEGMKIDLIDGKGRGVIATKQFSRGDFVVEYHGDLIEITDAKKREALYAQDPSTGCYMYYFQYLSKTYCVDATRETNRLGRLINHSKCGNCQTKLHDIDGVPHLILIASRDIAAGEELLYDYGDRSKASIEAHPWLKH', '']\n",
      "1ZKK_apo_SET8_MeP.pdb\n",
      "['SRKSKAELQSEERKRIDELIESGKEEGMKIDLIDGKGRGVIATKQFSRGDFVVEYHGDLIEITDAKKREALYAQDPSTGCYMYYFQYLSKTYCVDATRETNRLGRLINHSKCGNCQTKLHDIDGVPHLILIASRDIAAGEELLYDYGDRSKASIEAHPWLKH', 'RHRKVLRDNY', '']\n",
      "1ZKK_apo_SET8_MeP_SAH.pdb\n",
      "['SRKSKAELQSEERKRIDELIESGKEEGMKIDLIDGKGRGVIATKQFSRGDFVVEYHGDLIEITDAKKREALYAQDPSTGCYMYYFQYLSKTYCVDATRETNRLGRLINHSKCGNCQTKLHDIDGVPHLILIASRDIAAGEELLYDYGDRSKASIEAHPWLKH', 'RHRKVLRDNY', 'C', '']\n",
      "1ZKK_apo_SET8_MeP_SAM.pdb\n",
      "['SRKSKAELQSEERKRIDELIESGKEEGMKIDLIDGKGRGVIATKQFSRGDFVVEYHGDLIEITDAKKREALYAQDPSTGCYMYYFQYLSKTYCVDATRETNRLGRLINHSKCGNCQTKLHDIDGVPHLILIASRDIAAGEELLYDYGDRSKASIEAHPWLKH', 'RHRKVLRDNY', '', '']\n",
      "1ZKK_apo_SET8_P.pdb\n",
      "['SRKSKAELQSEERKRIDELIESGKEEGMKIDLIDGKGRGVIATKQFSRGDFVVEYHGDLIEITDAKKREALYAQDPSTGCYMYYFQYLSKTYCVDATRETNRLGRLINHSKCGNCQTKLHDIDGVPHLILIASRDIAAGEELLYDYGDRSKASIEAHPWLKH', 'RHRKVLRDNY', '']\n",
      "1ZKK_apo_SET8_P_SAH.pdb\n",
      "['SRKSKAELQSEERKRIDELIESGKEEGMKIDLIDGKGRGVIATKQFSRGDFVVEYHGDLIEITDAKKREALYAQDPSTGCYMYYFQYLSKTYCVDATRETNRLGRLINHSKCGNCQTKLHDIDGVPHLILIASRDIAAGEELLYDYGDRSKASIEAHPWLKH', 'RHRKVLRDNY', 'C', '']\n",
      "1ZKK_apo_SET8_P_SAM.pdb\n",
      "['SRKSKAELQSEERKRIDELIESGKEEGMKIDLIDGKGRGVIATKQFSRGDFVVEYHGDLIEITDAKKREALYAQDPSTGCYMYYFQYLSKTYCVDATRETNRLGRLINHSKCGNCQTKLHDIDGVPHLILIASRDIAAGEELLYDYGDRSKASIEAHPWLKH', 'RHRKVLRDNY', '', '']\n",
      "1ZKK_apo_SET8_PH.pdb\n",
      "['SRKSKAELQSEERKRIDELIESGKEEGMKIDLIDGKGRGVIATKQFSRGDFVVEYHGDLIEITDAKKREALYAQDPSTGCYMYYFQYLSKTYCVDATRETNRLGRLINHSKCGNCQTKLHDIDGVPHLILIASRDIAAGEELLYDYGDRSKASIEAHPWLKH', 'RHRKVLRDNY', '']\n",
      "1ZKK_apo_SET8_PH_SAH.pdb\n",
      "['SRKSKAELQSEERKRIDELIESGKEEGMKIDLIDGKGRGVIATKQFSRGDFVVEYHGDLIEITDAKKREALYAQDPSTGCYMYYFQYLSKTYCVDATRETNRLGRLINHSKCGNCQTKLHDIDGVPHLILIASRDIAAGEELLYDYGDRSKASIEAHPWLKH', 'RHRKVLRDNY', 'C', '']\n",
      "1ZKK_apo_SET8_PH_SAM.pdb\n",
      "['SRKSKAELQSEERKRIDELIESGKEEGMKIDLIDGKGRGVIATKQFSRGDFVVEYHGDLIEITDAKKREALYAQDPSTGCYMYYFQYLSKTYCVDATRETNRLGRLINHSKCGNCQTKLHDIDGVPHLILIASRDIAAGEELLYDYGDRSKASIEAHPWLKH', 'RHRKVLRDNY', '', '']\n",
      "1ZKK_apo_SET8_SAH.pdb\n",
      "['SRKSKAELQSEERKRIDELIESGKEEGMKIDLIDGKGRGVIATKQFSRGDFVVEYHGDLIEITDAKKREALYAQDPSTGCYMYYFQYLSKTYCVDATRETNRLGRLINHSKCGNCQTKLHDIDGVPHLILIASRDIAAGEELLYDYGDRSKASIEAHPWLKH', 'C', '']\n",
      "1ZKK_apo_SET8_SAM.pdb\n",
      "['SRKSKAELQSEERKRIDELIESGKEEGMKIDLIDGKGRGVIATKQFSRGDFVVEYHGDLIEITDAKKREALYAQDPSTGCYMYYFQYLSKTYCVDATRETNRLGRLINHSKCGNCQTKLHDIDGVPHLILIASRDIAAGEELLYDYGDRSKASIEAHPWLKH', '', '']\n",
      "4IJ8_SET8.pdb\n",
      "['SRKSKAELQSEERKRIDELIESGKEEGMKIDLIDGKGRGVIATKQFSRGDFVVEYHGDLIEITDAKKREALYAQDPSTGCYMYYFQYLSKTYCVDATRETNRLGRLINHSKCGNCQTKLHDIDGVPHLILIASRDIAAGEELLYDYGDRSKASIEAHPWLKH', '', '']\n",
      "4IJ8_SET8_SAH.pdb\n",
      "['SRKSKAELQSEERKRIDELIESGKEEGMKIDLIDGKGRGVIATKQFSRGDFVVEYHGDLIEITDAKKREALYAQDPSTGCYMYYFQYLSKTYCVDATRETNRLGRLINHSKCGNCQTKLHDIDGVPHLILIASRDIAAGEELLYDYGDRSKASIEAHPWLKH', 'C', '']\n",
      "4IJ8_SET8_SAM.pdb\n",
      "['SRKSKAELQSEERKRIDELIESGKEEGMKIDLIDGKGRGVIATKQFSRGDFVVEYHGDLIEITDAKKREALYAQDPSTGCYMYYFQYLSKTYCVDATRETNRLGRLINHSKCGNCQTKLHDIDGVPHLILIASRDIAAGEELLYDYGDRSKASIEAHPWLKH', '', '']\n",
      "SET8.pdb\n",
      "['SRKSKAELQSEERKRIDELIESGKEEGMKIDLIDGKGRGVIATKQFSRGDFVVEYHGDLIEITDAKKREALYAQDPSTGCYMYYFQYLSKTYCVDATRETNRLGRLINHSKCGNCQTKLHDIDGVPHLILIASRDIAAGEELLYDYGDRSKASIEAHPWLKH', '']\n",
      "SET8_MeP.pdb\n",
      "['SRKSKAELQSEERKRIDELIESGKEEGMKIDLIDGKGRGVIATKQFSRGDFVVEYHGDLIEITDAKKREALYAQDPSTGCYMYYFQYLSKTYCVDATRETNRLGRLINHSKCGNCQTKLHDIDGVPHLILIASRDIAAGEELLYDYGDRSKASIEAHPWLKH', 'RHRKVLRDNY', '']\n",
      "SET8_MeP_SAH.pdb\n",
      "['SRKSKAELQSEERKRIDELIESGKEEGMKIDLIDGKGRGVIATKQFSRGDFVVEYHGDLIEITDAKKREALYAQDPSTGCYMYYFQYLSKTYCVDATRETNRLGRLINHSKCGNCQTKLHDIDGVPHLILIASRDIAAGEELLYDYGDRSKASIEAHPWLKH', 'RHRKVLRDNY', 'C', '']\n",
      "SET8_MeP_SAM.pdb\n",
      "['SRKSKAELQSEERKRIDELIESGKEEGMKIDLIDGKGRGVIATKQFSRGDFVVEYHGDLIEITDAKKREALYAQDPSTGCYMYYFQYLSKTYCVDATRETNRLGRLINHSKCGNCQTKLHDIDGVPHLILIASRDIAAGEELLYDYGDRSKASIEAHPWLKH', 'RHRKVLRDNY', '', '']\n",
      "SET8_P.pdb\n",
      "['SRKSKAELQSEERKRIDELIESGKEEGMKIDLIDGKGRGVIATKQFSRGDFVVEYHGDLIEITDAKKREALYAQDPSTGCYMYYFQYLSKTYCVDATRETNRLGRLINHSKCGNCQTKLHDIDGVPHLILIASRDIAAGEELLYDYGDRSKASIEAHPWLKH', 'RHRKVLRDNY', '']\n",
      "SET8_P_SAH.pdb\n",
      "['SRKSKAELQSEERKRIDELIESGKEEGMKIDLIDGKGRGVIATKQFSRGDFVVEYHGDLIEITDAKKREALYAQDPSTGCYMYYFQYLSKTYCVDATRETNRLGRLINHSKCGNCQTKLHDIDGVPHLILIASRDIAAGEELLYDYGDRSKASIEAHPWLKH', 'RHRKVLRDNY', 'C', '']\n",
      "SET8_P_SAM.pdb\n",
      "['SRKSKAELQSEERKRIDELIESGKEEGMKIDLIDGKGRGVIATKQFSRGDFVVEYHGDLIEITDAKKREALYAQDPSTGCYMYYFQYLSKTYCVDATRETNRLGRLINHSKCGNCQTKLHDIDGVPHLILIASRDIAAGEELLYDYGDRSKASIEAHPWLKH', 'RHRKVLRDNY', '', '']\n",
      "SET8_PH.pdb\n",
      "['SRKSKAELQSEERKRIDELIESGKEEGMKIDLIDGKGRGVIATKQFSRGDFVVEYHGDLIEITDAKKREALYAQDPSTGCYMYYFQYLSKTYCVDATRETNRLGRLINHSKCGNCQTKLHDIDGVPHLILIASRDIAAGEELLYDYGDRSKASIEAHPWLKH', 'RHRKVLRDNY', '']\n",
      "SET8_PH_SAH.pdb\n",
      "['SRKSKAELQSEERKRIDELIESGKEEGMKIDLIDGKGRGVIATKQFSRGDFVVEYHGDLIEITDAKKREALYAQDPSTGCYMYYFQYLSKTYCVDATRETNRLGRLINHSKCGNCQTKLHDIDGVPHLILIASRDIAAGEELLYDYGDRSKASIEAHPWLKH', 'RHRKVLRDNY', 'C', '']\n",
      "SET8_PH_SAM.pdb\n",
      "['SRKSKAELQSEERKRIDELIESGKEEGMKIDLIDGKGRGVIATKQFSRGDFVVEYHGDLIEITDAKKREALYAQDPSTGCYMYYFQYLSKTYCVDATRETNRLGRLINHSKCGNCQTKLHDIDGVPHLILIASRDIAAGEELLYDYGDRSKASIEAHPWLKH', 'RHRKVLRDNY', '', '']\n",
      "SET8_SAH.pdb\n",
      "['SRKSKAELQSEERKRIDELIESGKEEGMKIDLIDGKGRGVIATKQFSRGDFVVEYHGDLIEITDAKKREALYAQDPSTGCYMYYFQYLSKTYCVDATRETNRLGRLINHSKCGNCQTKLHDIDGVPHLILIASRDIAAGEELLYDYGDRSKASIEAHPWLKH', 'C', '']\n",
      "SET8_SAM.pdb\n",
      "['SRKSKAELQSEERKRIDELIESGKEEGMKIDLIDGKGRGVIATKQFSRGDFVVEYHGDLIEITDAKKREALYAQDPSTGCYMYYFQYLSKTYCVDATRETNRLGRLINHSKCGNCQTKLHDIDGVPHLILIASRDIAAGEELLYDYGDRSKASIEAHPWLKH', '', '']\n"
     ]
    }
   ],
   "source": [
    "for system in systems:\n",
    "    print(system)\n",
    "    sys = md.load(system)\n",
    "    print(sys.top.to_fasta())"
   ]
  },
  {
   "cell_type": "code",
   "execution_count": 12,
   "metadata": {
    "collapsed": true
   },
   "outputs": [],
   "source": [
    "# now do a protein blast to confirm between the 3 different groups - if all good - go further"
   ]
  },
  {
   "cell_type": "code",
   "execution_count": null,
   "metadata": {
    "collapsed": true
   },
   "outputs": [],
   "source": [
    "# all good!"
   ]
  },
  {
   "cell_type": "code",
   "execution_count": 13,
   "metadata": {
    "collapsed": true
   },
   "outputs": [],
   "source": [
    "# now check total numbers of particles"
   ]
  },
  {
   "cell_type": "code",
   "execution_count": 14,
   "metadata": {
    "collapsed": true
   },
   "outputs": [],
   "source": [
    "test = md.load(systems[0])"
   ]
  },
  {
   "cell_type": "code",
   "execution_count": 19,
   "metadata": {
    "collapsed": false
   },
   "outputs": [
    {
     "data": {
      "text/plain": [
       "31342"
      ]
     },
     "execution_count": 19,
     "metadata": {},
     "output_type": "execute_result"
    }
   ],
   "source": [
    "test.n_atoms"
   ]
  },
  {
   "cell_type": "code",
   "execution_count": 20,
   "metadata": {
    "collapsed": false
   },
   "outputs": [
    {
     "name": "stdout",
     "output_type": "stream",
     "text": [
      "1ZKK_apo_SET8.pdb\n",
      "31342\n",
      "1ZKK_apo_SET8_MeP.pdb\n",
      "31369\n",
      "1ZKK_apo_SET8_MeP_SAH.pdb\n",
      "30932\n",
      "1ZKK_apo_SET8_MeP_SAM.pdb\n",
      "31333\n",
      "1ZKK_apo_SET8_P.pdb\n",
      "30755\n",
      "1ZKK_apo_SET8_P_SAH.pdb\n",
      "31365\n",
      "1ZKK_apo_SET8_P_SAM.pdb\n",
      "31340\n",
      "1ZKK_apo_SET8_PH.pdb\n",
      "30952\n",
      "1ZKK_apo_SET8_PH_SAH.pdb\n",
      "31328\n",
      "1ZKK_apo_SET8_PH_SAM.pdb\n",
      "31315\n",
      "1ZKK_apo_SET8_SAH.pdb\n",
      "31277\n",
      "1ZKK_apo_SET8_SAM.pdb\n",
      "30764\n",
      "4IJ8_SET8.pdb\n",
      "34556\n",
      "4IJ8_SET8_SAH.pdb\n",
      "34730\n",
      "4IJ8_SET8_SAM.pdb\n",
      "34556\n",
      "SET8.pdb\n",
      "35134\n",
      "SET8_MeP.pdb\n",
      "35515\n",
      "SET8_MeP_SAH.pdb\n",
      "35699\n",
      "SET8_MeP_SAM.pdb\n",
      "35104\n",
      "SET8_P.pdb\n",
      "35288\n",
      "SET8_P_SAH.pdb\n",
      "35265\n",
      "SET8_P_SAM.pdb\n",
      "35765\n",
      "SET8_PH.pdb\n",
      "35125\n",
      "SET8_PH_SAH.pdb\n",
      "35153\n",
      "SET8_PH_SAM.pdb\n",
      "35620\n",
      "SET8_SAH.pdb\n",
      "35174\n",
      "SET8_SAM.pdb\n",
      "35588\n"
     ]
    }
   ],
   "source": [
    "for system in systems:\n",
    "    print(system)\n",
    "    sys = md.load(system)\n",
    "    print(sys.n_atoms)"
   ]
  },
  {
   "cell_type": "code",
   "execution_count": 21,
   "metadata": {
    "collapsed": true
   },
   "outputs": [],
   "source": [
    "# so all good here - but the 1ZKK_apo has a few k less, that's ~ 10% less particles compared to 2BQZ - will this be a problem "
   ]
  },
  {
   "cell_type": "code",
   "execution_count": 22,
   "metadata": {
    "collapsed": true
   },
   "outputs": [],
   "source": [
    "# with points?"
   ]
  },
  {
   "cell_type": "code",
   "execution_count": 23,
   "metadata": {
    "collapsed": true
   },
   "outputs": [],
   "source": [
    "# now check if protonation is any different between different ligand states - coz we didn't enforce same protonation"
   ]
  },
  {
   "cell_type": "code",
   "execution_count": 24,
   "metadata": {
    "collapsed": true
   },
   "outputs": [],
   "source": [
    "test = md.load(systems[0])"
   ]
  },
  {
   "cell_type": "code",
   "execution_count": 37,
   "metadata": {
    "collapsed": false
   },
   "outputs": [
    {
     "data": {
      "text/plain": [
       "[<mdtraj.core.topology.Chain at 0x114ad6a10>,\n",
       " <mdtraj.core.topology.Chain at 0x114ad6a50>]"
      ]
     },
     "execution_count": 37,
     "metadata": {},
     "output_type": "execute_result"
    }
   ],
   "source": [
    "list(test.top.chains)"
   ]
  },
  {
   "cell_type": "code",
   "execution_count": 39,
   "metadata": {
    "collapsed": false
   },
   "outputs": [
    {
     "ename": "TypeError",
     "evalue": "object of type 'listiterator' has no len()",
     "output_type": "error",
     "traceback": [
      "\u001b[0;31m---------------------------------------------------------------------------\u001b[0m",
      "\u001b[0;31mTypeError\u001b[0m                                 Traceback (most recent call last)",
      "\u001b[0;32m<ipython-input-39-059668345965>\u001b[0m in \u001b[0;36m<module>\u001b[0;34m()\u001b[0m\n\u001b[0;32m----> 1\u001b[0;31m \u001b[0mlen\u001b[0m\u001b[0;34m(\u001b[0m\u001b[0mtest\u001b[0m\u001b[0;34m.\u001b[0m\u001b[0mtop\u001b[0m\u001b[0;34m.\u001b[0m\u001b[0mchains\u001b[0m\u001b[0;34m)\u001b[0m\u001b[0;34m\u001b[0m\u001b[0m\n\u001b[0m",
      "\u001b[0;31mTypeError\u001b[0m: object of type 'listiterator' has no len()"
     ]
    }
   ],
   "source": [
    "len(test.top.chains)"
   ]
  },
  {
   "cell_type": "code",
   "execution_count": 29,
   "metadata": {
    "collapsed": false
   },
   "outputs": [
    {
     "data": {
      "text/plain": [
       "2576"
      ]
     },
     "execution_count": 29,
     "metadata": {},
     "output_type": "execute_result"
    }
   ],
   "source": [
    "test.top.chain(0).n_atoms"
   ]
  },
  {
   "cell_type": "code",
   "execution_count": 30,
   "metadata": {
    "collapsed": false
   },
   "outputs": [
    {
     "name": "stdout",
     "output_type": "stream",
     "text": [
      "1ZKK_apo_SET8.pdb\n",
      "2576\n",
      "1ZKK_apo_SET8_MeP.pdb\n",
      "2576\n",
      "1ZKK_apo_SET8_MeP_SAH.pdb\n",
      "2576\n",
      "1ZKK_apo_SET8_MeP_SAM.pdb\n",
      "2576\n",
      "1ZKK_apo_SET8_P.pdb\n",
      "2576\n",
      "1ZKK_apo_SET8_P_SAH.pdb\n",
      "2576\n",
      "1ZKK_apo_SET8_P_SAM.pdb\n",
      "2576\n",
      "1ZKK_apo_SET8_PH.pdb\n",
      "2576\n",
      "1ZKK_apo_SET8_PH_SAH.pdb\n",
      "2576\n",
      "1ZKK_apo_SET8_PH_SAM.pdb\n",
      "2576\n",
      "1ZKK_apo_SET8_SAH.pdb\n",
      "2576\n",
      "1ZKK_apo_SET8_SAM.pdb\n",
      "2576\n",
      "4IJ8_SET8.pdb\n",
      "2576\n",
      "4IJ8_SET8_SAH.pdb\n",
      "2576\n",
      "4IJ8_SET8_SAM.pdb\n",
      "2576\n",
      "SET8.pdb\n",
      "2576\n",
      "SET8_MeP.pdb\n",
      "2576\n",
      "SET8_MeP_SAH.pdb\n",
      "2576\n",
      "SET8_MeP_SAM.pdb\n",
      "2576\n",
      "SET8_P.pdb\n",
      "2576\n",
      "SET8_P_SAH.pdb\n",
      "2576\n",
      "SET8_P_SAM.pdb\n",
      "2576\n",
      "SET8_PH.pdb\n",
      "2576\n",
      "SET8_PH_SAH.pdb\n",
      "2576\n",
      "SET8_PH_SAM.pdb\n",
      "2576\n",
      "SET8_SAH.pdb\n",
      "2576\n",
      "SET8_SAM.pdb\n",
      "2576\n"
     ]
    }
   ],
   "source": [
    "for system in systems:\n",
    "    print(system)\n",
    "    sys = md.load(system)\n",
    "    print(sys.top.chain(0).n_atoms)"
   ]
  },
  {
   "cell_type": "code",
   "execution_count": 31,
   "metadata": {
    "collapsed": true
   },
   "outputs": [],
   "source": [
    "# all the same - so we're going to assume that means same protonation states - not necessarily - but we're mostly happy"
   ]
  },
  {
   "cell_type": "code",
   "execution_count": 32,
   "metadata": {
    "collapsed": true
   },
   "outputs": [],
   "source": [
    "# to have the same numbers of atoms"
   ]
  },
  {
   "cell_type": "code",
   "execution_count": 38,
   "metadata": {
    "collapsed": true
   },
   "outputs": [],
   "source": [
    "# now look at all chains - remember one more chain for water"
   ]
  },
  {
   "cell_type": "code",
   "execution_count": 40,
   "metadata": {
    "collapsed": false
   },
   "outputs": [
    {
     "name": "stdout",
     "output_type": "stream",
     "text": [
      "1ZKK_apo_SET8.pdb\n",
      "2576\n",
      "1ZKK_apo_SET8_MeP.pdb\n",
      "2576\n",
      "199\n",
      "1ZKK_apo_SET8_MeP_SAH.pdb\n",
      "2576\n",
      "199\n",
      "46\n",
      "1ZKK_apo_SET8_MeP_SAM.pdb\n",
      "2576\n",
      "199\n",
      "50\n",
      "1ZKK_apo_SET8_P.pdb\n",
      "2576\n",
      "195\n",
      "1ZKK_apo_SET8_P_SAH.pdb\n",
      "2576\n",
      "195\n",
      "46\n",
      "1ZKK_apo_SET8_P_SAM.pdb\n",
      "2576\n",
      "195\n",
      "50\n",
      "1ZKK_apo_SET8_PH.pdb\n",
      "2576\n",
      "196\n",
      "1ZKK_apo_SET8_PH_SAH.pdb\n",
      "2576\n",
      "196\n",
      "46\n",
      "1ZKK_apo_SET8_PH_SAM.pdb\n",
      "2576\n",
      "196\n",
      "50\n",
      "1ZKK_apo_SET8_SAH.pdb\n",
      "2576\n",
      "46\n",
      "1ZKK_apo_SET8_SAM.pdb\n",
      "2576\n",
      "50\n",
      "4IJ8_SET8.pdb\n",
      "2576\n",
      "50\n",
      "4IJ8_SET8_SAH.pdb\n",
      "2576\n",
      "46\n",
      "4IJ8_SET8_SAM.pdb\n",
      "2576\n",
      "50\n",
      "SET8.pdb\n",
      "2576\n",
      "SET8_MeP.pdb\n",
      "2576\n",
      "199\n",
      "SET8_MeP_SAH.pdb\n",
      "2576\n",
      "199\n",
      "46\n",
      "SET8_MeP_SAM.pdb\n",
      "2576\n",
      "199\n",
      "50\n",
      "SET8_P.pdb\n",
      "2576\n",
      "195\n",
      "SET8_P_SAH.pdb\n",
      "2576\n",
      "195\n",
      "46\n",
      "SET8_P_SAM.pdb\n",
      "2576\n",
      "195\n",
      "50\n",
      "SET8_PH.pdb\n",
      "2576\n",
      "196\n",
      "SET8_PH_SAH.pdb\n",
      "2576\n",
      "196\n",
      "46\n",
      "SET8_PH_SAM.pdb\n",
      "2576\n",
      "196\n",
      "50\n",
      "SET8_SAH.pdb\n",
      "2576\n",
      "46\n",
      "SET8_SAM.pdb\n",
      "2576\n",
      "50\n"
     ]
    }
   ],
   "source": [
    "for system in systems:\n",
    "    print(system)\n",
    "    sys = md.load(system)\n",
    "    print(sys.top.chain(0).n_atoms)\n",
    "    if len(list(sys.top.chains)) == 3:\n",
    "        print(sys.top.chain(1).n_atoms)\n",
    "    elif len(list(sys.top.chains)) == 4:\n",
    "        print(sys.top.chain(1).n_atoms)\n",
    "        print(sys.top.chain(2).n_atoms)"
   ]
  },
  {
   "cell_type": "code",
   "execution_count": null,
   "metadata": {
    "collapsed": true
   },
   "outputs": [],
   "source": [
    "# all good except that 4IJ8_SET8 seems to have SAM in it!!!!!!! Debug and fix by re-running code and then re-placing all \n",
    "# files but the corrected 4IJ8_SET8 ones with the versions as we are testing here"
   ]
  }
 ],
 "metadata": {
  "kernelspec": {
   "display_name": "Python 2",
   "language": "python",
   "name": "python2"
  },
  "language_info": {
   "codemirror_mode": {
    "name": "ipython",
    "version": 2
   },
   "file_extension": ".py",
   "mimetype": "text/x-python",
   "name": "python",
   "nbconvert_exporter": "python",
   "pygments_lexer": "ipython2",
   "version": "2.7.11"
  }
 },
 "nbformat": 4,
 "nbformat_minor": 0
}
