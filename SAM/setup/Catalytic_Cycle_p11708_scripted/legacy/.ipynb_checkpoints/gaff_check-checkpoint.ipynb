{
 "cells": [
  {
   "cell_type": "code",
   "execution_count": 1,
   "metadata": {
    "collapsed": false
   },
   "outputs": [
    {
     "name": "stdout",
     "output_type": "stream",
     "text": [
      "MeP_noCONECT.pdb                    debug2.ipynb                        gaff_check.ipynb\r\n",
      "SAH_ideal.pdb                       \u001b[34mequil_test_SET8_10ns_to_see_cflank\u001b[m\u001b[m/ generate_structures.py\r\n",
      "SAM_ideal.pdb                       equilibrate_package.py              master.sh\r\n",
      "after_reduce.py                     \u001b[34mfirst_protocol\u001b[m\u001b[m/                     mol2 convert debug.ipynb\r\n",
      "debug.ipynb                         \u001b[34mgaff_check\u001b[m\u001b[m/                         processAmberParameters.py\r\n"
     ]
    }
   ],
   "source": [
    "ls"
   ]
  },
  {
   "cell_type": "code",
   "execution_count": 2,
   "metadata": {
    "collapsed": true
   },
   "outputs": [],
   "source": [
    "import parmed"
   ]
  },
  {
   "cell_type": "code",
   "execution_count": 3,
   "metadata": {
    "collapsed": false
   },
   "outputs": [
    {
     "name": "stdout",
     "output_type": "stream",
     "text": [
      "/Users/rafalpwiewiora/repos/pimento/SETD8/Catalytic_Cycle_p11708_scripted/legacy/gaff_check\n"
     ]
    }
   ],
   "source": [
    "cd gaff_check/"
   ]
  },
  {
   "cell_type": "code",
   "execution_count": 4,
   "metadata": {
    "collapsed": false
   },
   "outputs": [
    {
     "name": "stdout",
     "output_type": "stream",
     "text": [
      "sah.crd  sah.top  sam.crd  sam.top\r\n"
     ]
    }
   ],
   "source": [
    "ls"
   ]
  },
  {
   "cell_type": "code",
   "execution_count": null,
   "metadata": {
    "collapsed": true
   },
   "outputs": [],
   "source": [
    "# remember to use gaff from AmberTools16!!! (rather than AmberTools15, or Ambermini as of October 2016 - bonds and angles were a bit different)"
   ]
  },
  {
   "cell_type": "code",
   "execution_count": 5,
   "metadata": {
    "collapsed": true
   },
   "outputs": [],
   "source": [
    "parm_amber_sam = parmed.load_file('sam.top', 'sam.crd')"
   ]
  },
  {
   "cell_type": "code",
   "execution_count": 6,
   "metadata": {
    "collapsed": true
   },
   "outputs": [],
   "source": [
    "parm_amber_sah = parmed.load_file('sah.top', 'sah.crd')"
   ]
  },
  {
   "cell_type": "code",
   "execution_count": 7,
   "metadata": {
    "collapsed": true
   },
   "outputs": [],
   "source": [
    "system_amber_sah = parm_amber_sah.createSystem(splitDihedrals=True)"
   ]
  },
  {
   "cell_type": "code",
   "execution_count": 8,
   "metadata": {
    "collapsed": true
   },
   "outputs": [],
   "source": [
    "system_amber_sam = parm_amber_sam.createSystem(splitDihedrals=True)"
   ]
  },
  {
   "cell_type": "code",
   "execution_count": 9,
   "metadata": {
    "collapsed": true
   },
   "outputs": [],
   "source": [
    "from simtk import unit as u"
   ]
  },
  {
   "cell_type": "code",
   "execution_count": 10,
   "metadata": {
    "collapsed": true
   },
   "outputs": [],
   "source": [
    "units = u.kilojoules_per_mole"
   ]
  },
  {
   "cell_type": "code",
   "execution_count": 11,
   "metadata": {
    "collapsed": true
   },
   "outputs": [],
   "source": [
    "amber_energies_sam = parmed.openmm.energy_decomposition_system(parm_amber_sam,\n",
    "                     system_amber_sam, nrg=units)"
   ]
  },
  {
   "cell_type": "code",
   "execution_count": 12,
   "metadata": {
    "collapsed": true
   },
   "outputs": [],
   "source": [
    "amber_energies_sah = parmed.openmm.energy_decomposition_system(parm_amber_sah,\n",
    "                     system_amber_sah, nrg=units)"
   ]
  },
  {
   "cell_type": "code",
   "execution_count": 13,
   "metadata": {
    "collapsed": false
   },
   "outputs": [
    {
     "data": {
      "text/plain": [
       "[('HarmonicBondForce', 204.88007008663283),\n",
       " ('HarmonicAngleForce', 1737.6884756788022),\n",
       " ('PeriodicTorsionForce', 114.35207764699044),\n",
       " ('PeriodicTorsionForce', 0.19548165425658226),\n",
       " ('NonbondedForce', -192.67334839701653),\n",
       " ('CMMotionRemover', 0.0)]"
      ]
     },
     "execution_count": 13,
     "metadata": {},
     "output_type": "execute_result"
    }
   ],
   "source": [
    "amber_energies_sam"
   ]
  },
  {
   "cell_type": "code",
   "execution_count": 14,
   "metadata": {
    "collapsed": false
   },
   "outputs": [
    {
     "data": {
      "text/plain": [
       "[('HarmonicBondForce', 177.24226700893507),\n",
       " ('HarmonicAngleForce', 2568.294160736161),\n",
       " ('PeriodicTorsionForce', 111.17824561405905),\n",
       " ('PeriodicTorsionForce', 0.13131744466227246),\n",
       " ('NonbondedForce', -295.3634730875492),\n",
       " ('CMMotionRemover', 0.0)]"
      ]
     },
     "execution_count": 14,
     "metadata": {},
     "output_type": "execute_result"
    }
   ],
   "source": [
    "amber_energies_sah"
   ]
  },
  {
   "cell_type": "code",
   "execution_count": 15,
   "metadata": {
    "collapsed": true
   },
   "outputs": [],
   "source": [
    "from simtk.openmm.app import ForceField"
   ]
  },
  {
   "cell_type": "code",
   "execution_count": 16,
   "metadata": {
    "collapsed": true
   },
   "outputs": [],
   "source": [
    "ff_sam = ForceField('../../parameters/SAM.xml', '../../parameters/gaff.xml')"
   ]
  },
  {
   "cell_type": "code",
   "execution_count": 17,
   "metadata": {
    "collapsed": true
   },
   "outputs": [],
   "source": [
    "ff_sah = ForceField('../../parameters/SAH.xml', '../../parameters/gaff.xml')"
   ]
  },
  {
   "cell_type": "code",
   "execution_count": 18,
   "metadata": {
    "collapsed": true
   },
   "outputs": [],
   "source": [
    "system_omm_sam = ff_sam.createSystem(parm_amber_sam.topology)"
   ]
  },
  {
   "cell_type": "code",
   "execution_count": 19,
   "metadata": {
    "collapsed": true
   },
   "outputs": [],
   "source": [
    "system_omm_sah = ff_sah.createSystem(parm_amber_sah.topology)"
   ]
  },
  {
   "cell_type": "code",
   "execution_count": 20,
   "metadata": {
    "collapsed": true
   },
   "outputs": [],
   "source": [
    "parm_omm_sam = parmed.openmm.load_topology(parm_amber_sam.topology, system_omm_sam,\n",
    "                                           xyz=parm_amber_sam.positions)\n",
    "system_omm_sam = parm_omm_sam.createSystem(splitDihedrals=True)\n",
    "omm_energies_sam = parmed.openmm.energy_decomposition_system(parm_omm_sam,\n",
    "                   system_omm_sam, nrg=units)"
   ]
  },
  {
   "cell_type": "code",
   "execution_count": 21,
   "metadata": {
    "collapsed": true
   },
   "outputs": [],
   "source": [
    "parm_omm_sah = parmed.openmm.load_topology(parm_amber_sah.topology, system_omm_sah,\n",
    "                                           xyz=parm_amber_sah.positions)\n",
    "system_omm_sah = parm_omm_sah.createSystem(splitDihedrals=True)\n",
    "omm_energies_sah = parmed.openmm.energy_decomposition_system(parm_omm_sah,\n",
    "                   system_omm_sah, nrg=units)"
   ]
  },
  {
   "cell_type": "code",
   "execution_count": 22,
   "metadata": {
    "collapsed": false
   },
   "outputs": [
    {
     "data": {
      "text/plain": [
       "[('HarmonicBondForce', 204.88007008663283),\n",
       " ('HarmonicAngleForce', 1737.6882803527242),\n",
       " ('PeriodicTorsionForce', 114.35206979773284),\n",
       " ('PeriodicTorsionForce', 0.19548219814896584),\n",
       " ('NonbondedForce', -192.67338272929192),\n",
       " ('CMMotionRemover', 0.0)]"
      ]
     },
     "execution_count": 22,
     "metadata": {},
     "output_type": "execute_result"
    }
   ],
   "source": [
    "omm_energies_sam"
   ]
  },
  {
   "cell_type": "code",
   "execution_count": 23,
   "metadata": {
    "collapsed": false
   },
   "outputs": [
    {
     "data": {
      "text/plain": [
       "[('HarmonicBondForce', 177.24226700893507),\n",
       " ('HarmonicAngleForce', 2568.293281195347),\n",
       " ('PeriodicTorsionForce', 111.17823734927151),\n",
       " ('PeriodicTorsionForce', 0.1313190945493261),\n",
       " ('NonbondedForce', -295.36347499489784),\n",
       " ('CMMotionRemover', 0.0)]"
      ]
     },
     "execution_count": 23,
     "metadata": {},
     "output_type": "execute_result"
    }
   ],
   "source": [
    "omm_energies_sah"
   ]
  },
  {
   "cell_type": "code",
   "execution_count": 24,
   "metadata": {
    "collapsed": true
   },
   "outputs": [],
   "source": [
    "# now see what happens if i load in both SAM and SAH to ForceField at same time"
   ]
  },
  {
   "cell_type": "code",
   "execution_count": 27,
   "metadata": {
    "collapsed": false
   },
   "outputs": [],
   "source": [
    "ff = ForceField('../../parameters/SAM.xml', '../../parameters/SAH.xml', '../../parameters/gaff.xml')"
   ]
  },
  {
   "cell_type": "code",
   "execution_count": 28,
   "metadata": {
    "collapsed": true
   },
   "outputs": [],
   "source": [
    "system_omm_sam = ff.createSystem(parm_amber_sam.topology)"
   ]
  },
  {
   "cell_type": "code",
   "execution_count": 29,
   "metadata": {
    "collapsed": true
   },
   "outputs": [],
   "source": [
    "system_omm_sah = ff.createSystem(parm_amber_sah.topology)"
   ]
  },
  {
   "cell_type": "code",
   "execution_count": 30,
   "metadata": {
    "collapsed": true
   },
   "outputs": [],
   "source": [
    "parm_omm_sam = parmed.openmm.load_topology(parm_amber_sam.topology, system_omm_sam,\n",
    "                                           xyz=parm_amber_sam.positions)\n",
    "system_omm_sam = parm_omm_sam.createSystem(splitDihedrals=True)\n",
    "omm_energies_sam = parmed.openmm.energy_decomposition_system(parm_omm_sam,\n",
    "                   system_omm_sam, nrg=units)"
   ]
  },
  {
   "cell_type": "code",
   "execution_count": 31,
   "metadata": {
    "collapsed": true
   },
   "outputs": [],
   "source": [
    "parm_omm_sah = parmed.openmm.load_topology(parm_amber_sah.topology, system_omm_sah,\n",
    "                                           xyz=parm_amber_sah.positions)\n",
    "system_omm_sah = parm_omm_sah.createSystem(splitDihedrals=True)\n",
    "omm_energies_sah = parmed.openmm.energy_decomposition_system(parm_omm_sah,\n",
    "                   system_omm_sah, nrg=units)"
   ]
  },
  {
   "cell_type": "code",
   "execution_count": 32,
   "metadata": {
    "collapsed": false
   },
   "outputs": [
    {
     "data": {
      "text/plain": [
       "[('HarmonicBondForce', 204.88007008663283),\n",
       " ('HarmonicAngleForce', 1737.6882803527242),\n",
       " ('PeriodicTorsionForce', 114.35206979773284),\n",
       " ('PeriodicTorsionForce', 0.19548219814896584),\n",
       " ('NonbondedForce', -192.67338272929192),\n",
       " ('CMMotionRemover', 0.0)]"
      ]
     },
     "execution_count": 32,
     "metadata": {},
     "output_type": "execute_result"
    }
   ],
   "source": [
    "omm_energies_sam"
   ]
  },
  {
   "cell_type": "code",
   "execution_count": 33,
   "metadata": {
    "collapsed": false
   },
   "outputs": [
    {
     "data": {
      "text/plain": [
       "[('HarmonicBondForce', 177.24226700893507),\n",
       " ('HarmonicAngleForce', 2568.293281195347),\n",
       " ('PeriodicTorsionForce', 111.17823734927151),\n",
       " ('PeriodicTorsionForce', 0.1313190945493261),\n",
       " ('NonbondedForce', -295.36347499489784),\n",
       " ('CMMotionRemover', 0.0)]"
      ]
     },
     "execution_count": 33,
     "metadata": {},
     "output_type": "execute_result"
    }
   ],
   "source": [
    "omm_energies_sah"
   ]
  },
  {
   "cell_type": "code",
   "execution_count": null,
   "metadata": {
    "collapsed": true
   },
   "outputs": [],
   "source": [
    "# looks all good!"
   ]
  }
 ],
 "metadata": {
  "kernelspec": {
   "display_name": "Python 2",
   "language": "python",
   "name": "python2"
  },
  "language_info": {
   "codemirror_mode": {
    "name": "ipython",
    "version": 2
   },
   "file_extension": ".py",
   "mimetype": "text/x-python",
   "name": "python",
   "nbconvert_exporter": "python",
   "pygments_lexer": "ipython2",
   "version": "2.7.11"
  }
 },
 "nbformat": 4,
 "nbformat_minor": 0
}
