{
 "cells": [
  {
   "cell_type": "code",
   "execution_count": 1,
   "metadata": {
    "collapsed": false
   },
   "outputs": [
    {
     "name": "stdout",
     "output_type": "stream",
     "text": [
      "/Users/rafalpwiewiora/repos/pimento/SETD8/Catalytic_Cycle_p11708_scripted\n"
     ]
    }
   ],
   "source": [
    "cd .."
   ]
  },
  {
   "cell_type": "code",
   "execution_count": 2,
   "metadata": {
    "collapsed": false
   },
   "outputs": [
    {
     "name": "stdout",
     "output_type": "stream",
     "text": [
      "/Users/rafalpwiewiora/repos/pimento/SETD8/Catalytic_Cycle_p11708_scripted/with_solvent\n"
     ]
    }
   ],
   "source": [
    "cd with_solvent"
   ]
  },
  {
   "cell_type": "code",
   "execution_count": 3,
   "metadata": {
    "collapsed": true
   },
   "outputs": [],
   "source": [
    "import glob"
   ]
  },
  {
   "cell_type": "code",
   "execution_count": 4,
   "metadata": {
    "collapsed": true
   },
   "outputs": [],
   "source": [
    "systems = glob.glob('*.pdb')"
   ]
  },
  {
   "cell_type": "code",
   "execution_count": 5,
   "metadata": {
    "collapsed": true
   },
   "outputs": [],
   "source": [
    "import mdtraj as md"
   ]
  },
  {
   "cell_type": "code",
   "execution_count": 6,
   "metadata": {
    "collapsed": false
   },
   "outputs": [
    {
     "name": "stdout",
     "output_type": "stream",
     "text": [
      "1ZKK_apo_SET8.pdb\n",
      "['SRKSKAELQSEERKRIDELIESGKEEGMKIDLIDGKGRGVIATKQFSRGDFVVEYHGDLIEITDAKKREALYAQDPSTGCYMYYFQYLSKTYCVDATRETNRLGRLINHSKCGNCQTKLHDIDGVPHLILIASRDIAAGEELLYDYGDRSKASIEAHPWLKH', '']\n",
      "1ZKK_apo_SET8_MeP.pdb\n",
      "['SRKSKAELQSEERKRIDELIESGKEEGMKIDLIDGKGRGVIATKQFSRGDFVVEYHGDLIEITDAKKREALYAQDPSTGCYMYYFQYLSKTYCVDATRETNRLGRLINHSKCGNCQTKLHDIDGVPHLILIASRDIAAGEELLYDYGDRSKASIEAHPWLKH', 'RHRKVLRDNY', '']\n",
      "1ZKK_apo_SET8_MeP_SAH.pdb\n",
      "['SRKSKAELQSEERKRIDELIESGKEEGMKIDLIDGKGRGVIATKQFSRGDFVVEYHGDLIEITDAKKREALYAQDPSTGCYMYYFQYLSKTYCVDATRETNRLGRLINHSKCGNCQTKLHDIDGVPHLILIASRDIAAGEELLYDYGDRSKASIEAHPWLKH', 'RHRKVLRDNY', 'C', '']\n",
      "1ZKK_apo_SET8_MeP_SAM.pdb\n",
      "['SRKSKAELQSEERKRIDELIESGKEEGMKIDLIDGKGRGVIATKQFSRGDFVVEYHGDLIEITDAKKREALYAQDPSTGCYMYYFQYLSKTYCVDATRETNRLGRLINHSKCGNCQTKLHDIDGVPHLILIASRDIAAGEELLYDYGDRSKASIEAHPWLKH', 'RHRKVLRDNY', '', '']\n",
      "1ZKK_apo_SET8_P.pdb\n",
      "['SRKSKAELQSEERKRIDELIESGKEEGMKIDLIDGKGRGVIATKQFSRGDFVVEYHGDLIEITDAKKREALYAQDPSTGCYMYYFQYLSKTYCVDATRETNRLGRLINHSKCGNCQTKLHDIDGVPHLILIASRDIAAGEELLYDYGDRSKASIEAHPWLKH', 'RHRKVLRDNY', '']\n",
      "1ZKK_apo_SET8_P_SAH.pdb\n",
      "['SRKSKAELQSEERKRIDELIESGKEEGMKIDLIDGKGRGVIATKQFSRGDFVVEYHGDLIEITDAKKREALYAQDPSTGCYMYYFQYLSKTYCVDATRETNRLGRLINHSKCGNCQTKLHDIDGVPHLILIASRDIAAGEELLYDYGDRSKASIEAHPWLKH', 'RHRKVLRDNY', 'C', '']\n",
      "1ZKK_apo_SET8_P_SAM.pdb\n",
      "['SRKSKAELQSEERKRIDELIESGKEEGMKIDLIDGKGRGVIATKQFSRGDFVVEYHGDLIEITDAKKREALYAQDPSTGCYMYYFQYLSKTYCVDATRETNRLGRLINHSKCGNCQTKLHDIDGVPHLILIASRDIAAGEELLYDYGDRSKASIEAHPWLKH', 'RHRKVLRDNY', '', '']\n",
      "1ZKK_apo_SET8_PH.pdb\n",
      "['SRKSKAELQSEERKRIDELIESGKEEGMKIDLIDGKGRGVIATKQFSRGDFVVEYHGDLIEITDAKKREALYAQDPSTGCYMYYFQYLSKTYCVDATRETNRLGRLINHSKCGNCQTKLHDIDGVPHLILIASRDIAAGEELLYDYGDRSKASIEAHPWLKH', 'RHRKVLRDNY', '']\n",
      "1ZKK_apo_SET8_PH_SAH.pdb\n",
      "['SRKSKAELQSEERKRIDELIESGKEEGMKIDLIDGKGRGVIATKQFSRGDFVVEYHGDLIEITDAKKREALYAQDPSTGCYMYYFQYLSKTYCVDATRETNRLGRLINHSKCGNCQTKLHDIDGVPHLILIASRDIAAGEELLYDYGDRSKASIEAHPWLKH', 'RHRKVLRDNY', 'C', '']\n",
      "1ZKK_apo_SET8_PH_SAM.pdb\n",
      "['SRKSKAELQSEERKRIDELIESGKEEGMKIDLIDGKGRGVIATKQFSRGDFVVEYHGDLIEITDAKKREALYAQDPSTGCYMYYFQYLSKTYCVDATRETNRLGRLINHSKCGNCQTKLHDIDGVPHLILIASRDIAAGEELLYDYGDRSKASIEAHPWLKH', 'RHRKVLRDNY', '', '']\n",
      "1ZKK_apo_SET8_SAH.pdb\n",
      "['SRKSKAELQSEERKRIDELIESGKEEGMKIDLIDGKGRGVIATKQFSRGDFVVEYHGDLIEITDAKKREALYAQDPSTGCYMYYFQYLSKTYCVDATRETNRLGRLINHSKCGNCQTKLHDIDGVPHLILIASRDIAAGEELLYDYGDRSKASIEAHPWLKH', 'C', '']\n",
      "1ZKK_apo_SET8_SAM.pdb\n",
      "['SRKSKAELQSEERKRIDELIESGKEEGMKIDLIDGKGRGVIATKQFSRGDFVVEYHGDLIEITDAKKREALYAQDPSTGCYMYYFQYLSKTYCVDATRETNRLGRLINHSKCGNCQTKLHDIDGVPHLILIASRDIAAGEELLYDYGDRSKASIEAHPWLKH', '', '']\n",
      "4IJ8_SET8.pdb\n",
      "['SRKSKAELQSEERKRIDELIESGKEEGMKIDLIDGKGRGVIATKQFSRGDFVVEYHGDLIEITDAKKREALYAQDPSTGCYMYYFQYLSKTYCVDATRETNRLGRLINHSKCGNCQTKLHDIDGVPHLILIASRDIAAGEELLYDYGDRSKASIEAHPWLKH', '']\n",
      "4IJ8_SET8_SAH.pdb\n",
      "['SRKSKAELQSEERKRIDELIESGKEEGMKIDLIDGKGRGVIATKQFSRGDFVVEYHGDLIEITDAKKREALYAQDPSTGCYMYYFQYLSKTYCVDATRETNRLGRLINHSKCGNCQTKLHDIDGVPHLILIASRDIAAGEELLYDYGDRSKASIEAHPWLKH', 'C', '']\n",
      "4IJ8_SET8_SAM.pdb\n",
      "['SRKSKAELQSEERKRIDELIESGKEEGMKIDLIDGKGRGVIATKQFSRGDFVVEYHGDLIEITDAKKREALYAQDPSTGCYMYYFQYLSKTYCVDATRETNRLGRLINHSKCGNCQTKLHDIDGVPHLILIASRDIAAGEELLYDYGDRSKASIEAHPWLKH', '', '']\n",
      "SET8.pdb\n",
      "['SRKSKAELQSEERKRIDELIESGKEEGMKIDLIDGKGRGVIATKQFSRGDFVVEYHGDLIEITDAKKREALYAQDPSTGCYMYYFQYLSKTYCVDATRETNRLGRLINHSKCGNCQTKLHDIDGVPHLILIASRDIAAGEELLYDYGDRSKASIEAHPWLKH', '']\n",
      "SET8_MeP.pdb\n",
      "['SRKSKAELQSEERKRIDELIESGKEEGMKIDLIDGKGRGVIATKQFSRGDFVVEYHGDLIEITDAKKREALYAQDPSTGCYMYYFQYLSKTYCVDATRETNRLGRLINHSKCGNCQTKLHDIDGVPHLILIASRDIAAGEELLYDYGDRSKASIEAHPWLKH', 'RHRKVLRDNY', '']\n",
      "SET8_MeP_SAH.pdb\n",
      "['SRKSKAELQSEERKRIDELIESGKEEGMKIDLIDGKGRGVIATKQFSRGDFVVEYHGDLIEITDAKKREALYAQDPSTGCYMYYFQYLSKTYCVDATRETNRLGRLINHSKCGNCQTKLHDIDGVPHLILIASRDIAAGEELLYDYGDRSKASIEAHPWLKH', 'RHRKVLRDNY', 'C', '']\n",
      "SET8_MeP_SAM.pdb\n",
      "['SRKSKAELQSEERKRIDELIESGKEEGMKIDLIDGKGRGVIATKQFSRGDFVVEYHGDLIEITDAKKREALYAQDPSTGCYMYYFQYLSKTYCVDATRETNRLGRLINHSKCGNCQTKLHDIDGVPHLILIASRDIAAGEELLYDYGDRSKASIEAHPWLKH', 'RHRKVLRDNY', '', '']\n",
      "SET8_P.pdb\n",
      "['SRKSKAELQSEERKRIDELIESGKEEGMKIDLIDGKGRGVIATKQFSRGDFVVEYHGDLIEITDAKKREALYAQDPSTGCYMYYFQYLSKTYCVDATRETNRLGRLINHSKCGNCQTKLHDIDGVPHLILIASRDIAAGEELLYDYGDRSKASIEAHPWLKH', 'RHRKVLRDNY', '']\n",
      "SET8_P_SAH.pdb\n",
      "['SRKSKAELQSEERKRIDELIESGKEEGMKIDLIDGKGRGVIATKQFSRGDFVVEYHGDLIEITDAKKREALYAQDPSTGCYMYYFQYLSKTYCVDATRETNRLGRLINHSKCGNCQTKLHDIDGVPHLILIASRDIAAGEELLYDYGDRSKASIEAHPWLKH', 'RHRKVLRDNY', 'C', '']\n",
      "SET8_P_SAM.pdb\n",
      "['SRKSKAELQSEERKRIDELIESGKEEGMKIDLIDGKGRGVIATKQFSRGDFVVEYHGDLIEITDAKKREALYAQDPSTGCYMYYFQYLSKTYCVDATRETNRLGRLINHSKCGNCQTKLHDIDGVPHLILIASRDIAAGEELLYDYGDRSKASIEAHPWLKH', 'RHRKVLRDNY', '', '']\n",
      "SET8_PH.pdb\n",
      "['SRKSKAELQSEERKRIDELIESGKEEGMKIDLIDGKGRGVIATKQFSRGDFVVEYHGDLIEITDAKKREALYAQDPSTGCYMYYFQYLSKTYCVDATRETNRLGRLINHSKCGNCQTKLHDIDGVPHLILIASRDIAAGEELLYDYGDRSKASIEAHPWLKH', 'RHRKVLRDNY', '']\n",
      "SET8_PH_SAH.pdb\n",
      "['SRKSKAELQSEERKRIDELIESGKEEGMKIDLIDGKGRGVIATKQFSRGDFVVEYHGDLIEITDAKKREALYAQDPSTGCYMYYFQYLSKTYCVDATRETNRLGRLINHSKCGNCQTKLHDIDGVPHLILIASRDIAAGEELLYDYGDRSKASIEAHPWLKH', 'RHRKVLRDNY', 'C', '']\n",
      "SET8_PH_SAM.pdb\n",
      "['SRKSKAELQSEERKRIDELIESGKEEGMKIDLIDGKGRGVIATKQFSRGDFVVEYHGDLIEITDAKKREALYAQDPSTGCYMYYFQYLSKTYCVDATRETNRLGRLINHSKCGNCQTKLHDIDGVPHLILIASRDIAAGEELLYDYGDRSKASIEAHPWLKH', 'RHRKVLRDNY', '', '']\n",
      "SET8_SAH.pdb\n",
      "['SRKSKAELQSEERKRIDELIESGKEEGMKIDLIDGKGRGVIATKQFSRGDFVVEYHGDLIEITDAKKREALYAQDPSTGCYMYYFQYLSKTYCVDATRETNRLGRLINHSKCGNCQTKLHDIDGVPHLILIASRDIAAGEELLYDYGDRSKASIEAHPWLKH', 'C', '']\n",
      "SET8_SAM.pdb\n",
      "['SRKSKAELQSEERKRIDELIESGKEEGMKIDLIDGKGRGVIATKQFSRGDFVVEYHGDLIEITDAKKREALYAQDPSTGCYMYYFQYLSKTYCVDATRETNRLGRLINHSKCGNCQTKLHDIDGVPHLILIASRDIAAGEELLYDYGDRSKASIEAHPWLKH', '', '']\n"
     ]
    }
   ],
   "source": [
    "for system in systems:\n",
    "    print(system)\n",
    "    sys = md.load(system)\n",
    "    print(sys.top.to_fasta())"
   ]
  },
  {
   "cell_type": "code",
   "execution_count": 7,
   "metadata": {
    "collapsed": false
   },
   "outputs": [
    {
     "data": {
      "text/plain": [
       "27"
      ]
     },
     "execution_count": 7,
     "metadata": {},
     "output_type": "execute_result"
    }
   ],
   "source": [
    "len(systems)"
   ]
  },
  {
   "cell_type": "code",
   "execution_count": 8,
   "metadata": {
    "collapsed": false
   },
   "outputs": [
    {
     "name": "stdout",
     "output_type": "stream",
     "text": [
      "1ZKK_apo_SET8.pdb\n",
      "31342\n",
      "1ZKK_apo_SET8_MeP.pdb\n",
      "31369\n",
      "1ZKK_apo_SET8_MeP_SAH.pdb\n",
      "30932\n",
      "1ZKK_apo_SET8_MeP_SAM.pdb\n",
      "31333\n",
      "1ZKK_apo_SET8_P.pdb\n",
      "30755\n",
      "1ZKK_apo_SET8_P_SAH.pdb\n",
      "31365\n",
      "1ZKK_apo_SET8_P_SAM.pdb\n",
      "31340\n",
      "1ZKK_apo_SET8_PH.pdb\n",
      "30952\n",
      "1ZKK_apo_SET8_PH_SAH.pdb\n",
      "31328\n",
      "1ZKK_apo_SET8_PH_SAM.pdb\n",
      "31315\n",
      "1ZKK_apo_SET8_SAH.pdb\n",
      "31277\n",
      "1ZKK_apo_SET8_SAM.pdb\n",
      "30764\n",
      "4IJ8_SET8.pdb\n",
      "33220\n",
      "4IJ8_SET8_SAH.pdb\n",
      "32864\n",
      "4IJ8_SET8_SAM.pdb\n",
      "33320\n",
      "SET8.pdb\n",
      "35134\n",
      "SET8_MeP.pdb\n",
      "35515\n",
      "SET8_MeP_SAH.pdb\n",
      "35699\n",
      "SET8_MeP_SAM.pdb\n",
      "35104\n",
      "SET8_P.pdb\n",
      "36194\n",
      "SET8_P_SAH.pdb\n",
      "35265\n",
      "SET8_P_SAM.pdb\n",
      "35765\n",
      "SET8_PH.pdb\n",
      "35125\n",
      "SET8_PH_SAH.pdb\n",
      "36245\n",
      "SET8_PH_SAM.pdb\n",
      "35620\n",
      "SET8_SAH.pdb\n",
      "35174\n",
      "SET8_SAM.pdb\n",
      "35588\n"
     ]
    }
   ],
   "source": [
    "for system in systems:\n",
    "    print(system)\n",
    "    sys = md.load(system)\n",
    "    print(sys.n_atoms)"
   ]
  },
  {
   "cell_type": "code",
   "execution_count": 9,
   "metadata": {
    "collapsed": false,
    "scrolled": true
   },
   "outputs": [
    {
     "name": "stdout",
     "output_type": "stream",
     "text": [
      "1ZKK_apo_SET8.pdb\n",
      "2576\n",
      "1ZKK_apo_SET8_MeP.pdb\n",
      "2576\n",
      "199\n",
      "1ZKK_apo_SET8_MeP_SAH.pdb\n",
      "2576\n",
      "199\n",
      "46\n",
      "1ZKK_apo_SET8_MeP_SAM.pdb\n",
      "2576\n",
      "199\n",
      "50\n",
      "1ZKK_apo_SET8_P.pdb\n",
      "2576\n",
      "195\n",
      "1ZKK_apo_SET8_P_SAH.pdb\n",
      "2576\n",
      "195\n",
      "46\n",
      "1ZKK_apo_SET8_P_SAM.pdb\n",
      "2576\n",
      "195\n",
      "50\n",
      "1ZKK_apo_SET8_PH.pdb\n",
      "2576\n",
      "196\n",
      "1ZKK_apo_SET8_PH_SAH.pdb\n",
      "2576\n",
      "196\n",
      "46\n",
      "1ZKK_apo_SET8_PH_SAM.pdb\n",
      "2576\n",
      "196\n",
      "50\n",
      "1ZKK_apo_SET8_SAH.pdb\n",
      "2576\n",
      "46\n",
      "1ZKK_apo_SET8_SAM.pdb\n",
      "2576\n",
      "50\n",
      "4IJ8_SET8.pdb\n",
      "2576\n",
      "4IJ8_SET8_SAH.pdb\n",
      "2576\n",
      "46\n",
      "4IJ8_SET8_SAM.pdb\n",
      "2576\n",
      "50\n",
      "SET8.pdb\n",
      "2576\n",
      "SET8_MeP.pdb\n",
      "2576\n",
      "199\n",
      "SET8_MeP_SAH.pdb\n",
      "2576\n",
      "199\n",
      "46\n",
      "SET8_MeP_SAM.pdb\n",
      "2576\n",
      "199\n",
      "50\n",
      "SET8_P.pdb\n",
      "2576\n",
      "195\n",
      "SET8_P_SAH.pdb\n",
      "2576\n",
      "195\n",
      "46\n",
      "SET8_P_SAM.pdb\n",
      "2576\n",
      "195\n",
      "50\n",
      "SET8_PH.pdb\n",
      "2576\n",
      "196\n",
      "SET8_PH_SAH.pdb\n",
      "2576\n",
      "196\n",
      "46\n",
      "SET8_PH_SAM.pdb\n",
      "2576\n",
      "196\n",
      "50\n",
      "SET8_SAH.pdb\n",
      "2576\n",
      "46\n",
      "SET8_SAM.pdb\n",
      "2576\n",
      "50\n"
     ]
    }
   ],
   "source": [
    "for system in systems:\n",
    "    print(system)\n",
    "    sys = md.load(system)\n",
    "    print(sys.top.chain(0).n_atoms)\n",
    "    if len(list(sys.top.chains)) == 3:\n",
    "        print(sys.top.chain(1).n_atoms)\n",
    "    elif len(list(sys.top.chains)) == 4:\n",
    "        print(sys.top.chain(1).n_atoms)\n",
    "        print(sys.top.chain(2).n_atoms)"
   ]
  },
  {
   "cell_type": "code",
   "execution_count": 10,
   "metadata": {
    "collapsed": true
   },
   "outputs": [],
   "source": [
    "# all looking good -but discovered that the 4IJ8_SET8_SAM here is not the same as used for actual FAH system - it was "
   ]
  },
  {
   "cell_type": "code",
   "execution_count": 11,
   "metadata": {
    "collapsed": true
   },
   "outputs": [],
   "source": [
    "# an older version - still have it on hal in copy of the project folder"
   ]
  },
  {
   "cell_type": "code",
   "execution_count": 12,
   "metadata": {
    "collapsed": true
   },
   "outputs": [],
   "source": [
    "# fixing this now\n",
    "# after that we'll re-run stuff"
   ]
  },
  {
   "cell_type": "code",
   "execution_count": 13,
   "metadata": {
    "collapsed": true
   },
   "outputs": [],
   "source": [
    "# here"
   ]
  },
  {
   "cell_type": "code",
   "execution_count": 14,
   "metadata": {
    "collapsed": true
   },
   "outputs": [],
   "source": [
    "# then also confirm with the numbers of particles in the equilibration log - that they're the same"
   ]
  },
  {
   "cell_type": "code",
   "execution_count": 15,
   "metadata": {
    "collapsed": true
   },
   "outputs": [],
   "source": [
    "# then we can use the numbers of atoms here to feed into the FAH setups and Github issues"
   ]
  },
  {
   "cell_type": "code",
   "execution_count": 17,
   "metadata": {
    "collapsed": true
   },
   "outputs": [],
   "source": [
    "systems = glob.glob('*.pdb')"
   ]
  },
  {
   "cell_type": "code",
   "execution_count": 18,
   "metadata": {
    "collapsed": false
   },
   "outputs": [
    {
     "name": "stdout",
     "output_type": "stream",
     "text": [
      "1ZKK_apo_SET8.pdb\n",
      "31342\n",
      "1ZKK_apo_SET8_MeP.pdb\n",
      "31369\n",
      "1ZKK_apo_SET8_MeP_SAH.pdb\n",
      "30932\n",
      "1ZKK_apo_SET8_MeP_SAM.pdb\n",
      "31333\n",
      "1ZKK_apo_SET8_P.pdb\n",
      "30755\n",
      "1ZKK_apo_SET8_P_SAH.pdb\n",
      "31365\n",
      "1ZKK_apo_SET8_P_SAM.pdb\n",
      "31340\n",
      "1ZKK_apo_SET8_PH.pdb\n",
      "30952\n",
      "1ZKK_apo_SET8_PH_SAH.pdb\n",
      "31328\n",
      "1ZKK_apo_SET8_PH_SAM.pdb\n",
      "31315\n",
      "1ZKK_apo_SET8_SAH.pdb\n",
      "31277\n",
      "1ZKK_apo_SET8_SAM.pdb\n",
      "30764\n",
      "4IJ8_SET8.pdb\n",
      "33220\n",
      "4IJ8_SET8_SAH.pdb\n",
      "32864\n",
      "4IJ8_SET8_SAM.pdb\n",
      "34556\n",
      "SET8.pdb\n",
      "35134\n",
      "SET8_MeP.pdb\n",
      "35515\n",
      "SET8_MeP_SAH.pdb\n",
      "35699\n",
      "SET8_MeP_SAM.pdb\n",
      "35104\n",
      "SET8_P.pdb\n",
      "36194\n",
      "SET8_P_SAH.pdb\n",
      "35265\n",
      "SET8_P_SAM.pdb\n",
      "35765\n",
      "SET8_PH.pdb\n",
      "35125\n",
      "SET8_PH_SAH.pdb\n",
      "36245\n",
      "SET8_PH_SAM.pdb\n",
      "35620\n",
      "SET8_SAH.pdb\n",
      "35174\n",
      "SET8_SAM.pdb\n",
      "35588\n"
     ]
    }
   ],
   "source": [
    "for system in systems:\n",
    "    print(system)\n",
    "    sys = md.load(system)\n",
    "    print(sys.n_atoms)"
   ]
  },
  {
   "cell_type": "code",
   "execution_count": 19,
   "metadata": {
    "collapsed": true
   },
   "outputs": [],
   "source": [
    "# all good vs 11708 and 11710"
   ]
  },
  {
   "cell_type": "code",
   "execution_count": 20,
   "metadata": {
    "collapsed": true
   },
   "outputs": [],
   "source": [
    "# now re-check the compositions to be 100% sure"
   ]
  },
  {
   "cell_type": "code",
   "execution_count": 21,
   "metadata": {
    "collapsed": true
   },
   "outputs": [],
   "source": [
    "# then check the atom numbers against the number of particles reported in equilibration logs"
   ]
  },
  {
   "cell_type": "code",
   "execution_count": 22,
   "metadata": {
    "collapsed": false
   },
   "outputs": [
    {
     "name": "stdout",
     "output_type": "stream",
     "text": [
      "1ZKK_apo_SET8.pdb\n",
      "2576\n",
      "1ZKK_apo_SET8_MeP.pdb\n",
      "2576\n",
      "199\n",
      "1ZKK_apo_SET8_MeP_SAH.pdb\n",
      "2576\n",
      "199\n",
      "46\n",
      "1ZKK_apo_SET8_MeP_SAM.pdb\n",
      "2576\n",
      "199\n",
      "50\n",
      "1ZKK_apo_SET8_P.pdb\n",
      "2576\n",
      "195\n",
      "1ZKK_apo_SET8_P_SAH.pdb\n",
      "2576\n",
      "195\n",
      "46\n",
      "1ZKK_apo_SET8_P_SAM.pdb\n",
      "2576\n",
      "195\n",
      "50\n",
      "1ZKK_apo_SET8_PH.pdb\n",
      "2576\n",
      "196\n",
      "1ZKK_apo_SET8_PH_SAH.pdb\n",
      "2576\n",
      "196\n",
      "46\n",
      "1ZKK_apo_SET8_PH_SAM.pdb\n",
      "2576\n",
      "196\n",
      "50\n",
      "1ZKK_apo_SET8_SAH.pdb\n",
      "2576\n",
      "46\n",
      "1ZKK_apo_SET8_SAM.pdb\n",
      "2576\n",
      "50\n",
      "4IJ8_SET8.pdb\n",
      "2576\n",
      "4IJ8_SET8_SAH.pdb\n",
      "2576\n",
      "46\n",
      "4IJ8_SET8_SAM.pdb\n",
      "2576\n",
      "50\n",
      "SET8.pdb\n",
      "2576\n",
      "SET8_MeP.pdb\n",
      "2576\n",
      "199\n",
      "SET8_MeP_SAH.pdb\n",
      "2576\n",
      "199\n",
      "46\n",
      "SET8_MeP_SAM.pdb\n",
      "2576\n",
      "199\n",
      "50\n",
      "SET8_P.pdb\n",
      "2576\n",
      "195\n",
      "SET8_P_SAH.pdb\n",
      "2576\n",
      "195\n",
      "46\n",
      "SET8_P_SAM.pdb\n",
      "2576\n",
      "195\n",
      "50\n",
      "SET8_PH.pdb\n",
      "2576\n",
      "196\n",
      "SET8_PH_SAH.pdb\n",
      "2576\n",
      "196\n",
      "46\n",
      "SET8_PH_SAM.pdb\n",
      "2576\n",
      "196\n",
      "50\n",
      "SET8_SAH.pdb\n",
      "2576\n",
      "46\n",
      "SET8_SAM.pdb\n",
      "2576\n",
      "50\n"
     ]
    }
   ],
   "source": [
    "for system in systems:\n",
    "    print(system)\n",
    "    sys = md.load(system)\n",
    "    print(sys.top.chain(0).n_atoms)\n",
    "    if len(list(sys.top.chains)) == 3:\n",
    "        print(sys.top.chain(1).n_atoms)\n",
    "    elif len(list(sys.top.chains)) == 4:\n",
    "        print(sys.top.chain(1).n_atoms)\n",
    "        print(sys.top.chain(2).n_atoms)"
   ]
  },
  {
   "cell_type": "code",
   "execution_count": 23,
   "metadata": {
    "collapsed": true
   },
   "outputs": [],
   "source": [
    "# all good!"
   ]
  },
  {
   "cell_type": "code",
   "execution_count": 24,
   "metadata": {
    "collapsed": true
   },
   "outputs": [],
   "source": [
    "# now one last thing - check if for 4IJ8_SET8_SAM I also should replace the no_solvent and temp_files with ones from "
   ]
  },
  {
   "cell_type": "code",
   "execution_count": 25,
   "metadata": {
    "collapsed": true
   },
   "outputs": [],
   "source": [
    "# the copy of the project dir"
   ]
  },
  {
   "cell_type": "code",
   "execution_count": null,
   "metadata": {
    "collapsed": true
   },
   "outputs": [],
   "source": []
  },
  {
   "cell_type": "code",
   "execution_count": 26,
   "metadata": {
    "collapsed": true
   },
   "outputs": [],
   "source": [
    "# then do pymol check of equilibrated pdbs - want to see if ligands are within pockets etc. "
   ]
  },
  {
   "cell_type": "code",
   "execution_count": null,
   "metadata": {
    "collapsed": true
   },
   "outputs": [],
   "source": [
    "# though there might be a problem with how periodicity is represented in the openmm log pdb's with this"
   ]
  }
 ],
 "metadata": {
  "kernelspec": {
   "display_name": "Python 2",
   "language": "python",
   "name": "python2"
  },
  "language_info": {
   "codemirror_mode": {
    "name": "ipython",
    "version": 2
   },
   "file_extension": ".py",
   "mimetype": "text/x-python",
   "name": "python",
   "nbconvert_exporter": "python",
   "pygments_lexer": "ipython2",
   "version": "2.7.11"
  }
 },
 "nbformat": 4,
 "nbformat_minor": 0
}
