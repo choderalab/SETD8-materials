{
 "cells": [
  {
   "cell_type": "code",
   "execution_count": 1,
   "metadata": {},
   "outputs": [],
   "source": [
    "import mdtraj as md\n",
    "import numpy as np"
   ]
  },
  {
   "cell_type": "code",
   "execution_count": 2,
   "metadata": {},
   "outputs": [],
   "source": [
    "cluster_top10 = [md.load('h5/%d.h5' % x) for x in range(100)]"
   ]
  },
  {
   "cell_type": "code",
   "execution_count": 6,
   "metadata": {},
   "outputs": [],
   "source": [
    "inh1 = md.load('/Users/rafalpwiewiora/repos/MSM/sasa/models/inh_a.pdb')\n",
    "inh2 = md.load('/Users/rafalpwiewiora/repos/MSM/sasa/models/inh2_a.pdb')"
   ]
  },
  {
   "cell_type": "code",
   "execution_count": 7,
   "metadata": {},
   "outputs": [],
   "source": [
    "cluster_top10_ca = [x.atom_slice(x.top.select('name CA')) for x in cluster_top10]"
   ]
  },
  {
   "cell_type": "code",
   "execution_count": 8,
   "metadata": {},
   "outputs": [],
   "source": [
    "inh1_ca = inh1.atom_slice(inh1.top.select('name CA'))\n",
    "inh2_ca = inh1.atom_slice(inh2.top.select('name CA'))"
   ]
  },
  {
   "cell_type": "code",
   "execution_count": 9,
   "metadata": {},
   "outputs": [],
   "source": [
    "whole_rmsds = []\n",
    "selection1 = np.concatenate([np.arange(24,59), np.arange(94,144)])\n",
    "\n",
    "for i in range(100):\n",
    "    trajectory = cluster_top10_ca[i]\n",
    "    whole_rmsds.append([])\n",
    "         \n",
    "    # whole protein\n",
    "    reference = inh1_ca                        \n",
    "    trajectory.superpose(reference, atom_indices=selection1)\n",
    "    whole_rmsds[-1].append(np.sqrt(3*np.mean((trajectory.xyz - reference.xyz)**2, axis=(1,2))))\n",
    "    \n",
    "    reference = inh2_ca                        \n",
    "    trajectory.superpose(reference, atom_indices=selection1)\n",
    "    whole_rmsds[-1].append(np.sqrt(3*np.mean((trajectory.xyz - reference.xyz)**2, axis=(1,2))))  "
   ]
  },
  {
   "cell_type": "code",
   "execution_count": 11,
   "metadata": {},
   "outputs": [],
   "source": [
    "meta_membs = np.load('/Users/rafalpwiewiora/repos/MSM/11707_11709_SET8_apo_FINAL/dih_full_dset/hmms/results/25/metastable_memberships.npy')"
   ]
  },
  {
   "cell_type": "code",
   "execution_count": 12,
   "metadata": {},
   "outputs": [],
   "source": [
    "inh1_only_rmsds = []\n",
    "inh2_only_rmsds = []\n",
    "\n",
    "for i in range(24):\n",
    "    j = np.argmax(meta_membs[:,i])\n",
    "    inh1_only_rmsds.append(whole_rmsds[j][0][0])\n",
    "\n",
    "for i in range(24):\n",
    "    j = np.argmax(meta_membs[:,i])\n",
    "    inh2_only_rmsds.append(whole_rmsds[j][1][0])"
   ]
  },
  {
   "cell_type": "code",
   "execution_count": 13,
   "metadata": {},
   "outputs": [],
   "source": [
    "inh1_only_rmsds_micro = []\n",
    "inh2_only_rmsds_micro = []\n",
    "\n",
    "for i in range(100):\n",
    "    inh1_only_rmsds_micro.append(whole_rmsds[i][0][0])\n",
    "\n",
    "for i in range(100):\n",
    "    inh2_only_rmsds_micro.append(whole_rmsds[i][1][0])"
   ]
  },
  {
   "cell_type": "code",
   "execution_count": 20,
   "metadata": {},
   "outputs": [],
   "source": [
    "np.savetxt('rmsd_data/macro_BC-Inh1.csv', inh2_only_rmsds, delimiter=',')\n",
    "np.savetxt('rmsd_data/macro_BC-Inh2.csv', inh1_only_rmsds, delimiter=',')"
   ]
  },
  {
   "cell_type": "code",
   "execution_count": 21,
   "metadata": {},
   "outputs": [],
   "source": [
    "np.savetxt('rmsd_data/micro_BC-Inh1.csv', inh2_only_rmsds_micro, delimiter=',')\n",
    "np.savetxt('rmsd_data/micro_BC-Inh2.csv', inh1_only_rmsds_micro, delimiter=',')"
   ]
  },
  {
   "cell_type": "code",
   "execution_count": null,
   "metadata": {},
   "outputs": [],
   "source": []
  }
 ],
 "metadata": {
  "kernelspec": {
   "display_name": "Python [conda root]",
   "language": "python",
   "name": "conda-root-py"
  },
  "language_info": {
   "codemirror_mode": {
    "name": "ipython",
    "version": 3
   },
   "file_extension": ".py",
   "mimetype": "text/x-python",
   "name": "python",
   "nbconvert_exporter": "python",
   "pygments_lexer": "ipython3",
   "version": "3.5.2"
  }
 },
 "nbformat": 4,
 "nbformat_minor": 1
}
