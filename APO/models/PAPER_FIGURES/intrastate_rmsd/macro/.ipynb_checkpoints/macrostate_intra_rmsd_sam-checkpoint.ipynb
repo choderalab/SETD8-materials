{
 "cells": [
  {
   "cell_type": "code",
   "execution_count": 10,
   "metadata": {},
   "outputs": [],
   "source": [
    "import numpy as np"
   ]
  },
  {
   "cell_type": "code",
   "execution_count": 2,
   "metadata": {},
   "outputs": [],
   "source": [
    "dtrajs = np.load('/Users/rafalpwiewiora/repos/MSM/11707_11709_SET8_apo_FINAL/PAPER_FIGURES/bayesian_models/sam/67.npy')"
   ]
  },
  {
   "cell_type": "code",
   "execution_count": 3,
   "metadata": {},
   "outputs": [],
   "source": [
    "dtrajs_glob = np.load('/Users/rafalpwiewiora/repos/MSM/11707_11709_SET8_apo_FINAL/PAPER_FIGURES/bayesian_models/sam/dtrajs_glob.npy')"
   ]
  },
  {
   "cell_type": "code",
   "execution_count": 4,
   "metadata": {},
   "outputs": [
    {
     "data": {
      "text/plain": [
       "'data_cut_start_proteinonly_noH/11710/run0-clone261.h5'"
      ]
     },
     "execution_count": 4,
     "metadata": {},
     "output_type": "execute_result"
    }
   ],
   "source": [
    "dtrajs_glob[0]"
   ]
  },
  {
   "cell_type": "code",
   "execution_count": 21,
   "metadata": {},
   "outputs": [],
   "source": [
    "obs_prob = np.load('/Users/rafalpwiewiora/repos/MSM/11708_11710_SET8_ligands/dih/SAM/hmms/results/12/observation_probabilities.npy')"
   ]
  },
  {
   "cell_type": "code",
   "execution_count": 6,
   "metadata": {},
   "outputs": [],
   "source": [
    "numbers_of_frames = np.zeros(100)\n",
    "\n",
    "for x in dtrajs:\n",
    "    for y in x:\n",
    "        numbers_of_frames[y] += 1"
   ]
  },
  {
   "cell_type": "code",
   "execution_count": 10,
   "metadata": {},
   "outputs": [
    {
     "data": {
      "text/plain": [
       "1955965.0"
      ]
     },
     "execution_count": 10,
     "metadata": {},
     "output_type": "execute_result"
    }
   ],
   "source": [
    "np.sum(numbers_of_frames)"
   ]
  },
  {
   "cell_type": "code",
   "execution_count": 12,
   "metadata": {},
   "outputs": [],
   "source": [
    "# add 0 obs_prob for the microstates not present"
   ]
  },
  {
   "cell_type": "code",
   "execution_count": 14,
   "metadata": {},
   "outputs": [
    {
     "data": {
      "text/plain": [
       "(10, 67)"
      ]
     },
     "execution_count": 14,
     "metadata": {},
     "output_type": "execute_result"
    }
   ],
   "source": [
    "obs_prob.shape"
   ]
  },
  {
   "cell_type": "code",
   "execution_count": 15,
   "metadata": {},
   "outputs": [
    {
     "data": {
      "text/plain": [
       "array([  3.00000000e+00,   5.63000000e+02,   1.11000000e+02,\n",
       "         1.89700000e+03,   3.01100000e+03,   0.00000000e+00,\n",
       "         7.97000000e+03,   1.30700000e+04,   5.76600000e+03,\n",
       "         0.00000000e+00,   0.00000000e+00,   5.22310000e+04,\n",
       "         0.00000000e+00,   8.60000000e+01,   6.40000000e+01,\n",
       "         5.34000000e+02,   1.04600000e+03,   0.00000000e+00,\n",
       "         1.22400000e+03,   6.46600000e+03,   0.00000000e+00,\n",
       "         6.49000000e+02,   0.00000000e+00,   1.11376000e+05,\n",
       "         0.00000000e+00,   2.84970000e+04,   4.38400000e+03,\n",
       "         4.15800000e+03,   0.00000000e+00,   9.14840000e+04,\n",
       "         3.37000000e+02,   0.00000000e+00,   0.00000000e+00,\n",
       "         2.21000000e+02,   0.00000000e+00,   0.00000000e+00,\n",
       "         1.18439000e+05,   7.19000000e+02,   1.42730000e+04,\n",
       "         0.00000000e+00,   0.00000000e+00,   9.87810000e+04,\n",
       "         1.00000000e+00,   6.04000000e+02,   2.49491000e+05,\n",
       "         1.00000000e+00,   0.00000000e+00,   0.00000000e+00,\n",
       "         0.00000000e+00,   2.98950000e+04,   5.19500000e+03,\n",
       "         5.20000000e+02,   0.00000000e+00,   0.00000000e+00,\n",
       "         1.35300000e+03,   7.23500000e+03,   0.00000000e+00,\n",
       "         2.24250000e+04,   1.13730000e+04,   3.59000000e+02,\n",
       "         0.00000000e+00,   2.18100000e+03,   1.77000000e+03,\n",
       "         2.64700000e+03,   0.00000000e+00,   2.27700000e+03,\n",
       "         4.18913000e+05,   9.60000000e+03,   1.19600000e+04,\n",
       "         0.00000000e+00,   0.00000000e+00,   0.00000000e+00,\n",
       "         1.17470000e+04,   3.23000000e+02,   1.06080000e+04,\n",
       "         0.00000000e+00,   2.89100000e+03,   0.00000000e+00,\n",
       "         0.00000000e+00,   6.93300000e+03,   1.26300000e+03,\n",
       "         4.40353000e+05,   1.32600000e+03,   2.00000000e+00,\n",
       "         8.40000000e+01,   6.85010000e+04,   1.90000000e+01,\n",
       "         9.26000000e+02,   0.00000000e+00,   5.60000000e+01,\n",
       "         0.00000000e+00,   0.00000000e+00,   1.00000000e+00,\n",
       "         1.54320000e+04,   3.62180000e+04,   3.97700000e+03,\n",
       "         9.14200000e+03,   8.11000000e+02,   1.92000000e+02,\n",
       "         0.00000000e+00])"
      ]
     },
     "execution_count": 15,
     "metadata": {},
     "output_type": "execute_result"
    }
   ],
   "source": [
    "numbers_of_frames"
   ]
  },
  {
   "cell_type": "code",
   "execution_count": 22,
   "metadata": {},
   "outputs": [],
   "source": [
    "obs_prob_ = []\n",
    "\n",
    "j = 0\n",
    "for i in range(100):\n",
    "    if not numbers_of_frames[i] == 0:\n",
    "        obs_prob_.append(obs_prob[:,j])\n",
    "        j += 1\n",
    "    else:\n",
    "        obs_prob_.append([0,0,0,0,0,0,0,0,0,0])"
   ]
  },
  {
   "cell_type": "code",
   "execution_count": 23,
   "metadata": {},
   "outputs": [
    {
     "data": {
      "text/plain": [
       "(100, 10)"
      ]
     },
     "execution_count": 23,
     "metadata": {},
     "output_type": "execute_result"
    }
   ],
   "source": [
    "np.array(obs_prob_).shape"
   ]
  },
  {
   "cell_type": "code",
   "execution_count": 31,
   "metadata": {},
   "outputs": [],
   "source": [
    "obs_prob = np.array(obs_prob_).T"
   ]
  },
  {
   "cell_type": "code",
   "execution_count": 32,
   "metadata": {},
   "outputs": [],
   "source": [
    "weights = []\n",
    "\n",
    "for i in range(10):\n",
    "    weights_ = []\n",
    "    for x in dtrajs:\n",
    "        for y in x:\n",
    "            weights_.append(obs_prob[i,y] / numbers_of_frames[y])\n",
    "    weights.append(weights_)"
   ]
  },
  {
   "cell_type": "code",
   "execution_count": 33,
   "metadata": {},
   "outputs": [
    {
     "data": {
      "text/plain": [
       "10.000000000000009"
      ]
     },
     "execution_count": 33,
     "metadata": {},
     "output_type": "execute_result"
    }
   ],
   "source": [
    "np.sum(np.concatenate(weights))"
   ]
  },
  {
   "cell_type": "code",
   "execution_count": 34,
   "metadata": {},
   "outputs": [],
   "source": [
    "traj_frame_indexes = []\n",
    "\n",
    "for i,x in enumerate(dtrajs):\n",
    "    for j in np.arange(len(x)):\n",
    "        traj_frame_indexes.append((i, j))"
   ]
  },
  {
   "cell_type": "code",
   "execution_count": 35,
   "metadata": {},
   "outputs": [],
   "source": [
    "draws = []\n",
    "\n",
    "for i in range(10):\n",
    "    draws_ = np.random.choice(np.arange(len(traj_frame_indexes)), size=100, replace=False, p=weights[i])\n",
    "    draws__ = []\n",
    "    for x in draws_:\n",
    "        draws__.append(traj_frame_indexes[x])\n",
    "    draws.append(draws__)    "
   ]
  },
  {
   "cell_type": "code",
   "execution_count": 36,
   "metadata": {},
   "outputs": [],
   "source": [
    "draws_names = []\n",
    "\n",
    "for x in draws:\n",
    "    draws_names_ = []\n",
    "    for y in x:\n",
    "        draws_names_.append((dtrajs_glob[y[0]], y[1]))\n",
    "    draws_names.append(draws_names_)    "
   ]
  },
  {
   "cell_type": "code",
   "execution_count": 37,
   "metadata": {},
   "outputs": [
    {
     "data": {
      "text/plain": [
       "10"
      ]
     },
     "execution_count": 37,
     "metadata": {},
     "output_type": "execute_result"
    }
   ],
   "source": [
    "len(draws_names)"
   ]
  },
  {
   "cell_type": "code",
   "execution_count": 38,
   "metadata": {},
   "outputs": [],
   "source": [
    "np.save('sam_draws', draws_names)"
   ]
  },
  {
   "cell_type": "code",
   "execution_count": 39,
   "metadata": {},
   "outputs": [],
   "source": [
    "del weights"
   ]
  },
  {
   "cell_type": "code",
   "execution_count": 40,
   "metadata": {},
   "outputs": [],
   "source": [
    "del draws"
   ]
  },
  {
   "cell_type": "code",
   "execution_count": 42,
   "metadata": {},
   "outputs": [],
   "source": [
    "draws_names = np.load('sam_draws.npy')"
   ]
  },
  {
   "cell_type": "code",
   "execution_count": 1,
   "metadata": {},
   "outputs": [],
   "source": [
    "# collected frames on lilac - are in sam_samples"
   ]
  },
  {
   "cell_type": "code",
   "execution_count": 2,
   "metadata": {},
   "outputs": [],
   "source": [
    "import mdtraj as md"
   ]
  },
  {
   "cell_type": "code",
   "execution_count": 39,
   "metadata": {},
   "outputs": [],
   "source": [
    "samples = md.load('sam_samples/%d.pdb' % 0)"
   ]
  },
  {
   "cell_type": "code",
   "execution_count": 40,
   "metadata": {},
   "outputs": [
    {
     "data": {
      "text/plain": [
       "<mdtraj.Trajectory with 100 frames, 1296 atoms, 162 residues, and unitcells at 0x61c442630>"
      ]
     },
     "execution_count": 40,
     "metadata": {},
     "output_type": "execute_result"
    }
   ],
   "source": [
    "samples"
   ]
  },
  {
   "cell_type": "code",
   "execution_count": 41,
   "metadata": {},
   "outputs": [],
   "source": [
    "samples_CA = samples.atom_slice(samples.top.select('name CA'))"
   ]
  },
  {
   "cell_type": "code",
   "execution_count": 42,
   "metadata": {},
   "outputs": [
    {
     "data": {
      "text/plain": [
       "<mdtraj.Trajectory with 100 frames, 162 atoms, 162 residues, and unitcells at 0x613e12a90>"
      ]
     },
     "execution_count": 42,
     "metadata": {},
     "output_type": "execute_result"
    }
   ],
   "source": [
    "samples_CA"
   ]
  },
  {
   "cell_type": "code",
   "execution_count": 43,
   "metadata": {},
   "outputs": [],
   "source": [
    "rmsd_matrix_CA = np.zeros((100,100))"
   ]
  },
  {
   "cell_type": "code",
   "execution_count": 44,
   "metadata": {},
   "outputs": [],
   "source": [
    "# SET\n",
    "selection1 = np.concatenate([np.arange(25,59), np.arange(95,145)])\n",
    "\n",
    "# SET-I + C-flank\n",
    "selection2 = np.concatenate([np.arange(59,95), np.arange(145,162)])"
   ]
  },
  {
   "cell_type": "code",
   "execution_count": 45,
   "metadata": {},
   "outputs": [],
   "source": [
    "for i in range(100):\n",
    "    for j in range(100):\n",
    "        trajectory = samples_CA[i]\n",
    "        reference = samples_CA[j]                   \n",
    "        trajectory.superpose(reference, atom_indices=selection1)\n",
    "        rmsd_matrix_CA[i,j] = np.sqrt(3*np.mean((trajectory.xyz[:, selection2, :] - reference.xyz[:, selection2, :])**2, axis=(1,2)))"
   ]
  },
  {
   "cell_type": "code",
   "execution_count": 51,
   "metadata": {},
   "outputs": [
    {
     "data": {
      "text/plain": [
       "0.39990791934307174"
      ]
     },
     "execution_count": 51,
     "metadata": {},
     "output_type": "execute_result"
    }
   ],
   "source": [
    "np.min(np.sum(rmsd_matrix_CA, axis=0) / 99)"
   ]
  },
  {
   "cell_type": "code",
   "execution_count": 30,
   "metadata": {},
   "outputs": [],
   "source": [
    "# ok do this for all macrostates now"
   ]
  },
  {
   "cell_type": "code",
   "execution_count": 52,
   "metadata": {},
   "outputs": [
    {
     "name": "stdout",
     "output_type": "stream",
     "text": [
      "0\n",
      "1\n",
      "2\n",
      "3\n",
      "4\n",
      "5\n",
      "6\n",
      "7\n",
      "8\n",
      "9\n"
     ]
    }
   ],
   "source": [
    "rmsds = []\n",
    "\n",
    "for k in range(10):\n",
    "    samples = md.load('sam_samples/%d.pdb' % k)\n",
    "    samples_CA = samples.atom_slice(samples.top.select('name CA'))\n",
    "    rmsd_matrix_CA = np.zeros((100,100))\n",
    "    for i in range(100):\n",
    "        for j in range(100):\n",
    "            trajectory = samples_CA[i]\n",
    "            reference = samples_CA[j]                   \n",
    "            trajectory.superpose(reference, atom_indices=selection1)\n",
    "            rmsd_matrix_CA[i,j] = np.sqrt(3*np.mean((trajectory.xyz[:, selection2, :] - reference.xyz[:, selection2, :])**2, axis=(1,2)))\n",
    "    rmsds.append(np.min(np.sum(rmsd_matrix_CA, axis=0) / 99))\n",
    "    print(k)"
   ]
  },
  {
   "cell_type": "code",
   "execution_count": 56,
   "metadata": {},
   "outputs": [
    {
     "data": {
      "text/plain": [
       "[0.39990791934307174,\n",
       " 0.31007706011697594,\n",
       " 0.41642058516727004,\n",
       " 0.4526480201061186,\n",
       " 0.27316211988853939,\n",
       " 0.41835448793088548,\n",
       " 0.40980302771056903,\n",
       " 0.29559354526732212,\n",
       " 0.30317665564896507,\n",
       " 0.38944238711446]"
      ]
     },
     "execution_count": 56,
     "metadata": {},
     "output_type": "execute_result"
    }
   ],
   "source": [
    "rmsds"
   ]
  },
  {
   "cell_type": "code",
   "execution_count": 57,
   "metadata": {},
   "outputs": [],
   "source": [
    "np.save('sam_rmsds', rmsds)"
   ]
  },
  {
   "cell_type": "code",
   "execution_count": 58,
   "metadata": {},
   "outputs": [],
   "source": [
    "np.savetxt('sam_rmsds.csv', rmsds, delimiter=\",\")"
   ]
  },
  {
   "cell_type": "code",
   "execution_count": 59,
   "metadata": {},
   "outputs": [],
   "source": [
    "meta_sets = np.load('/Users/rafalpwiewiora/repos/MSM/11708_11710_SET8_ligands/dih/SAM/hmms/results/12/metastable_sets.npy')"
   ]
  },
  {
   "cell_type": "code",
   "execution_count": 60,
   "metadata": {},
   "outputs": [
    {
     "data": {
      "text/plain": [
       "array([array([ 2,  5,  7, 11, 21, 23, 25, 34, 54, 55, 60, 65]),\n",
       "       array([13, 19]), array([ 0, 18, 31]), array([46]),\n",
       "       array([ 1,  6, 28, 43, 48]),\n",
       "       array([ 4, 16, 20, 30, 32, 33, 35, 39, 50, 58, 59, 62, 64]),\n",
       "       array([44, 49, 51]),\n",
       "       array([ 3,  9, 12, 15, 17, 22, 24, 27, 36, 37, 40, 42, 45, 47, 53, 56, 61,\n",
       "       63, 66]),\n",
       "       array([26, 29]), array([ 8, 10, 14, 38, 41, 52, 57])], dtype=object)"
      ]
     },
     "execution_count": 60,
     "metadata": {},
     "output_type": "execute_result"
    }
   ],
   "source": [
    "meta_sets"
   ]
  },
  {
   "cell_type": "code",
   "execution_count": 61,
   "metadata": {},
   "outputs": [],
   "source": [
    "import glob"
   ]
  },
  {
   "cell_type": "code",
   "execution_count": 62,
   "metadata": {},
   "outputs": [],
   "source": [
    "pdb_glob = glob.glob('/Users/rafalpwiewiora/repos/MSM/11708_11710_SET8_ligands/dih/SAM/cluster_centers_top_10/pdb/*.pdb')"
   ]
  },
  {
   "cell_type": "code",
   "execution_count": 63,
   "metadata": {},
   "outputs": [],
   "source": [
    "pdb_glob_nos = [int(x.split('/')[-1][:-4]) for x in pdb_glob]\n",
    "pdb_glob_nos = sorted(pdb_glob_nos)"
   ]
  },
  {
   "cell_type": "code",
   "execution_count": 84,
   "metadata": {},
   "outputs": [
    {
     "name": "stdout",
     "output_type": "stream",
     "text": [
      "0\n",
      "1\n",
      "2\n",
      "3\n",
      "4\n",
      "5\n",
      "6\n",
      "7\n",
      "8\n",
      "9\n"
     ]
    }
   ],
   "source": [
    "rmsds = []\n",
    "\n",
    "for k in range(10):\n",
    "    meta_set = meta_sets[k]\n",
    "    samples_ = []\n",
    "    for micro in meta_set:\n",
    "        micro = pdb_glob_nos[micro]\n",
    "        samples_.append(md.load('/Users/rafalpwiewiora/repos/MSM/11708_11710_SET8_ligands/dih/SAM/cluster_centers_top_10/pdb/%d.pdb' % micro))\n",
    "    samples = samples_[0]\n",
    "    samples = samples.atom_slice(samples.top.select('protein and name CA'))\n",
    "    for sample in samples_[1:]:\n",
    "        sample = sample.atom_slice(sample.top.select('protein and name CA'))\n",
    "        samples = md.join([samples, sample])\n",
    "    samples_CA = samples.atom_slice(samples.top.select('name CA'))\n",
    "    rmsd_matrix_CA = np.zeros((len(samples),len(samples)))\n",
    "    for i in range(len(samples)):\n",
    "        for j in range(len(samples)):\n",
    "            trajectory = samples_CA[i]\n",
    "            reference = samples_CA[j]                   \n",
    "            trajectory.superpose(reference, atom_indices=selection1)\n",
    "            rmsd_matrix_CA[i,j] = np.sqrt(3*np.mean((trajectory.xyz[:, selection2, :] - reference.xyz[:, selection2, :])**2, axis=(1,2)))\n",
    "    rmsds.append(np.min(np.sum(rmsd_matrix_CA, axis=0) / (len(rmsd_matrix_CA)-1)))\n",
    "    print(k)"
   ]
  },
  {
   "cell_type": "code",
   "execution_count": 85,
   "metadata": {},
   "outputs": [
    {
     "data": {
      "text/plain": [
       "[0.42394448130154144,\n",
       " 0.1524939560576489,\n",
       " 0.34529050182061366,\n",
       " 0.27376677080554285,\n",
       " 0.32708862822521545,\n",
       " 0.389373490971685,\n",
       " 0.32477873157780973,\n",
       " 0.31874776105913849,\n",
       " 0.21900918773827149,\n",
       " 0.27966884760260163]"
      ]
     },
     "execution_count": 85,
     "metadata": {},
     "output_type": "execute_result"
    }
   ],
   "source": [
    "rmsds"
   ]
  },
  {
   "cell_type": "code",
   "execution_count": 86,
   "metadata": {},
   "outputs": [],
   "source": [
    "np.save('sam_rmsds_top10', rmsds)"
   ]
  },
  {
   "cell_type": "code",
   "execution_count": 87,
   "metadata": {},
   "outputs": [],
   "source": [
    "np.savetxt('sam_rmsds_top10.csv', rmsds, delimiter=\",\")"
   ]
  },
  {
   "cell_type": "code",
   "execution_count": null,
   "metadata": {},
   "outputs": [],
   "source": []
  }
 ],
 "metadata": {
  "kernelspec": {
   "display_name": "Python 3",
   "language": "python",
   "name": "python3"
  },
  "language_info": {
   "codemirror_mode": {
    "name": "ipython",
    "version": 3
   },
   "file_extension": ".py",
   "mimetype": "text/x-python",
   "name": "python",
   "nbconvert_exporter": "python",
   "pygments_lexer": "ipython3",
   "version": "3.6.4"
  }
 },
 "nbformat": 4,
 "nbformat_minor": 2
}
