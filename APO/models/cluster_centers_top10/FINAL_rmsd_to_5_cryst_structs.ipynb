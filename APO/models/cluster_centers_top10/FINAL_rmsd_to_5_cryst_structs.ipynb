{
 "cells": [
  {
   "cell_type": "code",
   "execution_count": 119,
   "metadata": {},
   "outputs": [],
   "source": [
    "import mdtraj as md\n",
    "import numpy as np"
   ]
  },
  {
   "cell_type": "code",
   "execution_count": 120,
   "metadata": {},
   "outputs": [],
   "source": [
    "cluster_top10 = [md.load('h5/%d.h5' % x) for x in range(100)]"
   ]
  },
  {
   "cell_type": "code",
   "execution_count": 121,
   "metadata": {},
   "outputs": [],
   "source": [
    "zkk = md.load('/Users/rafalpwiewiora/repos/MSM/sasa/models/1zkk_a.pdb')\n",
    "ij8 = md.load('/Users/rafalpwiewiora/repos/MSM/sasa/models/4ij8_a.pdb')\n",
    "apo = md.load('/Users/rafalpwiewiora/repos/MSM/sasa/models/apo_a.pdb')\n",
    "inh1 = md.load('/Users/rafalpwiewiora/repos/MSM/sasa/models/inh_a.pdb')\n",
    "inh2 = md.load('/Users/rafalpwiewiora/repos/MSM/sasa/models/inh2_a.pdb')"
   ]
  },
  {
   "cell_type": "code",
   "execution_count": 122,
   "metadata": {},
   "outputs": [],
   "source": [
    "cluster_top10_ca = [x.atom_slice(x.top.select('name CA')) for x in cluster_top10]"
   ]
  },
  {
   "cell_type": "code",
   "execution_count": 123,
   "metadata": {},
   "outputs": [],
   "source": [
    "zkk_ca = zkk.atom_slice(zkk.top.select('name CA'))\n",
    "ij8_ca = ij8.atom_slice(ij8.top.select('name CA'))\n",
    "apo_ca = apo.atom_slice(apo.top.select('name CA'))\n",
    "inh1_ca = inh1.atom_slice(inh1.top.select('name CA'))\n",
    "inh2_ca = inh2.atom_slice(inh2.top.select('name CA'))"
   ]
  },
  {
   "cell_type": "code",
   "execution_count": 124,
   "metadata": {},
   "outputs": [],
   "source": [
    "whole_rmsds = []\n",
    "seti_rmsds = []\n",
    "selection1 = np.concatenate([np.arange(25,59), np.arange(95,145)])\n",
    "\n",
    "for i in range(100):\n",
    "    trajectory = cluster_top10_ca[i]\n",
    "    whole_rmsds.append([])\n",
    "    seti_rmsds.append([])\n",
    "         \n",
    "    # whole protein\n",
    "    reference = zkk_ca                        \n",
    "    trajectory.superpose(reference, atom_indices=selection1)\n",
    "    whole_rmsds[-1].append(np.sqrt(3*np.mean((trajectory.xyz - reference.xyz)**2, axis=(1,2))))\n",
    "    \n",
    "    reference = ij8_ca                        \n",
    "    trajectory.superpose(reference, atom_indices=selection1)\n",
    "    whole_rmsds[-1].append(np.sqrt(3*np.mean((trajectory.xyz - reference.xyz)**2, axis=(1,2))))\n",
    "                            \n",
    "    reference = apo_ca                        \n",
    "    trajectory.superpose(reference, atom_indices=selection1)\n",
    "    whole_rmsds[-1].append(np.sqrt(3*np.mean((trajectory.xyz - reference.xyz)**2, axis=(1,2))))\n",
    "    \n",
    "    reference = inh1_ca                        \n",
    "    trajectory.superpose(reference, atom_indices=selection1)\n",
    "    whole_rmsds[-1].append(np.sqrt(3*np.mean((trajectory.xyz - reference.xyz)**2, axis=(1,2))))\n",
    "    \n",
    "    reference = inh2_ca                        \n",
    "    trajectory.superpose(reference, atom_indices=selection1)\n",
    "    whole_rmsds[-1].append(np.sqrt(3*np.mean((trajectory.xyz - reference.xyz)**2, axis=(1,2))))\n",
    "    \n",
    "    # SETI + C-flank\n",
    "    selection2 = np.concatenate([np.arange(59,95), np.arange(145,162)])\n",
    "                            \n",
    "    reference = zkk_ca            \n",
    "    trajectory.superpose(reference, atom_indices=selection1)\n",
    "    seti_rmsds[-1].append(np.sqrt(3*np.mean((trajectory.xyz[:, selection2, :] - reference.xyz[:, selection2, :])**2, axis=(1,2))))\n",
    "    \n",
    "    reference = ij8_ca            \n",
    "    trajectory.superpose(reference, atom_indices=selection1)\n",
    "    seti_rmsds[-1].append(np.sqrt(3*np.mean((trajectory.xyz[:, selection2, :] - reference.xyz[:, selection2, :])**2, axis=(1,2))))                  \n",
    "    \n",
    "    reference = apo_ca            \n",
    "    trajectory.superpose(reference, atom_indices=selection1)\n",
    "    seti_rmsds[-1].append(np.sqrt(3*np.mean((trajectory.xyz[:, selection2, :] - reference.xyz[:, selection2, :])**2, axis=(1,2))))\n",
    "    \n",
    "    reference = inh1_ca            \n",
    "    trajectory.superpose(reference, atom_indices=selection1)\n",
    "    seti_rmsds[-1].append(np.sqrt(3*np.mean((trajectory.xyz[:, selection2, :] - reference.xyz[:, selection2, :])**2, axis=(1,2))))\n",
    "    \n",
    "    reference = inh2_ca            \n",
    "    trajectory.superpose(reference, atom_indices=selection1)\n",
    "    seti_rmsds[-1].append(np.sqrt(3*np.mean((trajectory.xyz[:, selection2, :] - reference.xyz[:, selection2, :])**2, axis=(1,2))))"
   ]
  },
  {
   "cell_type": "code",
   "execution_count": 125,
   "metadata": {},
   "outputs": [],
   "source": [
    "obs_probs = np.load('/Users/rafalpwiewiora/repos/MSM/11707_11709_SET8_apo_FINAL/dih_full_dset/hmms/results/25/observation_probabilities.npy')"
   ]
  },
  {
   "cell_type": "code",
   "execution_count": 126,
   "metadata": {},
   "outputs": [],
   "source": [
    "# first we do CA, then will allheavy"
   ]
  },
  {
   "cell_type": "code",
   "execution_count": 127,
   "metadata": {},
   "outputs": [],
   "source": [
    "# first microstates - either whole protein, or SET-I+Cflank"
   ]
  },
  {
   "cell_type": "code",
   "execution_count": 128,
   "metadata": {},
   "outputs": [
    {
     "data": {
      "text/plain": [
       "[array([ 0.76989311,  0.7482062 ,  0.82345766,  0.82357234,  0.90676224,\n",
       "         0.74687499,  0.70024306,  0.86816221,  0.78056711,  0.73029041], dtype=float32),\n",
       " array([ 0.79119301,  0.75479305,  0.83787084,  0.8498866 ,  0.83840442,\n",
       "         0.75966668,  0.71863025,  0.83796382,  0.77284062,  0.74697226], dtype=float32),\n",
       " array([ 0.54359668,  0.53601134,  0.59983534,  0.55590236,  0.68386066,\n",
       "         0.56295323,  0.55292028,  0.68090993,  0.57219529,  0.61257237], dtype=float32),\n",
       " array([ 0.5756954 ,  0.54446703,  0.64758015,  0.6025179 ,  0.88090581,\n",
       "         0.53980839,  0.49946401,  0.83685464,  0.62424833,  0.60546756], dtype=float32),\n",
       " array([ 1.09597027,  1.05045915,  1.07578135,  1.14621305,  0.87673354,\n",
       "         1.12505615,  1.0739274 ,  0.91797417,  0.99739015,  0.98034978], dtype=float32)]"
      ]
     },
     "execution_count": 128,
     "metadata": {},
     "output_type": "execute_result"
    }
   ],
   "source": [
    "whole_rmsds[0]"
   ]
  },
  {
   "cell_type": "code",
   "execution_count": 129,
   "metadata": {},
   "outputs": [],
   "source": [
    "# whole protein"
   ]
  },
  {
   "cell_type": "code",
   "execution_count": 130,
   "metadata": {},
   "outputs": [],
   "source": [
    "zkk_only_rmsds_micro = []\n",
    "ij8_only_rmsds_micro = []\n",
    "apo_only_rmsds_micro = []\n",
    "inh1_only_rmsds_micro = []\n",
    "inh2_only_rmsds_micro = []\n",
    "\n",
    "for i in range(100):\n",
    "    zkk_only_rmsds_micro.append(np.mean(whole_rmsds[i][0]))\n",
    "\n",
    "for i in range(100):\n",
    "    ij8_only_rmsds_micro.append(np.mean(whole_rmsds[i][1]))\n",
    "    \n",
    "for i in range(100):\n",
    "    apo_only_rmsds_micro.append(np.mean(whole_rmsds[i][2]))\n",
    "    \n",
    "for i in range(100):\n",
    "    inh1_only_rmsds_micro.append(np.mean(whole_rmsds[i][3]))\n",
    "    \n",
    "for i in range(100):\n",
    "    inh2_only_rmsds_micro.append(np.mean(whole_rmsds[i][4]))    "
   ]
  },
  {
   "cell_type": "code",
   "execution_count": 131,
   "metadata": {},
   "outputs": [],
   "source": [
    "np.savetxt('FINAL_rmsd_data/micro_TC_CA_whole.csv', zkk_only_rmsds_micro, delimiter=',')\n",
    "np.savetxt('FINAL_rmsd_data/micro_BC-SAM_CA_whole.csv', ij8_only_rmsds_micro, delimiter=',')\n",
    "np.savetxt('FINAL_rmsd_data/micro_APO_CA_whole.csv', apo_only_rmsds_micro, delimiter=',')\n",
    "np.savetxt('FINAL_rmsd_data/micro_BC-Inh1_CA_whole.csv', inh2_only_rmsds_micro, delimiter=',')\n",
    "np.savetxt('FINAL_rmsd_data/micro_BC-Inh2_CA_whole.csv', inh1_only_rmsds_micro, delimiter=',')"
   ]
  },
  {
   "cell_type": "code",
   "execution_count": 132,
   "metadata": {},
   "outputs": [],
   "source": [
    "# SET-I + C-flank"
   ]
  },
  {
   "cell_type": "code",
   "execution_count": 133,
   "metadata": {},
   "outputs": [],
   "source": [
    "zkk_only_rmsds_micro = []\n",
    "ij8_only_rmsds_micro = []\n",
    "apo_only_rmsds_micro = []\n",
    "inh1_only_rmsds_micro = []\n",
    "inh2_only_rmsds_micro = []\n",
    "\n",
    "for i in range(100):\n",
    "    zkk_only_rmsds_micro.append(np.mean(seti_rmsds[i][0]))\n",
    "\n",
    "for i in range(100):\n",
    "    ij8_only_rmsds_micro.append(np.mean(seti_rmsds[i][1]))\n",
    "    \n",
    "for i in range(100):\n",
    "    apo_only_rmsds_micro.append(np.mean(seti_rmsds[i][2]))\n",
    "    \n",
    "for i in range(100):\n",
    "    inh1_only_rmsds_micro.append(np.mean(seti_rmsds[i][3]))\n",
    "    \n",
    "for i in range(100):\n",
    "    inh2_only_rmsds_micro.append(np.mean(seti_rmsds[i][4]))    "
   ]
  },
  {
   "cell_type": "code",
   "execution_count": 134,
   "metadata": {},
   "outputs": [],
   "source": [
    "np.savetxt('FINAL_rmsd_data/micro_TC_CA_setipostset.csv', zkk_only_rmsds_micro, delimiter=',')\n",
    "np.savetxt('FINAL_rmsd_data/micro_BC-SAM_CA_setipostset.csv', ij8_only_rmsds_micro, delimiter=',')\n",
    "np.savetxt('FINAL_rmsd_data/micro_APO_CA_setipostset.csv', apo_only_rmsds_micro, delimiter=',')\n",
    "np.savetxt('FINAL_rmsd_data/micro_BC-Inh1_CA_setipostset.csv', inh2_only_rmsds_micro, delimiter=',')\n",
    "np.savetxt('FINAL_rmsd_data/micro_BC-Inh2_CA_setipostset.csv', inh1_only_rmsds_micro, delimiter=',')"
   ]
  },
  {
   "cell_type": "code",
   "execution_count": 135,
   "metadata": {},
   "outputs": [],
   "source": [
    "# macrostates - 4 ways - whole protein / SET-I + C-flank, either take top microstate or average over all microstates"
   ]
  },
  {
   "cell_type": "code",
   "execution_count": 136,
   "metadata": {},
   "outputs": [],
   "source": [
    "# whole protein, top"
   ]
  },
  {
   "cell_type": "code",
   "execution_count": 137,
   "metadata": {},
   "outputs": [],
   "source": [
    "zkk_only_rmsds = []\n",
    "ij8_only_rmsds = []\n",
    "apo_only_rmsds = []\n",
    "inh1_only_rmsds = []\n",
    "inh2_only_rmsds = []\n",
    "\n",
    "for i in range(24):\n",
    "    j = np.argmax(obs_probs[i])\n",
    "    zkk_only_rmsds.append(np.mean(whole_rmsds[j][0]))\n",
    "\n",
    "for i in range(24):\n",
    "    j = np.argmax(obs_probs[i])\n",
    "    ij8_only_rmsds.append(np.mean(whole_rmsds[j][1]))\n",
    "    \n",
    "for i in range(24):\n",
    "    j = np.argmax(obs_probs[i])\n",
    "    apo_only_rmsds.append(np.mean(whole_rmsds[j][2]))\n",
    "    \n",
    "for i in range(24):\n",
    "    j = np.argmax(obs_probs[i])\n",
    "    inh1_only_rmsds.append(np.mean(whole_rmsds[j][3]))\n",
    "    \n",
    "for i in range(24):\n",
    "    j = np.argmax(obs_probs[i])\n",
    "    inh2_only_rmsds.append(np.mean(whole_rmsds[j][4]))    "
   ]
  },
  {
   "cell_type": "code",
   "execution_count": 138,
   "metadata": {},
   "outputs": [],
   "source": [
    "np.savetxt('FINAL_rmsd_data/macro_top_TC_CA_whole.csv', zkk_only_rmsds, delimiter=',')\n",
    "np.savetxt('FINAL_rmsd_data/macro_top_BC-SAM_CA_whole.csv', ij8_only_rmsds, delimiter=',')\n",
    "np.savetxt('FINAL_rmsd_data/macro_top_APO_CA_whole.csv', apo_only_rmsds, delimiter=',')\n",
    "np.savetxt('FINAL_rmsd_data/macro_top_BC-Inh1_CA_whole.csv', inh2_only_rmsds, delimiter=',')\n",
    "np.savetxt('FINAL_rmsd_data/macro_top_BC-Inh2_CA_whole.csv', inh1_only_rmsds, delimiter=',')"
   ]
  },
  {
   "cell_type": "code",
   "execution_count": 139,
   "metadata": {},
   "outputs": [],
   "source": [
    "# whole protein, average"
   ]
  },
  {
   "cell_type": "code",
   "execution_count": 140,
   "metadata": {},
   "outputs": [],
   "source": [
    "zkk_all_microstates = [np.mean(x[0]) for x in whole_rmsds]\n",
    "ij8_all_microstates = [np.mean(x[1]) for x in whole_rmsds]\n",
    "apo_all_microstates = [np.mean(x[2]) for x in whole_rmsds]\n",
    "inh1_all_microstates = [np.mean(x[3]) for x in whole_rmsds]\n",
    "inh2_all_microstates = [np.mean(x[4]) for x in whole_rmsds]\n",
    "\n",
    "zkk_only_rmsds = []\n",
    "ij8_only_rmsds = []\n",
    "apo_only_rmsds = []\n",
    "inh1_only_rmsds = []\n",
    "inh2_only_rmsds = []\n",
    "\n",
    "for i in range(24):\n",
    "    zkk_only_rmsds.append(np.average(zkk_all_microstates, weights=obs_probs[i]))\n",
    "\n",
    "for i in range(24):\n",
    "    ij8_only_rmsds.append(np.average(ij8_all_microstates, weights=obs_probs[i]))\n",
    "    \n",
    "for i in range(24):\n",
    "    apo_only_rmsds.append(np.average(apo_all_microstates, weights=obs_probs[i]))\n",
    "    \n",
    "for i in range(24):\n",
    "    inh1_only_rmsds.append(np.average(inh1_all_microstates, weights=obs_probs[i]))\n",
    "    \n",
    "for i in range(24):\n",
    "    inh2_only_rmsds.append(np.average(inh2_all_microstates, weights=obs_probs[i]))    "
   ]
  },
  {
   "cell_type": "code",
   "execution_count": 141,
   "metadata": {},
   "outputs": [],
   "source": [
    "np.savetxt('FINAL_rmsd_data/macro_avg_TC_CA_whole.csv', zkk_only_rmsds, delimiter=',')\n",
    "np.savetxt('FINAL_rmsd_data/macro_avg_BC-SAM_CA_whole.csv', ij8_only_rmsds, delimiter=',')\n",
    "np.savetxt('FINAL_rmsd_data/macro_avg_APO_CA_whole.csv', apo_only_rmsds, delimiter=',')\n",
    "np.savetxt('FINAL_rmsd_data/macro_avg_BC-Inh1_CA_whole.csv', inh2_only_rmsds, delimiter=',')\n",
    "np.savetxt('FINAL_rmsd_data/macro_avg_BC-Inh2_CA_whole.csv', inh1_only_rmsds, delimiter=',')"
   ]
  },
  {
   "cell_type": "code",
   "execution_count": 142,
   "metadata": {},
   "outputs": [],
   "source": [
    "# SET-I + C-flank, top"
   ]
  },
  {
   "cell_type": "code",
   "execution_count": 143,
   "metadata": {},
   "outputs": [],
   "source": [
    "zkk_only_rmsds = []\n",
    "ij8_only_rmsds = []\n",
    "apo_only_rmsds = []\n",
    "inh1_only_rmsds = []\n",
    "inh2_only_rmsds = []\n",
    "\n",
    "for i in range(24):\n",
    "    j = np.argmax(obs_probs[i])\n",
    "    zkk_only_rmsds.append(np.mean(seti_rmsds[j][0]))\n",
    "\n",
    "for i in range(24):\n",
    "    j = np.argmax(obs_probs[i])\n",
    "    ij8_only_rmsds.append(np.mean(seti_rmsds[j][1]))\n",
    "    \n",
    "for i in range(24):\n",
    "    j = np.argmax(obs_probs[i])\n",
    "    apo_only_rmsds.append(np.mean(seti_rmsds[j][2]))\n",
    "    \n",
    "for i in range(24):\n",
    "    j = np.argmax(obs_probs[i])\n",
    "    inh1_only_rmsds.append(np.mean(seti_rmsds[j][3]))\n",
    "    \n",
    "for i in range(24):\n",
    "    j = np.argmax(obs_probs[i])\n",
    "    inh2_only_rmsds.append(np.mean(seti_rmsds[j][4]))    "
   ]
  },
  {
   "cell_type": "code",
   "execution_count": 144,
   "metadata": {},
   "outputs": [],
   "source": [
    "np.savetxt('FINAL_rmsd_data/macro_top_TC_CA_setipostset.csv', zkk_only_rmsds, delimiter=',')\n",
    "np.savetxt('FINAL_rmsd_data/macro_top_BC-SAM_CA_setipostset.csv', ij8_only_rmsds, delimiter=',')\n",
    "np.savetxt('FINAL_rmsd_data/macro_top_APO_CA_setipostset.csv', apo_only_rmsds, delimiter=',')\n",
    "np.savetxt('FINAL_rmsd_data/macro_top_BC-Inh1_CA_setipostset.csv', inh2_only_rmsds, delimiter=',')\n",
    "np.savetxt('FINAL_rmsd_data/macro_top_BC-Inh2_CA_setipostset.csv', inh1_only_rmsds, delimiter=',')"
   ]
  },
  {
   "cell_type": "code",
   "execution_count": 145,
   "metadata": {},
   "outputs": [],
   "source": [
    "# SET-I + C-flank, average"
   ]
  },
  {
   "cell_type": "code",
   "execution_count": 146,
   "metadata": {},
   "outputs": [],
   "source": [
    "zkk_all_microstates = [np.mean(x[0]) for x in seti_rmsds]\n",
    "ij8_all_microstates = [np.mean(x[1]) for x in seti_rmsds]\n",
    "apo_all_microstates = [np.mean(x[2]) for x in seti_rmsds]\n",
    "inh1_all_microstates = [np.mean(x[3]) for x in seti_rmsds]\n",
    "inh2_all_microstates = [np.mean(x[4]) for x in seti_rmsds]\n",
    "\n",
    "zkk_only_rmsds = []\n",
    "ij8_only_rmsds = []\n",
    "apo_only_rmsds = []\n",
    "inh1_only_rmsds = []\n",
    "inh2_only_rmsds = []\n",
    "\n",
    "for i in range(24):\n",
    "    zkk_only_rmsds.append(np.average(zkk_all_microstates, weights=obs_probs[i]))\n",
    "\n",
    "for i in range(24):\n",
    "    ij8_only_rmsds.append(np.average(ij8_all_microstates, weights=obs_probs[i]))\n",
    "    \n",
    "for i in range(24):\n",
    "    apo_only_rmsds.append(np.average(apo_all_microstates, weights=obs_probs[i]))\n",
    "    \n",
    "for i in range(24):\n",
    "    inh1_only_rmsds.append(np.average(inh1_all_microstates, weights=obs_probs[i]))\n",
    "    \n",
    "for i in range(24):\n",
    "    inh2_only_rmsds.append(np.average(inh2_all_microstates, weights=obs_probs[i]))    "
   ]
  },
  {
   "cell_type": "code",
   "execution_count": 147,
   "metadata": {},
   "outputs": [],
   "source": [
    "np.savetxt('FINAL_rmsd_data/macro_avg_TC_CA_setipostset.csv', zkk_only_rmsds, delimiter=',')\n",
    "np.savetxt('FINAL_rmsd_data/macro_avg_BC-SAM_CA_setipostset.csv', ij8_only_rmsds, delimiter=',')\n",
    "np.savetxt('FINAL_rmsd_data/macro_avg_APO_CA_setipostset.csv', apo_only_rmsds, delimiter=',')\n",
    "np.savetxt('FINAL_rmsd_data/macro_avg_BC-Inh1_CA_setipostset.csv', inh2_only_rmsds, delimiter=',')\n",
    "np.savetxt('FINAL_rmsd_data/macro_avg_BC-Inh2_CA_setipostset.csv', inh1_only_rmsds, delimiter=',')"
   ]
  },
  {
   "cell_type": "code",
   "execution_count": 148,
   "metadata": {},
   "outputs": [],
   "source": [
    "# now repeat everything, but with heavy atom RMSDs"
   ]
  },
  {
   "cell_type": "code",
   "execution_count": 149,
   "metadata": {},
   "outputs": [],
   "source": [
    "whole_rmsds = []\n",
    "seti_rmsds = []\n",
    "selection1_resids = np.concatenate([np.arange(25,59), np.arange(95,145)])\n",
    "selection1 = [atom.index for atom in zkk.top.atoms if atom.residue.index in selection1_resids]\n",
    "\n",
    "for i in range(100):\n",
    "    trajectory = cluster_top10[i]\n",
    "    whole_rmsds.append([])\n",
    "    seti_rmsds.append([])\n",
    "         \n",
    "    # whole protein\n",
    "    reference = zkk                        \n",
    "    trajectory.superpose(reference, atom_indices=selection1)\n",
    "    whole_rmsds[-1].append(np.sqrt(3*np.mean((trajectory.xyz - reference.xyz)**2, axis=(1,2))))\n",
    "    \n",
    "    reference = ij8                       \n",
    "    trajectory.superpose(reference, atom_indices=selection1)\n",
    "    whole_rmsds[-1].append(np.sqrt(3*np.mean((trajectory.xyz - reference.xyz)**2, axis=(1,2))))\n",
    "                            \n",
    "    reference = apo                        \n",
    "    trajectory.superpose(reference, atom_indices=selection1)\n",
    "    whole_rmsds[-1].append(np.sqrt(3*np.mean((trajectory.xyz - reference.xyz)**2, axis=(1,2))))\n",
    "    \n",
    "    reference = inh1                        \n",
    "    trajectory.superpose(reference, atom_indices=selection1)\n",
    "    whole_rmsds[-1].append(np.sqrt(3*np.mean((trajectory.xyz - reference.xyz)**2, axis=(1,2))))\n",
    "    \n",
    "    reference = inh2                       \n",
    "    trajectory.superpose(reference, atom_indices=selection1)\n",
    "    whole_rmsds[-1].append(np.sqrt(3*np.mean((trajectory.xyz - reference.xyz)**2, axis=(1,2))))\n",
    "    \n",
    "    # SETI + C-flank\n",
    "    selection2_resids = np.concatenate([np.arange(59,95), np.arange(145,162)])\n",
    "    selection2 = [atom.index for atom in zkk.top.atoms if atom.residue.index in selection2_resids]\n",
    "                            \n",
    "    reference = zkk            \n",
    "    trajectory.superpose(reference, atom_indices=selection1)\n",
    "    seti_rmsds[-1].append(np.sqrt(3*np.mean((trajectory.xyz[:, selection2, :] - reference.xyz[:, selection2, :])**2, axis=(1,2))))\n",
    "    \n",
    "    reference = ij8           \n",
    "    trajectory.superpose(reference, atom_indices=selection1)\n",
    "    seti_rmsds[-1].append(np.sqrt(3*np.mean((trajectory.xyz[:, selection2, :] - reference.xyz[:, selection2, :])**2, axis=(1,2))))                  \n",
    "    \n",
    "    reference = apo            \n",
    "    trajectory.superpose(reference, atom_indices=selection1)\n",
    "    seti_rmsds[-1].append(np.sqrt(3*np.mean((trajectory.xyz[:, selection2, :] - reference.xyz[:, selection2, :])**2, axis=(1,2))))\n",
    "    \n",
    "    reference = inh1            \n",
    "    trajectory.superpose(reference, atom_indices=selection1)\n",
    "    seti_rmsds[-1].append(np.sqrt(3*np.mean((trajectory.xyz[:, selection2, :] - reference.xyz[:, selection2, :])**2, axis=(1,2))))\n",
    "    \n",
    "    reference = inh2           \n",
    "    trajectory.superpose(reference, atom_indices=selection1)\n",
    "    seti_rmsds[-1].append(np.sqrt(3*np.mean((trajectory.xyz[:, selection2, :] - reference.xyz[:, selection2, :])**2, axis=(1,2))))"
   ]
  },
  {
   "cell_type": "code",
   "execution_count": 150,
   "metadata": {},
   "outputs": [],
   "source": [
    "zkk_only_rmsds_micro = []\n",
    "ij8_only_rmsds_micro = []\n",
    "apo_only_rmsds_micro = []\n",
    "inh1_only_rmsds_micro = []\n",
    "inh2_only_rmsds_micro = []\n",
    "\n",
    "for i in range(100):\n",
    "    zkk_only_rmsds_micro.append(np.mean(whole_rmsds[i][0]))\n",
    "\n",
    "for i in range(100):\n",
    "    ij8_only_rmsds_micro.append(np.mean(whole_rmsds[i][1]))\n",
    "    \n",
    "for i in range(100):\n",
    "    apo_only_rmsds_micro.append(np.mean(whole_rmsds[i][2]))\n",
    "    \n",
    "for i in range(100):\n",
    "    inh1_only_rmsds_micro.append(np.mean(whole_rmsds[i][3]))\n",
    "    \n",
    "for i in range(100):\n",
    "    inh2_only_rmsds_micro.append(np.mean(whole_rmsds[i][4]))    "
   ]
  },
  {
   "cell_type": "code",
   "execution_count": 151,
   "metadata": {},
   "outputs": [],
   "source": [
    "np.savetxt('FINAL_rmsd_data/micro_TC_heavyatom_whole.csv', zkk_only_rmsds_micro, delimiter=',')\n",
    "np.savetxt('FINAL_rmsd_data/micro_BC-SAM_heavyatom_whole.csv', ij8_only_rmsds_micro, delimiter=',')\n",
    "np.savetxt('FINAL_rmsd_data/micro_APO_heavyatom_whole.csv', apo_only_rmsds_micro, delimiter=',')\n",
    "np.savetxt('FINAL_rmsd_data/micro_BC-Inh1_heavyatom_whole.csv', inh2_only_rmsds_micro, delimiter=',')\n",
    "np.savetxt('FINAL_rmsd_data/micro_BC-Inh2_heavyatom_whole.csv', inh1_only_rmsds_micro, delimiter=',')"
   ]
  },
  {
   "cell_type": "code",
   "execution_count": 152,
   "metadata": {},
   "outputs": [],
   "source": [
    "zkk_only_rmsds_micro = []\n",
    "ij8_only_rmsds_micro = []\n",
    "apo_only_rmsds_micro = []\n",
    "inh1_only_rmsds_micro = []\n",
    "inh2_only_rmsds_micro = []\n",
    "\n",
    "for i in range(100):\n",
    "    zkk_only_rmsds_micro.append(np.mean(seti_rmsds[i][0]))\n",
    "\n",
    "for i in range(100):\n",
    "    ij8_only_rmsds_micro.append(np.mean(seti_rmsds[i][1]))\n",
    "    \n",
    "for i in range(100):\n",
    "    apo_only_rmsds_micro.append(np.mean(seti_rmsds[i][2]))\n",
    "    \n",
    "for i in range(100):\n",
    "    inh1_only_rmsds_micro.append(np.mean(seti_rmsds[i][3]))\n",
    "    \n",
    "for i in range(100):\n",
    "    inh2_only_rmsds_micro.append(np.mean(seti_rmsds[i][4]))    "
   ]
  },
  {
   "cell_type": "code",
   "execution_count": 153,
   "metadata": {},
   "outputs": [],
   "source": [
    "np.savetxt('FINAL_rmsd_data/micro_TC_heavyatom_setipostset.csv', zkk_only_rmsds_micro, delimiter=',')\n",
    "np.savetxt('FINAL_rmsd_data/micro_BC-SAM_heavyatom_setipostset.csv', ij8_only_rmsds_micro, delimiter=',')\n",
    "np.savetxt('FINAL_rmsd_data/micro_APO_heavyatom_setipostset.csv', apo_only_rmsds_micro, delimiter=',')\n",
    "np.savetxt('FINAL_rmsd_data/micro_BC-Inh1_heavyatom_setipostset.csv', inh2_only_rmsds_micro, delimiter=',')\n",
    "np.savetxt('FINAL_rmsd_data/micro_BC-Inh2_heavyatom_setipostset.csv', inh1_only_rmsds_micro, delimiter=',')"
   ]
  },
  {
   "cell_type": "code",
   "execution_count": 154,
   "metadata": {},
   "outputs": [],
   "source": [
    "zkk_only_rmsds = []\n",
    "ij8_only_rmsds = []\n",
    "apo_only_rmsds = []\n",
    "inh1_only_rmsds = []\n",
    "inh2_only_rmsds = []\n",
    "\n",
    "for i in range(24):\n",
    "    j = np.argmax(obs_probs[i])\n",
    "    zkk_only_rmsds.append(np.mean(whole_rmsds[j][0]))\n",
    "\n",
    "for i in range(24):\n",
    "    j = np.argmax(obs_probs[i])\n",
    "    ij8_only_rmsds.append(np.mean(whole_rmsds[j][1]))\n",
    "    \n",
    "for i in range(24):\n",
    "    j = np.argmax(obs_probs[i])\n",
    "    apo_only_rmsds.append(np.mean(whole_rmsds[j][2]))\n",
    "    \n",
    "for i in range(24):\n",
    "    j = np.argmax(obs_probs[i])\n",
    "    inh1_only_rmsds.append(np.mean(whole_rmsds[j][3]))\n",
    "    \n",
    "for i in range(24):\n",
    "    j = np.argmax(obs_probs[i])\n",
    "    inh2_only_rmsds.append(np.mean(whole_rmsds[j][4]))    "
   ]
  },
  {
   "cell_type": "code",
   "execution_count": 155,
   "metadata": {},
   "outputs": [],
   "source": [
    "np.savetxt('FINAL_rmsd_data/macro_top_TC_heavyatom_whole.csv', zkk_only_rmsds, delimiter=',')\n",
    "np.savetxt('FINAL_rmsd_data/macro_top_BC-SAM_heavyatom_whole.csv', ij8_only_rmsds, delimiter=',')\n",
    "np.savetxt('FINAL_rmsd_data/macro_top_APO_heavyatom_whole.csv', apo_only_rmsds, delimiter=',')\n",
    "np.savetxt('FINAL_rmsd_data/macro_top_BC-Inh1_heavyatom_whole.csv', inh2_only_rmsds, delimiter=',')\n",
    "np.savetxt('FINAL_rmsd_data/macro_top_BC-Inh2_heavyatom_whole.csv', inh1_only_rmsds, delimiter=',')"
   ]
  },
  {
   "cell_type": "code",
   "execution_count": 156,
   "metadata": {},
   "outputs": [],
   "source": [
    "zkk_all_microstates = [np.mean(x[0]) for x in whole_rmsds]\n",
    "ij8_all_microstates = [np.mean(x[1]) for x in whole_rmsds]\n",
    "apo_all_microstates = [np.mean(x[2]) for x in whole_rmsds]\n",
    "inh1_all_microstates = [np.mean(x[3]) for x in whole_rmsds]\n",
    "inh2_all_microstates = [np.mean(x[4]) for x in whole_rmsds]\n",
    "\n",
    "zkk_only_rmsds = []\n",
    "ij8_only_rmsds = []\n",
    "apo_only_rmsds = []\n",
    "inh1_only_rmsds = []\n",
    "inh2_only_rmsds = []\n",
    "\n",
    "for i in range(24):\n",
    "    zkk_only_rmsds.append(np.average(zkk_all_microstates, weights=obs_probs[i]))\n",
    "\n",
    "for i in range(24):\n",
    "    ij8_only_rmsds.append(np.average(ij8_all_microstates, weights=obs_probs[i]))\n",
    "    \n",
    "for i in range(24):\n",
    "    apo_only_rmsds.append(np.average(apo_all_microstates, weights=obs_probs[i]))\n",
    "    \n",
    "for i in range(24):\n",
    "    inh1_only_rmsds.append(np.average(inh1_all_microstates, weights=obs_probs[i]))\n",
    "    \n",
    "for i in range(24):\n",
    "    inh2_only_rmsds.append(np.average(inh2_all_microstates, weights=obs_probs[i]))    "
   ]
  },
  {
   "cell_type": "code",
   "execution_count": 157,
   "metadata": {},
   "outputs": [],
   "source": [
    "np.savetxt('FINAL_rmsd_data/macro_avg_TC_heavyatom_whole.csv', zkk_only_rmsds, delimiter=',')\n",
    "np.savetxt('FINAL_rmsd_data/macro_avg_BC-SAM_heavyatom_whole.csv', ij8_only_rmsds, delimiter=',')\n",
    "np.savetxt('FINAL_rmsd_data/macro_avg_APO_heavyatom_whole.csv', apo_only_rmsds, delimiter=',')\n",
    "np.savetxt('FINAL_rmsd_data/macro_avg_BC-Inh1_heavyatom_whole.csv', inh2_only_rmsds, delimiter=',')\n",
    "np.savetxt('FINAL_rmsd_data/macro_avg_BC-Inh2_heavyatom_whole.csv', inh1_only_rmsds, delimiter=',')"
   ]
  },
  {
   "cell_type": "code",
   "execution_count": 158,
   "metadata": {},
   "outputs": [],
   "source": [
    "zkk_only_rmsds = []\n",
    "ij8_only_rmsds = []\n",
    "apo_only_rmsds = []\n",
    "inh1_only_rmsds = []\n",
    "inh2_only_rmsds = []\n",
    "\n",
    "for i in range(24):\n",
    "    j = np.argmax(obs_probs[i])\n",
    "    zkk_only_rmsds.append(np.mean(seti_rmsds[j][0]))\n",
    "\n",
    "for i in range(24):\n",
    "    j = np.argmax(obs_probs[i])\n",
    "    ij8_only_rmsds.append(np.mean(seti_rmsds[j][1]))\n",
    "    \n",
    "for i in range(24):\n",
    "    j = np.argmax(obs_probs[i])\n",
    "    apo_only_rmsds.append(np.mean(seti_rmsds[j][2]))\n",
    "    \n",
    "for i in range(24):\n",
    "    j = np.argmax(obs_probs[i])\n",
    "    inh1_only_rmsds.append(np.mean(seti_rmsds[j][3]))\n",
    "    \n",
    "for i in range(24):\n",
    "    j = np.argmax(obs_probs[i])\n",
    "    inh2_only_rmsds.append(np.mean(seti_rmsds[j][4]))    "
   ]
  },
  {
   "cell_type": "code",
   "execution_count": 159,
   "metadata": {},
   "outputs": [],
   "source": [
    "np.savetxt('FINAL_rmsd_data/macro_top_TC_heavyatom_setipostset.csv', zkk_only_rmsds, delimiter=',')\n",
    "np.savetxt('FINAL_rmsd_data/macro_top_BC-SAM_heavyatom_setipostset.csv', ij8_only_rmsds, delimiter=',')\n",
    "np.savetxt('FINAL_rmsd_data/macro_top_APO_heavyatom_setipostset.csv', apo_only_rmsds, delimiter=',')\n",
    "np.savetxt('FINAL_rmsd_data/macro_top_BC-Inh1_heavyatom_setipostset.csv', inh2_only_rmsds, delimiter=',')\n",
    "np.savetxt('FINAL_rmsd_data/macro_top_BC-Inh2_heavyatom_setipostset.csv', inh1_only_rmsds, delimiter=',')"
   ]
  },
  {
   "cell_type": "code",
   "execution_count": 160,
   "metadata": {},
   "outputs": [],
   "source": [
    "zkk_all_microstates = [np.mean(x[0]) for x in seti_rmsds]\n",
    "ij8_all_microstates = [np.mean(x[1]) for x in seti_rmsds]\n",
    "apo_all_microstates = [np.mean(x[2]) for x in seti_rmsds]\n",
    "inh1_all_microstates = [np.mean(x[3]) for x in seti_rmsds]\n",
    "inh2_all_microstates = [np.mean(x[4]) for x in seti_rmsds]\n",
    "\n",
    "zkk_only_rmsds = []\n",
    "ij8_only_rmsds = []\n",
    "apo_only_rmsds = []\n",
    "inh1_only_rmsds = []\n",
    "inh2_only_rmsds = []\n",
    "\n",
    "for i in range(24):\n",
    "    zkk_only_rmsds.append(np.average(zkk_all_microstates, weights=obs_probs[i]))\n",
    "\n",
    "for i in range(24):\n",
    "    ij8_only_rmsds.append(np.average(ij8_all_microstates, weights=obs_probs[i]))\n",
    "    \n",
    "for i in range(24):\n",
    "    apo_only_rmsds.append(np.average(apo_all_microstates, weights=obs_probs[i]))\n",
    "    \n",
    "for i in range(24):\n",
    "    inh1_only_rmsds.append(np.average(inh1_all_microstates, weights=obs_probs[i]))\n",
    "    \n",
    "for i in range(24):\n",
    "    inh2_only_rmsds.append(np.average(inh2_all_microstates, weights=obs_probs[i]))    "
   ]
  },
  {
   "cell_type": "code",
   "execution_count": 161,
   "metadata": {},
   "outputs": [],
   "source": [
    "np.savetxt('FINAL_rmsd_data/macro_avg_TC_heavyatom_setipostset.csv', zkk_only_rmsds, delimiter=',')\n",
    "np.savetxt('FINAL_rmsd_data/macro_avg_BC-SAM_heavyatom_setipostset.csv', ij8_only_rmsds, delimiter=',')\n",
    "np.savetxt('FINAL_rmsd_data/macro_avg_APO_heavyatom_setipostset.csv', apo_only_rmsds, delimiter=',')\n",
    "np.savetxt('FINAL_rmsd_data/macro_avg_BC-Inh1_heavyatom_setipostset.csv', inh2_only_rmsds, delimiter=',')\n",
    "np.savetxt('FINAL_rmsd_data/macro_avg_BC-Inh2_heavyatom_setipostset.csv', inh1_only_rmsds, delimiter=',')"
   ]
  },
  {
   "cell_type": "code",
   "execution_count": null,
   "metadata": {},
   "outputs": [],
   "source": []
  }
 ],
 "metadata": {
  "kernelspec": {
   "display_name": "Python [conda root]",
   "language": "python",
   "name": "conda-root-py"
  },
  "language_info": {
   "codemirror_mode": {
    "name": "ipython",
    "version": 3
   },
   "file_extension": ".py",
   "mimetype": "text/x-python",
   "name": "python",
   "nbconvert_exporter": "python",
   "pygments_lexer": "ipython3",
   "version": "3.5.2"
  }
 },
 "nbformat": 4,
 "nbformat_minor": 1
}
