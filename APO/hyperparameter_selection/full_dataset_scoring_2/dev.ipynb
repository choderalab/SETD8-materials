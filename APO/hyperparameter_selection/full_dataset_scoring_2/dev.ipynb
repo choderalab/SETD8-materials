{
 "cells": [
  {
   "cell_type": "code",
   "execution_count": 1,
   "metadata": {},
   "outputs": [],
   "source": [
    "# checking here what error I get with the dih_3000_3 and how much data we keep with increasing ergodic cutoffs"
   ]
  },
  {
   "cell_type": "code",
   "execution_count": 2,
   "metadata": {},
   "outputs": [
    {
     "name": "stderr",
     "output_type": "stream",
     "text": [
      "/anaconda3/lib/python3.6/site-packages/pyemma/__init__.py:130: UserWarning: You are not using the latest release of PyEMMA. Latest is 2.5.2, you have 2.5.1.\n",
      "  .format(latest=latest, current=current), category=UserWarning)\n"
     ]
    }
   ],
   "source": [
    "import numpy as np\n",
    "import pyemma"
   ]
  },
  {
   "cell_type": "code",
   "execution_count": 4,
   "metadata": {},
   "outputs": [
    {
     "name": "stdout",
     "output_type": "stream",
     "text": [
      "1000_0_test.npy   100_4_test.npy    3000_3_test.npy   5000_2_test.npy\r\n",
      "1000_0_train.npy  100_4_train.npy   3000_3_train.npy  5000_2_train.npy\r\n",
      "1000_1_test.npy   2000_0_test.npy   3000_4_test.npy   5000_3_test.npy\r\n",
      "1000_1_train.npy  2000_0_train.npy  3000_4_train.npy  5000_3_train.npy\r\n",
      "1000_2_test.npy   2000_1_test.npy   4000_0_test.npy   5000_4_test.npy\r\n",
      "1000_2_train.npy  2000_1_train.npy  4000_0_train.npy  5000_4_train.npy\r\n",
      "1000_3_test.npy   2000_2_test.npy   4000_1_test.npy   500_0_test.npy\r\n",
      "1000_3_train.npy  2000_2_train.npy  4000_1_train.npy  500_0_train.npy\r\n",
      "1000_4_test.npy   2000_3_test.npy   4000_2_test.npy   500_1_test.npy\r\n",
      "1000_4_train.npy  2000_3_train.npy  4000_2_train.npy  500_1_train.npy\r\n",
      "100_0_test.npy    2000_4_test.npy   4000_3_test.npy   500_2_test.npy\r\n",
      "100_0_train.npy   2000_4_train.npy  4000_3_train.npy  500_2_train.npy\r\n",
      "100_1_test.npy    3000_0_test.npy   4000_4_test.npy   500_3_test.npy\r\n",
      "100_1_train.npy   3000_0_train.npy  4000_4_train.npy  500_3_train.npy\r\n",
      "100_2_test.npy    3000_1_test.npy   5000_0_test.npy   500_4_test.npy\r\n",
      "100_2_train.npy   3000_1_train.npy  5000_0_train.npy  500_4_train.npy\r\n",
      "100_3_test.npy    3000_2_test.npy   5000_1_test.npy\r\n",
      "100_3_train.npy   3000_2_train.npy  5000_1_train.npy\r\n"
     ]
    }
   ],
   "source": [
    "ls dih_dtrajs"
   ]
  },
  {
   "cell_type": "code",
   "execution_count": 10,
   "metadata": {},
   "outputs": [],
   "source": [
    "dih_3000_3_train = list(np.load('dih_dtrajs/3000_3_train.npy'))\n",
    "dih_3000_3_test = list(np.load('dih_dtrajs/3000_3_test.npy'))"
   ]
  },
  {
   "cell_type": "code",
   "execution_count": 11,
   "metadata": {},
   "outputs": [
    {
     "ename": "Exception",
     "evalue": "Stationary distribution contains entries smaller than 1e-15 during iteration",
     "output_type": "error",
     "traceback": [
      "\u001b[0;31m---------------------------------------------------------------------------\u001b[0m",
      "\u001b[0;31mException\u001b[0m                                 Traceback (most recent call last)",
      "\u001b[0;32m<ipython-input-11-44a237618921>\u001b[0m in \u001b[0;36m<module>\u001b[0;34m()\u001b[0m\n\u001b[0;32m----> 1\u001b[0;31m \u001b[0mmsm\u001b[0m \u001b[0;34m=\u001b[0m \u001b[0mpyemma\u001b[0m\u001b[0;34m.\u001b[0m\u001b[0mmsm\u001b[0m\u001b[0;34m.\u001b[0m\u001b[0mestimate_markov_model\u001b[0m\u001b[0;34m(\u001b[0m\u001b[0mdih_3000_3_train\u001b[0m\u001b[0;34m,\u001b[0m \u001b[0;36m100\u001b[0m\u001b[0;34m)\u001b[0m\u001b[0;34m\u001b[0m\u001b[0m\n\u001b[0m",
      "\u001b[0;32m/anaconda3/lib/python3.6/site-packages/pyemma/msm/api.py\u001b[0m in \u001b[0;36mestimate_markov_model\u001b[0;34m(dtrajs, lag, reversible, statdist, count_mode, weights, sparse, connectivity, dt_traj, maxiter, maxerr, score_method, score_k, mincount_connectivity)\u001b[0m\n\u001b[1;32m    606\u001b[0m                         mincount_connectivity=mincount_connectivity)\n\u001b[1;32m    607\u001b[0m         \u001b[0;31m# estimate and return\u001b[0m\u001b[0;34m\u001b[0m\u001b[0;34m\u001b[0m\u001b[0m\n\u001b[0;32m--> 608\u001b[0;31m         \u001b[0;32mreturn\u001b[0m \u001b[0mmlmsm\u001b[0m\u001b[0;34m.\u001b[0m\u001b[0mestimate\u001b[0m\u001b[0;34m(\u001b[0m\u001b[0mdtrajs\u001b[0m\u001b[0;34m)\u001b[0m\u001b[0;34m\u001b[0m\u001b[0m\n\u001b[0m\u001b[1;32m    609\u001b[0m     \u001b[0;32melif\u001b[0m \u001b[0mweights\u001b[0m \u001b[0;34m==\u001b[0m \u001b[0;34m'oom'\u001b[0m\u001b[0;34m:\u001b[0m\u001b[0;34m\u001b[0m\u001b[0m\n\u001b[1;32m    610\u001b[0m         \u001b[0;32mif\u001b[0m \u001b[0;34m(\u001b[0m\u001b[0mstatdist\u001b[0m \u001b[0;32mis\u001b[0m \u001b[0;32mnot\u001b[0m \u001b[0;32mNone\u001b[0m\u001b[0;34m)\u001b[0m \u001b[0;32mor\u001b[0m \u001b[0;34m(\u001b[0m\u001b[0mmaxiter\u001b[0m \u001b[0;34m!=\u001b[0m \u001b[0;36m1000000\u001b[0m\u001b[0;34m)\u001b[0m \u001b[0;32mor\u001b[0m \u001b[0;34m(\u001b[0m\u001b[0mmaxerr\u001b[0m \u001b[0;34m!=\u001b[0m \u001b[0;36m1e-8\u001b[0m\u001b[0;34m)\u001b[0m\u001b[0;34m:\u001b[0m\u001b[0;34m\u001b[0m\u001b[0m\n",
      "\u001b[0;32m/anaconda3/lib/python3.6/site-packages/pyemma/msm/estimators/maximum_likelihood_msm.py\u001b[0m in \u001b[0;36mestimate\u001b[0;34m(self, dtrajs, **kwargs)\u001b[0m\n\u001b[1;32m    212\u001b[0m         \"\"\"\n\u001b[1;32m    213\u001b[0m         \u001b[0mdtrajs\u001b[0m \u001b[0;34m=\u001b[0m \u001b[0mensure_dtraj_list\u001b[0m\u001b[0;34m(\u001b[0m\u001b[0mdtrajs\u001b[0m\u001b[0;34m)\u001b[0m  \u001b[0;31m# ensure format\u001b[0m\u001b[0;34m\u001b[0m\u001b[0m\n\u001b[0;32m--> 214\u001b[0;31m         \u001b[0;32mreturn\u001b[0m \u001b[0msuper\u001b[0m\u001b[0;34m(\u001b[0m\u001b[0m_MSMEstimator\u001b[0m\u001b[0;34m,\u001b[0m \u001b[0mself\u001b[0m\u001b[0;34m)\u001b[0m\u001b[0;34m.\u001b[0m\u001b[0mestimate\u001b[0m\u001b[0;34m(\u001b[0m\u001b[0mdtrajs\u001b[0m\u001b[0;34m,\u001b[0m \u001b[0;34m**\u001b[0m\u001b[0mkwargs\u001b[0m\u001b[0;34m)\u001b[0m\u001b[0;34m\u001b[0m\u001b[0m\n\u001b[0m\u001b[1;32m    215\u001b[0m \u001b[0;34m\u001b[0m\u001b[0m\n\u001b[1;32m    216\u001b[0m     \u001b[0;32mdef\u001b[0m \u001b[0m_check_is_estimated\u001b[0m\u001b[0;34m(\u001b[0m\u001b[0mself\u001b[0m\u001b[0;34m)\u001b[0m\u001b[0;34m:\u001b[0m\u001b[0;34m\u001b[0m\u001b[0m\n",
      "\u001b[0;32m/anaconda3/lib/python3.6/site-packages/pyemma/_base/estimator.py\u001b[0m in \u001b[0;36mestimate\u001b[0;34m(self, X, **params)\u001b[0m\n\u001b[1;32m    410\u001b[0m         \u001b[0;32mif\u001b[0m \u001b[0mparams\u001b[0m\u001b[0;34m:\u001b[0m\u001b[0;34m\u001b[0m\u001b[0m\n\u001b[1;32m    411\u001b[0m             \u001b[0mself\u001b[0m\u001b[0;34m.\u001b[0m\u001b[0mset_params\u001b[0m\u001b[0;34m(\u001b[0m\u001b[0;34m**\u001b[0m\u001b[0mparams\u001b[0m\u001b[0;34m)\u001b[0m\u001b[0;34m\u001b[0m\u001b[0m\n\u001b[0;32m--> 412\u001b[0;31m         \u001b[0mself\u001b[0m\u001b[0;34m.\u001b[0m\u001b[0m_model\u001b[0m \u001b[0;34m=\u001b[0m \u001b[0mself\u001b[0m\u001b[0;34m.\u001b[0m\u001b[0m_estimate\u001b[0m\u001b[0;34m(\u001b[0m\u001b[0mX\u001b[0m\u001b[0;34m)\u001b[0m\u001b[0;34m\u001b[0m\u001b[0m\n\u001b[0m\u001b[1;32m    413\u001b[0m         \u001b[0mself\u001b[0m\u001b[0;34m.\u001b[0m\u001b[0m_estimated\u001b[0m \u001b[0;34m=\u001b[0m \u001b[0;32mTrue\u001b[0m\u001b[0;34m\u001b[0m\u001b[0m\n\u001b[1;32m    414\u001b[0m         \u001b[0;32mreturn\u001b[0m \u001b[0mself\u001b[0m\u001b[0;34m\u001b[0m\u001b[0m\n",
      "\u001b[0;32m/anaconda3/lib/python3.6/site-packages/pyemma/msm/estimators/maximum_likelihood_msm.py\u001b[0m in \u001b[0;36m_estimate\u001b[0;34m(self, dtrajs)\u001b[0m\n\u001b[1;32m   1092\u001b[0m             P = msmest.transition_matrix(self._C_active, reversible=self.reversible,\n\u001b[1;32m   1093\u001b[0m                                          \u001b[0mmu\u001b[0m\u001b[0;34m=\u001b[0m\u001b[0mstatdist_active\u001b[0m\u001b[0;34m,\u001b[0m \u001b[0mmaxiter\u001b[0m\u001b[0;34m=\u001b[0m\u001b[0mself\u001b[0m\u001b[0;34m.\u001b[0m\u001b[0mmaxiter\u001b[0m\u001b[0;34m,\u001b[0m\u001b[0;34m\u001b[0m\u001b[0m\n\u001b[0;32m-> 1094\u001b[0;31m                                          maxerr=self.maxerr)\n\u001b[0m\u001b[1;32m   1095\u001b[0m         \u001b[0;32melif\u001b[0m \u001b[0mself\u001b[0m\u001b[0;34m.\u001b[0m\u001b[0mconnectivity\u001b[0m \u001b[0;34m==\u001b[0m \u001b[0;34m'none'\u001b[0m\u001b[0;34m:\u001b[0m\u001b[0;34m\u001b[0m\u001b[0m\n\u001b[1;32m   1096\u001b[0m             \u001b[0;31m# reversible mode only possible if active set is connected\u001b[0m\u001b[0;34m\u001b[0m\u001b[0;34m\u001b[0m\u001b[0m\n",
      "\u001b[0;32m/anaconda3/lib/python3.6/site-packages/msmtools/estimation/api.py\u001b[0m in \u001b[0;36mtransition_matrix\u001b[0;34m(C, reversible, mu, method, **kwargs)\u001b[0m\n\u001b[1;32m    936\u001b[0m                     \u001b[0mT\u001b[0m \u001b[0;34m=\u001b[0m \u001b[0msparse\u001b[0m\u001b[0;34m.\u001b[0m\u001b[0mtransition_matrix\u001b[0m\u001b[0;34m.\u001b[0m\u001b[0mtransition_matrix_reversible_pisym\u001b[0m\u001b[0;34m(\u001b[0m\u001b[0mC\u001b[0m\u001b[0;34m)\u001b[0m\u001b[0;34m\u001b[0m\u001b[0m\n\u001b[1;32m    937\u001b[0m                 \u001b[0;32melse\u001b[0m\u001b[0;34m:\u001b[0m\u001b[0;34m\u001b[0m\u001b[0m\n\u001b[0;32m--> 938\u001b[0;31m                     \u001b[0mT\u001b[0m \u001b[0;34m=\u001b[0m \u001b[0msparse\u001b[0m\u001b[0;34m.\u001b[0m\u001b[0mmle_trev\u001b[0m\u001b[0;34m.\u001b[0m\u001b[0mmle_trev\u001b[0m\u001b[0;34m(\u001b[0m\u001b[0mC\u001b[0m\u001b[0;34m,\u001b[0m \u001b[0;34m**\u001b[0m\u001b[0mkwargs\u001b[0m\u001b[0;34m)\u001b[0m\u001b[0;34m\u001b[0m\u001b[0m\n\u001b[0m\u001b[1;32m    939\u001b[0m             \u001b[0;32melse\u001b[0m\u001b[0;34m:\u001b[0m\u001b[0;34m\u001b[0m\u001b[0m\n\u001b[1;32m    940\u001b[0m                 \u001b[0;32mif\u001b[0m \u001b[0mrev_pisym\u001b[0m\u001b[0;34m:\u001b[0m\u001b[0;34m\u001b[0m\u001b[0m\n",
      "\u001b[0;32mmsmtools/estimation/sparse/mle_trev.pyx\u001b[0m in \u001b[0;36mmsmtools.estimation.sparse.mle_trev.mle_trev\u001b[0;34m()\u001b[0m\n",
      "\u001b[0;31mException\u001b[0m: Stationary distribution contains entries smaller than 1e-15 during iteration"
     ]
    }
   ],
   "source": [
    "msm = pyemma.msm.estimate_markov_model(dih_3000_3_train, 100)"
   ]
  },
  {
   "cell_type": "code",
   "execution_count": 12,
   "metadata": {},
   "outputs": [],
   "source": [
    "# now increase ergodic cutoff"
   ]
  },
  {
   "cell_type": "code",
   "execution_count": 31,
   "metadata": {},
   "outputs": [],
   "source": [
    "msm = pyemma.msm.estimate_markov_model(dih_3000_3_train, 100, mincount_connectivity=2)"
   ]
  },
  {
   "cell_type": "code",
   "execution_count": 24,
   "metadata": {},
   "outputs": [
    {
     "data": {
      "text/plain": [
       "0.43666666666666665"
      ]
     },
     "execution_count": 24,
     "metadata": {},
     "output_type": "execute_result"
    }
   ],
   "source": [
    "msm.active_count_fraction"
   ]
  },
  {
   "cell_type": "code",
   "execution_count": 33,
   "metadata": {},
   "outputs": [
    {
     "data": {
      "text/plain": [
       "0.43666666666666665"
      ]
     },
     "execution_count": 33,
     "metadata": {},
     "output_type": "execute_result"
    }
   ],
   "source": [
    "msm.active_state_fraction"
   ]
  },
  {
   "cell_type": "code",
   "execution_count": null,
   "metadata": {},
   "outputs": [],
   "source": [
    "# more errors - dih_5000_2, dih_5000_3 and dist_5000_0"
   ]
  },
  {
   "cell_type": "code",
   "execution_count": 36,
   "metadata": {},
   "outputs": [],
   "source": [
    "dih_5000_2_train = list(np.load('dih_dtrajs/5000_2_train.npy'))\n",
    "dih_5000_2_test = list(np.load('dih_dtrajs/5000_2_test.npy'))"
   ]
  },
  {
   "cell_type": "code",
   "execution_count": 37,
   "metadata": {},
   "outputs": [],
   "source": [
    "dih_5000_3_train = list(np.load('dih_dtrajs/5000_3_train.npy'))\n",
    "dih_5000_3_test = list(np.load('dih_dtrajs/5000_3_test.npy'))"
   ]
  },
  {
   "cell_type": "code",
   "execution_count": 50,
   "metadata": {},
   "outputs": [],
   "source": [
    "dist_5000_0_train = list(np.load('dist_dtrajs/5000_0_train.npy'))\n",
    "dist_5000_0_test = list(np.load('dist_dtrajs/5000_0_test.npy'))"
   ]
  },
  {
   "cell_type": "code",
   "execution_count": 39,
   "metadata": {},
   "outputs": [
    {
     "name": "stdout",
     "output_type": "stream",
     "text": [
      "16-04-18 23:49:19 pyemma.msm.estimators.maximum_likelihood_msm.MaximumLikelihoodMSM[0] WARNING  Building a dense MSM with 5000 states. This can be inefficient or unfeasible in terms of both runtime and memory consumption. Consider using sparse=True.\n"
     ]
    },
    {
     "ename": "Exception",
     "evalue": "Stationary distribution contains entries smaller than 1e-15 during iteration",
     "output_type": "error",
     "traceback": [
      "\u001b[0;31m---------------------------------------------------------------------------\u001b[0m",
      "\u001b[0;31mException\u001b[0m                                 Traceback (most recent call last)",
      "\u001b[0;32m<ipython-input-39-e72956ae5150>\u001b[0m in \u001b[0;36m<module>\u001b[0;34m()\u001b[0m\n\u001b[0;32m----> 1\u001b[0;31m \u001b[0mmsm\u001b[0m \u001b[0;34m=\u001b[0m \u001b[0mpyemma\u001b[0m\u001b[0;34m.\u001b[0m\u001b[0mmsm\u001b[0m\u001b[0;34m.\u001b[0m\u001b[0mestimate_markov_model\u001b[0m\u001b[0;34m(\u001b[0m\u001b[0mdih_5000_2_train\u001b[0m\u001b[0;34m,\u001b[0m \u001b[0;36m100\u001b[0m\u001b[0;34m)\u001b[0m\u001b[0;34m\u001b[0m\u001b[0m\n\u001b[0m",
      "\u001b[0;32m/anaconda3/lib/python3.6/site-packages/pyemma/msm/api.py\u001b[0m in \u001b[0;36mestimate_markov_model\u001b[0;34m(dtrajs, lag, reversible, statdist, count_mode, weights, sparse, connectivity, dt_traj, maxiter, maxerr, score_method, score_k, mincount_connectivity)\u001b[0m\n\u001b[1;32m    606\u001b[0m                         mincount_connectivity=mincount_connectivity)\n\u001b[1;32m    607\u001b[0m         \u001b[0;31m# estimate and return\u001b[0m\u001b[0;34m\u001b[0m\u001b[0;34m\u001b[0m\u001b[0m\n\u001b[0;32m--> 608\u001b[0;31m         \u001b[0;32mreturn\u001b[0m \u001b[0mmlmsm\u001b[0m\u001b[0;34m.\u001b[0m\u001b[0mestimate\u001b[0m\u001b[0;34m(\u001b[0m\u001b[0mdtrajs\u001b[0m\u001b[0;34m)\u001b[0m\u001b[0;34m\u001b[0m\u001b[0m\n\u001b[0m\u001b[1;32m    609\u001b[0m     \u001b[0;32melif\u001b[0m \u001b[0mweights\u001b[0m \u001b[0;34m==\u001b[0m \u001b[0;34m'oom'\u001b[0m\u001b[0;34m:\u001b[0m\u001b[0;34m\u001b[0m\u001b[0m\n\u001b[1;32m    610\u001b[0m         \u001b[0;32mif\u001b[0m \u001b[0;34m(\u001b[0m\u001b[0mstatdist\u001b[0m \u001b[0;32mis\u001b[0m \u001b[0;32mnot\u001b[0m \u001b[0;32mNone\u001b[0m\u001b[0;34m)\u001b[0m \u001b[0;32mor\u001b[0m \u001b[0;34m(\u001b[0m\u001b[0mmaxiter\u001b[0m \u001b[0;34m!=\u001b[0m \u001b[0;36m1000000\u001b[0m\u001b[0;34m)\u001b[0m \u001b[0;32mor\u001b[0m \u001b[0;34m(\u001b[0m\u001b[0mmaxerr\u001b[0m \u001b[0;34m!=\u001b[0m \u001b[0;36m1e-8\u001b[0m\u001b[0;34m)\u001b[0m\u001b[0;34m:\u001b[0m\u001b[0;34m\u001b[0m\u001b[0m\n",
      "\u001b[0;32m/anaconda3/lib/python3.6/site-packages/pyemma/msm/estimators/maximum_likelihood_msm.py\u001b[0m in \u001b[0;36mestimate\u001b[0;34m(self, dtrajs, **kwargs)\u001b[0m\n\u001b[1;32m    212\u001b[0m         \"\"\"\n\u001b[1;32m    213\u001b[0m         \u001b[0mdtrajs\u001b[0m \u001b[0;34m=\u001b[0m \u001b[0mensure_dtraj_list\u001b[0m\u001b[0;34m(\u001b[0m\u001b[0mdtrajs\u001b[0m\u001b[0;34m)\u001b[0m  \u001b[0;31m# ensure format\u001b[0m\u001b[0;34m\u001b[0m\u001b[0m\n\u001b[0;32m--> 214\u001b[0;31m         \u001b[0;32mreturn\u001b[0m \u001b[0msuper\u001b[0m\u001b[0;34m(\u001b[0m\u001b[0m_MSMEstimator\u001b[0m\u001b[0;34m,\u001b[0m \u001b[0mself\u001b[0m\u001b[0;34m)\u001b[0m\u001b[0;34m.\u001b[0m\u001b[0mestimate\u001b[0m\u001b[0;34m(\u001b[0m\u001b[0mdtrajs\u001b[0m\u001b[0;34m,\u001b[0m \u001b[0;34m**\u001b[0m\u001b[0mkwargs\u001b[0m\u001b[0;34m)\u001b[0m\u001b[0;34m\u001b[0m\u001b[0m\n\u001b[0m\u001b[1;32m    215\u001b[0m \u001b[0;34m\u001b[0m\u001b[0m\n\u001b[1;32m    216\u001b[0m     \u001b[0;32mdef\u001b[0m \u001b[0m_check_is_estimated\u001b[0m\u001b[0;34m(\u001b[0m\u001b[0mself\u001b[0m\u001b[0;34m)\u001b[0m\u001b[0;34m:\u001b[0m\u001b[0;34m\u001b[0m\u001b[0m\n",
      "\u001b[0;32m/anaconda3/lib/python3.6/site-packages/pyemma/_base/estimator.py\u001b[0m in \u001b[0;36mestimate\u001b[0;34m(self, X, **params)\u001b[0m\n\u001b[1;32m    410\u001b[0m         \u001b[0;32mif\u001b[0m \u001b[0mparams\u001b[0m\u001b[0;34m:\u001b[0m\u001b[0;34m\u001b[0m\u001b[0m\n\u001b[1;32m    411\u001b[0m             \u001b[0mself\u001b[0m\u001b[0;34m.\u001b[0m\u001b[0mset_params\u001b[0m\u001b[0;34m(\u001b[0m\u001b[0;34m**\u001b[0m\u001b[0mparams\u001b[0m\u001b[0;34m)\u001b[0m\u001b[0;34m\u001b[0m\u001b[0m\n\u001b[0;32m--> 412\u001b[0;31m         \u001b[0mself\u001b[0m\u001b[0;34m.\u001b[0m\u001b[0m_model\u001b[0m \u001b[0;34m=\u001b[0m \u001b[0mself\u001b[0m\u001b[0;34m.\u001b[0m\u001b[0m_estimate\u001b[0m\u001b[0;34m(\u001b[0m\u001b[0mX\u001b[0m\u001b[0;34m)\u001b[0m\u001b[0;34m\u001b[0m\u001b[0m\n\u001b[0m\u001b[1;32m    413\u001b[0m         \u001b[0mself\u001b[0m\u001b[0;34m.\u001b[0m\u001b[0m_estimated\u001b[0m \u001b[0;34m=\u001b[0m \u001b[0;32mTrue\u001b[0m\u001b[0;34m\u001b[0m\u001b[0m\n\u001b[1;32m    414\u001b[0m         \u001b[0;32mreturn\u001b[0m \u001b[0mself\u001b[0m\u001b[0;34m\u001b[0m\u001b[0m\n",
      "\u001b[0;32m/anaconda3/lib/python3.6/site-packages/pyemma/msm/estimators/maximum_likelihood_msm.py\u001b[0m in \u001b[0;36m_estimate\u001b[0;34m(self, dtrajs)\u001b[0m\n\u001b[1;32m   1092\u001b[0m             P = msmest.transition_matrix(self._C_active, reversible=self.reversible,\n\u001b[1;32m   1093\u001b[0m                                          \u001b[0mmu\u001b[0m\u001b[0;34m=\u001b[0m\u001b[0mstatdist_active\u001b[0m\u001b[0;34m,\u001b[0m \u001b[0mmaxiter\u001b[0m\u001b[0;34m=\u001b[0m\u001b[0mself\u001b[0m\u001b[0;34m.\u001b[0m\u001b[0mmaxiter\u001b[0m\u001b[0;34m,\u001b[0m\u001b[0;34m\u001b[0m\u001b[0m\n\u001b[0;32m-> 1094\u001b[0;31m                                          maxerr=self.maxerr)\n\u001b[0m\u001b[1;32m   1095\u001b[0m         \u001b[0;32melif\u001b[0m \u001b[0mself\u001b[0m\u001b[0;34m.\u001b[0m\u001b[0mconnectivity\u001b[0m \u001b[0;34m==\u001b[0m \u001b[0;34m'none'\u001b[0m\u001b[0;34m:\u001b[0m\u001b[0;34m\u001b[0m\u001b[0m\n\u001b[1;32m   1096\u001b[0m             \u001b[0;31m# reversible mode only possible if active set is connected\u001b[0m\u001b[0;34m\u001b[0m\u001b[0;34m\u001b[0m\u001b[0m\n",
      "\u001b[0;32m/anaconda3/lib/python3.6/site-packages/msmtools/estimation/api.py\u001b[0m in \u001b[0;36mtransition_matrix\u001b[0;34m(C, reversible, mu, method, **kwargs)\u001b[0m\n\u001b[1;32m    936\u001b[0m                     \u001b[0mT\u001b[0m \u001b[0;34m=\u001b[0m \u001b[0msparse\u001b[0m\u001b[0;34m.\u001b[0m\u001b[0mtransition_matrix\u001b[0m\u001b[0;34m.\u001b[0m\u001b[0mtransition_matrix_reversible_pisym\u001b[0m\u001b[0;34m(\u001b[0m\u001b[0mC\u001b[0m\u001b[0;34m)\u001b[0m\u001b[0;34m\u001b[0m\u001b[0m\n\u001b[1;32m    937\u001b[0m                 \u001b[0;32melse\u001b[0m\u001b[0;34m:\u001b[0m\u001b[0;34m\u001b[0m\u001b[0m\n\u001b[0;32m--> 938\u001b[0;31m                     \u001b[0mT\u001b[0m \u001b[0;34m=\u001b[0m \u001b[0msparse\u001b[0m\u001b[0;34m.\u001b[0m\u001b[0mmle_trev\u001b[0m\u001b[0;34m.\u001b[0m\u001b[0mmle_trev\u001b[0m\u001b[0;34m(\u001b[0m\u001b[0mC\u001b[0m\u001b[0;34m,\u001b[0m \u001b[0;34m**\u001b[0m\u001b[0mkwargs\u001b[0m\u001b[0;34m)\u001b[0m\u001b[0;34m\u001b[0m\u001b[0m\n\u001b[0m\u001b[1;32m    939\u001b[0m             \u001b[0;32melse\u001b[0m\u001b[0;34m:\u001b[0m\u001b[0;34m\u001b[0m\u001b[0m\n\u001b[1;32m    940\u001b[0m                 \u001b[0;32mif\u001b[0m \u001b[0mrev_pisym\u001b[0m\u001b[0;34m:\u001b[0m\u001b[0;34m\u001b[0m\u001b[0m\n",
      "\u001b[0;32mmsmtools/estimation/sparse/mle_trev.pyx\u001b[0m in \u001b[0;36mmsmtools.estimation.sparse.mle_trev.mle_trev\u001b[0;34m()\u001b[0m\n",
      "\u001b[0;31mException\u001b[0m: Stationary distribution contains entries smaller than 1e-15 during iteration"
     ]
    }
   ],
   "source": [
    "msm = pyemma.msm.estimate_markov_model(dih_5000_2_train, 100)"
   ]
  },
  {
   "cell_type": "code",
   "execution_count": 40,
   "metadata": {},
   "outputs": [
    {
     "name": "stdout",
     "output_type": "stream",
     "text": [
      "16-04-18 23:49:42 pyemma.msm.estimators.maximum_likelihood_msm.MaximumLikelihoodMSM[1] WARNING  Building a dense MSM with 5000 states. This can be inefficient or unfeasible in terms of both runtime and memory consumption. Consider using sparse=True.\n"
     ]
    }
   ],
   "source": [
    "msm = pyemma.msm.estimate_markov_model(dih_5000_2_train, 100, mincount_connectivity=2)"
   ]
  },
  {
   "cell_type": "code",
   "execution_count": 42,
   "metadata": {},
   "outputs": [
    {
     "data": {
      "text/plain": [
       "0.39405345548424137"
      ]
     },
     "execution_count": 42,
     "metadata": {},
     "output_type": "execute_result"
    }
   ],
   "source": [
    "msm.active_count_fraction"
   ]
  },
  {
   "cell_type": "code",
   "execution_count": 43,
   "metadata": {},
   "outputs": [
    {
     "data": {
      "text/plain": [
       "0.2856"
      ]
     },
     "execution_count": 43,
     "metadata": {},
     "output_type": "execute_result"
    }
   ],
   "source": [
    "msm.active_state_fraction"
   ]
  },
  {
   "cell_type": "code",
   "execution_count": 44,
   "metadata": {},
   "outputs": [
    {
     "name": "stdout",
     "output_type": "stream",
     "text": [
      "16-04-18 23:51:58 pyemma.msm.estimators.maximum_likelihood_msm.MaximumLikelihoodMSM[2] WARNING  Building a dense MSM with 5000 states. This can be inefficient or unfeasible in terms of both runtime and memory consumption. Consider using sparse=True.\n"
     ]
    },
    {
     "ename": "Exception",
     "evalue": "Stationary distribution contains entries smaller than 1e-15 during iteration",
     "output_type": "error",
     "traceback": [
      "\u001b[0;31m---------------------------------------------------------------------------\u001b[0m",
      "\u001b[0;31mException\u001b[0m                                 Traceback (most recent call last)",
      "\u001b[0;32m<ipython-input-44-ed35ded72fa0>\u001b[0m in \u001b[0;36m<module>\u001b[0;34m()\u001b[0m\n\u001b[0;32m----> 1\u001b[0;31m \u001b[0mmsm\u001b[0m \u001b[0;34m=\u001b[0m \u001b[0mpyemma\u001b[0m\u001b[0;34m.\u001b[0m\u001b[0mmsm\u001b[0m\u001b[0;34m.\u001b[0m\u001b[0mestimate_markov_model\u001b[0m\u001b[0;34m(\u001b[0m\u001b[0mdih_5000_3_train\u001b[0m\u001b[0;34m,\u001b[0m \u001b[0;36m100\u001b[0m\u001b[0;34m)\u001b[0m\u001b[0;34m\u001b[0m\u001b[0m\n\u001b[0m",
      "\u001b[0;32m/anaconda3/lib/python3.6/site-packages/pyemma/msm/api.py\u001b[0m in \u001b[0;36mestimate_markov_model\u001b[0;34m(dtrajs, lag, reversible, statdist, count_mode, weights, sparse, connectivity, dt_traj, maxiter, maxerr, score_method, score_k, mincount_connectivity)\u001b[0m\n\u001b[1;32m    606\u001b[0m                         mincount_connectivity=mincount_connectivity)\n\u001b[1;32m    607\u001b[0m         \u001b[0;31m# estimate and return\u001b[0m\u001b[0;34m\u001b[0m\u001b[0;34m\u001b[0m\u001b[0m\n\u001b[0;32m--> 608\u001b[0;31m         \u001b[0;32mreturn\u001b[0m \u001b[0mmlmsm\u001b[0m\u001b[0;34m.\u001b[0m\u001b[0mestimate\u001b[0m\u001b[0;34m(\u001b[0m\u001b[0mdtrajs\u001b[0m\u001b[0;34m)\u001b[0m\u001b[0;34m\u001b[0m\u001b[0m\n\u001b[0m\u001b[1;32m    609\u001b[0m     \u001b[0;32melif\u001b[0m \u001b[0mweights\u001b[0m \u001b[0;34m==\u001b[0m \u001b[0;34m'oom'\u001b[0m\u001b[0;34m:\u001b[0m\u001b[0;34m\u001b[0m\u001b[0m\n\u001b[1;32m    610\u001b[0m         \u001b[0;32mif\u001b[0m \u001b[0;34m(\u001b[0m\u001b[0mstatdist\u001b[0m \u001b[0;32mis\u001b[0m \u001b[0;32mnot\u001b[0m \u001b[0;32mNone\u001b[0m\u001b[0;34m)\u001b[0m \u001b[0;32mor\u001b[0m \u001b[0;34m(\u001b[0m\u001b[0mmaxiter\u001b[0m \u001b[0;34m!=\u001b[0m \u001b[0;36m1000000\u001b[0m\u001b[0;34m)\u001b[0m \u001b[0;32mor\u001b[0m \u001b[0;34m(\u001b[0m\u001b[0mmaxerr\u001b[0m \u001b[0;34m!=\u001b[0m \u001b[0;36m1e-8\u001b[0m\u001b[0;34m)\u001b[0m\u001b[0;34m:\u001b[0m\u001b[0;34m\u001b[0m\u001b[0m\n",
      "\u001b[0;32m/anaconda3/lib/python3.6/site-packages/pyemma/msm/estimators/maximum_likelihood_msm.py\u001b[0m in \u001b[0;36mestimate\u001b[0;34m(self, dtrajs, **kwargs)\u001b[0m\n\u001b[1;32m    212\u001b[0m         \"\"\"\n\u001b[1;32m    213\u001b[0m         \u001b[0mdtrajs\u001b[0m \u001b[0;34m=\u001b[0m \u001b[0mensure_dtraj_list\u001b[0m\u001b[0;34m(\u001b[0m\u001b[0mdtrajs\u001b[0m\u001b[0;34m)\u001b[0m  \u001b[0;31m# ensure format\u001b[0m\u001b[0;34m\u001b[0m\u001b[0m\n\u001b[0;32m--> 214\u001b[0;31m         \u001b[0;32mreturn\u001b[0m \u001b[0msuper\u001b[0m\u001b[0;34m(\u001b[0m\u001b[0m_MSMEstimator\u001b[0m\u001b[0;34m,\u001b[0m \u001b[0mself\u001b[0m\u001b[0;34m)\u001b[0m\u001b[0;34m.\u001b[0m\u001b[0mestimate\u001b[0m\u001b[0;34m(\u001b[0m\u001b[0mdtrajs\u001b[0m\u001b[0;34m,\u001b[0m \u001b[0;34m**\u001b[0m\u001b[0mkwargs\u001b[0m\u001b[0;34m)\u001b[0m\u001b[0;34m\u001b[0m\u001b[0m\n\u001b[0m\u001b[1;32m    215\u001b[0m \u001b[0;34m\u001b[0m\u001b[0m\n\u001b[1;32m    216\u001b[0m     \u001b[0;32mdef\u001b[0m \u001b[0m_check_is_estimated\u001b[0m\u001b[0;34m(\u001b[0m\u001b[0mself\u001b[0m\u001b[0;34m)\u001b[0m\u001b[0;34m:\u001b[0m\u001b[0;34m\u001b[0m\u001b[0m\n",
      "\u001b[0;32m/anaconda3/lib/python3.6/site-packages/pyemma/_base/estimator.py\u001b[0m in \u001b[0;36mestimate\u001b[0;34m(self, X, **params)\u001b[0m\n\u001b[1;32m    410\u001b[0m         \u001b[0;32mif\u001b[0m \u001b[0mparams\u001b[0m\u001b[0;34m:\u001b[0m\u001b[0;34m\u001b[0m\u001b[0m\n\u001b[1;32m    411\u001b[0m             \u001b[0mself\u001b[0m\u001b[0;34m.\u001b[0m\u001b[0mset_params\u001b[0m\u001b[0;34m(\u001b[0m\u001b[0;34m**\u001b[0m\u001b[0mparams\u001b[0m\u001b[0;34m)\u001b[0m\u001b[0;34m\u001b[0m\u001b[0m\n\u001b[0;32m--> 412\u001b[0;31m         \u001b[0mself\u001b[0m\u001b[0;34m.\u001b[0m\u001b[0m_model\u001b[0m \u001b[0;34m=\u001b[0m \u001b[0mself\u001b[0m\u001b[0;34m.\u001b[0m\u001b[0m_estimate\u001b[0m\u001b[0;34m(\u001b[0m\u001b[0mX\u001b[0m\u001b[0;34m)\u001b[0m\u001b[0;34m\u001b[0m\u001b[0m\n\u001b[0m\u001b[1;32m    413\u001b[0m         \u001b[0mself\u001b[0m\u001b[0;34m.\u001b[0m\u001b[0m_estimated\u001b[0m \u001b[0;34m=\u001b[0m \u001b[0;32mTrue\u001b[0m\u001b[0;34m\u001b[0m\u001b[0m\n\u001b[1;32m    414\u001b[0m         \u001b[0;32mreturn\u001b[0m \u001b[0mself\u001b[0m\u001b[0;34m\u001b[0m\u001b[0m\n",
      "\u001b[0;32m/anaconda3/lib/python3.6/site-packages/pyemma/msm/estimators/maximum_likelihood_msm.py\u001b[0m in \u001b[0;36m_estimate\u001b[0;34m(self, dtrajs)\u001b[0m\n\u001b[1;32m   1092\u001b[0m             P = msmest.transition_matrix(self._C_active, reversible=self.reversible,\n\u001b[1;32m   1093\u001b[0m                                          \u001b[0mmu\u001b[0m\u001b[0;34m=\u001b[0m\u001b[0mstatdist_active\u001b[0m\u001b[0;34m,\u001b[0m \u001b[0mmaxiter\u001b[0m\u001b[0;34m=\u001b[0m\u001b[0mself\u001b[0m\u001b[0;34m.\u001b[0m\u001b[0mmaxiter\u001b[0m\u001b[0;34m,\u001b[0m\u001b[0;34m\u001b[0m\u001b[0m\n\u001b[0;32m-> 1094\u001b[0;31m                                          maxerr=self.maxerr)\n\u001b[0m\u001b[1;32m   1095\u001b[0m         \u001b[0;32melif\u001b[0m \u001b[0mself\u001b[0m\u001b[0;34m.\u001b[0m\u001b[0mconnectivity\u001b[0m \u001b[0;34m==\u001b[0m \u001b[0;34m'none'\u001b[0m\u001b[0;34m:\u001b[0m\u001b[0;34m\u001b[0m\u001b[0m\n\u001b[1;32m   1096\u001b[0m             \u001b[0;31m# reversible mode only possible if active set is connected\u001b[0m\u001b[0;34m\u001b[0m\u001b[0;34m\u001b[0m\u001b[0m\n",
      "\u001b[0;32m/anaconda3/lib/python3.6/site-packages/msmtools/estimation/api.py\u001b[0m in \u001b[0;36mtransition_matrix\u001b[0;34m(C, reversible, mu, method, **kwargs)\u001b[0m\n\u001b[1;32m    936\u001b[0m                     \u001b[0mT\u001b[0m \u001b[0;34m=\u001b[0m \u001b[0msparse\u001b[0m\u001b[0;34m.\u001b[0m\u001b[0mtransition_matrix\u001b[0m\u001b[0;34m.\u001b[0m\u001b[0mtransition_matrix_reversible_pisym\u001b[0m\u001b[0;34m(\u001b[0m\u001b[0mC\u001b[0m\u001b[0;34m)\u001b[0m\u001b[0;34m\u001b[0m\u001b[0m\n\u001b[1;32m    937\u001b[0m                 \u001b[0;32melse\u001b[0m\u001b[0;34m:\u001b[0m\u001b[0;34m\u001b[0m\u001b[0m\n\u001b[0;32m--> 938\u001b[0;31m                     \u001b[0mT\u001b[0m \u001b[0;34m=\u001b[0m \u001b[0msparse\u001b[0m\u001b[0;34m.\u001b[0m\u001b[0mmle_trev\u001b[0m\u001b[0;34m.\u001b[0m\u001b[0mmle_trev\u001b[0m\u001b[0;34m(\u001b[0m\u001b[0mC\u001b[0m\u001b[0;34m,\u001b[0m \u001b[0;34m**\u001b[0m\u001b[0mkwargs\u001b[0m\u001b[0;34m)\u001b[0m\u001b[0;34m\u001b[0m\u001b[0m\n\u001b[0m\u001b[1;32m    939\u001b[0m             \u001b[0;32melse\u001b[0m\u001b[0;34m:\u001b[0m\u001b[0;34m\u001b[0m\u001b[0m\n\u001b[1;32m    940\u001b[0m                 \u001b[0;32mif\u001b[0m \u001b[0mrev_pisym\u001b[0m\u001b[0;34m:\u001b[0m\u001b[0;34m\u001b[0m\u001b[0m\n",
      "\u001b[0;32mmsmtools/estimation/sparse/mle_trev.pyx\u001b[0m in \u001b[0;36mmsmtools.estimation.sparse.mle_trev.mle_trev\u001b[0;34m()\u001b[0m\n",
      "\u001b[0;31mException\u001b[0m: Stationary distribution contains entries smaller than 1e-15 during iteration"
     ]
    }
   ],
   "source": [
    "msm = pyemma.msm.estimate_markov_model(dih_5000_3_train, 100)"
   ]
  },
  {
   "cell_type": "code",
   "execution_count": 46,
   "metadata": {},
   "outputs": [
    {
     "name": "stdout",
     "output_type": "stream",
     "text": [
      "16-04-18 23:53:00 pyemma.msm.estimators.maximum_likelihood_msm.MaximumLikelihoodMSM[4] WARNING  Building a dense MSM with 5000 states. This can be inefficient or unfeasible in terms of both runtime and memory consumption. Consider using sparse=True.\n"
     ]
    },
    {
     "name": "stderr",
     "output_type": "stream",
     "text": [
      "/anaconda3/lib/python3.6/site-packages/msmtools/estimation/api.py:938: NotConvergedWarning: Reversible transition matrix estimation didn't converge.\n",
      "  T = sparse.mle_trev.mle_trev(C, **kwargs)\n"
     ]
    }
   ],
   "source": [
    "msm = pyemma.msm.estimate_markov_model(dih_5000_3_train, 100, mincount_connectivity=3)"
   ]
  },
  {
   "cell_type": "code",
   "execution_count": 47,
   "metadata": {},
   "outputs": [
    {
     "data": {
      "text/plain": [
       "0.39413181510714834"
      ]
     },
     "execution_count": 47,
     "metadata": {},
     "output_type": "execute_result"
    }
   ],
   "source": [
    "msm.active_count_fraction"
   ]
  },
  {
   "cell_type": "code",
   "execution_count": 48,
   "metadata": {},
   "outputs": [
    {
     "data": {
      "text/plain": [
       "0.2882"
      ]
     },
     "execution_count": 48,
     "metadata": {},
     "output_type": "execute_result"
    }
   ],
   "source": [
    "msm.active_state_fraction"
   ]
  },
  {
   "cell_type": "code",
   "execution_count": 53,
   "metadata": {},
   "outputs": [
    {
     "name": "stdout",
     "output_type": "stream",
     "text": [
      "17-04-18 02:22:54 pyemma.msm.estimators.maximum_likelihood_msm.MaximumLikelihoodMSM[7] WARNING  Building a dense MSM with 5000 states. This can be inefficient or unfeasible in terms of both runtime and memory consumption. Consider using sparse=True.\n"
     ]
    },
    {
     "ename": "Exception",
     "evalue": "Stationary distribution contains entries smaller than 1e-15 during iteration",
     "output_type": "error",
     "traceback": [
      "\u001b[0;31m---------------------------------------------------------------------------\u001b[0m",
      "\u001b[0;31mException\u001b[0m                                 Traceback (most recent call last)",
      "\u001b[0;32m<ipython-input-53-8072afa5a535>\u001b[0m in \u001b[0;36m<module>\u001b[0;34m()\u001b[0m\n\u001b[0;32m----> 1\u001b[0;31m \u001b[0mmsm\u001b[0m \u001b[0;34m=\u001b[0m \u001b[0mpyemma\u001b[0m\u001b[0;34m.\u001b[0m\u001b[0mmsm\u001b[0m\u001b[0;34m.\u001b[0m\u001b[0mestimate_markov_model\u001b[0m\u001b[0;34m(\u001b[0m\u001b[0mdist_5000_0_train\u001b[0m\u001b[0;34m,\u001b[0m \u001b[0;36m100\u001b[0m\u001b[0;34m)\u001b[0m\u001b[0;34m\u001b[0m\u001b[0m\n\u001b[0m",
      "\u001b[0;32m/anaconda3/lib/python3.6/site-packages/pyemma/msm/api.py\u001b[0m in \u001b[0;36mestimate_markov_model\u001b[0;34m(dtrajs, lag, reversible, statdist, count_mode, weights, sparse, connectivity, dt_traj, maxiter, maxerr, score_method, score_k, mincount_connectivity)\u001b[0m\n\u001b[1;32m    606\u001b[0m                         mincount_connectivity=mincount_connectivity)\n\u001b[1;32m    607\u001b[0m         \u001b[0;31m# estimate and return\u001b[0m\u001b[0;34m\u001b[0m\u001b[0;34m\u001b[0m\u001b[0m\n\u001b[0;32m--> 608\u001b[0;31m         \u001b[0;32mreturn\u001b[0m \u001b[0mmlmsm\u001b[0m\u001b[0;34m.\u001b[0m\u001b[0mestimate\u001b[0m\u001b[0;34m(\u001b[0m\u001b[0mdtrajs\u001b[0m\u001b[0;34m)\u001b[0m\u001b[0;34m\u001b[0m\u001b[0m\n\u001b[0m\u001b[1;32m    609\u001b[0m     \u001b[0;32melif\u001b[0m \u001b[0mweights\u001b[0m \u001b[0;34m==\u001b[0m \u001b[0;34m'oom'\u001b[0m\u001b[0;34m:\u001b[0m\u001b[0;34m\u001b[0m\u001b[0m\n\u001b[1;32m    610\u001b[0m         \u001b[0;32mif\u001b[0m \u001b[0;34m(\u001b[0m\u001b[0mstatdist\u001b[0m \u001b[0;32mis\u001b[0m \u001b[0;32mnot\u001b[0m \u001b[0;32mNone\u001b[0m\u001b[0;34m)\u001b[0m \u001b[0;32mor\u001b[0m \u001b[0;34m(\u001b[0m\u001b[0mmaxiter\u001b[0m \u001b[0;34m!=\u001b[0m \u001b[0;36m1000000\u001b[0m\u001b[0;34m)\u001b[0m \u001b[0;32mor\u001b[0m \u001b[0;34m(\u001b[0m\u001b[0mmaxerr\u001b[0m \u001b[0;34m!=\u001b[0m \u001b[0;36m1e-8\u001b[0m\u001b[0;34m)\u001b[0m\u001b[0;34m:\u001b[0m\u001b[0;34m\u001b[0m\u001b[0m\n",
      "\u001b[0;32m/anaconda3/lib/python3.6/site-packages/pyemma/msm/estimators/maximum_likelihood_msm.py\u001b[0m in \u001b[0;36mestimate\u001b[0;34m(self, dtrajs, **kwargs)\u001b[0m\n\u001b[1;32m    212\u001b[0m         \"\"\"\n\u001b[1;32m    213\u001b[0m         \u001b[0mdtrajs\u001b[0m \u001b[0;34m=\u001b[0m \u001b[0mensure_dtraj_list\u001b[0m\u001b[0;34m(\u001b[0m\u001b[0mdtrajs\u001b[0m\u001b[0;34m)\u001b[0m  \u001b[0;31m# ensure format\u001b[0m\u001b[0;34m\u001b[0m\u001b[0m\n\u001b[0;32m--> 214\u001b[0;31m         \u001b[0;32mreturn\u001b[0m \u001b[0msuper\u001b[0m\u001b[0;34m(\u001b[0m\u001b[0m_MSMEstimator\u001b[0m\u001b[0;34m,\u001b[0m \u001b[0mself\u001b[0m\u001b[0;34m)\u001b[0m\u001b[0;34m.\u001b[0m\u001b[0mestimate\u001b[0m\u001b[0;34m(\u001b[0m\u001b[0mdtrajs\u001b[0m\u001b[0;34m,\u001b[0m \u001b[0;34m**\u001b[0m\u001b[0mkwargs\u001b[0m\u001b[0;34m)\u001b[0m\u001b[0;34m\u001b[0m\u001b[0m\n\u001b[0m\u001b[1;32m    215\u001b[0m \u001b[0;34m\u001b[0m\u001b[0m\n\u001b[1;32m    216\u001b[0m     \u001b[0;32mdef\u001b[0m \u001b[0m_check_is_estimated\u001b[0m\u001b[0;34m(\u001b[0m\u001b[0mself\u001b[0m\u001b[0;34m)\u001b[0m\u001b[0;34m:\u001b[0m\u001b[0;34m\u001b[0m\u001b[0m\n",
      "\u001b[0;32m/anaconda3/lib/python3.6/site-packages/pyemma/_base/estimator.py\u001b[0m in \u001b[0;36mestimate\u001b[0;34m(self, X, **params)\u001b[0m\n\u001b[1;32m    410\u001b[0m         \u001b[0;32mif\u001b[0m \u001b[0mparams\u001b[0m\u001b[0;34m:\u001b[0m\u001b[0;34m\u001b[0m\u001b[0m\n\u001b[1;32m    411\u001b[0m             \u001b[0mself\u001b[0m\u001b[0;34m.\u001b[0m\u001b[0mset_params\u001b[0m\u001b[0;34m(\u001b[0m\u001b[0;34m**\u001b[0m\u001b[0mparams\u001b[0m\u001b[0;34m)\u001b[0m\u001b[0;34m\u001b[0m\u001b[0m\n\u001b[0;32m--> 412\u001b[0;31m         \u001b[0mself\u001b[0m\u001b[0;34m.\u001b[0m\u001b[0m_model\u001b[0m \u001b[0;34m=\u001b[0m \u001b[0mself\u001b[0m\u001b[0;34m.\u001b[0m\u001b[0m_estimate\u001b[0m\u001b[0;34m(\u001b[0m\u001b[0mX\u001b[0m\u001b[0;34m)\u001b[0m\u001b[0;34m\u001b[0m\u001b[0m\n\u001b[0m\u001b[1;32m    413\u001b[0m         \u001b[0mself\u001b[0m\u001b[0;34m.\u001b[0m\u001b[0m_estimated\u001b[0m \u001b[0;34m=\u001b[0m \u001b[0;32mTrue\u001b[0m\u001b[0;34m\u001b[0m\u001b[0m\n\u001b[1;32m    414\u001b[0m         \u001b[0;32mreturn\u001b[0m \u001b[0mself\u001b[0m\u001b[0;34m\u001b[0m\u001b[0m\n",
      "\u001b[0;32m/anaconda3/lib/python3.6/site-packages/pyemma/msm/estimators/maximum_likelihood_msm.py\u001b[0m in \u001b[0;36m_estimate\u001b[0;34m(self, dtrajs)\u001b[0m\n\u001b[1;32m   1092\u001b[0m             P = msmest.transition_matrix(self._C_active, reversible=self.reversible,\n\u001b[1;32m   1093\u001b[0m                                          \u001b[0mmu\u001b[0m\u001b[0;34m=\u001b[0m\u001b[0mstatdist_active\u001b[0m\u001b[0;34m,\u001b[0m \u001b[0mmaxiter\u001b[0m\u001b[0;34m=\u001b[0m\u001b[0mself\u001b[0m\u001b[0;34m.\u001b[0m\u001b[0mmaxiter\u001b[0m\u001b[0;34m,\u001b[0m\u001b[0;34m\u001b[0m\u001b[0m\n\u001b[0;32m-> 1094\u001b[0;31m                                          maxerr=self.maxerr)\n\u001b[0m\u001b[1;32m   1095\u001b[0m         \u001b[0;32melif\u001b[0m \u001b[0mself\u001b[0m\u001b[0;34m.\u001b[0m\u001b[0mconnectivity\u001b[0m \u001b[0;34m==\u001b[0m \u001b[0;34m'none'\u001b[0m\u001b[0;34m:\u001b[0m\u001b[0;34m\u001b[0m\u001b[0m\n\u001b[1;32m   1096\u001b[0m             \u001b[0;31m# reversible mode only possible if active set is connected\u001b[0m\u001b[0;34m\u001b[0m\u001b[0;34m\u001b[0m\u001b[0m\n",
      "\u001b[0;32m/anaconda3/lib/python3.6/site-packages/msmtools/estimation/api.py\u001b[0m in \u001b[0;36mtransition_matrix\u001b[0;34m(C, reversible, mu, method, **kwargs)\u001b[0m\n\u001b[1;32m    936\u001b[0m                     \u001b[0mT\u001b[0m \u001b[0;34m=\u001b[0m \u001b[0msparse\u001b[0m\u001b[0;34m.\u001b[0m\u001b[0mtransition_matrix\u001b[0m\u001b[0;34m.\u001b[0m\u001b[0mtransition_matrix_reversible_pisym\u001b[0m\u001b[0;34m(\u001b[0m\u001b[0mC\u001b[0m\u001b[0;34m)\u001b[0m\u001b[0;34m\u001b[0m\u001b[0m\n\u001b[1;32m    937\u001b[0m                 \u001b[0;32melse\u001b[0m\u001b[0;34m:\u001b[0m\u001b[0;34m\u001b[0m\u001b[0m\n\u001b[0;32m--> 938\u001b[0;31m                     \u001b[0mT\u001b[0m \u001b[0;34m=\u001b[0m \u001b[0msparse\u001b[0m\u001b[0;34m.\u001b[0m\u001b[0mmle_trev\u001b[0m\u001b[0;34m.\u001b[0m\u001b[0mmle_trev\u001b[0m\u001b[0;34m(\u001b[0m\u001b[0mC\u001b[0m\u001b[0;34m,\u001b[0m \u001b[0;34m**\u001b[0m\u001b[0mkwargs\u001b[0m\u001b[0;34m)\u001b[0m\u001b[0;34m\u001b[0m\u001b[0m\n\u001b[0m\u001b[1;32m    939\u001b[0m             \u001b[0;32melse\u001b[0m\u001b[0;34m:\u001b[0m\u001b[0;34m\u001b[0m\u001b[0m\n\u001b[1;32m    940\u001b[0m                 \u001b[0;32mif\u001b[0m \u001b[0mrev_pisym\u001b[0m\u001b[0;34m:\u001b[0m\u001b[0;34m\u001b[0m\u001b[0m\n",
      "\u001b[0;32mmsmtools/estimation/sparse/mle_trev.pyx\u001b[0m in \u001b[0;36mmsmtools.estimation.sparse.mle_trev.mle_trev\u001b[0;34m()\u001b[0m\n",
      "\u001b[0;31mException\u001b[0m: Stationary distribution contains entries smaller than 1e-15 during iteration"
     ]
    }
   ],
   "source": [
    "msm = pyemma.msm.estimate_markov_model(dist_5000_0_train, 100)"
   ]
  },
  {
   "cell_type": "code",
   "execution_count": 54,
   "metadata": {},
   "outputs": [
    {
     "name": "stdout",
     "output_type": "stream",
     "text": [
      "17-04-18 10:18:42 pyemma.msm.estimators.maximum_likelihood_msm.MaximumLikelihoodMSM[8] WARNING  Building a dense MSM with 5000 states. This can be inefficient or unfeasible in terms of both runtime and memory consumption. Consider using sparse=True.\n"
     ]
    }
   ],
   "source": [
    "msm = pyemma.msm.estimate_markov_model(dist_5000_0_train, 100, mincount_connectivity=2)"
   ]
  },
  {
   "cell_type": "code",
   "execution_count": 55,
   "metadata": {},
   "outputs": [
    {
     "data": {
      "text/plain": [
       "0.17713178003655874"
      ]
     },
     "execution_count": 55,
     "metadata": {},
     "output_type": "execute_result"
    }
   ],
   "source": [
    "msm.active_count_fraction"
   ]
  },
  {
   "cell_type": "code",
   "execution_count": 56,
   "metadata": {},
   "outputs": [
    {
     "data": {
      "text/plain": [
       "0.1066"
      ]
     },
     "execution_count": 56,
     "metadata": {},
     "output_type": "execute_result"
    }
   ],
   "source": [
    "msm.active_state_fraction"
   ]
  },
  {
   "cell_type": "code",
   "execution_count": 35,
   "metadata": {},
   "outputs": [],
   "source": [
    "# now for ALL dtrajs try different ergodic cutoffs (1,10,25,50,75,100) - get scores, active counts, active states"
   ]
  },
  {
   "cell_type": "code",
   "execution_count": 58,
   "metadata": {
    "scrolled": false
   },
   "outputs": [
    {
     "name": "stdout",
     "output_type": "stream",
     "text": [
      "1000_0_test.npy   100_4_test.npy    3000_3_test.npy   5000_2_test.npy\r\n",
      "1000_0_train.npy  100_4_train.npy   3000_3_train.npy  5000_2_train.npy\r\n",
      "1000_1_test.npy   2000_0_test.npy   3000_4_test.npy   5000_3_test.npy\r\n",
      "1000_1_train.npy  2000_0_train.npy  3000_4_train.npy  5000_3_train.npy\r\n",
      "1000_2_test.npy   2000_1_test.npy   4000_0_test.npy   5000_4_test.npy\r\n",
      "1000_2_train.npy  2000_1_train.npy  4000_0_train.npy  5000_4_train.npy\r\n",
      "1000_3_test.npy   2000_2_test.npy   4000_1_test.npy   500_0_test.npy\r\n",
      "1000_3_train.npy  2000_2_train.npy  4000_1_train.npy  500_0_train.npy\r\n",
      "1000_4_test.npy   2000_3_test.npy   4000_2_test.npy   500_1_test.npy\r\n",
      "1000_4_train.npy  2000_3_train.npy  4000_2_train.npy  500_1_train.npy\r\n",
      "100_0_test.npy    2000_4_test.npy   4000_3_test.npy   500_2_test.npy\r\n",
      "100_0_train.npy   2000_4_train.npy  4000_3_train.npy  500_2_train.npy\r\n",
      "100_1_test.npy    3000_0_test.npy   4000_4_test.npy   500_3_test.npy\r\n",
      "100_1_train.npy   3000_0_train.npy  4000_4_train.npy  500_3_train.npy\r\n",
      "100_2_test.npy    3000_1_test.npy   5000_0_test.npy   500_4_test.npy\r\n",
      "100_2_train.npy   3000_1_train.npy  5000_0_train.npy  500_4_train.npy\r\n",
      "100_3_test.npy    3000_2_test.npy   5000_1_test.npy\r\n",
      "100_3_train.npy   3000_2_train.npy  5000_1_train.npy\r\n"
     ]
    }
   ],
   "source": [
    "ls dih_dtrajs"
   ]
  },
  {
   "cell_type": "code",
   "execution_count": 59,
   "metadata": {},
   "outputs": [],
   "source": [
    "# dih"
   ]
  },
  {
   "cell_type": "code",
   "execution_count": 62,
   "metadata": {},
   "outputs": [
    {
     "name": "stdout",
     "output_type": "stream",
     "text": [
      "(9.0500794014863555, 9.7747915072430747)\n",
      "(8.7421678222912949, 9.7489145283821959)\n",
      "(9.6764071641980021, 9.7510677401165076)\n",
      "(9.4369029077868305, 9.8180653532852986)\n",
      "(9.3531099180117447, 9.7344986716238466)\n",
      "(8.4211222514958468, 9.9010595705988322)\n",
      "(7.8875311654911497, 9.8903808644799547)\n",
      "(8.7932138531106414, 9.8769108477719456)\n",
      "(9.3424342729437644, 9.8821680118277335)\n",
      "(7.9916192684641176, 9.8969279577546452)\n",
      "(6.8893970593656393, 9.9664409010849475)\n",
      "(6.5017252986378766, 9.9359063973715713)\n",
      "(7.89242597176872, 9.9356057285921437)\n",
      "(7.2941835389049574, 9.9402516608517644)\n",
      "(8.3303044707553475, 9.9583052685926301)\n",
      "('error', 'error')\n",
      "('error', 'error')\n"
     ]
    },
    {
     "ename": "KeyboardInterrupt",
     "evalue": "",
     "output_type": "error",
     "traceback": [
      "\u001b[0;31m---------------------------------------------------------------------------\u001b[0m",
      "\u001b[0;31mKeyboardInterrupt\u001b[0m                         Traceback (most recent call last)",
      "\u001b[0;32m<ipython-input-62-5df56cb1282b>\u001b[0m in \u001b[0;36m<module>\u001b[0;34m()\u001b[0m\n\u001b[1;32m     13\u001b[0m         \u001b[0mdtrajs_train\u001b[0m \u001b[0;34m=\u001b[0m \u001b[0mlist\u001b[0m\u001b[0;34m(\u001b[0m\u001b[0mnp\u001b[0m\u001b[0;34m.\u001b[0m\u001b[0mload\u001b[0m\u001b[0;34m(\u001b[0m\u001b[0;34m'dih_dtrajs/%d_%d_train.npy'\u001b[0m \u001b[0;34m%\u001b[0m \u001b[0;34m(\u001b[0m\u001b[0mcluster_no\u001b[0m\u001b[0;34m,\u001b[0m \u001b[0mreplicate\u001b[0m\u001b[0;34m)\u001b[0m\u001b[0;34m)\u001b[0m\u001b[0;34m)\u001b[0m\u001b[0;34m\u001b[0m\u001b[0m\n\u001b[1;32m     14\u001b[0m         \u001b[0mdtrajs_test\u001b[0m \u001b[0;34m=\u001b[0m \u001b[0mlist\u001b[0m\u001b[0;34m(\u001b[0m\u001b[0mnp\u001b[0m\u001b[0;34m.\u001b[0m\u001b[0mload\u001b[0m\u001b[0;34m(\u001b[0m\u001b[0;34m'dih_dtrajs/%d_%d_test.npy'\u001b[0m \u001b[0;34m%\u001b[0m \u001b[0;34m(\u001b[0m\u001b[0mcluster_no\u001b[0m\u001b[0;34m,\u001b[0m \u001b[0mreplicate\u001b[0m\u001b[0;34m)\u001b[0m\u001b[0;34m)\u001b[0m\u001b[0;34m)\u001b[0m\u001b[0;34m\u001b[0m\u001b[0m\n\u001b[0;32m---> 15\u001b[0;31m         \u001b[0mdtrajs_test\u001b[0m \u001b[0;34m=\u001b[0m \u001b[0;34m[\u001b[0m\u001b[0mnp\u001b[0m\u001b[0;34m.\u001b[0m\u001b[0mconcatenate\u001b[0m\u001b[0;34m(\u001b[0m\u001b[0mx\u001b[0m\u001b[0;34m)\u001b[0m \u001b[0;32mfor\u001b[0m \u001b[0mx\u001b[0m \u001b[0;32min\u001b[0m \u001b[0mdtrajs_test\u001b[0m\u001b[0;34m]\u001b[0m\u001b[0;34m\u001b[0m\u001b[0m\n\u001b[0m\u001b[1;32m     16\u001b[0m         \u001b[0;32mtry\u001b[0m\u001b[0;34m:\u001b[0m\u001b[0;34m\u001b[0m\u001b[0m\n\u001b[1;32m     17\u001b[0m             \u001b[0;31m# VAMP-2\u001b[0m\u001b[0;34m\u001b[0m\u001b[0;34m\u001b[0m\u001b[0m\n",
      "\u001b[0;32m<ipython-input-62-5df56cb1282b>\u001b[0m in \u001b[0;36m<listcomp>\u001b[0;34m(.0)\u001b[0m\n\u001b[1;32m     13\u001b[0m         \u001b[0mdtrajs_train\u001b[0m \u001b[0;34m=\u001b[0m \u001b[0mlist\u001b[0m\u001b[0;34m(\u001b[0m\u001b[0mnp\u001b[0m\u001b[0;34m.\u001b[0m\u001b[0mload\u001b[0m\u001b[0;34m(\u001b[0m\u001b[0;34m'dih_dtrajs/%d_%d_train.npy'\u001b[0m \u001b[0;34m%\u001b[0m \u001b[0;34m(\u001b[0m\u001b[0mcluster_no\u001b[0m\u001b[0;34m,\u001b[0m \u001b[0mreplicate\u001b[0m\u001b[0;34m)\u001b[0m\u001b[0;34m)\u001b[0m\u001b[0;34m)\u001b[0m\u001b[0;34m\u001b[0m\u001b[0m\n\u001b[1;32m     14\u001b[0m         \u001b[0mdtrajs_test\u001b[0m \u001b[0;34m=\u001b[0m \u001b[0mlist\u001b[0m\u001b[0;34m(\u001b[0m\u001b[0mnp\u001b[0m\u001b[0;34m.\u001b[0m\u001b[0mload\u001b[0m\u001b[0;34m(\u001b[0m\u001b[0;34m'dih_dtrajs/%d_%d_test.npy'\u001b[0m \u001b[0;34m%\u001b[0m \u001b[0;34m(\u001b[0m\u001b[0mcluster_no\u001b[0m\u001b[0;34m,\u001b[0m \u001b[0mreplicate\u001b[0m\u001b[0;34m)\u001b[0m\u001b[0;34m)\u001b[0m\u001b[0;34m)\u001b[0m\u001b[0;34m\u001b[0m\u001b[0m\n\u001b[0;32m---> 15\u001b[0;31m         \u001b[0mdtrajs_test\u001b[0m \u001b[0;34m=\u001b[0m \u001b[0;34m[\u001b[0m\u001b[0mnp\u001b[0m\u001b[0;34m.\u001b[0m\u001b[0mconcatenate\u001b[0m\u001b[0;34m(\u001b[0m\u001b[0mx\u001b[0m\u001b[0;34m)\u001b[0m \u001b[0;32mfor\u001b[0m \u001b[0mx\u001b[0m \u001b[0;32min\u001b[0m \u001b[0mdtrajs_test\u001b[0m\u001b[0;34m]\u001b[0m\u001b[0;34m\u001b[0m\u001b[0m\n\u001b[0m\u001b[1;32m     16\u001b[0m         \u001b[0;32mtry\u001b[0m\u001b[0;34m:\u001b[0m\u001b[0;34m\u001b[0m\u001b[0m\n\u001b[1;32m     17\u001b[0m             \u001b[0;31m# VAMP-2\u001b[0m\u001b[0;34m\u001b[0m\u001b[0;34m\u001b[0m\u001b[0m\n",
      "\u001b[0;31mKeyboardInterrupt\u001b[0m: "
     ]
    }
   ],
   "source": [
    "test_scores = []\n",
    "train_scores = []\n",
    "counts = []\n",
    "states = []\n",
    "\n",
    "for cluster_no in [100, 500, 1000, 2000, 3000, 4000, 5000]:\n",
    "    test_scores.append([])\n",
    "    train_scores.append([])\n",
    "    counts.append([])\n",
    "    states.append([])\n",
    "    \n",
    "    for replicate in range(5):\n",
    "        dtrajs_train = list(np.load('dih_dtrajs/%d_%d_train.npy' % (cluster_no, replicate)))\n",
    "        dtrajs_test = list(np.load('dih_dtrajs/%d_%d_test.npy' % (cluster_no, replicate)))\n",
    "        dtrajs_test = [np.concatenate(x) for x in dtrajs_test]\n",
    "        try:    \n",
    "            # VAMP-2\n",
    "            pyemma_msm = pyemma.msm.estimate_markov_model(dtrajs_train, lag=100, score_method='VAMP2', score_k=10)\n",
    "            pyemma_score_2 = pyemma_msm.score(dtrajs_test, score_method='VAMP2', score_k=10)\n",
    "            pyemma_score_2_train = pyemma_msm.score(dtrajs_train, score_method='VAMP2', score_k=10)\n",
    "            counts_ = pyemma_msm.active_count_fraction\n",
    "            states_ = pyemma_msm.active_state_fraction\n",
    "        except:\n",
    "            pyemma_score_2 = 'error'\n",
    "            pyemma_score_2_train = 'error'\n",
    "            counts_ = 'error'\n",
    "            states_ = 'error'\n",
    "\n",
    "        print((pyemma_score_2, pyemma_score_2_train))\n",
    "        test_scores[-1].append(pyemma_score_2)\n",
    "        train_scores[-1].append(pyemma_score_2_train)\n",
    "        counts[-1].append(counts_)\n",
    "        states[-1].append(states_)"
   ]
  },
  {
   "cell_type": "code",
   "execution_count": 63,
   "metadata": {},
   "outputs": [],
   "source": [
    "# this takes too long - let's just do it on lilac - but first let's see here which dtrajs are having MSMs not converge"
   ]
  },
  {
   "cell_type": "code",
   "execution_count": 65,
   "metadata": {},
   "outputs": [],
   "source": [
    "msm = pyemma.msm.estimate_markov_model(list(np.load('dih_dtrajs/100_0_train.npy')), 100)"
   ]
  },
  {
   "cell_type": "code",
   "execution_count": 66,
   "metadata": {},
   "outputs": [],
   "source": [
    "msm = pyemma.msm.estimate_markov_model(list(np.load('dih_dtrajs/100_1_train.npy')), 100)"
   ]
  },
  {
   "cell_type": "code",
   "execution_count": 67,
   "metadata": {},
   "outputs": [],
   "source": [
    "msm = pyemma.msm.estimate_markov_model(list(np.load('dih_dtrajs/100_2_train.npy')), 100)"
   ]
  },
  {
   "cell_type": "code",
   "execution_count": 68,
   "metadata": {},
   "outputs": [],
   "source": [
    "msm = pyemma.msm.estimate_markov_model(list(np.load('dih_dtrajs/100_3_train.npy')), 100)"
   ]
  },
  {
   "cell_type": "code",
   "execution_count": 69,
   "metadata": {},
   "outputs": [],
   "source": [
    "msm = pyemma.msm.estimate_markov_model(list(np.load('dih_dtrajs/100_4_train.npy')), 100)"
   ]
  },
  {
   "cell_type": "code",
   "execution_count": 70,
   "metadata": {},
   "outputs": [],
   "source": [
    "msm = pyemma.msm.estimate_markov_model(list(np.load('dih_dtrajs/500_0_train.npy')), 100)"
   ]
  },
  {
   "cell_type": "code",
   "execution_count": 71,
   "metadata": {},
   "outputs": [],
   "source": [
    "msm = pyemma.msm.estimate_markov_model(list(np.load('dih_dtrajs/500_1_train.npy')), 100)"
   ]
  },
  {
   "cell_type": "code",
   "execution_count": 72,
   "metadata": {},
   "outputs": [],
   "source": [
    "msm = pyemma.msm.estimate_markov_model(list(np.load('dih_dtrajs/500_2_train.npy')), 100)"
   ]
  },
  {
   "cell_type": "code",
   "execution_count": 73,
   "metadata": {},
   "outputs": [],
   "source": [
    "msm = pyemma.msm.estimate_markov_model(list(np.load('dih_dtrajs/500_3_train.npy')), 100)"
   ]
  },
  {
   "cell_type": "code",
   "execution_count": 74,
   "metadata": {},
   "outputs": [],
   "source": [
    "msm = pyemma.msm.estimate_markov_model(list(np.load('dih_dtrajs/500_4_train.npy')), 100)"
   ]
  },
  {
   "cell_type": "code",
   "execution_count": 75,
   "metadata": {},
   "outputs": [],
   "source": [
    "msm = pyemma.msm.estimate_markov_model(list(np.load('dih_dtrajs/1000_0_train.npy')), 100)"
   ]
  },
  {
   "cell_type": "code",
   "execution_count": 76,
   "metadata": {},
   "outputs": [],
   "source": [
    "msm = pyemma.msm.estimate_markov_model(list(np.load('dih_dtrajs/1000_1_train.npy')), 100)"
   ]
  },
  {
   "cell_type": "code",
   "execution_count": 77,
   "metadata": {},
   "outputs": [],
   "source": [
    "msm = pyemma.msm.estimate_markov_model(list(np.load('dih_dtrajs/1000_2_train.npy')), 100)"
   ]
  },
  {
   "cell_type": "code",
   "execution_count": 78,
   "metadata": {},
   "outputs": [],
   "source": [
    "msm = pyemma.msm.estimate_markov_model(list(np.load('dih_dtrajs/1000_3_train.npy')), 100)"
   ]
  },
  {
   "cell_type": "code",
   "execution_count": 79,
   "metadata": {},
   "outputs": [],
   "source": [
    "msm = pyemma.msm.estimate_markov_model(list(np.load('dih_dtrajs/1000_4_train.npy')), 100)"
   ]
  },
  {
   "cell_type": "code",
   "execution_count": 80,
   "metadata": {},
   "outputs": [
    {
     "name": "stderr",
     "output_type": "stream",
     "text": [
      "/anaconda3/lib/python3.6/site-packages/msmtools/estimation/api.py:938: NotConvergedWarning: Reversible transition matrix estimation didn't converge.\n",
      "  T = sparse.mle_trev.mle_trev(C, **kwargs)\n"
     ]
    }
   ],
   "source": [
    "msm = pyemma.msm.estimate_markov_model(list(np.load('dih_dtrajs/2000_0_train.npy')), 100)"
   ]
  },
  {
   "cell_type": "code",
   "execution_count": 81,
   "metadata": {},
   "outputs": [],
   "source": [
    "msm = pyemma.msm.estimate_markov_model(list(np.load('dih_dtrajs/2000_1_train.npy')), 100)"
   ]
  },
  {
   "cell_type": "code",
   "execution_count": 82,
   "metadata": {},
   "outputs": [
    {
     "name": "stderr",
     "output_type": "stream",
     "text": [
      "/anaconda3/lib/python3.6/site-packages/msmtools/estimation/api.py:938: NotConvergedWarning: Reversible transition matrix estimation didn't converge.\n",
      "  T = sparse.mle_trev.mle_trev(C, **kwargs)\n"
     ]
    }
   ],
   "source": [
    "msm = pyemma.msm.estimate_markov_model(list(np.load('dih_dtrajs/2000_2_train.npy')), 100)"
   ]
  },
  {
   "cell_type": "code",
   "execution_count": 83,
   "metadata": {},
   "outputs": [],
   "source": [
    "msm = pyemma.msm.estimate_markov_model(list(np.load('dih_dtrajs/2000_3_train.npy')), 100)"
   ]
  },
  {
   "cell_type": "code",
   "execution_count": 84,
   "metadata": {},
   "outputs": [],
   "source": [
    "msm = pyemma.msm.estimate_markov_model(list(np.load('dih_dtrajs/2000_4_train.npy')), 100)"
   ]
  },
  {
   "cell_type": "code",
   "execution_count": 85,
   "metadata": {},
   "outputs": [
    {
     "name": "stderr",
     "output_type": "stream",
     "text": [
      "/anaconda3/lib/python3.6/site-packages/msmtools/estimation/api.py:938: NotConvergedWarning: Reversible transition matrix estimation didn't converge.\n",
      "  T = sparse.mle_trev.mle_trev(C, **kwargs)\n"
     ]
    }
   ],
   "source": [
    "msm = pyemma.msm.estimate_markov_model(list(np.load('dih_dtrajs/3000_0_train.npy')), 100)"
   ]
  },
  {
   "cell_type": "code",
   "execution_count": 86,
   "metadata": {},
   "outputs": [],
   "source": [
    "msm = pyemma.msm.estimate_markov_model(list(np.load('dih_dtrajs/3000_1_train.npy')), 100)"
   ]
  },
  {
   "cell_type": "code",
   "execution_count": 87,
   "metadata": {},
   "outputs": [],
   "source": [
    "msm = pyemma.msm.estimate_markov_model(list(np.load('dih_dtrajs/3000_2_train.npy')), 100)"
   ]
  },
  {
   "cell_type": "code",
   "execution_count": 88,
   "metadata": {},
   "outputs": [
    {
     "ename": "Exception",
     "evalue": "Stationary distribution contains entries smaller than 1e-15 during iteration",
     "output_type": "error",
     "traceback": [
      "\u001b[0;31m---------------------------------------------------------------------------\u001b[0m",
      "\u001b[0;31mException\u001b[0m                                 Traceback (most recent call last)",
      "\u001b[0;32m<ipython-input-88-ac046db9d966>\u001b[0m in \u001b[0;36m<module>\u001b[0;34m()\u001b[0m\n\u001b[0;32m----> 1\u001b[0;31m \u001b[0mmsm\u001b[0m \u001b[0;34m=\u001b[0m \u001b[0mpyemma\u001b[0m\u001b[0;34m.\u001b[0m\u001b[0mmsm\u001b[0m\u001b[0;34m.\u001b[0m\u001b[0mestimate_markov_model\u001b[0m\u001b[0;34m(\u001b[0m\u001b[0mlist\u001b[0m\u001b[0;34m(\u001b[0m\u001b[0mnp\u001b[0m\u001b[0;34m.\u001b[0m\u001b[0mload\u001b[0m\u001b[0;34m(\u001b[0m\u001b[0;34m'dih_dtrajs/3000_3_train.npy'\u001b[0m\u001b[0;34m)\u001b[0m\u001b[0;34m)\u001b[0m\u001b[0;34m,\u001b[0m \u001b[0;36m100\u001b[0m\u001b[0;34m)\u001b[0m\u001b[0;34m\u001b[0m\u001b[0m\n\u001b[0m",
      "\u001b[0;32m/anaconda3/lib/python3.6/site-packages/pyemma/msm/api.py\u001b[0m in \u001b[0;36mestimate_markov_model\u001b[0;34m(dtrajs, lag, reversible, statdist, count_mode, weights, sparse, connectivity, dt_traj, maxiter, maxerr, score_method, score_k, mincount_connectivity)\u001b[0m\n\u001b[1;32m    606\u001b[0m                         mincount_connectivity=mincount_connectivity)\n\u001b[1;32m    607\u001b[0m         \u001b[0;31m# estimate and return\u001b[0m\u001b[0;34m\u001b[0m\u001b[0;34m\u001b[0m\u001b[0m\n\u001b[0;32m--> 608\u001b[0;31m         \u001b[0;32mreturn\u001b[0m \u001b[0mmlmsm\u001b[0m\u001b[0;34m.\u001b[0m\u001b[0mestimate\u001b[0m\u001b[0;34m(\u001b[0m\u001b[0mdtrajs\u001b[0m\u001b[0;34m)\u001b[0m\u001b[0;34m\u001b[0m\u001b[0m\n\u001b[0m\u001b[1;32m    609\u001b[0m     \u001b[0;32melif\u001b[0m \u001b[0mweights\u001b[0m \u001b[0;34m==\u001b[0m \u001b[0;34m'oom'\u001b[0m\u001b[0;34m:\u001b[0m\u001b[0;34m\u001b[0m\u001b[0m\n\u001b[1;32m    610\u001b[0m         \u001b[0;32mif\u001b[0m \u001b[0;34m(\u001b[0m\u001b[0mstatdist\u001b[0m \u001b[0;32mis\u001b[0m \u001b[0;32mnot\u001b[0m \u001b[0;32mNone\u001b[0m\u001b[0;34m)\u001b[0m \u001b[0;32mor\u001b[0m \u001b[0;34m(\u001b[0m\u001b[0mmaxiter\u001b[0m \u001b[0;34m!=\u001b[0m \u001b[0;36m1000000\u001b[0m\u001b[0;34m)\u001b[0m \u001b[0;32mor\u001b[0m \u001b[0;34m(\u001b[0m\u001b[0mmaxerr\u001b[0m \u001b[0;34m!=\u001b[0m \u001b[0;36m1e-8\u001b[0m\u001b[0;34m)\u001b[0m\u001b[0;34m:\u001b[0m\u001b[0;34m\u001b[0m\u001b[0m\n",
      "\u001b[0;32m/anaconda3/lib/python3.6/site-packages/pyemma/msm/estimators/maximum_likelihood_msm.py\u001b[0m in \u001b[0;36mestimate\u001b[0;34m(self, dtrajs, **kwargs)\u001b[0m\n\u001b[1;32m    212\u001b[0m         \"\"\"\n\u001b[1;32m    213\u001b[0m         \u001b[0mdtrajs\u001b[0m \u001b[0;34m=\u001b[0m \u001b[0mensure_dtraj_list\u001b[0m\u001b[0;34m(\u001b[0m\u001b[0mdtrajs\u001b[0m\u001b[0;34m)\u001b[0m  \u001b[0;31m# ensure format\u001b[0m\u001b[0;34m\u001b[0m\u001b[0m\n\u001b[0;32m--> 214\u001b[0;31m         \u001b[0;32mreturn\u001b[0m \u001b[0msuper\u001b[0m\u001b[0;34m(\u001b[0m\u001b[0m_MSMEstimator\u001b[0m\u001b[0;34m,\u001b[0m \u001b[0mself\u001b[0m\u001b[0;34m)\u001b[0m\u001b[0;34m.\u001b[0m\u001b[0mestimate\u001b[0m\u001b[0;34m(\u001b[0m\u001b[0mdtrajs\u001b[0m\u001b[0;34m,\u001b[0m \u001b[0;34m**\u001b[0m\u001b[0mkwargs\u001b[0m\u001b[0;34m)\u001b[0m\u001b[0;34m\u001b[0m\u001b[0m\n\u001b[0m\u001b[1;32m    215\u001b[0m \u001b[0;34m\u001b[0m\u001b[0m\n\u001b[1;32m    216\u001b[0m     \u001b[0;32mdef\u001b[0m \u001b[0m_check_is_estimated\u001b[0m\u001b[0;34m(\u001b[0m\u001b[0mself\u001b[0m\u001b[0;34m)\u001b[0m\u001b[0;34m:\u001b[0m\u001b[0;34m\u001b[0m\u001b[0m\n",
      "\u001b[0;32m/anaconda3/lib/python3.6/site-packages/pyemma/_base/estimator.py\u001b[0m in \u001b[0;36mestimate\u001b[0;34m(self, X, **params)\u001b[0m\n\u001b[1;32m    410\u001b[0m         \u001b[0;32mif\u001b[0m \u001b[0mparams\u001b[0m\u001b[0;34m:\u001b[0m\u001b[0;34m\u001b[0m\u001b[0m\n\u001b[1;32m    411\u001b[0m             \u001b[0mself\u001b[0m\u001b[0;34m.\u001b[0m\u001b[0mset_params\u001b[0m\u001b[0;34m(\u001b[0m\u001b[0;34m**\u001b[0m\u001b[0mparams\u001b[0m\u001b[0;34m)\u001b[0m\u001b[0;34m\u001b[0m\u001b[0m\n\u001b[0;32m--> 412\u001b[0;31m         \u001b[0mself\u001b[0m\u001b[0;34m.\u001b[0m\u001b[0m_model\u001b[0m \u001b[0;34m=\u001b[0m \u001b[0mself\u001b[0m\u001b[0;34m.\u001b[0m\u001b[0m_estimate\u001b[0m\u001b[0;34m(\u001b[0m\u001b[0mX\u001b[0m\u001b[0;34m)\u001b[0m\u001b[0;34m\u001b[0m\u001b[0m\n\u001b[0m\u001b[1;32m    413\u001b[0m         \u001b[0mself\u001b[0m\u001b[0;34m.\u001b[0m\u001b[0m_estimated\u001b[0m \u001b[0;34m=\u001b[0m \u001b[0;32mTrue\u001b[0m\u001b[0;34m\u001b[0m\u001b[0m\n\u001b[1;32m    414\u001b[0m         \u001b[0;32mreturn\u001b[0m \u001b[0mself\u001b[0m\u001b[0;34m\u001b[0m\u001b[0m\n",
      "\u001b[0;32m/anaconda3/lib/python3.6/site-packages/pyemma/msm/estimators/maximum_likelihood_msm.py\u001b[0m in \u001b[0;36m_estimate\u001b[0;34m(self, dtrajs)\u001b[0m\n\u001b[1;32m   1092\u001b[0m             P = msmest.transition_matrix(self._C_active, reversible=self.reversible,\n\u001b[1;32m   1093\u001b[0m                                          \u001b[0mmu\u001b[0m\u001b[0;34m=\u001b[0m\u001b[0mstatdist_active\u001b[0m\u001b[0;34m,\u001b[0m \u001b[0mmaxiter\u001b[0m\u001b[0;34m=\u001b[0m\u001b[0mself\u001b[0m\u001b[0;34m.\u001b[0m\u001b[0mmaxiter\u001b[0m\u001b[0;34m,\u001b[0m\u001b[0;34m\u001b[0m\u001b[0m\n\u001b[0;32m-> 1094\u001b[0;31m                                          maxerr=self.maxerr)\n\u001b[0m\u001b[1;32m   1095\u001b[0m         \u001b[0;32melif\u001b[0m \u001b[0mself\u001b[0m\u001b[0;34m.\u001b[0m\u001b[0mconnectivity\u001b[0m \u001b[0;34m==\u001b[0m \u001b[0;34m'none'\u001b[0m\u001b[0;34m:\u001b[0m\u001b[0;34m\u001b[0m\u001b[0m\n\u001b[1;32m   1096\u001b[0m             \u001b[0;31m# reversible mode only possible if active set is connected\u001b[0m\u001b[0;34m\u001b[0m\u001b[0;34m\u001b[0m\u001b[0m\n",
      "\u001b[0;32m/anaconda3/lib/python3.6/site-packages/msmtools/estimation/api.py\u001b[0m in \u001b[0;36mtransition_matrix\u001b[0;34m(C, reversible, mu, method, **kwargs)\u001b[0m\n\u001b[1;32m    936\u001b[0m                     \u001b[0mT\u001b[0m \u001b[0;34m=\u001b[0m \u001b[0msparse\u001b[0m\u001b[0;34m.\u001b[0m\u001b[0mtransition_matrix\u001b[0m\u001b[0;34m.\u001b[0m\u001b[0mtransition_matrix_reversible_pisym\u001b[0m\u001b[0;34m(\u001b[0m\u001b[0mC\u001b[0m\u001b[0;34m)\u001b[0m\u001b[0;34m\u001b[0m\u001b[0m\n\u001b[1;32m    937\u001b[0m                 \u001b[0;32melse\u001b[0m\u001b[0;34m:\u001b[0m\u001b[0;34m\u001b[0m\u001b[0m\n\u001b[0;32m--> 938\u001b[0;31m                     \u001b[0mT\u001b[0m \u001b[0;34m=\u001b[0m \u001b[0msparse\u001b[0m\u001b[0;34m.\u001b[0m\u001b[0mmle_trev\u001b[0m\u001b[0;34m.\u001b[0m\u001b[0mmle_trev\u001b[0m\u001b[0;34m(\u001b[0m\u001b[0mC\u001b[0m\u001b[0;34m,\u001b[0m \u001b[0;34m**\u001b[0m\u001b[0mkwargs\u001b[0m\u001b[0;34m)\u001b[0m\u001b[0;34m\u001b[0m\u001b[0m\n\u001b[0m\u001b[1;32m    939\u001b[0m             \u001b[0;32melse\u001b[0m\u001b[0;34m:\u001b[0m\u001b[0;34m\u001b[0m\u001b[0m\n\u001b[1;32m    940\u001b[0m                 \u001b[0;32mif\u001b[0m \u001b[0mrev_pisym\u001b[0m\u001b[0;34m:\u001b[0m\u001b[0;34m\u001b[0m\u001b[0m\n",
      "\u001b[0;32mmsmtools/estimation/sparse/mle_trev.pyx\u001b[0m in \u001b[0;36mmsmtools.estimation.sparse.mle_trev.mle_trev\u001b[0;34m()\u001b[0m\n",
      "\u001b[0;31mException\u001b[0m: Stationary distribution contains entries smaller than 1e-15 during iteration"
     ]
    }
   ],
   "source": [
    "msm = pyemma.msm.estimate_markov_model(list(np.load('dih_dtrajs/3000_3_train.npy')), 100)"
   ]
  },
  {
   "cell_type": "code",
   "execution_count": 89,
   "metadata": {},
   "outputs": [
    {
     "name": "stderr",
     "output_type": "stream",
     "text": [
      "/anaconda3/lib/python3.6/site-packages/msmtools/estimation/api.py:938: NotConvergedWarning: Reversible transition matrix estimation didn't converge.\n",
      "  T = sparse.mle_trev.mle_trev(C, **kwargs)\n"
     ]
    }
   ],
   "source": [
    "msm = pyemma.msm.estimate_markov_model(list(np.load('dih_dtrajs/3000_4_train.npy')), 100)"
   ]
  },
  {
   "cell_type": "code",
   "execution_count": 90,
   "metadata": {},
   "outputs": [
    {
     "name": "stderr",
     "output_type": "stream",
     "text": [
      "/anaconda3/lib/python3.6/site-packages/msmtools/estimation/api.py:938: NotConvergedWarning: Reversible transition matrix estimation didn't converge.\n",
      "  T = sparse.mle_trev.mle_trev(C, **kwargs)\n"
     ]
    }
   ],
   "source": [
    "msm = pyemma.msm.estimate_markov_model(list(np.load('dih_dtrajs/4000_0_train.npy')), 100)"
   ]
  },
  {
   "cell_type": "code",
   "execution_count": 91,
   "metadata": {},
   "outputs": [],
   "source": [
    "msm = pyemma.msm.estimate_markov_model(list(np.load('dih_dtrajs/4000_1_train.npy')), 100)"
   ]
  },
  {
   "cell_type": "code",
   "execution_count": 92,
   "metadata": {},
   "outputs": [
    {
     "name": "stderr",
     "output_type": "stream",
     "text": [
      "/anaconda3/lib/python3.6/site-packages/msmtools/estimation/api.py:938: NotConvergedWarning: Reversible transition matrix estimation didn't converge.\n",
      "  T = sparse.mle_trev.mle_trev(C, **kwargs)\n"
     ]
    }
   ],
   "source": [
    "msm = pyemma.msm.estimate_markov_model(list(np.load('dih_dtrajs/4000_2_train.npy')), 100)"
   ]
  },
  {
   "cell_type": "code",
   "execution_count": 93,
   "metadata": {},
   "outputs": [
    {
     "name": "stderr",
     "output_type": "stream",
     "text": [
      "/anaconda3/lib/python3.6/site-packages/msmtools/estimation/api.py:938: NotConvergedWarning: Reversible transition matrix estimation didn't converge.\n",
      "  T = sparse.mle_trev.mle_trev(C, **kwargs)\n"
     ]
    }
   ],
   "source": [
    "msm = pyemma.msm.estimate_markov_model(list(np.load('dih_dtrajs/4000_3_train.npy')), 100)"
   ]
  },
  {
   "cell_type": "code",
   "execution_count": 94,
   "metadata": {},
   "outputs": [],
   "source": [
    "msm = pyemma.msm.estimate_markov_model(list(np.load('dih_dtrajs/4000_4_train.npy')), 100)"
   ]
  },
  {
   "cell_type": "code",
   "execution_count": 95,
   "metadata": {},
   "outputs": [
    {
     "name": "stdout",
     "output_type": "stream",
     "text": [
      "17-04-18 21:49:52 pyemma.msm.estimators.maximum_likelihood_msm.MaximumLikelihoodMSM[9] WARNING  Building a dense MSM with 5000 states. This can be inefficient or unfeasible in terms of both runtime and memory consumption. Consider using sparse=True.\n"
     ]
    },
    {
     "name": "stderr",
     "output_type": "stream",
     "text": [
      "/anaconda3/lib/python3.6/site-packages/msmtools/estimation/api.py:938: NotConvergedWarning: Reversible transition matrix estimation didn't converge.\n",
      "  T = sparse.mle_trev.mle_trev(C, **kwargs)\n"
     ]
    }
   ],
   "source": [
    "msm = pyemma.msm.estimate_markov_model(list(np.load('dih_dtrajs/5000_0_train.npy')), 100)"
   ]
  },
  {
   "cell_type": "code",
   "execution_count": 96,
   "metadata": {},
   "outputs": [
    {
     "name": "stdout",
     "output_type": "stream",
     "text": [
      "17-04-18 21:54:10 pyemma.msm.estimators.maximum_likelihood_msm.MaximumLikelihoodMSM[10] WARNING  Building a dense MSM with 5000 states. This can be inefficient or unfeasible in terms of both runtime and memory consumption. Consider using sparse=True.\n"
     ]
    },
    {
     "name": "stderr",
     "output_type": "stream",
     "text": [
      "/anaconda3/lib/python3.6/site-packages/msmtools/estimation/api.py:938: NotConvergedWarning: Reversible transition matrix estimation didn't converge.\n",
      "  T = sparse.mle_trev.mle_trev(C, **kwargs)\n"
     ]
    }
   ],
   "source": [
    "msm = pyemma.msm.estimate_markov_model(list(np.load('dih_dtrajs/5000_1_train.npy')), 100)"
   ]
  },
  {
   "cell_type": "code",
   "execution_count": 97,
   "metadata": {},
   "outputs": [
    {
     "name": "stdout",
     "output_type": "stream",
     "text": [
      "17-04-18 21:57:30 pyemma.msm.estimators.maximum_likelihood_msm.MaximumLikelihoodMSM[11] WARNING  Building a dense MSM with 5000 states. This can be inefficient or unfeasible in terms of both runtime and memory consumption. Consider using sparse=True.\n"
     ]
    },
    {
     "ename": "Exception",
     "evalue": "Stationary distribution contains entries smaller than 1e-15 during iteration",
     "output_type": "error",
     "traceback": [
      "\u001b[0;31m---------------------------------------------------------------------------\u001b[0m",
      "\u001b[0;31mException\u001b[0m                                 Traceback (most recent call last)",
      "\u001b[0;32m<ipython-input-97-f4ba02bbb96e>\u001b[0m in \u001b[0;36m<module>\u001b[0;34m()\u001b[0m\n\u001b[0;32m----> 1\u001b[0;31m \u001b[0mmsm\u001b[0m \u001b[0;34m=\u001b[0m \u001b[0mpyemma\u001b[0m\u001b[0;34m.\u001b[0m\u001b[0mmsm\u001b[0m\u001b[0;34m.\u001b[0m\u001b[0mestimate_markov_model\u001b[0m\u001b[0;34m(\u001b[0m\u001b[0mlist\u001b[0m\u001b[0;34m(\u001b[0m\u001b[0mnp\u001b[0m\u001b[0;34m.\u001b[0m\u001b[0mload\u001b[0m\u001b[0;34m(\u001b[0m\u001b[0;34m'dih_dtrajs/5000_2_train.npy'\u001b[0m\u001b[0;34m)\u001b[0m\u001b[0;34m)\u001b[0m\u001b[0;34m,\u001b[0m \u001b[0;36m100\u001b[0m\u001b[0;34m)\u001b[0m\u001b[0;34m\u001b[0m\u001b[0m\n\u001b[0m",
      "\u001b[0;32m/anaconda3/lib/python3.6/site-packages/pyemma/msm/api.py\u001b[0m in \u001b[0;36mestimate_markov_model\u001b[0;34m(dtrajs, lag, reversible, statdist, count_mode, weights, sparse, connectivity, dt_traj, maxiter, maxerr, score_method, score_k, mincount_connectivity)\u001b[0m\n\u001b[1;32m    606\u001b[0m                         mincount_connectivity=mincount_connectivity)\n\u001b[1;32m    607\u001b[0m         \u001b[0;31m# estimate and return\u001b[0m\u001b[0;34m\u001b[0m\u001b[0;34m\u001b[0m\u001b[0m\n\u001b[0;32m--> 608\u001b[0;31m         \u001b[0;32mreturn\u001b[0m \u001b[0mmlmsm\u001b[0m\u001b[0;34m.\u001b[0m\u001b[0mestimate\u001b[0m\u001b[0;34m(\u001b[0m\u001b[0mdtrajs\u001b[0m\u001b[0;34m)\u001b[0m\u001b[0;34m\u001b[0m\u001b[0m\n\u001b[0m\u001b[1;32m    609\u001b[0m     \u001b[0;32melif\u001b[0m \u001b[0mweights\u001b[0m \u001b[0;34m==\u001b[0m \u001b[0;34m'oom'\u001b[0m\u001b[0;34m:\u001b[0m\u001b[0;34m\u001b[0m\u001b[0m\n\u001b[1;32m    610\u001b[0m         \u001b[0;32mif\u001b[0m \u001b[0;34m(\u001b[0m\u001b[0mstatdist\u001b[0m \u001b[0;32mis\u001b[0m \u001b[0;32mnot\u001b[0m \u001b[0;32mNone\u001b[0m\u001b[0;34m)\u001b[0m \u001b[0;32mor\u001b[0m \u001b[0;34m(\u001b[0m\u001b[0mmaxiter\u001b[0m \u001b[0;34m!=\u001b[0m \u001b[0;36m1000000\u001b[0m\u001b[0;34m)\u001b[0m \u001b[0;32mor\u001b[0m \u001b[0;34m(\u001b[0m\u001b[0mmaxerr\u001b[0m \u001b[0;34m!=\u001b[0m \u001b[0;36m1e-8\u001b[0m\u001b[0;34m)\u001b[0m\u001b[0;34m:\u001b[0m\u001b[0;34m\u001b[0m\u001b[0m\n",
      "\u001b[0;32m/anaconda3/lib/python3.6/site-packages/pyemma/msm/estimators/maximum_likelihood_msm.py\u001b[0m in \u001b[0;36mestimate\u001b[0;34m(self, dtrajs, **kwargs)\u001b[0m\n\u001b[1;32m    212\u001b[0m         \"\"\"\n\u001b[1;32m    213\u001b[0m         \u001b[0mdtrajs\u001b[0m \u001b[0;34m=\u001b[0m \u001b[0mensure_dtraj_list\u001b[0m\u001b[0;34m(\u001b[0m\u001b[0mdtrajs\u001b[0m\u001b[0;34m)\u001b[0m  \u001b[0;31m# ensure format\u001b[0m\u001b[0;34m\u001b[0m\u001b[0m\n\u001b[0;32m--> 214\u001b[0;31m         \u001b[0;32mreturn\u001b[0m \u001b[0msuper\u001b[0m\u001b[0;34m(\u001b[0m\u001b[0m_MSMEstimator\u001b[0m\u001b[0;34m,\u001b[0m \u001b[0mself\u001b[0m\u001b[0;34m)\u001b[0m\u001b[0;34m.\u001b[0m\u001b[0mestimate\u001b[0m\u001b[0;34m(\u001b[0m\u001b[0mdtrajs\u001b[0m\u001b[0;34m,\u001b[0m \u001b[0;34m**\u001b[0m\u001b[0mkwargs\u001b[0m\u001b[0;34m)\u001b[0m\u001b[0;34m\u001b[0m\u001b[0m\n\u001b[0m\u001b[1;32m    215\u001b[0m \u001b[0;34m\u001b[0m\u001b[0m\n\u001b[1;32m    216\u001b[0m     \u001b[0;32mdef\u001b[0m \u001b[0m_check_is_estimated\u001b[0m\u001b[0;34m(\u001b[0m\u001b[0mself\u001b[0m\u001b[0;34m)\u001b[0m\u001b[0;34m:\u001b[0m\u001b[0;34m\u001b[0m\u001b[0m\n",
      "\u001b[0;32m/anaconda3/lib/python3.6/site-packages/pyemma/_base/estimator.py\u001b[0m in \u001b[0;36mestimate\u001b[0;34m(self, X, **params)\u001b[0m\n\u001b[1;32m    410\u001b[0m         \u001b[0;32mif\u001b[0m \u001b[0mparams\u001b[0m\u001b[0;34m:\u001b[0m\u001b[0;34m\u001b[0m\u001b[0m\n\u001b[1;32m    411\u001b[0m             \u001b[0mself\u001b[0m\u001b[0;34m.\u001b[0m\u001b[0mset_params\u001b[0m\u001b[0;34m(\u001b[0m\u001b[0;34m**\u001b[0m\u001b[0mparams\u001b[0m\u001b[0;34m)\u001b[0m\u001b[0;34m\u001b[0m\u001b[0m\n\u001b[0;32m--> 412\u001b[0;31m         \u001b[0mself\u001b[0m\u001b[0;34m.\u001b[0m\u001b[0m_model\u001b[0m \u001b[0;34m=\u001b[0m \u001b[0mself\u001b[0m\u001b[0;34m.\u001b[0m\u001b[0m_estimate\u001b[0m\u001b[0;34m(\u001b[0m\u001b[0mX\u001b[0m\u001b[0;34m)\u001b[0m\u001b[0;34m\u001b[0m\u001b[0m\n\u001b[0m\u001b[1;32m    413\u001b[0m         \u001b[0mself\u001b[0m\u001b[0;34m.\u001b[0m\u001b[0m_estimated\u001b[0m \u001b[0;34m=\u001b[0m \u001b[0;32mTrue\u001b[0m\u001b[0;34m\u001b[0m\u001b[0m\n\u001b[1;32m    414\u001b[0m         \u001b[0;32mreturn\u001b[0m \u001b[0mself\u001b[0m\u001b[0;34m\u001b[0m\u001b[0m\n",
      "\u001b[0;32m/anaconda3/lib/python3.6/site-packages/pyemma/msm/estimators/maximum_likelihood_msm.py\u001b[0m in \u001b[0;36m_estimate\u001b[0;34m(self, dtrajs)\u001b[0m\n\u001b[1;32m   1092\u001b[0m             P = msmest.transition_matrix(self._C_active, reversible=self.reversible,\n\u001b[1;32m   1093\u001b[0m                                          \u001b[0mmu\u001b[0m\u001b[0;34m=\u001b[0m\u001b[0mstatdist_active\u001b[0m\u001b[0;34m,\u001b[0m \u001b[0mmaxiter\u001b[0m\u001b[0;34m=\u001b[0m\u001b[0mself\u001b[0m\u001b[0;34m.\u001b[0m\u001b[0mmaxiter\u001b[0m\u001b[0;34m,\u001b[0m\u001b[0;34m\u001b[0m\u001b[0m\n\u001b[0;32m-> 1094\u001b[0;31m                                          maxerr=self.maxerr)\n\u001b[0m\u001b[1;32m   1095\u001b[0m         \u001b[0;32melif\u001b[0m \u001b[0mself\u001b[0m\u001b[0;34m.\u001b[0m\u001b[0mconnectivity\u001b[0m \u001b[0;34m==\u001b[0m \u001b[0;34m'none'\u001b[0m\u001b[0;34m:\u001b[0m\u001b[0;34m\u001b[0m\u001b[0m\n\u001b[1;32m   1096\u001b[0m             \u001b[0;31m# reversible mode only possible if active set is connected\u001b[0m\u001b[0;34m\u001b[0m\u001b[0;34m\u001b[0m\u001b[0m\n",
      "\u001b[0;32m/anaconda3/lib/python3.6/site-packages/msmtools/estimation/api.py\u001b[0m in \u001b[0;36mtransition_matrix\u001b[0;34m(C, reversible, mu, method, **kwargs)\u001b[0m\n\u001b[1;32m    936\u001b[0m                     \u001b[0mT\u001b[0m \u001b[0;34m=\u001b[0m \u001b[0msparse\u001b[0m\u001b[0;34m.\u001b[0m\u001b[0mtransition_matrix\u001b[0m\u001b[0;34m.\u001b[0m\u001b[0mtransition_matrix_reversible_pisym\u001b[0m\u001b[0;34m(\u001b[0m\u001b[0mC\u001b[0m\u001b[0;34m)\u001b[0m\u001b[0;34m\u001b[0m\u001b[0m\n\u001b[1;32m    937\u001b[0m                 \u001b[0;32melse\u001b[0m\u001b[0;34m:\u001b[0m\u001b[0;34m\u001b[0m\u001b[0m\n\u001b[0;32m--> 938\u001b[0;31m                     \u001b[0mT\u001b[0m \u001b[0;34m=\u001b[0m \u001b[0msparse\u001b[0m\u001b[0;34m.\u001b[0m\u001b[0mmle_trev\u001b[0m\u001b[0;34m.\u001b[0m\u001b[0mmle_trev\u001b[0m\u001b[0;34m(\u001b[0m\u001b[0mC\u001b[0m\u001b[0;34m,\u001b[0m \u001b[0;34m**\u001b[0m\u001b[0mkwargs\u001b[0m\u001b[0;34m)\u001b[0m\u001b[0;34m\u001b[0m\u001b[0m\n\u001b[0m\u001b[1;32m    939\u001b[0m             \u001b[0;32melse\u001b[0m\u001b[0;34m:\u001b[0m\u001b[0;34m\u001b[0m\u001b[0m\n\u001b[1;32m    940\u001b[0m                 \u001b[0;32mif\u001b[0m \u001b[0mrev_pisym\u001b[0m\u001b[0;34m:\u001b[0m\u001b[0;34m\u001b[0m\u001b[0m\n",
      "\u001b[0;32mmsmtools/estimation/sparse/mle_trev.pyx\u001b[0m in \u001b[0;36mmsmtools.estimation.sparse.mle_trev.mle_trev\u001b[0;34m()\u001b[0m\n",
      "\u001b[0;31mException\u001b[0m: Stationary distribution contains entries smaller than 1e-15 during iteration"
     ]
    }
   ],
   "source": [
    "msm = pyemma.msm.estimate_markov_model(list(np.load('dih_dtrajs/5000_2_train.npy')), 100)"
   ]
  },
  {
   "cell_type": "code",
   "execution_count": 98,
   "metadata": {},
   "outputs": [
    {
     "name": "stdout",
     "output_type": "stream",
     "text": [
      "17-04-18 22:00:59 pyemma.msm.estimators.maximum_likelihood_msm.MaximumLikelihoodMSM[12] WARNING  Building a dense MSM with 5000 states. This can be inefficient or unfeasible in terms of both runtime and memory consumption. Consider using sparse=True.\n"
     ]
    },
    {
     "ename": "Exception",
     "evalue": "Stationary distribution contains entries smaller than 1e-15 during iteration",
     "output_type": "error",
     "traceback": [
      "\u001b[0;31m---------------------------------------------------------------------------\u001b[0m",
      "\u001b[0;31mException\u001b[0m                                 Traceback (most recent call last)",
      "\u001b[0;32m<ipython-input-98-da2283954ebf>\u001b[0m in \u001b[0;36m<module>\u001b[0;34m()\u001b[0m\n\u001b[0;32m----> 1\u001b[0;31m \u001b[0mmsm\u001b[0m \u001b[0;34m=\u001b[0m \u001b[0mpyemma\u001b[0m\u001b[0;34m.\u001b[0m\u001b[0mmsm\u001b[0m\u001b[0;34m.\u001b[0m\u001b[0mestimate_markov_model\u001b[0m\u001b[0;34m(\u001b[0m\u001b[0mlist\u001b[0m\u001b[0;34m(\u001b[0m\u001b[0mnp\u001b[0m\u001b[0;34m.\u001b[0m\u001b[0mload\u001b[0m\u001b[0;34m(\u001b[0m\u001b[0;34m'dih_dtrajs/5000_3_train.npy'\u001b[0m\u001b[0;34m)\u001b[0m\u001b[0;34m)\u001b[0m\u001b[0;34m,\u001b[0m \u001b[0;36m100\u001b[0m\u001b[0;34m)\u001b[0m\u001b[0;34m\u001b[0m\u001b[0m\n\u001b[0m",
      "\u001b[0;32m/anaconda3/lib/python3.6/site-packages/pyemma/msm/api.py\u001b[0m in \u001b[0;36mestimate_markov_model\u001b[0;34m(dtrajs, lag, reversible, statdist, count_mode, weights, sparse, connectivity, dt_traj, maxiter, maxerr, score_method, score_k, mincount_connectivity)\u001b[0m\n\u001b[1;32m    606\u001b[0m                         mincount_connectivity=mincount_connectivity)\n\u001b[1;32m    607\u001b[0m         \u001b[0;31m# estimate and return\u001b[0m\u001b[0;34m\u001b[0m\u001b[0;34m\u001b[0m\u001b[0m\n\u001b[0;32m--> 608\u001b[0;31m         \u001b[0;32mreturn\u001b[0m \u001b[0mmlmsm\u001b[0m\u001b[0;34m.\u001b[0m\u001b[0mestimate\u001b[0m\u001b[0;34m(\u001b[0m\u001b[0mdtrajs\u001b[0m\u001b[0;34m)\u001b[0m\u001b[0;34m\u001b[0m\u001b[0m\n\u001b[0m\u001b[1;32m    609\u001b[0m     \u001b[0;32melif\u001b[0m \u001b[0mweights\u001b[0m \u001b[0;34m==\u001b[0m \u001b[0;34m'oom'\u001b[0m\u001b[0;34m:\u001b[0m\u001b[0;34m\u001b[0m\u001b[0m\n\u001b[1;32m    610\u001b[0m         \u001b[0;32mif\u001b[0m \u001b[0;34m(\u001b[0m\u001b[0mstatdist\u001b[0m \u001b[0;32mis\u001b[0m \u001b[0;32mnot\u001b[0m \u001b[0;32mNone\u001b[0m\u001b[0;34m)\u001b[0m \u001b[0;32mor\u001b[0m \u001b[0;34m(\u001b[0m\u001b[0mmaxiter\u001b[0m \u001b[0;34m!=\u001b[0m \u001b[0;36m1000000\u001b[0m\u001b[0;34m)\u001b[0m \u001b[0;32mor\u001b[0m \u001b[0;34m(\u001b[0m\u001b[0mmaxerr\u001b[0m \u001b[0;34m!=\u001b[0m \u001b[0;36m1e-8\u001b[0m\u001b[0;34m)\u001b[0m\u001b[0;34m:\u001b[0m\u001b[0;34m\u001b[0m\u001b[0m\n",
      "\u001b[0;32m/anaconda3/lib/python3.6/site-packages/pyemma/msm/estimators/maximum_likelihood_msm.py\u001b[0m in \u001b[0;36mestimate\u001b[0;34m(self, dtrajs, **kwargs)\u001b[0m\n\u001b[1;32m    212\u001b[0m         \"\"\"\n\u001b[1;32m    213\u001b[0m         \u001b[0mdtrajs\u001b[0m \u001b[0;34m=\u001b[0m \u001b[0mensure_dtraj_list\u001b[0m\u001b[0;34m(\u001b[0m\u001b[0mdtrajs\u001b[0m\u001b[0;34m)\u001b[0m  \u001b[0;31m# ensure format\u001b[0m\u001b[0;34m\u001b[0m\u001b[0m\n\u001b[0;32m--> 214\u001b[0;31m         \u001b[0;32mreturn\u001b[0m \u001b[0msuper\u001b[0m\u001b[0;34m(\u001b[0m\u001b[0m_MSMEstimator\u001b[0m\u001b[0;34m,\u001b[0m \u001b[0mself\u001b[0m\u001b[0;34m)\u001b[0m\u001b[0;34m.\u001b[0m\u001b[0mestimate\u001b[0m\u001b[0;34m(\u001b[0m\u001b[0mdtrajs\u001b[0m\u001b[0;34m,\u001b[0m \u001b[0;34m**\u001b[0m\u001b[0mkwargs\u001b[0m\u001b[0;34m)\u001b[0m\u001b[0;34m\u001b[0m\u001b[0m\n\u001b[0m\u001b[1;32m    215\u001b[0m \u001b[0;34m\u001b[0m\u001b[0m\n\u001b[1;32m    216\u001b[0m     \u001b[0;32mdef\u001b[0m \u001b[0m_check_is_estimated\u001b[0m\u001b[0;34m(\u001b[0m\u001b[0mself\u001b[0m\u001b[0;34m)\u001b[0m\u001b[0;34m:\u001b[0m\u001b[0;34m\u001b[0m\u001b[0m\n",
      "\u001b[0;32m/anaconda3/lib/python3.6/site-packages/pyemma/_base/estimator.py\u001b[0m in \u001b[0;36mestimate\u001b[0;34m(self, X, **params)\u001b[0m\n\u001b[1;32m    410\u001b[0m         \u001b[0;32mif\u001b[0m \u001b[0mparams\u001b[0m\u001b[0;34m:\u001b[0m\u001b[0;34m\u001b[0m\u001b[0m\n\u001b[1;32m    411\u001b[0m             \u001b[0mself\u001b[0m\u001b[0;34m.\u001b[0m\u001b[0mset_params\u001b[0m\u001b[0;34m(\u001b[0m\u001b[0;34m**\u001b[0m\u001b[0mparams\u001b[0m\u001b[0;34m)\u001b[0m\u001b[0;34m\u001b[0m\u001b[0m\n\u001b[0;32m--> 412\u001b[0;31m         \u001b[0mself\u001b[0m\u001b[0;34m.\u001b[0m\u001b[0m_model\u001b[0m \u001b[0;34m=\u001b[0m \u001b[0mself\u001b[0m\u001b[0;34m.\u001b[0m\u001b[0m_estimate\u001b[0m\u001b[0;34m(\u001b[0m\u001b[0mX\u001b[0m\u001b[0;34m)\u001b[0m\u001b[0;34m\u001b[0m\u001b[0m\n\u001b[0m\u001b[1;32m    413\u001b[0m         \u001b[0mself\u001b[0m\u001b[0;34m.\u001b[0m\u001b[0m_estimated\u001b[0m \u001b[0;34m=\u001b[0m \u001b[0;32mTrue\u001b[0m\u001b[0;34m\u001b[0m\u001b[0m\n\u001b[1;32m    414\u001b[0m         \u001b[0;32mreturn\u001b[0m \u001b[0mself\u001b[0m\u001b[0;34m\u001b[0m\u001b[0m\n",
      "\u001b[0;32m/anaconda3/lib/python3.6/site-packages/pyemma/msm/estimators/maximum_likelihood_msm.py\u001b[0m in \u001b[0;36m_estimate\u001b[0;34m(self, dtrajs)\u001b[0m\n\u001b[1;32m   1092\u001b[0m             P = msmest.transition_matrix(self._C_active, reversible=self.reversible,\n\u001b[1;32m   1093\u001b[0m                                          \u001b[0mmu\u001b[0m\u001b[0;34m=\u001b[0m\u001b[0mstatdist_active\u001b[0m\u001b[0;34m,\u001b[0m \u001b[0mmaxiter\u001b[0m\u001b[0;34m=\u001b[0m\u001b[0mself\u001b[0m\u001b[0;34m.\u001b[0m\u001b[0mmaxiter\u001b[0m\u001b[0;34m,\u001b[0m\u001b[0;34m\u001b[0m\u001b[0m\n\u001b[0;32m-> 1094\u001b[0;31m                                          maxerr=self.maxerr)\n\u001b[0m\u001b[1;32m   1095\u001b[0m         \u001b[0;32melif\u001b[0m \u001b[0mself\u001b[0m\u001b[0;34m.\u001b[0m\u001b[0mconnectivity\u001b[0m \u001b[0;34m==\u001b[0m \u001b[0;34m'none'\u001b[0m\u001b[0;34m:\u001b[0m\u001b[0;34m\u001b[0m\u001b[0m\n\u001b[1;32m   1096\u001b[0m             \u001b[0;31m# reversible mode only possible if active set is connected\u001b[0m\u001b[0;34m\u001b[0m\u001b[0;34m\u001b[0m\u001b[0m\n",
      "\u001b[0;32m/anaconda3/lib/python3.6/site-packages/msmtools/estimation/api.py\u001b[0m in \u001b[0;36mtransition_matrix\u001b[0;34m(C, reversible, mu, method, **kwargs)\u001b[0m\n\u001b[1;32m    936\u001b[0m                     \u001b[0mT\u001b[0m \u001b[0;34m=\u001b[0m \u001b[0msparse\u001b[0m\u001b[0;34m.\u001b[0m\u001b[0mtransition_matrix\u001b[0m\u001b[0;34m.\u001b[0m\u001b[0mtransition_matrix_reversible_pisym\u001b[0m\u001b[0;34m(\u001b[0m\u001b[0mC\u001b[0m\u001b[0;34m)\u001b[0m\u001b[0;34m\u001b[0m\u001b[0m\n\u001b[1;32m    937\u001b[0m                 \u001b[0;32melse\u001b[0m\u001b[0;34m:\u001b[0m\u001b[0;34m\u001b[0m\u001b[0m\n\u001b[0;32m--> 938\u001b[0;31m                     \u001b[0mT\u001b[0m \u001b[0;34m=\u001b[0m \u001b[0msparse\u001b[0m\u001b[0;34m.\u001b[0m\u001b[0mmle_trev\u001b[0m\u001b[0;34m.\u001b[0m\u001b[0mmle_trev\u001b[0m\u001b[0;34m(\u001b[0m\u001b[0mC\u001b[0m\u001b[0;34m,\u001b[0m \u001b[0;34m**\u001b[0m\u001b[0mkwargs\u001b[0m\u001b[0;34m)\u001b[0m\u001b[0;34m\u001b[0m\u001b[0m\n\u001b[0m\u001b[1;32m    939\u001b[0m             \u001b[0;32melse\u001b[0m\u001b[0;34m:\u001b[0m\u001b[0;34m\u001b[0m\u001b[0m\n\u001b[1;32m    940\u001b[0m                 \u001b[0;32mif\u001b[0m \u001b[0mrev_pisym\u001b[0m\u001b[0;34m:\u001b[0m\u001b[0;34m\u001b[0m\u001b[0m\n",
      "\u001b[0;32mmsmtools/estimation/sparse/mle_trev.pyx\u001b[0m in \u001b[0;36mmsmtools.estimation.sparse.mle_trev.mle_trev\u001b[0;34m()\u001b[0m\n",
      "\u001b[0;31mException\u001b[0m: Stationary distribution contains entries smaller than 1e-15 during iteration"
     ]
    }
   ],
   "source": [
    "msm = pyemma.msm.estimate_markov_model(list(np.load('dih_dtrajs/5000_3_train.npy')), 100)"
   ]
  },
  {
   "cell_type": "code",
   "execution_count": 99,
   "metadata": {},
   "outputs": [
    {
     "name": "stdout",
     "output_type": "stream",
     "text": [
      "17-04-18 22:01:12 pyemma.msm.estimators.maximum_likelihood_msm.MaximumLikelihoodMSM[13] WARNING  Building a dense MSM with 5000 states. This can be inefficient or unfeasible in terms of both runtime and memory consumption. Consider using sparse=True.\n"
     ]
    }
   ],
   "source": [
    "msm = pyemma.msm.estimate_markov_model(list(np.load('dih_dtrajs/5000_4_train.npy')), 100)"
   ]
  },
  {
   "cell_type": "code",
   "execution_count": 100,
   "metadata": {},
   "outputs": [],
   "source": [
    "# didn't converge: 2000_0, 2000_2, 3000_0, 3000_4, 4000_0, 4000_2, 4000_3, 5000_0, 5000_1"
   ]
  },
  {
   "cell_type": "code",
   "execution_count": 101,
   "metadata": {},
   "outputs": [],
   "source": [
    "# try 10x more iterations"
   ]
  },
  {
   "cell_type": "code",
   "execution_count": 103,
   "metadata": {},
   "outputs": [],
   "source": [
    "msm1 = pyemma.msm.estimate_markov_model(list(np.load('dih_dtrajs/2000_0_train.npy')), 100, maxiter=10000000)"
   ]
  },
  {
   "cell_type": "code",
   "execution_count": 112,
   "metadata": {},
   "outputs": [
    {
     "name": "stdout",
     "output_type": "stream",
     "text": [
      "(6.3391225726622222, 9.9769613959400569)\n"
     ]
    }
   ],
   "source": [
    "msm1_train = msm1.score(list(np.load('dih_dtrajs/2000_0_train.npy')), score_k=10)\n",
    "msm1_test = msm1.score([np.concatenate(x) for x in np.load('dih_dtrajs/2000_0_test.npy')], score_k=10)\n",
    "print((msm1_test, msm1_train))"
   ]
  },
  {
   "cell_type": "code",
   "execution_count": 115,
   "metadata": {},
   "outputs": [
    {
     "data": {
      "text/plain": [
       "(6.3391225753029063, 9.9769613960056311)"
      ]
     },
     "execution_count": 115,
     "metadata": {},
     "output_type": "execute_result"
    }
   ],
   "source": [
    "(pyemma_scores_dih[2][3][0], pyemma_scores_dih[3][3][0])"
   ]
  },
  {
   "cell_type": "code",
   "execution_count": 104,
   "metadata": {},
   "outputs": [],
   "source": [
    "msm2 = pyemma.msm.estimate_markov_model(list(np.load('dih_dtrajs/2000_2_train.npy')), 100, maxiter=10000000)"
   ]
  },
  {
   "cell_type": "code",
   "execution_count": 116,
   "metadata": {},
   "outputs": [
    {
     "name": "stdout",
     "output_type": "stream",
     "text": [
      "(6.6499382012054475, 9.973984456925761)\n"
     ]
    }
   ],
   "source": [
    "msm2_train = msm2.score(list(np.load('dih_dtrajs/2000_2_train.npy')), score_k=10)\n",
    "msm2_test = msm2.score([np.concatenate(x) for x in np.load('dih_dtrajs/2000_2_test.npy')], score_k=10)\n",
    "print((msm2_test, msm2_train))"
   ]
  },
  {
   "cell_type": "code",
   "execution_count": 124,
   "metadata": {},
   "outputs": [
    {
     "data": {
      "text/plain": [
       "(6.6499382015083013, 9.9739844569089495)"
      ]
     },
     "execution_count": 124,
     "metadata": {},
     "output_type": "execute_result"
    }
   ],
   "source": [
    "(pyemma_scores_dih[2][3][2], pyemma_scores_dih[3][3][2])"
   ]
  },
  {
   "cell_type": "code",
   "execution_count": 105,
   "metadata": {},
   "outputs": [],
   "source": [
    "msm3 = pyemma.msm.estimate_markov_model(list(np.load('dih_dtrajs/3000_0_train.npy')), 100, maxiter=10000000)"
   ]
  },
  {
   "cell_type": "code",
   "execution_count": 117,
   "metadata": {},
   "outputs": [
    {
     "name": "stdout",
     "output_type": "stream",
     "text": [
      "(6.3891226344152887, 9.9866987137275611)\n"
     ]
    }
   ],
   "source": [
    "msm3_train = msm3.score(list(np.load('dih_dtrajs/3000_0_train.npy')), score_k=10)\n",
    "msm3_test = msm3.score([np.concatenate(x) for x in np.load('dih_dtrajs/3000_0_test.npy')], score_k=10)\n",
    "print((msm3_test, msm3_train))"
   ]
  },
  {
   "cell_type": "code",
   "execution_count": 125,
   "metadata": {},
   "outputs": [
    {
     "data": {
      "text/plain": [
       "(6.3891226098372442, 9.9866987162227154)"
      ]
     },
     "execution_count": 125,
     "metadata": {},
     "output_type": "execute_result"
    }
   ],
   "source": [
    "(pyemma_scores_dih[2][4][0], pyemma_scores_dih[3][4][0])"
   ]
  },
  {
   "cell_type": "code",
   "execution_count": 106,
   "metadata": {},
   "outputs": [],
   "source": [
    "msm4 = pyemma.msm.estimate_markov_model(list(np.load('dih_dtrajs/3000_4_train.npy')), 100, maxiter=10000000)"
   ]
  },
  {
   "cell_type": "code",
   "execution_count": 118,
   "metadata": {},
   "outputs": [
    {
     "name": "stdout",
     "output_type": "stream",
     "text": [
      "(7.5894841732692706, 9.9875167869430861)\n"
     ]
    }
   ],
   "source": [
    "msm4_train = msm4.score(list(np.load('dih_dtrajs/3000_4_train.npy')), score_k=10)\n",
    "msm4_test = msm4.score([np.concatenate(x) for x in np.load('dih_dtrajs/3000_4_test.npy')], score_k=10)\n",
    "print((msm4_test, msm4_train))"
   ]
  },
  {
   "cell_type": "code",
   "execution_count": 126,
   "metadata": {},
   "outputs": [
    {
     "data": {
      "text/plain": [
       "(7.5894844464497426, 9.9875167866193255)"
      ]
     },
     "execution_count": 126,
     "metadata": {},
     "output_type": "execute_result"
    }
   ],
   "source": [
    "(pyemma_scores_dih[2][4][4], pyemma_scores_dih[3][4][4])"
   ]
  },
  {
   "cell_type": "code",
   "execution_count": 107,
   "metadata": {},
   "outputs": [],
   "source": [
    "msm5 = pyemma.msm.estimate_markov_model(list(np.load('dih_dtrajs/4000_0_train.npy')), 100, maxiter=10000000)"
   ]
  },
  {
   "cell_type": "code",
   "execution_count": 119,
   "metadata": {},
   "outputs": [
    {
     "name": "stdout",
     "output_type": "stream",
     "text": [
      "(5.3615969995521748, 9.9919986120957933)\n"
     ]
    }
   ],
   "source": [
    "msm5_train = msm5.score(list(np.load('dih_dtrajs/4000_0_train.npy')), score_k=10)\n",
    "msm5_test = msm5.score([np.concatenate(x) for x in np.load('dih_dtrajs/4000_0_test.npy')], score_k=10)\n",
    "print((msm5_test, msm5_train))"
   ]
  },
  {
   "cell_type": "code",
   "execution_count": 127,
   "metadata": {},
   "outputs": [
    {
     "data": {
      "text/plain": [
       "(5.3615985741164991, 9.9919986037639603)"
      ]
     },
     "execution_count": 127,
     "metadata": {},
     "output_type": "execute_result"
    }
   ],
   "source": [
    "(pyemma_scores_dih[2][5][0], pyemma_scores_dih[3][5][0])"
   ]
  },
  {
   "cell_type": "code",
   "execution_count": 108,
   "metadata": {},
   "outputs": [],
   "source": [
    "msm6 = pyemma.msm.estimate_markov_model(list(np.load('dih_dtrajs/4000_2_train.npy')), 100, maxiter=10000000)"
   ]
  },
  {
   "cell_type": "code",
   "execution_count": 120,
   "metadata": {},
   "outputs": [
    {
     "name": "stdout",
     "output_type": "stream",
     "text": [
      "(7.5121449703818017, 9.9865100260686646)\n"
     ]
    }
   ],
   "source": [
    "msm6_train = msm6.score(list(np.load('dih_dtrajs/4000_2_train.npy')), score_k=10)\n",
    "msm6_test = msm6.score([np.concatenate(x) for x in np.load('dih_dtrajs/4000_2_test.npy')], score_k=10)\n",
    "print((msm6_test, msm6_train))"
   ]
  },
  {
   "cell_type": "code",
   "execution_count": 128,
   "metadata": {},
   "outputs": [
    {
     "data": {
      "text/plain": [
       "(7.5121426757709138, 9.9865100411225054)"
      ]
     },
     "execution_count": 128,
     "metadata": {},
     "output_type": "execute_result"
    }
   ],
   "source": [
    "(pyemma_scores_dih[2][5][2], pyemma_scores_dih[3][5][2])"
   ]
  },
  {
   "cell_type": "code",
   "execution_count": 109,
   "metadata": {},
   "outputs": [],
   "source": [
    "msm7 = pyemma.msm.estimate_markov_model(list(np.load('dih_dtrajs/4000_3_train.npy')), 100, maxiter=10000000)"
   ]
  },
  {
   "cell_type": "code",
   "execution_count": 121,
   "metadata": {},
   "outputs": [
    {
     "name": "stdout",
     "output_type": "stream",
     "text": [
      "(6.1832441720213822, 9.9846321350294023)\n"
     ]
    }
   ],
   "source": [
    "msm7_train = msm7.score(list(np.load('dih_dtrajs/4000_3_train.npy')), score_k=10)\n",
    "msm7_test = msm7.score([np.concatenate(x) for x in np.load('dih_dtrajs/4000_3_test.npy')], score_k=10)\n",
    "print((msm7_test, msm7_train))"
   ]
  },
  {
   "cell_type": "code",
   "execution_count": 129,
   "metadata": {},
   "outputs": [
    {
     "data": {
      "text/plain": [
       "(6.1832441862640151, 9.984632135014829)"
      ]
     },
     "execution_count": 129,
     "metadata": {},
     "output_type": "execute_result"
    }
   ],
   "source": [
    "(pyemma_scores_dih[2][5][3], pyemma_scores_dih[3][5][3])"
   ]
  },
  {
   "cell_type": "code",
   "execution_count": 110,
   "metadata": {},
   "outputs": [
    {
     "name": "stdout",
     "output_type": "stream",
     "text": [
      "18-04-18 00:49:24 pyemma.msm.estimators.maximum_likelihood_msm.MaximumLikelihoodMSM[14] WARNING  Building a dense MSM with 5000 states. This can be inefficient or unfeasible in terms of both runtime and memory consumption. Consider using sparse=True.\n"
     ]
    }
   ],
   "source": [
    "msm8 = pyemma.msm.estimate_markov_model(list(np.load('dih_dtrajs/5000_0_train.npy')), 100, maxiter=10000000)"
   ]
  },
  {
   "cell_type": "code",
   "execution_count": 122,
   "metadata": {},
   "outputs": [
    {
     "name": "stdout",
     "output_type": "stream",
     "text": [
      "(6.0579564452098609, 9.9880630855955896)\n"
     ]
    }
   ],
   "source": [
    "msm8_train = msm8.score(list(np.load('dih_dtrajs/5000_0_train.npy')), score_k=10)\n",
    "msm8_test = msm8.score([np.concatenate(x) for x in np.load('dih_dtrajs/5000_0_test.npy')], score_k=10)\n",
    "print((msm8_test, msm8_train))"
   ]
  },
  {
   "cell_type": "code",
   "execution_count": 130,
   "metadata": {},
   "outputs": [
    {
     "data": {
      "text/plain": [
       "(6.0579751949356897, 9.9880631061735503)"
      ]
     },
     "execution_count": 130,
     "metadata": {},
     "output_type": "execute_result"
    }
   ],
   "source": [
    "(pyemma_scores_dih[2][6][0], pyemma_scores_dih[3][6][0])"
   ]
  },
  {
   "cell_type": "code",
   "execution_count": 111,
   "metadata": {},
   "outputs": [
    {
     "name": "stdout",
     "output_type": "stream",
     "text": [
      "18-04-18 01:16:16 pyemma.msm.estimators.maximum_likelihood_msm.MaximumLikelihoodMSM[15] WARNING  Building a dense MSM with 5000 states. This can be inefficient or unfeasible in terms of both runtime and memory consumption. Consider using sparse=True.\n"
     ]
    }
   ],
   "source": [
    "msm9 = pyemma.msm.estimate_markov_model(list(np.load('dih_dtrajs/5000_1_train.npy')), 100, maxiter=10000000)"
   ]
  },
  {
   "cell_type": "code",
   "execution_count": 123,
   "metadata": {},
   "outputs": [
    {
     "name": "stdout",
     "output_type": "stream",
     "text": [
      "(6.8698192017705848, 9.983519981741539)\n"
     ]
    }
   ],
   "source": [
    "msm9_train = msm9.score(list(np.load('dih_dtrajs/5000_1_train.npy')), score_k=10)\n",
    "msm9_test = msm9.score([np.concatenate(x) for x in np.load('dih_dtrajs/5000_1_test.npy')], score_k=10)\n",
    "print((msm9_test, msm9_train))"
   ]
  },
  {
   "cell_type": "code",
   "execution_count": 131,
   "metadata": {},
   "outputs": [
    {
     "data": {
      "text/plain": [
       "(6.869819205942119, 9.9835199817397822)"
      ]
     },
     "execution_count": 131,
     "metadata": {},
     "output_type": "execute_result"
    }
   ],
   "source": [
    "(pyemma_scores_dih[2][6][1], pyemma_scores_dih[3][6][1])"
   ]
  },
  {
   "cell_type": "code",
   "execution_count": 114,
   "metadata": {},
   "outputs": [],
   "source": [
    "pyemma_scores_dih = np.load('/Users/rafalpwiewiora/repos/MSM/11707_11709_SET8_apo_FINAL/full_dataset_scoring_2/score/results/pyemma_scores_dih.npy')"
   ]
  },
  {
   "cell_type": "code",
   "execution_count": null,
   "metadata": {},
   "outputs": [],
   "source": [
    "# conclusion - no significant change in scores - 5th decimal is the biggest change"
   ]
  }
 ],
 "metadata": {
  "kernelspec": {
   "display_name": "Python 3",
   "language": "python",
   "name": "python3"
  },
  "language_info": {
   "codemirror_mode": {
    "name": "ipython",
    "version": 3
   },
   "file_extension": ".py",
   "mimetype": "text/x-python",
   "name": "python",
   "nbconvert_exporter": "python",
   "pygments_lexer": "ipython3",
   "version": "3.6.4"
  }
 },
 "nbformat": 4,
 "nbformat_minor": 2
}
