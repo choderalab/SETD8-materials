{
 "cells": [
  {
   "cell_type": "code",
   "execution_count": 1,
   "metadata": {},
   "outputs": [
    {
     "name": "stderr",
     "output_type": "stream",
     "text": [
      "/anaconda3/lib/python3.6/site-packages/pyemma/__init__.py:130: UserWarning: You are not using the latest release of PyEMMA. Latest is 2.5.2, you have 2.5.1.\n",
      "  .format(latest=latest, current=current), category=UserWarning)\n"
     ]
    }
   ],
   "source": [
    "import numpy as np\n",
    "import pyemma"
   ]
  },
  {
   "cell_type": "code",
   "execution_count": 2,
   "metadata": {},
   "outputs": [],
   "source": [
    "msm = pyemma.msm.estimate_markov_model(list(np.load('dist_dtrajs/100_0_train.npy')), 100)"
   ]
  },
  {
   "cell_type": "code",
   "execution_count": 3,
   "metadata": {},
   "outputs": [],
   "source": [
    "msm = pyemma.msm.estimate_markov_model(list(np.load('dist_dtrajs/100_1_train.npy')), 100)"
   ]
  },
  {
   "cell_type": "code",
   "execution_count": 4,
   "metadata": {},
   "outputs": [],
   "source": [
    "msm = pyemma.msm.estimate_markov_model(list(np.load('dist_dtrajs/100_2_train.npy')), 100)"
   ]
  },
  {
   "cell_type": "code",
   "execution_count": 5,
   "metadata": {},
   "outputs": [],
   "source": [
    "msm = pyemma.msm.estimate_markov_model(list(np.load('dist_dtrajs/100_3_train.npy')), 100)"
   ]
  },
  {
   "cell_type": "code",
   "execution_count": 6,
   "metadata": {},
   "outputs": [],
   "source": [
    "msm = pyemma.msm.estimate_markov_model(list(np.load('dist_dtrajs/100_4_train.npy')), 100)"
   ]
  },
  {
   "cell_type": "code",
   "execution_count": 7,
   "metadata": {},
   "outputs": [],
   "source": [
    "msm = pyemma.msm.estimate_markov_model(list(np.load('dist_dtrajs/500_0_train.npy')), 100)"
   ]
  },
  {
   "cell_type": "code",
   "execution_count": 8,
   "metadata": {},
   "outputs": [],
   "source": [
    "msm = pyemma.msm.estimate_markov_model(list(np.load('dist_dtrajs/500_1_train.npy')), 100)"
   ]
  },
  {
   "cell_type": "code",
   "execution_count": 9,
   "metadata": {},
   "outputs": [],
   "source": [
    "msm = pyemma.msm.estimate_markov_model(list(np.load('dist_dtrajs/500_2_train.npy')), 100)"
   ]
  },
  {
   "cell_type": "code",
   "execution_count": 10,
   "metadata": {},
   "outputs": [],
   "source": [
    "msm = pyemma.msm.estimate_markov_model(list(np.load('dist_dtrajs/500_3_train.npy')), 100)"
   ]
  },
  {
   "cell_type": "code",
   "execution_count": 11,
   "metadata": {},
   "outputs": [],
   "source": [
    "msm = pyemma.msm.estimate_markov_model(list(np.load('dist_dtrajs/500_4_train.npy')), 100)"
   ]
  },
  {
   "cell_type": "code",
   "execution_count": 12,
   "metadata": {},
   "outputs": [],
   "source": [
    "msm = pyemma.msm.estimate_markov_model(list(np.load('dist_dtrajs/1000_0_train.npy')), 100)"
   ]
  },
  {
   "cell_type": "code",
   "execution_count": 13,
   "metadata": {},
   "outputs": [],
   "source": [
    "msm = pyemma.msm.estimate_markov_model(list(np.load('dist_dtrajs/1000_1_train.npy')), 100)"
   ]
  },
  {
   "cell_type": "code",
   "execution_count": 14,
   "metadata": {},
   "outputs": [],
   "source": [
    "msm = pyemma.msm.estimate_markov_model(list(np.load('dist_dtrajs/1000_2_train.npy')), 100)"
   ]
  },
  {
   "cell_type": "code",
   "execution_count": 15,
   "metadata": {},
   "outputs": [],
   "source": [
    "msm = pyemma.msm.estimate_markov_model(list(np.load('dist_dtrajs/1000_3_train.npy')), 100)"
   ]
  },
  {
   "cell_type": "code",
   "execution_count": 16,
   "metadata": {},
   "outputs": [],
   "source": [
    "msm = pyemma.msm.estimate_markov_model(list(np.load('dist_dtrajs/1000_4_train.npy')), 100)"
   ]
  },
  {
   "cell_type": "code",
   "execution_count": 17,
   "metadata": {},
   "outputs": [],
   "source": [
    "msm = pyemma.msm.estimate_markov_model(list(np.load('dist_dtrajs/2000_0_train.npy')), 100)"
   ]
  },
  {
   "cell_type": "code",
   "execution_count": 18,
   "metadata": {},
   "outputs": [],
   "source": [
    "msm = pyemma.msm.estimate_markov_model(list(np.load('dist_dtrajs/2000_1_train.npy')), 100)"
   ]
  },
  {
   "cell_type": "code",
   "execution_count": 19,
   "metadata": {},
   "outputs": [],
   "source": [
    "msm = pyemma.msm.estimate_markov_model(list(np.load('dist_dtrajs/2000_2_train.npy')), 100)"
   ]
  },
  {
   "cell_type": "code",
   "execution_count": 20,
   "metadata": {},
   "outputs": [],
   "source": [
    "msm = pyemma.msm.estimate_markov_model(list(np.load('dist_dtrajs/2000_3_train.npy')), 100)"
   ]
  },
  {
   "cell_type": "code",
   "execution_count": 21,
   "metadata": {},
   "outputs": [],
   "source": [
    "msm = pyemma.msm.estimate_markov_model(list(np.load('dist_dtrajs/2000_4_train.npy')), 100)"
   ]
  },
  {
   "cell_type": "code",
   "execution_count": 22,
   "metadata": {},
   "outputs": [
    {
     "name": "stderr",
     "output_type": "stream",
     "text": [
      "/anaconda3/lib/python3.6/site-packages/msmtools/estimation/api.py:938: NotConvergedWarning: Reversible transition matrix estimation didn't converge.\n",
      "  T = sparse.mle_trev.mle_trev(C, **kwargs)\n"
     ]
    }
   ],
   "source": [
    "msm = pyemma.msm.estimate_markov_model(list(np.load('dist_dtrajs/3000_0_train.npy')), 100)"
   ]
  },
  {
   "cell_type": "code",
   "execution_count": 23,
   "metadata": {},
   "outputs": [],
   "source": [
    "msm = pyemma.msm.estimate_markov_model(list(np.load('dist_dtrajs/3000_1_train.npy')), 100)"
   ]
  },
  {
   "cell_type": "code",
   "execution_count": 24,
   "metadata": {},
   "outputs": [
    {
     "name": "stderr",
     "output_type": "stream",
     "text": [
      "/anaconda3/lib/python3.6/site-packages/msmtools/estimation/api.py:938: NotConvergedWarning: Reversible transition matrix estimation didn't converge.\n",
      "  T = sparse.mle_trev.mle_trev(C, **kwargs)\n"
     ]
    }
   ],
   "source": [
    "msm = pyemma.msm.estimate_markov_model(list(np.load('dist_dtrajs/3000_2_train.npy')), 100)"
   ]
  },
  {
   "cell_type": "code",
   "execution_count": 25,
   "metadata": {},
   "outputs": [
    {
     "name": "stderr",
     "output_type": "stream",
     "text": [
      "/anaconda3/lib/python3.6/site-packages/msmtools/estimation/api.py:938: NotConvergedWarning: Reversible transition matrix estimation didn't converge.\n",
      "  T = sparse.mle_trev.mle_trev(C, **kwargs)\n"
     ]
    }
   ],
   "source": [
    "msm = pyemma.msm.estimate_markov_model(list(np.load('dist_dtrajs/3000_3_train.npy')), 100)"
   ]
  },
  {
   "cell_type": "code",
   "execution_count": 26,
   "metadata": {},
   "outputs": [],
   "source": [
    "msm = pyemma.msm.estimate_markov_model(list(np.load('dist_dtrajs/3000_4_train.npy')), 100)"
   ]
  },
  {
   "cell_type": "code",
   "execution_count": 27,
   "metadata": {},
   "outputs": [],
   "source": [
    "msm = pyemma.msm.estimate_markov_model(list(np.load('dist_dtrajs/4000_0_train.npy')), 100)"
   ]
  },
  {
   "cell_type": "code",
   "execution_count": 28,
   "metadata": {},
   "outputs": [],
   "source": [
    "msm = pyemma.msm.estimate_markov_model(list(np.load('dist_dtrajs/4000_1_train.npy')), 100)"
   ]
  },
  {
   "cell_type": "code",
   "execution_count": 29,
   "metadata": {},
   "outputs": [
    {
     "name": "stderr",
     "output_type": "stream",
     "text": [
      "/anaconda3/lib/python3.6/site-packages/msmtools/estimation/api.py:938: NotConvergedWarning: Reversible transition matrix estimation didn't converge.\n",
      "  T = sparse.mle_trev.mle_trev(C, **kwargs)\n"
     ]
    }
   ],
   "source": [
    "msm = pyemma.msm.estimate_markov_model(list(np.load('dist_dtrajs/4000_2_train.npy')), 100)"
   ]
  },
  {
   "cell_type": "code",
   "execution_count": 30,
   "metadata": {},
   "outputs": [],
   "source": [
    "msm = pyemma.msm.estimate_markov_model(list(np.load('dist_dtrajs/4000_3_train.npy')), 100)"
   ]
  },
  {
   "cell_type": "code",
   "execution_count": 31,
   "metadata": {},
   "outputs": [
    {
     "name": "stderr",
     "output_type": "stream",
     "text": [
      "/anaconda3/lib/python3.6/site-packages/msmtools/estimation/api.py:938: NotConvergedWarning: Reversible transition matrix estimation didn't converge.\n",
      "  T = sparse.mle_trev.mle_trev(C, **kwargs)\n"
     ]
    }
   ],
   "source": [
    "msm = pyemma.msm.estimate_markov_model(list(np.load('dist_dtrajs/4000_4_train.npy')), 100)"
   ]
  },
  {
   "cell_type": "code",
   "execution_count": 32,
   "metadata": {},
   "outputs": [
    {
     "name": "stdout",
     "output_type": "stream",
     "text": [
      "17-04-18 21:30:38 pyemma.msm.estimators.maximum_likelihood_msm.MaximumLikelihoodMSM[0] WARNING  Building a dense MSM with 5000 states. This can be inefficient or unfeasible in terms of both runtime and memory consumption. Consider using sparse=True.\n"
     ]
    },
    {
     "ename": "Exception",
     "evalue": "Stationary distribution contains entries smaller than 1e-15 during iteration",
     "output_type": "error",
     "traceback": [
      "\u001b[0;31m---------------------------------------------------------------------------\u001b[0m",
      "\u001b[0;31mException\u001b[0m                                 Traceback (most recent call last)",
      "\u001b[0;32m<ipython-input-32-f66e0f8098a5>\u001b[0m in \u001b[0;36m<module>\u001b[0;34m()\u001b[0m\n\u001b[0;32m----> 1\u001b[0;31m \u001b[0mmsm\u001b[0m \u001b[0;34m=\u001b[0m \u001b[0mpyemma\u001b[0m\u001b[0;34m.\u001b[0m\u001b[0mmsm\u001b[0m\u001b[0;34m.\u001b[0m\u001b[0mestimate_markov_model\u001b[0m\u001b[0;34m(\u001b[0m\u001b[0mlist\u001b[0m\u001b[0;34m(\u001b[0m\u001b[0mnp\u001b[0m\u001b[0;34m.\u001b[0m\u001b[0mload\u001b[0m\u001b[0;34m(\u001b[0m\u001b[0;34m'dist_dtrajs/5000_0_train.npy'\u001b[0m\u001b[0;34m)\u001b[0m\u001b[0;34m)\u001b[0m\u001b[0;34m,\u001b[0m \u001b[0;36m100\u001b[0m\u001b[0;34m)\u001b[0m\u001b[0;34m\u001b[0m\u001b[0m\n\u001b[0m",
      "\u001b[0;32m/anaconda3/lib/python3.6/site-packages/pyemma/msm/api.py\u001b[0m in \u001b[0;36mestimate_markov_model\u001b[0;34m(dtrajs, lag, reversible, statdist, count_mode, weights, sparse, connectivity, dt_traj, maxiter, maxerr, score_method, score_k, mincount_connectivity)\u001b[0m\n\u001b[1;32m    606\u001b[0m                         mincount_connectivity=mincount_connectivity)\n\u001b[1;32m    607\u001b[0m         \u001b[0;31m# estimate and return\u001b[0m\u001b[0;34m\u001b[0m\u001b[0;34m\u001b[0m\u001b[0m\n\u001b[0;32m--> 608\u001b[0;31m         \u001b[0;32mreturn\u001b[0m \u001b[0mmlmsm\u001b[0m\u001b[0;34m.\u001b[0m\u001b[0mestimate\u001b[0m\u001b[0;34m(\u001b[0m\u001b[0mdtrajs\u001b[0m\u001b[0;34m)\u001b[0m\u001b[0;34m\u001b[0m\u001b[0m\n\u001b[0m\u001b[1;32m    609\u001b[0m     \u001b[0;32melif\u001b[0m \u001b[0mweights\u001b[0m \u001b[0;34m==\u001b[0m \u001b[0;34m'oom'\u001b[0m\u001b[0;34m:\u001b[0m\u001b[0;34m\u001b[0m\u001b[0m\n\u001b[1;32m    610\u001b[0m         \u001b[0;32mif\u001b[0m \u001b[0;34m(\u001b[0m\u001b[0mstatdist\u001b[0m \u001b[0;32mis\u001b[0m \u001b[0;32mnot\u001b[0m \u001b[0;32mNone\u001b[0m\u001b[0;34m)\u001b[0m \u001b[0;32mor\u001b[0m \u001b[0;34m(\u001b[0m\u001b[0mmaxiter\u001b[0m \u001b[0;34m!=\u001b[0m \u001b[0;36m1000000\u001b[0m\u001b[0;34m)\u001b[0m \u001b[0;32mor\u001b[0m \u001b[0;34m(\u001b[0m\u001b[0mmaxerr\u001b[0m \u001b[0;34m!=\u001b[0m \u001b[0;36m1e-8\u001b[0m\u001b[0;34m)\u001b[0m\u001b[0;34m:\u001b[0m\u001b[0;34m\u001b[0m\u001b[0m\n",
      "\u001b[0;32m/anaconda3/lib/python3.6/site-packages/pyemma/msm/estimators/maximum_likelihood_msm.py\u001b[0m in \u001b[0;36mestimate\u001b[0;34m(self, dtrajs, **kwargs)\u001b[0m\n\u001b[1;32m    212\u001b[0m         \"\"\"\n\u001b[1;32m    213\u001b[0m         \u001b[0mdtrajs\u001b[0m \u001b[0;34m=\u001b[0m \u001b[0mensure_dtraj_list\u001b[0m\u001b[0;34m(\u001b[0m\u001b[0mdtrajs\u001b[0m\u001b[0;34m)\u001b[0m  \u001b[0;31m# ensure format\u001b[0m\u001b[0;34m\u001b[0m\u001b[0m\n\u001b[0;32m--> 214\u001b[0;31m         \u001b[0;32mreturn\u001b[0m \u001b[0msuper\u001b[0m\u001b[0;34m(\u001b[0m\u001b[0m_MSMEstimator\u001b[0m\u001b[0;34m,\u001b[0m \u001b[0mself\u001b[0m\u001b[0;34m)\u001b[0m\u001b[0;34m.\u001b[0m\u001b[0mestimate\u001b[0m\u001b[0;34m(\u001b[0m\u001b[0mdtrajs\u001b[0m\u001b[0;34m,\u001b[0m \u001b[0;34m**\u001b[0m\u001b[0mkwargs\u001b[0m\u001b[0;34m)\u001b[0m\u001b[0;34m\u001b[0m\u001b[0m\n\u001b[0m\u001b[1;32m    215\u001b[0m \u001b[0;34m\u001b[0m\u001b[0m\n\u001b[1;32m    216\u001b[0m     \u001b[0;32mdef\u001b[0m \u001b[0m_check_is_estimated\u001b[0m\u001b[0;34m(\u001b[0m\u001b[0mself\u001b[0m\u001b[0;34m)\u001b[0m\u001b[0;34m:\u001b[0m\u001b[0;34m\u001b[0m\u001b[0m\n",
      "\u001b[0;32m/anaconda3/lib/python3.6/site-packages/pyemma/_base/estimator.py\u001b[0m in \u001b[0;36mestimate\u001b[0;34m(self, X, **params)\u001b[0m\n\u001b[1;32m    410\u001b[0m         \u001b[0;32mif\u001b[0m \u001b[0mparams\u001b[0m\u001b[0;34m:\u001b[0m\u001b[0;34m\u001b[0m\u001b[0m\n\u001b[1;32m    411\u001b[0m             \u001b[0mself\u001b[0m\u001b[0;34m.\u001b[0m\u001b[0mset_params\u001b[0m\u001b[0;34m(\u001b[0m\u001b[0;34m**\u001b[0m\u001b[0mparams\u001b[0m\u001b[0;34m)\u001b[0m\u001b[0;34m\u001b[0m\u001b[0m\n\u001b[0;32m--> 412\u001b[0;31m         \u001b[0mself\u001b[0m\u001b[0;34m.\u001b[0m\u001b[0m_model\u001b[0m \u001b[0;34m=\u001b[0m \u001b[0mself\u001b[0m\u001b[0;34m.\u001b[0m\u001b[0m_estimate\u001b[0m\u001b[0;34m(\u001b[0m\u001b[0mX\u001b[0m\u001b[0;34m)\u001b[0m\u001b[0;34m\u001b[0m\u001b[0m\n\u001b[0m\u001b[1;32m    413\u001b[0m         \u001b[0mself\u001b[0m\u001b[0;34m.\u001b[0m\u001b[0m_estimated\u001b[0m \u001b[0;34m=\u001b[0m \u001b[0;32mTrue\u001b[0m\u001b[0;34m\u001b[0m\u001b[0m\n\u001b[1;32m    414\u001b[0m         \u001b[0;32mreturn\u001b[0m \u001b[0mself\u001b[0m\u001b[0;34m\u001b[0m\u001b[0m\n",
      "\u001b[0;32m/anaconda3/lib/python3.6/site-packages/pyemma/msm/estimators/maximum_likelihood_msm.py\u001b[0m in \u001b[0;36m_estimate\u001b[0;34m(self, dtrajs)\u001b[0m\n\u001b[1;32m   1092\u001b[0m             P = msmest.transition_matrix(self._C_active, reversible=self.reversible,\n\u001b[1;32m   1093\u001b[0m                                          \u001b[0mmu\u001b[0m\u001b[0;34m=\u001b[0m\u001b[0mstatdist_active\u001b[0m\u001b[0;34m,\u001b[0m \u001b[0mmaxiter\u001b[0m\u001b[0;34m=\u001b[0m\u001b[0mself\u001b[0m\u001b[0;34m.\u001b[0m\u001b[0mmaxiter\u001b[0m\u001b[0;34m,\u001b[0m\u001b[0;34m\u001b[0m\u001b[0m\n\u001b[0;32m-> 1094\u001b[0;31m                                          maxerr=self.maxerr)\n\u001b[0m\u001b[1;32m   1095\u001b[0m         \u001b[0;32melif\u001b[0m \u001b[0mself\u001b[0m\u001b[0;34m.\u001b[0m\u001b[0mconnectivity\u001b[0m \u001b[0;34m==\u001b[0m \u001b[0;34m'none'\u001b[0m\u001b[0;34m:\u001b[0m\u001b[0;34m\u001b[0m\u001b[0m\n\u001b[1;32m   1096\u001b[0m             \u001b[0;31m# reversible mode only possible if active set is connected\u001b[0m\u001b[0;34m\u001b[0m\u001b[0;34m\u001b[0m\u001b[0m\n",
      "\u001b[0;32m/anaconda3/lib/python3.6/site-packages/msmtools/estimation/api.py\u001b[0m in \u001b[0;36mtransition_matrix\u001b[0;34m(C, reversible, mu, method, **kwargs)\u001b[0m\n\u001b[1;32m    936\u001b[0m                     \u001b[0mT\u001b[0m \u001b[0;34m=\u001b[0m \u001b[0msparse\u001b[0m\u001b[0;34m.\u001b[0m\u001b[0mtransition_matrix\u001b[0m\u001b[0;34m.\u001b[0m\u001b[0mtransition_matrix_reversible_pisym\u001b[0m\u001b[0;34m(\u001b[0m\u001b[0mC\u001b[0m\u001b[0;34m)\u001b[0m\u001b[0;34m\u001b[0m\u001b[0m\n\u001b[1;32m    937\u001b[0m                 \u001b[0;32melse\u001b[0m\u001b[0;34m:\u001b[0m\u001b[0;34m\u001b[0m\u001b[0m\n\u001b[0;32m--> 938\u001b[0;31m                     \u001b[0mT\u001b[0m \u001b[0;34m=\u001b[0m \u001b[0msparse\u001b[0m\u001b[0;34m.\u001b[0m\u001b[0mmle_trev\u001b[0m\u001b[0;34m.\u001b[0m\u001b[0mmle_trev\u001b[0m\u001b[0;34m(\u001b[0m\u001b[0mC\u001b[0m\u001b[0;34m,\u001b[0m \u001b[0;34m**\u001b[0m\u001b[0mkwargs\u001b[0m\u001b[0;34m)\u001b[0m\u001b[0;34m\u001b[0m\u001b[0m\n\u001b[0m\u001b[1;32m    939\u001b[0m             \u001b[0;32melse\u001b[0m\u001b[0;34m:\u001b[0m\u001b[0;34m\u001b[0m\u001b[0m\n\u001b[1;32m    940\u001b[0m                 \u001b[0;32mif\u001b[0m \u001b[0mrev_pisym\u001b[0m\u001b[0;34m:\u001b[0m\u001b[0;34m\u001b[0m\u001b[0m\n",
      "\u001b[0;32mmsmtools/estimation/sparse/mle_trev.pyx\u001b[0m in \u001b[0;36mmsmtools.estimation.sparse.mle_trev.mle_trev\u001b[0;34m()\u001b[0m\n",
      "\u001b[0;31mException\u001b[0m: Stationary distribution contains entries smaller than 1e-15 during iteration"
     ]
    }
   ],
   "source": [
    "msm = pyemma.msm.estimate_markov_model(list(np.load('dist_dtrajs/5000_0_train.npy')), 100)"
   ]
  },
  {
   "cell_type": "code",
   "execution_count": 33,
   "metadata": {},
   "outputs": [
    {
     "name": "stdout",
     "output_type": "stream",
     "text": [
      "17-04-18 21:36:27 pyemma.msm.estimators.maximum_likelihood_msm.MaximumLikelihoodMSM[1] WARNING  Building a dense MSM with 5000 states. This can be inefficient or unfeasible in terms of both runtime and memory consumption. Consider using sparse=True.\n"
     ]
    }
   ],
   "source": [
    "msm = pyemma.msm.estimate_markov_model(list(np.load('dist_dtrajs/5000_1_train.npy')), 100)"
   ]
  },
  {
   "cell_type": "code",
   "execution_count": 34,
   "metadata": {},
   "outputs": [
    {
     "name": "stdout",
     "output_type": "stream",
     "text": [
      "17-04-18 21:36:35 pyemma.msm.estimators.maximum_likelihood_msm.MaximumLikelihoodMSM[2] WARNING  Building a dense MSM with 5000 states. This can be inefficient or unfeasible in terms of both runtime and memory consumption. Consider using sparse=True.\n"
     ]
    }
   ],
   "source": [
    "msm = pyemma.msm.estimate_markov_model(list(np.load('dist_dtrajs/5000_2_train.npy')), 100)"
   ]
  },
  {
   "cell_type": "code",
   "execution_count": 35,
   "metadata": {},
   "outputs": [
    {
     "name": "stdout",
     "output_type": "stream",
     "text": [
      "17-04-18 21:36:45 pyemma.msm.estimators.maximum_likelihood_msm.MaximumLikelihoodMSM[3] WARNING  Building a dense MSM with 5000 states. This can be inefficient or unfeasible in terms of both runtime and memory consumption. Consider using sparse=True.\n"
     ]
    },
    {
     "name": "stderr",
     "output_type": "stream",
     "text": [
      "/anaconda3/lib/python3.6/site-packages/msmtools/estimation/api.py:938: NotConvergedWarning: Reversible transition matrix estimation didn't converge.\n",
      "  T = sparse.mle_trev.mle_trev(C, **kwargs)\n"
     ]
    }
   ],
   "source": [
    "msm = pyemma.msm.estimate_markov_model(list(np.load('dist_dtrajs/5000_3_train.npy')), 100)"
   ]
  },
  {
   "cell_type": "code",
   "execution_count": 36,
   "metadata": {},
   "outputs": [
    {
     "name": "stdout",
     "output_type": "stream",
     "text": [
      "17-04-18 21:38:15 pyemma.msm.estimators.maximum_likelihood_msm.MaximumLikelihoodMSM[4] WARNING  Building a dense MSM with 5000 states. This can be inefficient or unfeasible in terms of both runtime and memory consumption. Consider using sparse=True.\n"
     ]
    }
   ],
   "source": [
    "msm = pyemma.msm.estimate_markov_model(list(np.load('dist_dtrajs/5000_4_train.npy')), 100)"
   ]
  },
  {
   "cell_type": "code",
   "execution_count": 37,
   "metadata": {},
   "outputs": [],
   "source": [
    "# didn't converge: 3000_0, 3000_2, 3000_3, 4000_2, 4000_4, 5000_3"
   ]
  },
  {
   "cell_type": "code",
   "execution_count": 38,
   "metadata": {},
   "outputs": [],
   "source": [
    "# try 10x more iterations"
   ]
  },
  {
   "cell_type": "code",
   "execution_count": 40,
   "metadata": {},
   "outputs": [],
   "source": [
    "msm1 = pyemma.msm.estimate_markov_model(list(np.load('dist_dtrajs/3000_0_train.npy')), 100, maxiter=10000000)"
   ]
  },
  {
   "cell_type": "code",
   "execution_count": 41,
   "metadata": {},
   "outputs": [],
   "source": [
    "msm2 = pyemma.msm.estimate_markov_model(list(np.load('dist_dtrajs/3000_2_train.npy')), 100, maxiter=10000000)"
   ]
  },
  {
   "cell_type": "code",
   "execution_count": 42,
   "metadata": {},
   "outputs": [],
   "source": [
    "msm3 = pyemma.msm.estimate_markov_model(list(np.load('dist_dtrajs/3000_3_train.npy')), 100, maxiter=10000000)"
   ]
  },
  {
   "cell_type": "code",
   "execution_count": 43,
   "metadata": {},
   "outputs": [],
   "source": [
    "msm4 = pyemma.msm.estimate_markov_model(list(np.load('dist_dtrajs/4000_2_train.npy')), 100, maxiter=10000000)"
   ]
  },
  {
   "cell_type": "code",
   "execution_count": 44,
   "metadata": {},
   "outputs": [],
   "source": [
    "msm5 = pyemma.msm.estimate_markov_model(list(np.load('dist_dtrajs/4000_4_train.npy')), 100, maxiter=10000000)"
   ]
  },
  {
   "cell_type": "code",
   "execution_count": 45,
   "metadata": {},
   "outputs": [
    {
     "name": "stdout",
     "output_type": "stream",
     "text": [
      "17-04-18 23:49:13 pyemma.msm.estimators.maximum_likelihood_msm.MaximumLikelihoodMSM[5] WARNING  Building a dense MSM with 5000 states. This can be inefficient or unfeasible in terms of both runtime and memory consumption. Consider using sparse=True.\n"
     ]
    }
   ],
   "source": [
    "msm6 = pyemma.msm.estimate_markov_model(list(np.load('dist_dtrajs/5000_3_train.npy')), 100, maxiter=10000000)"
   ]
  },
  {
   "cell_type": "code",
   "execution_count": 46,
   "metadata": {},
   "outputs": [],
   "source": [
    "# score them"
   ]
  },
  {
   "cell_type": "code",
   "execution_count": 50,
   "metadata": {},
   "outputs": [
    {
     "name": "stdout",
     "output_type": "stream",
     "text": [
      "(7.0086147702426942, 9.979042286708566)\n"
     ]
    }
   ],
   "source": [
    "msm1_train = msm1.score(list(np.load('dist_dtrajs/3000_0_train.npy')), score_k=10)\n",
    "msm1_test = msm1.score([np.concatenate(x) for x in np.load('dist_dtrajs/3000_0_test.npy')], score_k=10)\n",
    "print((msm1_test, msm1_train))"
   ]
  },
  {
   "cell_type": "code",
   "execution_count": 66,
   "metadata": {},
   "outputs": [
    {
     "data": {
      "text/plain": [
       "(7.0086133499167271, 9.9790422842067539)"
      ]
     },
     "execution_count": 66,
     "metadata": {},
     "output_type": "execute_result"
    }
   ],
   "source": [
    "(pyemma_scores_dist[2][4][0], pyemma_scores_dist[3][4][0])"
   ]
  },
  {
   "cell_type": "code",
   "execution_count": 52,
   "metadata": {},
   "outputs": [
    {
     "name": "stdout",
     "output_type": "stream",
     "text": [
      "(6.8537397423590862, 9.9822905701921272)\n"
     ]
    }
   ],
   "source": [
    "msm2_train = msm2.score(list(np.load('dist_dtrajs/3000_2_train.npy')), score_k=10)\n",
    "msm2_test = msm2.score([np.concatenate(x) for x in np.load('dist_dtrajs/3000_2_test.npy')], score_k=10)\n",
    "print((msm2_test, msm2_train))"
   ]
  },
  {
   "cell_type": "code",
   "execution_count": 67,
   "metadata": {},
   "outputs": [
    {
     "data": {
      "text/plain": [
       "(6.853739425924366, 9.9822905696850981)"
      ]
     },
     "execution_count": 67,
     "metadata": {},
     "output_type": "execute_result"
    }
   ],
   "source": [
    "(pyemma_scores_dist[2][4][2], pyemma_scores_dist[3][4][2])"
   ]
  },
  {
   "cell_type": "code",
   "execution_count": 53,
   "metadata": {},
   "outputs": [
    {
     "name": "stdout",
     "output_type": "stream",
     "text": [
      "(4.9190346963951841, 9.9850207485624836)\n"
     ]
    }
   ],
   "source": [
    "msm3_train = msm3.score(list(np.load('dist_dtrajs/3000_3_train.npy')), score_k=10)\n",
    "msm3_test = msm3.score([np.concatenate(x) for x in np.load('dist_dtrajs/3000_3_test.npy')], score_k=10)\n",
    "print((msm3_test, msm3_train))"
   ]
  },
  {
   "cell_type": "code",
   "execution_count": 68,
   "metadata": {},
   "outputs": [
    {
     "data": {
      "text/plain": [
       "(4.9190336242454746, 9.9850207470440981)"
      ]
     },
     "execution_count": 68,
     "metadata": {},
     "output_type": "execute_result"
    }
   ],
   "source": [
    "(pyemma_scores_dist[2][4][3], pyemma_scores_dist[3][4][3])"
   ]
  },
  {
   "cell_type": "code",
   "execution_count": 54,
   "metadata": {},
   "outputs": [
    {
     "name": "stdout",
     "output_type": "stream",
     "text": [
      "(5.5636458289830477, 9.9811761643243848)\n"
     ]
    }
   ],
   "source": [
    "msm4_train = msm4.score(list(np.load('dist_dtrajs/4000_2_train.npy')), score_k=10)\n",
    "msm4_test = msm4.score([np.concatenate(x) for x in np.load('dist_dtrajs/4000_2_test.npy')], score_k=10)\n",
    "print((msm4_test, msm4_train))"
   ]
  },
  {
   "cell_type": "code",
   "execution_count": 69,
   "metadata": {},
   "outputs": [
    {
     "data": {
      "text/plain": [
       "(5.5636520699662029, 9.9811761581507028)"
      ]
     },
     "execution_count": 69,
     "metadata": {},
     "output_type": "execute_result"
    }
   ],
   "source": [
    "(pyemma_scores_dist[2][5][2], pyemma_scores_dist[3][5][2])"
   ]
  },
  {
   "cell_type": "code",
   "execution_count": 55,
   "metadata": {},
   "outputs": [
    {
     "name": "stdout",
     "output_type": "stream",
     "text": [
      "(6.5629318413144206, 9.980583582697502)\n"
     ]
    }
   ],
   "source": [
    "msm5_train = msm5.score(list(np.load('dist_dtrajs/4000_4_train.npy')), score_k=10)\n",
    "msm5_test = msm5.score([np.concatenate(x) for x in np.load('dist_dtrajs/4000_4_test.npy')], score_k=10)\n",
    "print((msm5_test, msm5_train))"
   ]
  },
  {
   "cell_type": "code",
   "execution_count": 70,
   "metadata": {},
   "outputs": [
    {
     "data": {
      "text/plain": [
       "(6.5629324112440166, 9.9805835752171976)"
      ]
     },
     "execution_count": 70,
     "metadata": {},
     "output_type": "execute_result"
    }
   ],
   "source": [
    "(pyemma_scores_dist[2][5][4], pyemma_scores_dist[3][5][4])"
   ]
  },
  {
   "cell_type": "code",
   "execution_count": 56,
   "metadata": {},
   "outputs": [
    {
     "name": "stdout",
     "output_type": "stream",
     "text": [
      "(5.828896884131078, 9.9549349372881011)\n"
     ]
    }
   ],
   "source": [
    "msm6_train = msm6.score(list(np.load('dist_dtrajs/5000_3_train.npy')), score_k=10)\n",
    "msm6_test = msm6.score([np.concatenate(x) for x in np.load('dist_dtrajs/5000_3_test.npy')], score_k=10)\n",
    "print((msm6_test, msm6_train))"
   ]
  },
  {
   "cell_type": "code",
   "execution_count": 71,
   "metadata": {},
   "outputs": [
    {
     "data": {
      "text/plain": [
       "(5.8288969754472033, 9.9549349374658505)"
      ]
     },
     "execution_count": 71,
     "metadata": {},
     "output_type": "execute_result"
    }
   ],
   "source": [
    "(pyemma_scores_dist[2][6][3], pyemma_scores_dist[3][6][3])"
   ]
  },
  {
   "cell_type": "code",
   "execution_count": 61,
   "metadata": {},
   "outputs": [],
   "source": [
    "# what were the original scores for these - adding above"
   ]
  },
  {
   "cell_type": "code",
   "execution_count": 58,
   "metadata": {},
   "outputs": [],
   "source": [
    "pyemma_scores_dist = np.load('/Users/rafalpwiewiora/repos/MSM/11707_11709_SET8_apo_FINAL/full_dataset_scoring_2/score/results/pyemma_scores_dist.npy')"
   ]
  },
  {
   "cell_type": "code",
   "execution_count": 72,
   "metadata": {},
   "outputs": [],
   "source": [
    "# conclusion - no significant change in scores - 5th decimal is the biggest change"
   ]
  },
  {
   "cell_type": "code",
   "execution_count": 73,
   "metadata": {},
   "outputs": [
    {
     "data": {
      "text/plain": [
       "'/Users/rafalpwiewiora/repos/MSM/11707_11709_SET8_apo_FINAL/full_dataset_scoring_2'"
      ]
     },
     "execution_count": 73,
     "metadata": {},
     "output_type": "execute_result"
    }
   ],
   "source": [
    "pwd"
   ]
  },
  {
   "cell_type": "code",
   "execution_count": null,
   "metadata": {},
   "outputs": [],
   "source": []
  }
 ],
 "metadata": {
  "kernelspec": {
   "display_name": "Python 3",
   "language": "python",
   "name": "python3"
  },
  "language_info": {
   "codemirror_mode": {
    "name": "ipython",
    "version": 3
   },
   "file_extension": ".py",
   "mimetype": "text/x-python",
   "name": "python",
   "nbconvert_exporter": "python",
   "pygments_lexer": "ipython3",
   "version": "3.6.4"
  }
 },
 "nbformat": 4,
 "nbformat_minor": 2
}
